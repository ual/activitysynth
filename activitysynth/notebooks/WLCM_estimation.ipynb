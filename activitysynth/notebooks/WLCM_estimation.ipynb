{
 "cells": [
  {
   "cell_type": "code",
   "execution_count": 1,
   "metadata": {},
   "outputs": [],
   "source": [
    "import pandas as pd\n",
    "import numpy as np\n",
    "from tqdm import tqdm\n",
    "from sklearn.neighbors import BallTree\n",
    "import geopandas as gpd\n",
    "from shapely.geometry import Point, LineString\n",
    "from pyproj import Proj, transform\n",
    "from matplotlib import pyplot as plt\n",
    "%matplotlib inline"
   ]
  },
  {
   "cell_type": "code",
   "execution_count": 2,
   "metadata": {},
   "outputs": [
    {
     "name": "stdout",
     "output_type": "stream",
     "text": [
      "Registering model step 'auto_ownership'\n",
      "Registering model step 'TOD_choice'\n",
      "Registering model step 'primary_mode_choice'\n",
      "Registering model step 'WLCM'\n"
     ]
    }
   ],
   "source": [
    "from urbansim_templates import modelmanager as mm\n",
    "from urbansim_templates.models import LargeMultinomialLogitStep\n",
    "from urbansim.models.util import apply_filter_query\n",
    "import orca\n",
    "import os; os.chdir('../')\n",
    "import warnings;warnings.simplefilter('ignore')\n",
    "from scripts import datasources, models, variables\n",
    "from choicemodels import MultinomialLogit\n",
    "from choicemodels.tools import MergedChoiceTable"
   ]
  },
  {
   "cell_type": "markdown",
   "metadata": {},
   "source": [
    "### Set required runtime args"
   ]
  },
  {
   "cell_type": "code",
   "execution_count": 3,
   "metadata": {},
   "outputs": [],
   "source": [
    "input_file_format = 'csv'\n",
    "input_data_dir = '/home/data/spring_2019/base/'\n",
    "\n",
    "# estimate from base-year data\n",
    "formattable_fname_dict = {\n",
    "    'parcels': 'parcel_attr.{0}',\n",
    "    'buildings': 'buildings_v2.{0}',\n",
    "    'jobs': 'jobs_v2.{0}',\n",
    "    'establishments': 'establishments_v2.{0}',\n",
    "    'households': 'households_v2.{0}',\n",
    "    'persons': 'persons_v3.{0}',\n",
    "    'rentals': 'MTC_craigslist_listings_7-10-18.{0}',\n",
    "    'units': 'units_v2.{0}',\n",
    "    'skims': 'skims_110118.{0}',\n",
    "    'beam_skims': '30.skims-smart-23April2019-baseline.csv.gz',\n",
    "    'drive_nodes': 'bay_area_tertiary_strongly_nodes.{0}',\n",
    "    'drive_edges': 'bay_area_tertiary_strongly_edges.{0}',\n",
    "    'drive_access_vars': 'drive_net_vars.{0}',\n",
    "    'walk_nodes': 'bayarea_walk_nodes.{0}',\n",
    "    'walk_edges': 'bayarea_walk_edges.{0}',\n",
    "    'walk_access_vars': 'walk_net_vars.{0}',\n",
    "    'zones': 'zones.{0}',\n",
    "    'zone_access_vars': 'zones_w_access_vars.{0}',\n",
    "}\n",
    "\n",
    "def format_fname_dict(formattable_fname_dict, format='csv'):\n",
    "    formatted_dict = {\n",
    "        k: v.format('csv')\n",
    "        for k, v in formattable_fname_dict.items()}\n",
    "    return formatted_dict\n",
    "\n",
    "input_fnames = format_fname_dict(\n",
    "            formattable_fname_dict, input_file_format)"
   ]
  },
  {
   "cell_type": "markdown",
   "metadata": {},
   "source": [
    "### Set required Orca injectables"
   ]
  },
  {
   "cell_type": "code",
   "execution_count": 4,
   "metadata": {},
   "outputs": [],
   "source": [
    "orca.add_injectable('input_file_format', input_file_format)\n",
    "orca.add_injectable('input_data_dir', input_data_dir)\n",
    "orca.add_injectable('input_fnames', input_fnames)\n",
    "orca.add_injectable('store', None)"
   ]
  },
  {
   "cell_type": "markdown",
   "metadata": {},
   "source": [
    "### Initialize Orca tables"
   ]
  },
  {
   "cell_type": "code",
   "execution_count": 5,
   "metadata": {},
   "outputs": [
    {
     "name": "stdout",
     "output_type": "stream",
     "text": [
      "Running step 'initialize_network_walk'\n",
      "Time to execute step 'initialize_network_walk': 0.00 s\n",
      "Running step 'initialize_network_small'\n",
      "Time to execute step 'initialize_network_small': 0.00 s\n",
      "Running step 'impute_missing_skims'\n",
      "Time to execute step 'impute_missing_skims': 90.92 s\n",
      "Total time to execute iteration 1 with iteration value None: 90.92 s\n"
     ]
    }
   ],
   "source": [
    "orca.run(['initialize_network_walk', 'initialize_network_small', 'impute_missing_skims'])"
   ]
  },
  {
   "cell_type": "code",
   "execution_count": 6,
   "metadata": {},
   "outputs": [],
   "source": [
    "buildings = orca.get_table('buildings').to_frame()\n",
    "parcels = orca.get_table('parcels').to_frame()\n",
    "jobs = orca.get_table('jobs').to_frame()\n",
    "\n",
    "# using beam skims\n",
    "beam_skims = orca.get_table('beam_skims').to_frame()\n",
    "interaction_terms = beam_skims.rename_axis(['zone_id_home','zone_id_work'])\n",
    "\n",
    "# # old way\n",
    "# interaction_terms_tt = pd.read_csv(\n",
    "#     './data/WLCM_interaction_terms_tt.csv', index_col=[\n",
    "#         'zone_id_home', 'zone_id_work'])\n",
    "# interaction_terms_dist = pd.read_csv(\n",
    "#     './data/WLCM_interaction_terms_dist.csv', index_col=[\n",
    "#         'zone_id_home', 'zone_id_work'])\n",
    "# interaction_terms_cost = pd.read_csv(\n",
    "#     './data/WLCM_interaction_terms_cost.csv', index_col=[\n",
    "#         'zone_id_home', 'zone_id_work'])\n",
    "# interaction_terms = [interaction_terms_tt, interaction_terms_dist, interaction_terms_cost]"
   ]
  },
  {
   "cell_type": "markdown",
   "metadata": {},
   "source": [
    "### Get accessibility vars"
   ]
  },
  {
   "cell_type": "markdown",
   "metadata": {},
   "source": [
    "If already computed:"
   ]
  },
  {
   "cell_type": "code",
   "execution_count": 61,
   "metadata": {},
   "outputs": [],
   "source": [
    "walk_net_vars = pd.read_csv(input_data_dir + input_fnames['walk_access_vars'], index_col='osmid')\n",
    "drive_net_vars = pd.read_csv(input_data_dir + input_fnames['drive_access_vars'], index_col='osmid')\n",
    "zones = pd.read_csv(input_data_dir + input_fnames['zone_access_vars'], index_col='zone_id')"
   ]
  },
  {
   "cell_type": "code",
   "execution_count": 64,
   "metadata": {},
   "outputs": [
    {
     "data": {
      "text/plain": [
       "Index(['gid', 'area', 'acres', 'total_jobs', 'sum_residential_units',\n",
       "       'sum_persons', 'sum_income', 'avg_income', 'total_jobs_gen_tt_CAR_15',\n",
       "       'total_jobs_gen_tt_CAR_45', 'sum_persons_gen_tt_CAR_15',\n",
       "       'sum_persons_gen_tt_CAR_45', 'sum_income_gen_tt_CAR_15',\n",
       "       'sum_income_gen_tt_CAR_45', 'sum_residential_units_gen_tt_CAR_15',\n",
       "       'sum_residential_units_gen_tt_CAR_45', 'avg_income_gen_tt_CAR_30',\n",
       "       'total_jobs_gen_tt_WALK_TRANSIT_15',\n",
       "       'total_jobs_gen_tt_WALK_TRANSIT_45',\n",
       "       'sum_persons_gen_tt_WALK_TRANSIT_15',\n",
       "       'sum_persons_gen_tt_WALK_TRANSIT_45',\n",
       "       'sum_income_gen_tt_WALK_TRANSIT_15',\n",
       "       'sum_income_gen_tt_WALK_TRANSIT_45',\n",
       "       'sum_residential_units_gen_tt_WALK_TRANSIT_15',\n",
       "       'sum_residential_units_gen_tt_WALK_TRANSIT_45',\n",
       "       'total_jobs_gen_tt_RIDE_HAIL_15', 'total_jobs_gen_tt_RIDE_HAIL_45',\n",
       "       'sum_persons_gen_tt_RIDE_HAIL_15', 'sum_persons_gen_tt_RIDE_HAIL_45',\n",
       "       'sum_income_gen_tt_RIDE_HAIL_15', 'sum_income_gen_tt_RIDE_HAIL_45',\n",
       "       'sum_residential_units_gen_tt_RIDE_HAIL_15',\n",
       "       'sum_residential_units_gen_tt_RIDE_HAIL_45'],\n",
       "      dtype='object')"
      ]
     },
     "execution_count": 64,
     "metadata": {},
     "output_type": "execute_result"
    }
   ],
   "source": [
    "zones.columns"
   ]
  },
  {
   "cell_type": "markdown",
   "metadata": {},
   "source": [
    "If computing for the first time"
   ]
  },
  {
   "cell_type": "code",
   "execution_count": null,
   "metadata": {},
   "outputs": [],
   "source": [
    "# orca.run(['network_aggregations_small', 'network_aggregations_walk', 'skims_aggregations'])"
   ]
  },
  {
   "cell_type": "markdown",
   "metadata": {},
   "source": [
    "### Load CHTS Data"
   ]
  },
  {
   "cell_type": "markdown",
   "metadata": {},
   "source": [
    "Raw CHTS Households Data"
   ]
  },
  {
   "cell_type": "code",
   "execution_count": 9,
   "metadata": {},
   "outputs": [],
   "source": [
    "chts_households = pd.read_csv('/home/data/fall_2018/CHTS_csv_format/data/Deliv_HH.csv')"
   ]
  },
  {
   "cell_type": "markdown",
   "metadata": {},
   "source": [
    "Processed CHTS Persons Data (code available [here](https://github.com/ual/ual_model_workspace/blob/master/fall-2018-models/notebooks-max/WLCM_pre-processing.ipynb))"
   ]
  },
  {
   "cell_type": "code",
   "execution_count": 10,
   "metadata": {},
   "outputs": [],
   "source": [
    "chts_persons = pd.read_csv('/home/data/fall_2018/chts_persons_w_jobs_and_res_bldgs.csv')"
   ]
  },
  {
   "cell_type": "code",
   "execution_count": 11,
   "metadata": {},
   "outputs": [],
   "source": [
    "chts_persons.loc[:, 'worker'] = chts_persons[chts_persons['EMPLY'] == 1]\n",
    "chts_persons.loc[:, 'work_at_home'] = chts_persons[chts_persons['WLOC'] == 2]\n",
    "chts_workers = chts_persons[\n",
    "    (~pd.isnull(chts_persons['job_id'])) & (chts_persons['job_id'].isin(jobs.index.values))]"
   ]
  },
  {
   "cell_type": "markdown",
   "metadata": {},
   "source": [
    "### Define required model parameters"
   ]
  },
  {
   "cell_type": "code",
   "execution_count": 12,
   "metadata": {},
   "outputs": [],
   "source": [
    "chooser_filters = ['age < 115', 'income < 98', 'edu < 98']\n",
    "alt_sample_size = 10"
   ]
  },
  {
   "cell_type": "markdown",
   "metadata": {},
   "source": [
    "### Generate the merged choice table"
   ]
  },
  {
   "cell_type": "markdown",
   "metadata": {},
   "source": [
    "This step must be done manually for now by calling the `choicemodels.MergedChoiceTable()` method directly instead of using a template because `urbansim_templates` does not yet have functionality for interaction terms such as home-to-work distances"
   ]
  },
  {
   "cell_type": "code",
   "execution_count": 13,
   "metadata": {},
   "outputs": [],
   "source": [
    "obs = chts_workers.merge(\n",
    "    chts_households[['SAMPN', 'INCOM']], on='SAMPN').merge(\n",
    "    buildings, left_on='building_id', right_index=True).merge(\n",
    "    parcels, left_on='parcel_id', right_index=True).rename(\n",
    "    columns={\n",
    "        'zone_id': 'zone_id_home', 'AGE': 'age', 'EDUCA': 'edu', 'INCOM': 'income'})\n",
    "obs.index.name = 'obs_id'"
   ]
  },
  {
   "cell_type": "code",
   "execution_count": 14,
   "metadata": {},
   "outputs": [],
   "source": [
    "obs['no_higher_ed'] = (obs['edu'] < 5).astype(int)\n",
    "obs['age_under_45'] = (obs['age'] < 45).astype(int)\n",
    "obs['hh_inc_under_25k'] = (obs['income'] < 3).astype(int)\n",
    "obs['hh_inc_25_to_75k'] = ((obs['income'] > 2) & (obs['income'] < 6)).astype(int)\n",
    "obs['hh_inc_75_to_200k'] = ((obs['income'] > 5) & (obs['income'] < 9)).astype(int)"
   ]
  },
  {
   "cell_type": "code",
   "execution_count": 15,
   "metadata": {},
   "outputs": [],
   "source": [
    "obs = apply_filter_query(obs, filters=chooser_filters)"
   ]
  },
  {
   "cell_type": "code",
   "execution_count": 16,
   "metadata": {},
   "outputs": [],
   "source": [
    "obs = obs[[\n",
    "    'job_id', 'zone_id_home', 'age_under_45', 'no_higher_ed', 'age',\n",
    "    'hh_inc_under_25k', 'hh_inc_25_to_75k', 'hh_inc_75_to_200k', 'income']]"
   ]
  },
  {
   "cell_type": "code",
   "execution_count": 80,
   "metadata": {},
   "outputs": [],
   "source": [
    "alts = jobs.merge(buildings, left_on='building_id', right_index=True).merge(\n",
    "    parcels, left_on='parcel_id', right_index=True).merge(\n",
    "    zones, left_on='zone_id', right_index=True)"
   ]
  },
  {
   "cell_type": "code",
   "execution_count": 81,
   "metadata": {},
   "outputs": [],
   "source": [
    "# industry of alternatives\n",
    "alts['sector_retail'] = alts['sector_id'].isin([44, 45]).astype(int)\n",
    "alts['sector_healthcare'] = alts['sector_id'].isin([62]).astype(int)\n",
    "alts['sector_tech'] = alts['sector_id'].isin([51, 54]).astype(int)\n",
    "alts['sector_food_and_hosp'] = alts['sector_id'].isin([72]).astype(int)\n",
    "alts['sector_mfg'] = alts['sector_id'].isin([31, 32, 33]).astype(int)\n",
    "alts['sector_edu_serv'] = alts['sector_id'].isin([61]).astype(int)\n",
    "alts['sector_oth_serv'] = alts['sector_id'].isin([81]).astype(int)\n",
    "alts['sector_constr'] = alts['sector_id'].isin([23]).astype(int)\n",
    "alts['sector_gov'] = alts['sector_id'].isin([92]).astype(int)\n",
    "alts['sector_fire'] = alts['sector_id'].isin([52, 53]).astype(int)\n",
    "alts['sector_whlsale'] = alts['sector_id'].isin([42]).astype(int)\n",
    "alts['sector_admin'] = alts['sector_id'].isin([56]).astype(int)\n",
    "alts['sector_transport'] = alts['sector_id'].isin([48]).astype(int)\n",
    "alts['sector_arts'] = alts['sector_id'].isin([71]).astype(int)\n",
    "alts['sector_util'] = alts['sector_id'].isin([22]).astype(int)\n",
    "\n",
    "# # occupation of alternatives\n",
    "# alts['occup_mgmt'] = alts['occupation_id'].isin([11]).astype(int)\n",
    "# alts['occup_sales'] = alts['occupation_id'].isin([41]).astype(int)\n",
    "# alts['occup_biz'] = alts['occupation_id'].isin([13]).astype(int)\n",
    "# alts['occup_admin'] = alts['occupation_id'].isin([43]).astype(int)\n",
    "# alts['occup_edu'] = alts['occupation_id'].isin([25]).astype(int)\n",
    "# alts['occup_food'] = alts['occupation_id'].isin([35]).astype(int)\n",
    "# alts['occup_health'] = alts['occupation_id'].isin([29, 31]).astype(int)\n",
    "# alts['occup_tech'] = alts['occupation_id'].isin([15]).astype(int)\n",
    "# alts['occup_eng'] = alts['occupation_id'].isin([17]).astype(int)\n",
    "# alts['occup_transp'] = alts['occupation_id'].isin([53]).astype(int)\n",
    "# alts['occup_constr'] = alts['occupation_id'].isin([47]).astype(int)"
   ]
  },
  {
   "cell_type": "code",
   "execution_count": 82,
   "metadata": {},
   "outputs": [],
   "source": [
    "alts = alts[[\n",
    "    'total_jobs_gen_tt_WALK_TRANSIT_15', 'total_jobs_gen_tt_WALK_TRANSIT_45',\n",
    "    'total_jobs_gen_tt_CAR_45', 'total_jobs_gen_tt_CAR_15',\n",
    "    'zone_id_work', 'sector_retail', 'sector_healthcare', 'sector_tech', 'sector_food_and_hosp',\n",
    "    'sector_mfg', 'sector_edu_serv', 'sector_oth_serv', 'sector_constr', 'sector_gov', 'sector_fire',\n",
    "    'sector_whlsale', 'sector_admin', 'sector_transport', 'sector_arts', 'sector_util',\n",
    "#     'occup_mgmt', 'occup_sales', 'occup_biz', 'occup_admin', 'occup_edu', 'occup_food', 'occup_health',\n",
    "#     'occup_tech', 'occup_eng', 'occup_transp', 'occup_constr'\n",
    "]]"
   ]
  },
  {
   "cell_type": "code",
   "execution_count": 83,
   "metadata": {},
   "outputs": [
    {
     "name": "stdout",
     "output_type": "stream",
     "text": [
      "CPU times: user 825 ms, sys: 63.8 ms, total: 889 ms\n",
      "Wall time: 888 ms\n"
     ]
    }
   ],
   "source": [
    "%%time\n",
    "mct = MergedChoiceTable(obs, alts, chosen_alternatives='job_id',\n",
    "                        sample_size=alt_sample_size, interaction_terms=interaction_terms)"
   ]
  },
  {
   "cell_type": "markdown",
   "metadata": {},
   "source": [
    "### Estimate the WLCM"
   ]
  },
  {
   "cell_type": "code",
   "execution_count": 84,
   "metadata": {},
   "outputs": [
    {
     "name": "stdout",
     "output_type": "stream",
     "text": [
      "Registering model step 'auto_ownership'\n",
      "Registering model step 'TOD_choice'\n",
      "Registering model step 'primary_mode_choice'\n",
      "Registering model step 'WLCM'\n"
     ]
    }
   ],
   "source": [
    "mm.initialize()"
   ]
  },
  {
   "cell_type": "code",
   "execution_count": 85,
   "metadata": {},
   "outputs": [],
   "source": [
    "m = LargeMultinomialLogitStep(\n",
    "    chooser_filters=chooser_filters, constrained_choices=True,\n",
    "    alt_sample_size=alt_sample_size\n",
    ")"
   ]
  },
  {
   "cell_type": "code",
   "execution_count": 92,
   "metadata": {},
   "outputs": [],
   "source": [
    "# m.model_expression = (\n",
    "#     'dist_da/tt_da + '\n",
    "#     'np.log1p(jobs_1500_walk_retail) + '\n",
    "#     'np.log1p(cost_da_toll):(hh_inc_under_25k + hh_inc_25_to_75k + hh_inc_75_to_200k) + '\n",
    "#     'no_higher_ed:(sector_retail + sector_fire + sector_healthcare + sector_tech + sector_mfg + '\n",
    "#     'sector_food_and_hosp + sector_edu_serv + sector_gov + sector_whlsale) + '\n",
    "#     'sector_retail + sector_tech + sector_mfg + sector_food_and_hosp + sector_edu_serv + sector_oth_serv + '\n",
    "#     'sector_constr + sector_gov + sector_whlsale + sector_admin + sector_util - 1'\n",
    "# )\n",
    "\n",
    "m.model_expression = (\n",
    "    'np.log1p(gen_tt_CAR):np.log1p(gen_tt_WALK_TRANSIT) + '\n",
    "    'dist * (np.log1p(gen_tt_CAR)) + np.log1p(gen_tt_WALK_TRANSIT) + '\n",
    "    'np.log1p(total_jobs_gen_tt_WALK_TRANSIT_15) + '\n",
    "    'np.log1p(gen_cost_CAR):(hh_inc_under_25k + hh_inc_25_to_75k + hh_inc_75_to_200k) + '\n",
    "    'no_higher_ed:(sector_retail + sector_fire + sector_healthcare + sector_tech + sector_mfg + '\n",
    "    'sector_food_and_hosp + sector_edu_serv + sector_gov) + '\n",
    "    'sector_retail + sector_tech + sector_mfg + sector_food_and_hosp + sector_edu_serv + sector_oth_serv + '\n",
    "    'sector_constr + sector_gov + sector_whlsale + sector_admin + sector_util - 1'\n",
    ")"
   ]
  },
  {
   "cell_type": "code",
   "execution_count": 93,
   "metadata": {},
   "outputs": [
    {
     "name": "stdout",
     "output_type": "stream",
     "text": [
      "                  CHOICEMODELS ESTIMATION RESULTS                  \n",
      "===================================================================\n",
      "Dep. Var.:                chosen   No. Observations:          7,928\n",
      "Model:         Multinomial Logit   Df Residuals:              7,900\n",
      "Method:       Maximum Likelihood   Df Model:                     28\n",
      "Date:                 2019-06-17   Pseudo R-squ.:             0.508\n",
      "Time:                      12:28   Pseudo R-bar-squ.:         0.507\n",
      "AIC:                  18,010.223   Log-Likelihood:       -8,977.112\n",
      "BIC:                  18,205.612   LL-Null:             -18,254.895\n",
      "=======================================================================================================\n",
      "                                                        coef   std err         z     P>|z|   Conf. Int.\n",
      "-------------------------------------------------------------------------------------------------------\n",
      "np.log1p(gen_tt_CAR):np.log1p(gen_tt_WALK_TRANSIT)    0.0100     0.014     0.718     0.472             \n",
      "dist                                                 -0.0001     0.000   -13.943     0.000             \n",
      "np.log1p(gen_tt_CAR)                                 -0.2187     0.082    -2.660     0.008             \n",
      "dist:np.log1p(gen_tt_CAR)                             0.0000     0.000     6.874     0.000             \n",
      "np.log1p(gen_tt_WALK_TRANSIT)                        -0.0352     0.037    -0.950     0.342             \n",
      "np.log1p(total_jobs_gen_tt_WALK_TRANSIT_45)          -0.1195     0.015    -8.080     0.000             \n",
      "np.log1p(gen_cost_CAR):hh_inc_under_25k              -0.6113     0.040   -15.324     0.000             \n",
      "np.log1p(gen_cost_CAR):hh_inc_25_to_75k              -0.4618     0.019   -24.539     0.000             \n",
      "np.log1p(gen_cost_CAR):hh_inc_75_to_200k             -0.1733     0.014   -12.014     0.000             \n",
      "no_higher_ed:sector_retail                            0.4887     0.110     4.444     0.000             \n",
      "no_higher_ed:sector_fire                             -1.0740     0.112    -9.554     0.000             \n",
      "no_higher_ed:sector_healthcare                       -0.7209     0.092    -7.797     0.000             \n",
      "no_higher_ed:sector_tech                             -1.5872     0.084   -18.950     0.000             \n",
      "no_higher_ed:sector_mfg                              -0.6451     0.116    -5.548     0.000             \n",
      "no_higher_ed:sector_food_and_hosp                     1.0583     0.171     6.173     0.000             \n",
      "no_higher_ed:sector_edu_serv                         -1.4669     0.127   -11.531     0.000             \n",
      "no_higher_ed:sector_gov                              -0.7475     0.118    -6.359     0.000             \n",
      "sector_retail                                        -1.2859     0.084   -15.258     0.000             \n",
      "sector_tech                                           0.6765     0.048    13.956     0.000             \n",
      "sector_mfg                                           -0.4964     0.074    -6.748     0.000             \n",
      "sector_food_and_hosp                                 -2.0237     0.138   -14.639     0.000             \n",
      "sector_edu_serv                                       1.0873     0.063    17.163     0.000             \n",
      "sector_oth_serv                                      -0.6209     0.084    -7.411     0.000             \n",
      "sector_constr                                        -1.2138     0.102   -11.925     0.000             \n",
      "sector_gov                                            0.4386     0.074     5.943     0.000             \n",
      "sector_whlsale                                       -1.9650     0.150   -13.064     0.000             \n",
      "sector_admin                                         -1.1307     0.114    -9.886     0.000             \n",
      "sector_util                                           0.6821     0.146     4.688     0.000             \n",
      "=======================================================================================================\n"
     ]
    }
   ],
   "source": [
    "m.fit(mct)"
   ]
  },
  {
   "cell_type": "markdown",
   "metadata": {},
   "source": [
    "### Add attributes to the model object that are needed for the simulation step"
   ]
  },
  {
   "cell_type": "code",
   "execution_count": 96,
   "metadata": {},
   "outputs": [],
   "source": [
    "m.name = 'WLCM_gen_tt'\n",
    "m.tags = ['max']\n",
    "m.alternatives = ['jobs', 'buildings', 'parcels', 'zones']\n",
    "m.choosers = ['persons', 'households']\n",
    "m.out_chooser_filters = m.chooser_filters\n",
    "m.out_column = 'job_id'"
   ]
  },
  {
   "cell_type": "code",
   "execution_count": 97,
   "metadata": {
    "scrolled": true
   },
   "outputs": [
    {
     "name": "stdout",
     "output_type": "stream",
     "text": [
      "Saving 'WLCM_gen_tt.yaml': /home/max/projects/activitysynth/activitysynth/configs\n",
      "Registering model step 'WLCM_gen_tt'\n"
     ]
    }
   ],
   "source": [
    "mm.register(m)"
   ]
  }
 ],
 "metadata": {
  "kernelspec": {
   "display_name": "Python 3",
   "language": "python",
   "name": "python3"
  },
  "language_info": {
   "codemirror_mode": {
    "name": "ipython",
    "version": 3
   },
   "file_extension": ".py",
   "mimetype": "text/x-python",
   "name": "python",
   "nbconvert_exporter": "python",
   "pygments_lexer": "ipython3",
   "version": "3.6.7"
  }
 },
 "nbformat": 4,
 "nbformat_minor": 2
}
