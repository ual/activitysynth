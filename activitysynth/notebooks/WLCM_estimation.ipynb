{
 "cells": [
  {
   "cell_type": "code",
   "execution_count": 1,
   "metadata": {},
   "outputs": [],
   "source": [
    "import pandas as pd\n",
    "import numpy as np\n",
    "from tqdm import tqdm\n",
    "from sklearn.neighbors import BallTree\n",
    "import geopandas as gpd\n",
    "from shapely.geometry import Point, LineString\n",
    "from pyproj import Proj, transform\n",
    "from matplotlib import pyplot as plt\n",
    "%matplotlib inline"
   ]
  },
  {
   "cell_type": "code",
   "execution_count": 2,
   "metadata": {},
   "outputs": [
    {
     "name": "stdout",
     "output_type": "stream",
     "text": [
      "Registering model step 'auto_ownership'\n",
      "Registering model step 'WLCM_gen_tt_simple'\n",
      "Registering model step 'WLCM_gen_tt'\n",
      "Registering model step 'TOD_choice'\n",
      "Registering model step 'primary_mode_choice'\n",
      "Registering model step 'WLCM_gen_tt_TWEAK'\n",
      "Registering model step 'WLCM'\n"
     ]
    }
   ],
   "source": [
    "from urbansim_templates import modelmanager as mm\n",
    "from urbansim_templates.models import LargeMultinomialLogitStep\n",
    "from urbansim.models.util import apply_filter_query\n",
    "import orca\n",
    "import os; os.chdir('../')\n",
    "import warnings;warnings.simplefilter('ignore')\n",
    "from activitysynth.scripts import datasources, models, variables\n",
    "from choicemodels import MultinomialLogit\n",
    "from choicemodels.tools import MergedChoiceTable"
   ]
  },
  {
   "cell_type": "markdown",
   "metadata": {},
   "source": [
    "### Set required runtime args"
   ]
  },
  {
   "cell_type": "code",
   "execution_count": 3,
   "metadata": {},
   "outputs": [],
   "source": [
    "input_file_format = 'csv'\n",
    "input_data_dir = '/home/data/spring_2019/base/'\n",
    "\n",
    "# estimate from base-year data\n",
    "\n",
    "formattable_fname_dict = {\n",
    "    'parcels': 'parcels.{0}',\n",
    "    'buildings': 'buildings.{0}',\n",
    "    'jobs': 'jobs.{0}',\n",
    "    'establishments': 'establishments.{0}',\n",
    "    'households': 'households.{0}',\n",
    "    'persons': 'persons.{0}',\n",
    "    'rentals': 'craigslist.{0}',\n",
    "    'units': 'units.{0}',\n",
    "    'mtc_skims': 'mtc_skims.{0}',\n",
    "    'beam_skims_raw': '15.skims.csv.gz',\n",
    "    'beam_skims_imputed': 'NOTGONNAFINDTHIS.{0}',  # force re-imputation\n",
    "    # the following nodes and edges .csv's will be phased out and\n",
    "    # replaced by travel model skims entirely\n",
    "    'drive_nodes': 'drive_nodes.{0}',\n",
    "    'drive_edges': 'drive_edges.{0}',\n",
    "    'drive_access_vars': 'drive_net_vars.{0}',\n",
    "    'walk_nodes': 'walk_nodes.{0}',\n",
    "    'walk_edges': 'walk_edges.{0}',\n",
    "    'walk_access_vars': 'walk_net_vars.{0}',\n",
    "    'zones': 'zones.{0}',\n",
    "    'zone_access_vars': 'zones_w_access_vars.{0}',\n",
    "}\n",
    "\n",
    "def format_fname_dict(formattable_fname_dict, format='csv'):\n",
    "    formatted_dict = {\n",
    "        k: v.format('csv')\n",
    "        for k, v in formattable_fname_dict.items()}\n",
    "    return formatted_dict\n",
    "\n",
    "input_fnames = format_fname_dict(\n",
    "            formattable_fname_dict, input_file_format)"
   ]
  },
  {
   "cell_type": "markdown",
   "metadata": {},
   "source": [
    "### Set required Orca injectables"
   ]
  },
  {
   "cell_type": "code",
   "execution_count": 4,
   "metadata": {},
   "outputs": [],
   "source": [
    "orca.add_injectable('input_file_format', input_file_format)\n",
    "orca.add_injectable('input_data_dir', input_data_dir)\n",
    "orca.add_injectable('input_fnames', input_fnames)\n",
    "orca.add_injectable('store', None)"
   ]
  },
  {
   "cell_type": "markdown",
   "metadata": {},
   "source": [
    "### Initialize Orca tables"
   ]
  },
  {
   "cell_type": "code",
   "execution_count": 5,
   "metadata": {},
   "outputs": [
    {
     "name": "stdout",
     "output_type": "stream",
     "text": [
      "Running step 'initialize_network_walk'\n",
      "Time to execute step 'initialize_network_walk': 0.00 s\n",
      "Running step 'initialize_network_small'\n",
      "Time to execute step 'initialize_network_small': 0.00 s\n",
      "Running step 'initialize_imputed_skims'\n",
      "No imputed skims found. Creating them now.\n",
      "Time to execute step 'initialize_imputed_skims': 82.61 s\n",
      "Total time to execute iteration 1 with iteration value None: 82.61 s\n"
     ]
    }
   ],
   "source": [
    "orca.run(['initialize_network_walk', 'initialize_network_small', 'initialize_imputed_skims'])"
   ]
  },
  {
   "cell_type": "code",
   "execution_count": 11,
   "metadata": {},
   "outputs": [],
   "source": [
    "buildings = orca.get_table('buildings').to_frame()\n",
    "parcels = orca.get_table('parcels').to_frame()\n",
    "jobs = orca.get_table('jobs').to_frame()\n",
    "\n",
    "# using beam skims\n",
    "beam_skims = orca.get_table('beam_skims_imputed').to_frame()\n",
    "interaction_terms = beam_skims.rename_axis(['zone_id_home','zone_id_work'])"
   ]
  },
  {
   "cell_type": "markdown",
   "metadata": {},
   "source": [
    "### Get accessibility vars"
   ]
  },
  {
   "cell_type": "markdown",
   "metadata": {},
   "source": [
    "If already computed:"
   ]
  },
  {
   "cell_type": "code",
   "execution_count": 8,
   "metadata": {},
   "outputs": [],
   "source": [
    "# walk_net_vars = pd.read_csv(input_data_dir + input_fnames['walk_access_vars'], index_col='osmid')\n",
    "# drive_net_vars = pd.read_csv(input_data_dir + input_fnames['drive_access_vars'], index_col='osmid')\n",
    "# zones = pd.read_csv(input_data_dir + input_fnames['zone_access_vars'], index_col='zone_id')"
   ]
  },
  {
   "cell_type": "markdown",
   "metadata": {},
   "source": [
    "If computing for the first time"
   ]
  },
  {
   "cell_type": "code",
   "execution_count": 6,
   "metadata": {},
   "outputs": [
    {
     "name": "stdout",
     "output_type": "stream",
     "text": [
      "Running step 'network_aggregations_small'\n",
      "Computing accessibility variables\n",
      "Computing units_10000\n",
      "Computing units_sf_10000\n",
      "Computing units_mf_10000\n",
      "Computing pop_10000\n",
      "Removed 189769 rows because they contain missing values\n",
      "Computing hh_10000\n",
      "Removed 189769 rows because they contain missing values\n",
      "Computing poor_10000\n",
      "Removed 53114 rows because they contain missing values\n",
      "Computing renters_10000\n",
      "Removed 102597 rows because they contain missing values\n",
      "Computing avg_income_10000\n",
      "Removed 189769 rows because they contain missing values\n",
      "Computing jobs_10000\n",
      "Computing avg_rent_10000\n",
      "Computing med_rent_10000\n",
      "Computing pop_white_10000\n",
      "Removed 107372 rows because they contain missing values\n",
      "Computing pop_black_10000\n",
      "Removed 10541 rows because they contain missing values\n",
      "Computing pop_asian_10000\n",
      "Removed 51048 rows because they contain missing values\n",
      "Computing pop_hisp_10000\n",
      "Removed 31685 rows because they contain missing values\n",
      "Computing units_25000\n",
      "Computing units_sf_25000\n",
      "Computing units_mf_25000\n",
      "Computing pop_25000\n",
      "Removed 189769 rows because they contain missing values\n",
      "Computing hh_25000\n",
      "Removed 189769 rows because they contain missing values\n",
      "Computing poor_25000\n",
      "Removed 53114 rows because they contain missing values\n",
      "Computing renters_25000\n",
      "Removed 102597 rows because they contain missing values\n",
      "Computing avg_income_25000\n",
      "Removed 189769 rows because they contain missing values\n",
      "Computing jobs_25000\n",
      "Computing avg_rent_25000\n",
      "Computing pop_white_25000\n",
      "Removed 107372 rows because they contain missing values\n",
      "Computing pop_black_25000\n",
      "Removed 10541 rows because they contain missing values\n",
      "Computing pop_asian_25000\n",
      "Removed 51048 rows because they contain missing values\n",
      "Computing pop_hisp_25000\n",
      "Removed 31685 rows because they contain missing values\n",
      "Computing jobs_10000_retail\n",
      "Computing jobs_25000_retail\n",
      "Computing jobs_10000_fire\n",
      "Computing jobs_25000_fire\n",
      "Computing jobs_10000_tech\n",
      "Computing jobs_25000_tech\n",
      "Computing jobs_10000_serv\n",
      "Computing jobs_25000_serv\n",
      "         units_10000  units_sf_10000  units_mf_10000      pop_10000  \\\n",
      "count   30826.000000    30826.000000    30826.000000   30826.000000   \n",
      "mean   111655.259521    60758.737592    45983.788815  260258.257023   \n",
      "std     87205.002426    37438.499035    46022.772268  188415.644622   \n",
      "min         0.000000        0.000000        0.000000       0.000000   \n",
      "25%     43964.000000    31220.250000    10558.000000  106529.000000   \n",
      "50%     96857.000000    59397.000000    32540.000000  231992.500000   \n",
      "75%    163123.000000    90067.750000    69669.000000  392372.500000   \n",
      "max    406849.000000   147988.000000   205873.000000  838919.000000   \n",
      "\n",
      "            hh_10000     poor_10000  renters_10000  avg_income_10000  \\\n",
      "count   30826.000000   30826.000000   30826.000000      30826.000000   \n",
      "mean    99092.191721   24263.902939   47250.300298     111232.133257   \n",
      "std     78052.959198   22118.834988   47935.457922      30332.958647   \n",
      "min         0.000000       0.000000       0.000000          0.000000   \n",
      "25%     39191.000000    7995.750000   13226.250000      93100.589083   \n",
      "50%     85632.500000   17593.000000   33265.000000     111716.310346   \n",
      "75%    143063.250000   34092.750000   65630.250000     129610.887845   \n",
      "max    370544.000000  100942.000000  225495.000000     265525.000000   \n",
      "\n",
      "          jobs_10000  avg_rent_10000  ...  pop_asian_25000  pop_hisp_25000  \\\n",
      "count   30826.000000    30826.000000  ...     30826.000000    30826.000000   \n",
      "mean   118243.519464     2643.122460  ...    294669.101408   183838.911698   \n",
      "std    107993.608729      776.766843  ...    217585.925381   110234.361576   \n",
      "min         0.000000        0.000000  ...         0.000000        0.000000   \n",
      "25%     28940.250000     2269.256141  ...     73012.250000    88483.750000   \n",
      "50%     92301.500000     2712.736729  ...    312616.000000   181105.000000   \n",
      "75%    176945.000000     2983.646159  ...    477996.500000   298576.750000   \n",
      "max    428606.000000     7266.666667  ...    693127.000000   351717.000000   \n",
      "\n",
      "       jobs_10000_retail  jobs_25000_retail  jobs_10000_fire  jobs_25000_fire  \\\n",
      "count       30826.000000       30826.000000     30826.000000     30826.000000   \n",
      "mean        15902.012100       55488.349478      8651.443132     30371.376533   \n",
      "std         14105.231994       33838.915279     10033.247270     20592.329443   \n",
      "min             0.000000           0.000000         0.000000         0.000000   \n",
      "25%          4314.000000       21935.500000      2093.000000     10928.000000   \n",
      "50%         13269.500000       61066.000000      5932.500000     31111.500000   \n",
      "75%         21232.750000       87060.000000     10849.000000     42117.750000   \n",
      "max         61048.000000      103899.000000     48870.000000     73607.000000   \n",
      "\n",
      "       jobs_10000_tech  jobs_25000_tech  jobs_10000_serv  jobs_25000_serv  \n",
      "count     30826.000000     30826.000000     30826.000000     30826.000000  \n",
      "mean      18321.402161     63953.289593     10136.738240     34163.351489  \n",
      "std       21681.852522     46756.286825     11020.692482     23411.034125  \n",
      "min           0.000000         0.000000         0.000000         0.000000  \n",
      "25%        2208.000000     16480.250000      2744.000000     11541.000000  \n",
      "50%        9152.500000     64664.000000      6776.000000     32524.000000  \n",
      "75%       28647.500000     98836.750000     13249.750000     50603.750000  \n",
      "max      103018.000000    149697.000000     51636.000000     82062.000000  \n",
      "\n",
      "[8 rows x 37 columns]\n",
      "Time to execute step 'network_aggregations_small': 233.89 s\n",
      "Running step 'network_aggregations_walk'\n",
      "Computing accessibility variables\n",
      "Computing units_500_walk\n",
      "Computing sqft_unit_500_walk\n",
      "Computing singles_500_walk\n",
      "Removed 52084 rows because they contain missing values\n",
      "Computing elderly_hh_500_walk\n",
      "Removed 34553 rows because they contain missing values\n",
      "Computing children_500_walk\n",
      "Removed 189769 rows because they contain missing values\n",
      "Computing units_sf_500_walk\n",
      "Computing units_mf_500_walk\n",
      "Computing pop_500_walk\n",
      "Removed 189769 rows because they contain missing values\n",
      "Computing hh_500_walk\n",
      "Removed 189769 rows because they contain missing values\n",
      "Computing poor_500_walk\n",
      "Removed 53114 rows because they contain missing values\n",
      "Computing rich_500_walk\n",
      "Removed 38964 rows because they contain missing values\n",
      "Computing renters_500_walk\n",
      "Removed 102597 rows because they contain missing values\n",
      "Computing avg_income_500_walk\n",
      "Removed 189769 rows because they contain missing values\n",
      "Computing jobs_500_walk\n",
      "Computing avg_rent_500_walk\n",
      "Computing pop_white_500_walk\n",
      "Removed 107372 rows because they contain missing values\n",
      "Computing pop_black_500_walk\n",
      "Removed 10541 rows because they contain missing values\n",
      "Computing pop_asian_500_walk\n",
      "Removed 51048 rows because they contain missing values\n",
      "Computing pop_hisp_500_walk\n",
      "Removed 31685 rows because they contain missing values\n",
      "Computing units_1500_walk\n",
      "Computing sqft_unit_1500_walk\n",
      "Computing singles_1500_walk\n",
      "Removed 52084 rows because they contain missing values\n",
      "Computing elderly_hh_1500_walk\n",
      "Removed 34553 rows because they contain missing values\n",
      "Computing children_1500_walk\n",
      "Removed 189769 rows because they contain missing values\n",
      "Computing units_sf_1500_walk\n",
      "Computing units_mf_1500_walk\n",
      "Computing pop_1500_walk\n",
      "Removed 189769 rows because they contain missing values\n",
      "Computing hh_1500_walk\n",
      "Removed 189769 rows because they contain missing values\n",
      "Computing poor_1500_walk\n",
      "Removed 53114 rows because they contain missing values\n",
      "Computing rich_1500_walk\n",
      "Removed 38964 rows because they contain missing values\n",
      "Computing renters_1500_walk\n",
      "Removed 102597 rows because they contain missing values\n",
      "Computing avg_income_1500_walk\n",
      "Removed 189769 rows because they contain missing values\n",
      "Computing jobs_1500_walk\n",
      "Computing avg_rent_1500_walk\n",
      "Computing pop_white_1500_walk\n",
      "Removed 107372 rows because they contain missing values\n",
      "Computing pop_black_1500_walk\n",
      "Removed 10541 rows because they contain missing values\n",
      "Computing pop_asian_1500_walk\n",
      "Removed 51048 rows because they contain missing values\n",
      "Computing pop_hisp_1500_walk\n",
      "Removed 31685 rows because they contain missing values\n",
      "Computing pop_2500_walk\n",
      "Removed 189769 rows because they contain missing values\n",
      "Computing pop_white_2500_walk\n",
      "Removed 107372 rows because they contain missing values\n",
      "Computing pop_black_2500_walk\n"
     ]
    },
    {
     "name": "stdout",
     "output_type": "stream",
     "text": [
      "Removed 10541 rows because they contain missing values\n",
      "Computing pop_asian_2500_walk\n",
      "Removed 51048 rows because they contain missing values\n",
      "Computing pop_hisp_2500_walk\n",
      "Removed 31685 rows because they contain missing values\n",
      "Computing jobs_500_walk_retail\n",
      "Computing jobs_1500_walk_retail\n",
      "Computing jobs_2500_walk_retail\n",
      "Computing jobs_500_walk_fire\n",
      "Computing jobs_1500_walk_fire\n",
      "Computing jobs_2500_walk_fire\n",
      "Computing jobs_500_walk_tech\n",
      "Computing jobs_1500_walk_tech\n",
      "Computing jobs_2500_walk_tech\n",
      "Computing jobs_500_walk_serv\n",
      "Computing jobs_1500_walk_serv\n",
      "Computing jobs_2500_walk_serv\n",
      "       units_500_walk  sqft_unit_500_walk  singles_500_walk  \\\n",
      "count   415716.000000       415716.000000     415716.000000   \n",
      "mean       356.025760         1245.303477         94.368742   \n",
      "std       1097.266478          979.057308        344.532606   \n",
      "min          0.000000            0.000000          0.000000   \n",
      "25%          8.000000          455.911149          1.000000   \n",
      "50%        188.000000         1315.697967         27.000000   \n",
      "75%        440.000000         1761.777561         87.000000   \n",
      "max     184977.000000        30000.000000      45805.000000   \n",
      "\n",
      "       elderly_hh_500_walk  children_500_walk  units_sf_500_walk  \\\n",
      "count        415716.000000      415716.000000      415716.000000   \n",
      "mean             58.488439         158.008881         163.913537   \n",
      "std             241.396787         443.206144         704.706968   \n",
      "min               0.000000           0.000000           0.000000   \n",
      "25%               1.000000           3.000000           2.000000   \n",
      "50%              28.000000          92.000000          98.000000   \n",
      "75%              70.000000         231.000000         247.000000   \n",
      "max           41743.000000       81187.000000      136953.000000   \n",
      "\n",
      "       units_mf_500_walk   pop_500_walk    hh_500_walk  poor_500_walk  ...  \\\n",
      "count      415716.000000  415716.000000  415716.000000  415716.000000  ...   \n",
      "mean          165.691405     792.425952     315.910172      85.848214  ...   \n",
      "std           469.461483    2241.623502     957.091514     320.291735  ...   \n",
      "min             0.000000       0.000000       0.000000       0.000000  ...   \n",
      "25%             0.000000      20.000000       7.000000       1.000000  ...   \n",
      "50%             2.000000     462.000000     170.000000      25.000000  ...   \n",
      "75%           159.000000    1085.000000     395.000000      83.000000  ...   \n",
      "max         48024.000000  396939.000000  162454.000000   42782.000000  ...   \n",
      "\n",
      "       jobs_2500_walk_retail  jobs_500_walk_fire  jobs_1500_walk_fire  \\\n",
      "count          415716.000000       415716.000000        415716.000000   \n",
      "mean             1581.179690           53.885460           420.179305   \n",
      "std              3031.162291          429.421888          1996.134238   \n",
      "min                 0.000000            0.000000             0.000000   \n",
      "25%               223.000000            0.000000            19.000000   \n",
      "50%               842.000000            3.000000           101.000000   \n",
      "75%              1990.000000           23.000000           278.000000   \n",
      "max             35933.000000        20526.000000         34721.000000   \n",
      "\n",
      "       jobs_2500_walk_fire  jobs_500_walk_tech  jobs_1500_walk_tech  \\\n",
      "count        415716.000000       415716.000000        415716.000000   \n",
      "mean            979.940062          106.490318           815.705017   \n",
      "std            3203.315346          791.083748          3808.003905   \n",
      "min               0.000000            0.000000             0.000000   \n",
      "25%             112.000000            0.000000            25.000000   \n",
      "50%             366.000000            4.000000           117.000000   \n",
      "75%             857.000000           30.000000           463.000000   \n",
      "max           38378.000000        31572.000000         68294.000000   \n",
      "\n",
      "       jobs_2500_walk_tech  jobs_500_walk_serv  jobs_1500_walk_serv  \\\n",
      "count        415716.000000       415716.000000        415716.000000   \n",
      "mean           1950.765186           60.123912           436.386119   \n",
      "std            6458.022536          270.243780          1438.848663   \n",
      "min               0.000000            0.000000             0.000000   \n",
      "25%             126.000000            0.000000            12.000000   \n",
      "50%             455.000000            0.000000           127.000000   \n",
      "75%            1449.000000           35.000000           416.000000   \n",
      "max           77926.000000        12480.000000         25447.000000   \n",
      "\n",
      "       jobs_2500_walk_serv  \n",
      "count        415716.000000  \n",
      "mean           1104.828303  \n",
      "std            2959.981741  \n",
      "min               0.000000  \n",
      "25%             116.000000  \n",
      "50%             494.000000  \n",
      "75%            1108.000000  \n",
      "max           34317.000000  \n",
      "\n",
      "[8 rows x 55 columns]\n",
      "Time to execute step 'network_aggregations_walk': 367.47 s\n",
      "Running step 'skims_aggregations'\n",
      "Time to execute step 'skims_aggregations': 0.00 s\n",
      "Total time to execute iteration 1 with iteration value None: 601.37 s\n"
     ]
    }
   ],
   "source": [
    "orca.run(['network_aggregations_small', 'network_aggregations_walk', 'skims_aggregations'])"
   ]
  },
  {
   "cell_type": "code",
   "execution_count": 7,
   "metadata": {},
   "outputs": [],
   "source": [
    "# store the results so you don't have to do it again\n",
    "orca.get_table('nodeswalk').to_frame().to_csv(\n",
    "            os.path.join(input_data_dir, input_fnames['walk_access_vars']))\n",
    "orca.get_table('nodessmall').to_frame().to_csv(\n",
    "    os.path.join(input_data_dir, input_fnames['drive_access_vars']))\n",
    "orca.get_table('zones').to_frame().to_csv(\n",
    "    os.path.join(input_data_dir, input_fnames['zone_access_vars']))"
   ]
  },
  {
   "cell_type": "markdown",
   "metadata": {},
   "source": [
    "### Load CHTS Data"
   ]
  },
  {
   "cell_type": "markdown",
   "metadata": {},
   "source": [
    "Raw CHTS Households Data"
   ]
  },
  {
   "cell_type": "code",
   "execution_count": 8,
   "metadata": {},
   "outputs": [],
   "source": [
    "chts_households = pd.read_csv('/home/data/fall_2018/CHTS_csv_format/data/Deliv_HH.csv')"
   ]
  },
  {
   "cell_type": "markdown",
   "metadata": {},
   "source": [
    "Processed CHTS Persons Data (code available [here](https://github.com/ual/ual_model_workspace/blob/master/fall-2018-models/notebooks-max/WLCM_pre-processing.ipynb))"
   ]
  },
  {
   "cell_type": "code",
   "execution_count": 9,
   "metadata": {},
   "outputs": [],
   "source": [
    "chts_persons = pd.read_csv('/home/data/fall_2018/chts_persons_w_jobs_and_res_bldgs.csv')"
   ]
  },
  {
   "cell_type": "code",
   "execution_count": 12,
   "metadata": {},
   "outputs": [],
   "source": [
    "chts_persons.loc[:, 'worker'] = chts_persons[chts_persons['EMPLY'] == 1]\n",
    "chts_persons.loc[:, 'work_at_home'] = chts_persons[chts_persons['WLOC'] == 2]\n",
    "chts_workers = chts_persons[\n",
    "    (~pd.isnull(chts_persons['job_id'])) & (chts_persons['job_id'].isin(jobs.index.values))]"
   ]
  },
  {
   "cell_type": "markdown",
   "metadata": {},
   "source": [
    "### Define required model parameters"
   ]
  },
  {
   "cell_type": "code",
   "execution_count": 13,
   "metadata": {},
   "outputs": [],
   "source": [
    "chooser_filters = ['age < 115', 'income < 98', 'edu < 98']\n",
    "alt_sample_size = 10"
   ]
  },
  {
   "cell_type": "markdown",
   "metadata": {},
   "source": [
    "### Generate the merged choice table"
   ]
  },
  {
   "cell_type": "code",
   "execution_count": 14,
   "metadata": {},
   "outputs": [],
   "source": [
    "zones = orca.get_table('zones').to_frame()"
   ]
  },
  {
   "cell_type": "markdown",
   "metadata": {},
   "source": [
    "This step must be done manually for now by calling the `choicemodels.MergedChoiceTable()` method directly instead of using a template because `urbansim_templates` does not yet have functionality for interaction terms such as home-to-work distances"
   ]
  },
  {
   "cell_type": "code",
   "execution_count": 15,
   "metadata": {},
   "outputs": [],
   "source": [
    "obs = chts_workers.merge(\n",
    "    chts_households[['SAMPN', 'INCOM']], on='SAMPN').merge(\n",
    "    buildings, left_on='building_id', right_index=True).merge(\n",
    "    parcels, left_on='parcel_id', right_index=True).rename(\n",
    "    columns={\n",
    "        'zone_id': 'zone_id_home', 'AGE': 'age', 'EDUCA': 'edu', 'INCOM': 'income'})\n",
    "obs.index.name = 'obs_id'"
   ]
  },
  {
   "cell_type": "code",
   "execution_count": 16,
   "metadata": {},
   "outputs": [],
   "source": [
    "obs['no_higher_ed'] = (obs['edu'] < 5).astype(int)\n",
    "obs['age_under_45'] = (obs['age'] < 45).astype(int)\n",
    "obs['hh_inc_under_25k'] = (obs['income'] < 3).astype(int)\n",
    "obs['hh_inc_25_to_75k'] = ((obs['income'] > 2) & (obs['income'] < 6)).astype(int)\n",
    "obs['hh_inc_75_to_200k'] = ((obs['income'] > 5) & (obs['income'] < 9)).astype(int)"
   ]
  },
  {
   "cell_type": "code",
   "execution_count": 17,
   "metadata": {},
   "outputs": [],
   "source": [
    "obs = apply_filter_query(obs, filters=chooser_filters)"
   ]
  },
  {
   "cell_type": "code",
   "execution_count": 18,
   "metadata": {},
   "outputs": [],
   "source": [
    "obs = obs[[\n",
    "    'job_id', 'zone_id_home', 'age_under_45', 'no_higher_ed', 'age',\n",
    "    'hh_inc_under_25k', 'hh_inc_25_to_75k', 'hh_inc_75_to_200k', 'income']]"
   ]
  },
  {
   "cell_type": "code",
   "execution_count": 52,
   "metadata": {},
   "outputs": [],
   "source": [
    "alts = jobs.merge(buildings, left_on='building_id', right_index=True).merge(\n",
    "    parcels, left_on='parcel_id', right_index=True).merge(\n",
    "    zones, left_on='zone_id', right_index=True)"
   ]
  },
  {
   "cell_type": "code",
   "execution_count": 53,
   "metadata": {},
   "outputs": [],
   "source": [
    "# industry of alternatives\n",
    "alts['sector_retail'] = alts['sector_id'].isin([44, 45]).astype(int)\n",
    "alts['sector_healthcare'] = alts['sector_id'].isin([62]).astype(int)\n",
    "alts['sector_tech'] = alts['sector_id'].isin([51, 54]).astype(int)\n",
    "alts['sector_food_and_hosp'] = alts['sector_id'].isin([72]).astype(int)\n",
    "alts['sector_mfg'] = alts['sector_id'].isin([31, 32, 33]).astype(int)\n",
    "alts['sector_edu_serv'] = alts['sector_id'].isin([61]).astype(int)\n",
    "alts['sector_oth_serv'] = alts['sector_id'].isin([81]).astype(int)\n",
    "alts['sector_constr'] = alts['sector_id'].isin([23]).astype(int)\n",
    "alts['sector_gov'] = alts['sector_id'].isin([92]).astype(int)\n",
    "alts['sector_fire'] = alts['sector_id'].isin([52, 53]).astype(int)\n",
    "alts['sector_whlsale'] = alts['sector_id'].isin([42]).astype(int)\n",
    "alts['sector_admin'] = alts['sector_id'].isin([56]).astype(int)\n",
    "alts['sector_transport'] = alts['sector_id'].isin([48]).astype(int)\n",
    "alts['sector_arts'] = alts['sector_id'].isin([71]).astype(int)\n",
    "alts['sector_util'] = alts['sector_id'].isin([22]).astype(int)\n",
    "\n",
    "# # occupation of alternatives\n",
    "# alts['occup_mgmt'] = alts['occupation_id'].isin([11]).astype(int)\n",
    "# alts['occup_sales'] = alts['occupation_id'].isin([41]).astype(int)\n",
    "# alts['occup_biz'] = alts['occupation_id'].isin([13]).astype(int)\n",
    "# alts['occup_admin'] = alts['occupation_id'].isin([43]).astype(int)\n",
    "# alts['occup_edu'] = alts['occupation_id'].isin([25]).astype(int)\n",
    "# alts['occup_food'] = alts['occupation_id'].isin([35]).astype(int)\n",
    "# alts['occup_health'] = alts['occupation_id'].isin([29, 31]).astype(int)\n",
    "# alts['occup_tech'] = alts['occupation_id'].isin([15]).astype(int)\n",
    "# alts['occup_eng'] = alts['occupation_id'].isin([17]).astype(int)\n",
    "# alts['occup_transp'] = alts['occupation_id'].isin([53]).astype(int)\n",
    "# alts['occup_constr'] = alts['occupation_id'].isin([47]).astype(int)"
   ]
  },
  {
   "cell_type": "code",
   "execution_count": 54,
   "metadata": {},
   "outputs": [],
   "source": [
    "alts = alts[[\n",
    "    'total_jobs_gen_tt_WALK_TRANSIT_15', 'total_jobs_gen_tt_WALK_TRANSIT_45',\n",
    "    'total_jobs_gen_tt_CAR_45', 'total_jobs_gen_tt_CAR_15', 'avg_income_gen_tt_CAR_30',\n",
    "    'sum_persons_gen_tt_CAR_1', 'sum_persons_gen_tt_CAR_1', 'sum_income_gen_tt_CAR_15', \n",
    "    'sum_income_gen_tt_CAR_45', 'sum_residential_units_gen_tt_CAR_1', 'sum_residential_units_gen_tt_CAR_1',\n",
    "    'sum_residential_units_gen_tt_CAR_15', 'sum_residential_units_gen_tt_CAR_15',\n",
    "    'sum_persons_gen_tt_CAR_15', 'sum_persons_gen_tt_CAR_15',\n",
    "    'zone_id_work', 'sector_retail', 'sector_healthcare', 'sector_tech', 'sector_food_and_hosp',\n",
    "    'sector_mfg', 'sector_edu_serv', 'sector_oth_serv', 'sector_constr', 'sector_gov', 'sector_fire',\n",
    "    'sector_whlsale', 'sector_admin', 'sector_transport', 'sector_arts', 'sector_util',\n",
    "#     'occup_mgmt', 'occup_sales', 'occup_biz', 'occup_admin', 'occup_edu', 'occup_food', 'occup_health',\n",
    "#     'occup_tech', 'occup_eng', 'occup_transp', 'occup_constr'\n",
    "]]"
   ]
  },
  {
   "cell_type": "code",
   "execution_count": 55,
   "metadata": {},
   "outputs": [
    {
     "name": "stdout",
     "output_type": "stream",
     "text": [
      "CPU times: user 880 ms, sys: 57.1 ms, total: 937 ms\n",
      "Wall time: 936 ms\n"
     ]
    }
   ],
   "source": [
    "%%time\n",
    "mct = MergedChoiceTable(obs, alts, chosen_alternatives='job_id',\n",
    "                        sample_size=alt_sample_size, interaction_terms=interaction_terms)"
   ]
  },
  {
   "cell_type": "markdown",
   "metadata": {},
   "source": [
    "### Estimate the WLCM"
   ]
  },
  {
   "cell_type": "code",
   "execution_count": 26,
   "metadata": {},
   "outputs": [
    {
     "name": "stdout",
     "output_type": "stream",
     "text": [
      "Registering model step 'auto_ownership'\n",
      "Registering model step 'WLCM_gen_tt_simple'\n",
      "Registering model step 'WLCM_gen_tt'\n",
      "Registering model step 'TOD_choice'\n",
      "Registering model step 'primary_mode_choice'\n",
      "Registering model step 'WLCM_gen_tt_TWEAK'\n",
      "Registering model step 'WLCM'\n"
     ]
    }
   ],
   "source": [
    "mm.initialize()"
   ]
  },
  {
   "cell_type": "code",
   "execution_count": 27,
   "metadata": {},
   "outputs": [],
   "source": [
    "m = LargeMultinomialLogitStep(\n",
    "    chooser_filters=chooser_filters, constrained_choices=True,\n",
    "    alt_sample_size=alt_sample_size\n",
    ")"
   ]
  },
  {
   "cell_type": "code",
   "execution_count": 78,
   "metadata": {},
   "outputs": [],
   "source": [
    "# m.model_expression = (\n",
    "#     'dist_da/tt_da + '\n",
    "#     'np.log1p(jobs_1500_walk_retail) + '\n",
    "#     'np.log1p(cost_da_toll):(hh_inc_under_25k + hh_inc_25_to_75k + hh_inc_75_to_200k) + '\n",
    "#     'no_higher_ed:(sector_retail + sector_fire + sector_healthcare + sector_tech + sector_mfg + '\n",
    "#     'sector_food_and_hosp + sector_edu_serv + sector_gov + sector_whlsale) + '\n",
    "#     'sector_retail + sector_tech + sector_mfg + sector_food_and_hosp + sector_edu_serv + sector_oth_serv + '\n",
    "#     'sector_constr + sector_gov + sector_whlsale + sector_admin + sector_util - 1'\n",
    "# )\n",
    "\n",
    "m.model_expression = (\n",
    "#     'np.log1p(gen_tt_CAR):np.log1p(gen_tt_WALK_TRANSIT) + '\n",
    "#     'np.log1p(gen_tt_CAR) + '\n",
    "#     'dist * (np.log1p(gen_tt_CAR)) + np.log1p(gen_tt_WALK_TRANSIT) + '\n",
    "    'dist + np.log1p(gen_tt_CAR) + '\n",
    "#     'total_jobs_gen_tt_CAR_45:sum_residential_units_gen_tt_CAR_15 +'\n",
    "    'np.log1p(gen_cost_CAR):(hh_inc_under_25k + hh_inc_25_to_75k + hh_inc_75_to_200k) + '\n",
    "    'no_higher_ed:(sector_retail + sector_fire + sector_healthcare + sector_tech + sector_mfg + '\n",
    "    'sector_food_and_hosp + sector_edu_serv + sector_gov) + '\n",
    "    'sector_retail + sector_tech + sector_mfg + sector_food_and_hosp + sector_edu_serv + sector_oth_serv + '\n",
    "    'sector_constr + sector_gov + sector_whlsale + sector_admin + sector_util - 1'\n",
    ")"
   ]
  },
  {
   "cell_type": "code",
   "execution_count": 79,
   "metadata": {},
   "outputs": [
    {
     "name": "stdout",
     "output_type": "stream",
     "text": [
      "                  CHOICEMODELS ESTIMATION RESULTS                  \n",
      "===================================================================\n",
      "Dep. Var.:                chosen   No. Observations:          7,928\n",
      "Model:         Multinomial Logit   Df Residuals:              7,904\n",
      "Method:       Maximum Likelihood   Df Model:                     24\n",
      "Date:                 2019-09-10   Pseudo R-squ.:             0.503\n",
      "Time:                      15:16   Pseudo R-bar-squ.:         0.502\n",
      "AIC:                  18,179.324   Log-Likelihood:       -9,065.662\n",
      "BIC:                  18,346.800   LL-Null:             -18,254.895\n",
      "=============================================================================================\n",
      "                                              coef   std err         z     P>|z|   Conf. Int.\n",
      "---------------------------------------------------------------------------------------------\n",
      "dist                                       -0.0001     0.000   -60.579     0.000             \n",
      "np.log1p(gen_tt_CAR)                       -0.0764     0.018    -4.233     0.000             \n",
      "np.log1p(gen_cost_CAR):hh_inc_under_25k    -0.6519     0.046   -14.044     0.000             \n",
      "np.log1p(gen_cost_CAR):hh_inc_25_to_75k    -0.4201     0.021   -19.673     0.000             \n",
      "np.log1p(gen_cost_CAR):hh_inc_75_to_200k   -0.2168     0.016   -13.155     0.000             \n",
      "no_higher_ed:sector_retail                  0.3949     0.109     3.627     0.000             \n",
      "no_higher_ed:sector_fire                   -1.1111     0.114    -9.742     0.000             \n",
      "no_higher_ed:sector_healthcare             -0.8053     0.088    -9.196     0.000             \n",
      "no_higher_ed:sector_tech                   -1.5661     0.083   -18.955     0.000             \n",
      "no_higher_ed:sector_mfg                    -0.7000     0.118    -5.933     0.000             \n",
      "no_higher_ed:sector_food_and_hosp           0.9946     0.172     5.791     0.000             \n",
      "no_higher_ed:sector_edu_serv               -1.4145     0.128   -11.071     0.000             \n",
      "no_higher_ed:sector_gov                    -0.8225     0.118    -6.971     0.000             \n",
      "sector_retail                              -1.2042     0.081   -14.862     0.000             \n",
      "sector_tech                                 0.6345     0.046    13.679     0.000             \n",
      "sector_mfg                                 -0.5512     0.072    -7.633     0.000             \n",
      "sector_food_and_hosp                       -2.0381     0.140   -14.536     0.000             \n",
      "sector_edu_serv                             1.1120     0.062    17.832     0.000             \n",
      "sector_oth_serv                            -0.6502     0.081    -8.034     0.000             \n",
      "sector_constr                              -1.2857     0.100   -12.884     0.000             \n",
      "sector_gov                                  0.5102     0.073     6.967     0.000             \n",
      "sector_whlsale                             -1.9893     0.147   -13.522     0.000             \n",
      "sector_admin                               -1.2069     0.109   -11.043     0.000             \n",
      "sector_util                                 0.7464     0.146     5.100     0.000             \n",
      "=============================================================================================\n"
     ]
    }
   ],
   "source": [
    "m.fit(mct)"
   ]
  },
  {
   "cell_type": "markdown",
   "metadata": {},
   "source": [
    "### Add attributes to the model object that are needed for the simulation step"
   ]
  },
  {
   "cell_type": "code",
   "execution_count": 80,
   "metadata": {},
   "outputs": [],
   "source": [
    "m.name = 'WLCM_gen_tt_simple'\n",
    "m.tags = ['max']\n",
    "m.alternatives = ['jobs', 'buildings', 'parcels', 'zones']\n",
    "m.choosers = ['persons', 'households']\n",
    "m.out_chooser_filters = ['worker == 1', 'work_at_home == 0', 'zone_id_home == zone_id_home']\n",
    "m.out_column = 'job_id'"
   ]
  },
  {
   "cell_type": "code",
   "execution_count": 81,
   "metadata": {
    "scrolled": true
   },
   "outputs": [
    {
     "name": "stdout",
     "output_type": "stream",
     "text": [
      "Saving 'WLCM_gen_tt_simple.yaml': /home/max/projects/activitysynth/activitysynth/configs\n",
      "Registering model step 'WLCM_gen_tt_simple'\n"
     ]
    }
   ],
   "source": [
    "mm.register(m)"
   ]
  },
  {
   "cell_type": "code",
   "execution_count": null,
   "metadata": {},
   "outputs": [],
   "source": []
  }
 ],
 "metadata": {
  "kernelspec": {
   "display_name": "ual-model",
   "language": "python",
   "name": "ual-model"
  },
  "language_info": {
   "codemirror_mode": {
    "name": "ipython",
    "version": 3
   },
   "file_extension": ".py",
   "mimetype": "text/x-python",
   "name": "python",
   "nbconvert_exporter": "python",
   "pygments_lexer": "ipython3",
   "version": "3.7.3"
  }
 },
 "nbformat": 4,
 "nbformat_minor": 2
}
