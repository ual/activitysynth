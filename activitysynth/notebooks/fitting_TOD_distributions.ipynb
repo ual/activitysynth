{
 "cells": [
  {
   "cell_type": "code",
   "execution_count": 1,
   "metadata": {},
   "outputs": [],
   "source": [
    "import pandas as pd\n",
    "import numpy as np\n",
    "import scipy\n",
    "from scipy import stats\n",
    "import statsmodels as sm\n",
    "import matplotlib\n",
    "import matplotlib.pyplot as plt\n",
    "\n",
    "matplotlib.style.use('ggplot')\n",
    "matplotlib.rcParams['figure.figsize'] = (16.0, 12.0)\n",
    "\n",
    "import warnings\n",
    "\n",
    "%matplotlib inline\n",
    "\n",
    "pd.options.display.max_columns = 80"
   ]
  },
  {
   "cell_type": "code",
   "execution_count": 2,
   "metadata": {},
   "outputs": [],
   "source": [
    "trips = pd.read_csv('/home/data/fall_2018/HWtrips_032319.csv')"
   ]
  },
  {
   "cell_type": "code",
   "execution_count": 3,
   "metadata": {},
   "outputs": [
    {
     "data": {
      "text/plain": [
       "<matplotlib.axes._subplots.AxesSubplot at 0x7f56258db7f0>"
      ]
     },
     "execution_count": 3,
     "metadata": {},
     "output_type": "execute_result"
    },
    {
     "data": {
      "image/png": "[encoded data removed]",
      "text/plain": [
       "<Figure size 432x288 with 1 Axes>"
      ]
     },
     "metadata": {
      "needs_background": "light"
     },
     "output_type": "display_data"
    }
   ],
   "source": [
    "trips.plot.scatter(x='HW_trip_ET',\n",
    "                   y='work_dwell')"
   ]
  },
  {
   "cell_type": "code",
   "execution_count": 4,
   "metadata": {},
   "outputs": [
    {
     "data": {
      "text/plain": [
       "'Correlation between End Time and Dwell Time: -0.4067233807085886'"
      ]
     },
     "execution_count": 4,
     "metadata": {},
     "output_type": "execute_result"
    }
   ],
   "source": [
    "f\"Correlation between End Time and Dwell Time: {trips['HW_trip_ET'].corr(trips['work_dwell'])}\"\n",
    "\n",
    "## Given the correlation between HW_trip_ET and work_dwell time\n",
    "## maybe it makes sense to draw them jointly from a multivariate distribution?"
   ]
  },
  {
   "cell_type": "markdown",
   "metadata": {},
   "source": [
    "## \"Estimation\""
   ]
  },
  {
   "cell_type": "code",
   "execution_count": 5,
   "metadata": {},
   "outputs": [],
   "source": [
    "def x_guassian_kde(group, x):\n",
    "    data = group[[x]].values.T\n",
    "    return stats.gaussian_kde(data)\n",
    "\n",
    "def xy_guassian_kde(group, x, y):\n",
    "    data = group[[x, y]].values.T\n",
    "    return stats.gaussian_kde(data)\n",
    "\n"
   ]
  },
  {
   "cell_type": "markdown",
   "metadata": {},
   "source": [
    "### TOD/HW_trip_ET"
   ]
  },
  {
   "cell_type": "code",
   "execution_count": 6,
   "metadata": {},
   "outputs": [
    {
     "data": {
      "text/html": [
       "<div>\n",
       "<style scoped>\n",
       "    .dataframe tbody tr th:only-of-type {\n",
       "        vertical-align: middle;\n",
       "    }\n",
       "\n",
       "    .dataframe tbody tr th {\n",
       "        vertical-align: top;\n",
       "    }\n",
       "\n",
       "    .dataframe thead th {\n",
       "        text-align: right;\n",
       "    }\n",
       "</style>\n",
       "<table border=\"1\" class=\"dataframe\">\n",
       "  <thead>\n",
       "    <tr style=\"text-align: right;\">\n",
       "      <th></th>\n",
       "      <th>HW_trip_ET_min</th>\n",
       "      <th>HW_trip_ET_max</th>\n",
       "    </tr>\n",
       "    <tr>\n",
       "      <th>TOD</th>\n",
       "      <th></th>\n",
       "      <th></th>\n",
       "    </tr>\n",
       "  </thead>\n",
       "  <tbody>\n",
       "    <tr>\n",
       "      <th>0</th>\n",
       "      <td>3.166667</td>\n",
       "      <td>5.983333</td>\n",
       "    </tr>\n",
       "    <tr>\n",
       "      <th>1</th>\n",
       "      <td>6.000000</td>\n",
       "      <td>8.983333</td>\n",
       "    </tr>\n",
       "    <tr>\n",
       "      <th>2</th>\n",
       "      <td>9.000000</td>\n",
       "      <td>15.466667</td>\n",
       "    </tr>\n",
       "    <tr>\n",
       "      <th>3</th>\n",
       "      <td>15.500000</td>\n",
       "      <td>18.433333</td>\n",
       "    </tr>\n",
       "    <tr>\n",
       "      <th>4</th>\n",
       "      <td>0.016667</td>\n",
       "      <td>24.000000</td>\n",
       "    </tr>\n",
       "  </tbody>\n",
       "</table>\n",
       "</div>"
      ],
      "text/plain": [
       "     HW_trip_ET_min  HW_trip_ET_max\n",
       "TOD                                \n",
       "0          3.166667        5.983333\n",
       "1          6.000000        8.983333\n",
       "2          9.000000       15.466667\n",
       "3         15.500000       18.433333\n",
       "4          0.016667       24.000000"
      ]
     },
     "execution_count": 6,
     "metadata": {},
     "output_type": "execute_result"
    }
   ],
   "source": [
    "# bounds can be manually specified instead\n",
    "TOD_bounds = (trips.loc[:, [\"TOD\", \"HW_trip_ET\"]]\n",
    "  .groupby(\"TOD\")\n",
    "  .agg(['min', 'max'])\n",
    "  #.reset_index(inplace=True)\n",
    ")\n",
    "TOD_bounds.columns = TOD_bounds.columns.map('_'.join).str.strip(\" _\")\n",
    "#TOD_bounds = TOD_bounds.rename(columns={\"TOD_\": \"TOD\"})\n",
    "TOD_bounds\n"
   ]
  },
  {
   "cell_type": "code",
   "execution_count": 7,
   "metadata": {},
   "outputs": [
    {
     "data": {
      "text/html": [
       "<div>\n",
       "<style scoped>\n",
       "    .dataframe tbody tr th:only-of-type {\n",
       "        vertical-align: middle;\n",
       "    }\n",
       "\n",
       "    .dataframe tbody tr th {\n",
       "        vertical-align: top;\n",
       "    }\n",
       "\n",
       "    .dataframe thead th {\n",
       "        text-align: right;\n",
       "    }\n",
       "</style>\n",
       "<table border=\"1\" class=\"dataframe\">\n",
       "  <thead>\n",
       "    <tr style=\"text-align: right;\">\n",
       "      <th></th>\n",
       "      <th>kde</th>\n",
       "      <th>HW_trip_ET_min</th>\n",
       "      <th>HW_trip_ET_max</th>\n",
       "    </tr>\n",
       "    <tr>\n",
       "      <th>TOD</th>\n",
       "      <th></th>\n",
       "      <th></th>\n",
       "      <th></th>\n",
       "    </tr>\n",
       "  </thead>\n",
       "  <tbody>\n",
       "    <tr>\n",
       "      <th>0</th>\n",
       "      <td>&lt;scipy.stats.kde.gaussian_kde object at 0x7f56...</td>\n",
       "      <td>3.166667</td>\n",
       "      <td>5.983333</td>\n",
       "    </tr>\n",
       "    <tr>\n",
       "      <th>1</th>\n",
       "      <td>&lt;scipy.stats.kde.gaussian_kde object at 0x7f56...</td>\n",
       "      <td>6.000000</td>\n",
       "      <td>8.983333</td>\n",
       "    </tr>\n",
       "    <tr>\n",
       "      <th>2</th>\n",
       "      <td>&lt;scipy.stats.kde.gaussian_kde object at 0x7f56...</td>\n",
       "      <td>9.000000</td>\n",
       "      <td>15.466667</td>\n",
       "    </tr>\n",
       "    <tr>\n",
       "      <th>3</th>\n",
       "      <td>&lt;scipy.stats.kde.gaussian_kde object at 0x7f56...</td>\n",
       "      <td>15.500000</td>\n",
       "      <td>18.433333</td>\n",
       "    </tr>\n",
       "    <tr>\n",
       "      <th>4</th>\n",
       "      <td>&lt;scipy.stats.kde.gaussian_kde object at 0x7f56...</td>\n",
       "      <td>0.016667</td>\n",
       "      <td>24.000000</td>\n",
       "    </tr>\n",
       "  </tbody>\n",
       "</table>\n",
       "</div>"
      ],
      "text/plain": [
       "                                                   kde  HW_trip_ET_min  \\\n",
       "TOD                                                                      \n",
       "0    <scipy.stats.kde.gaussian_kde object at 0x7f56...        3.166667   \n",
       "1    <scipy.stats.kde.gaussian_kde object at 0x7f56...        6.000000   \n",
       "2    <scipy.stats.kde.gaussian_kde object at 0x7f56...        9.000000   \n",
       "3    <scipy.stats.kde.gaussian_kde object at 0x7f56...       15.500000   \n",
       "4    <scipy.stats.kde.gaussian_kde object at 0x7f56...        0.016667   \n",
       "\n",
       "     HW_trip_ET_max  \n",
       "TOD                  \n",
       "0          5.983333  \n",
       "1          8.983333  \n",
       "2         15.466667  \n",
       "3         18.433333  \n",
       "4         24.000000  "
      ]
     },
     "execution_count": 7,
     "metadata": {},
     "output_type": "execute_result"
    }
   ],
   "source": [
    "ET_kde = (trips.loc[:, [\"TOD\", \"HW_trip_ET\"]]\n",
    "          #.query(\"HW_trip_ET==HW_trip_ET\") # filtering for NaN\n",
    "  .groupby(\"TOD\")\n",
    "  .apply(lambda g: pd.Series({\"kde\": x_guassian_kde(g, x=\"HW_trip_ET\")}))        \n",
    "  #.apply(ST_guassian_kde)\n",
    "  #.reset_index(name='kde')\n",
    ")\n",
    "\n",
    "ET_kde = ET_kde.join(TOD_bounds, on=[\"TOD\"], lsuffix=\"_x\")\n",
    "#bounds.columns, ST_kde.columns\n",
    "ET_kde\n",
    "# Save ST_kde DataFrame for use in simulation\n"
   ]
  },
  {
   "cell_type": "code",
   "execution_count": 8,
   "metadata": {},
   "outputs": [],
   "source": [
    "### work_dwell"
   ]
  },
  {
   "cell_type": "code",
   "execution_count": 9,
   "metadata": {},
   "outputs": [
    {
     "data": {
      "text/html": [
       "<div>\n",
       "<style scoped>\n",
       "    .dataframe tbody tr th:only-of-type {\n",
       "        vertical-align: middle;\n",
       "    }\n",
       "\n",
       "    .dataframe tbody tr th {\n",
       "        vertical-align: top;\n",
       "    }\n",
       "\n",
       "    .dataframe thead th {\n",
       "        text-align: right;\n",
       "    }\n",
       "</style>\n",
       "<table border=\"1\" class=\"dataframe\">\n",
       "  <thead>\n",
       "    <tr style=\"text-align: right;\">\n",
       "      <th></th>\n",
       "      <th>work_dwell_min</th>\n",
       "      <th>work_dwell_max</th>\n",
       "    </tr>\n",
       "    <tr>\n",
       "      <th>dwell_work</th>\n",
       "      <th></th>\n",
       "      <th></th>\n",
       "    </tr>\n",
       "  </thead>\n",
       "  <tbody>\n",
       "    <tr>\n",
       "      <th>1</th>\n",
       "      <td>0.016667</td>\n",
       "      <td>4.500000</td>\n",
       "    </tr>\n",
       "    <tr>\n",
       "      <th>2</th>\n",
       "      <td>4.500000</td>\n",
       "      <td>7.750000</td>\n",
       "    </tr>\n",
       "    <tr>\n",
       "      <th>3</th>\n",
       "      <td>7.750000</td>\n",
       "      <td>9.000000</td>\n",
       "    </tr>\n",
       "    <tr>\n",
       "      <th>4</th>\n",
       "      <td>9.000000</td>\n",
       "      <td>10.483333</td>\n",
       "    </tr>\n",
       "    <tr>\n",
       "      <th>5</th>\n",
       "      <td>10.500000</td>\n",
       "      <td>19.500000</td>\n",
       "    </tr>\n",
       "  </tbody>\n",
       "</table>\n",
       "</div>"
      ],
      "text/plain": [
       "            work_dwell_min  work_dwell_max\n",
       "dwell_work                                \n",
       "1                 0.016667        4.500000\n",
       "2                 4.500000        7.750000\n",
       "3                 7.750000        9.000000\n",
       "4                 9.000000       10.483333\n",
       "5                10.500000       19.500000"
      ]
     },
     "execution_count": 9,
     "metadata": {},
     "output_type": "execute_result"
    }
   ],
   "source": [
    "# bounds can be manually specified instead\n",
    "WD_bounds = (trips.loc[:, [\"dwell_work\", \"work_dwell\"]]\n",
    "  .groupby(\"dwell_work\")\n",
    "  .agg(['min', 'max'])\n",
    "  #.reset_index(inplace=True)\n",
    ")\n",
    "WD_bounds.columns = WD_bounds.columns.map('_'.join).str.strip(\" _\")\n",
    "#WD_bounds = WD_bounds.rename(columns={\"TOD_\": \"TOD\"})\n",
    "WD_bounds"
   ]
  },
  {
   "cell_type": "code",
   "execution_count": 10,
   "metadata": {},
   "outputs": [],
   "source": [
    "#import dfply as dp\n",
    "#from dfply import >>\n",
    "#import statsmodels.api as sm\n",
    "\n",
    "#dens = sm.nonparametric.KDEUnivariate(trips[\"HW_trip_ET\"])\n",
    "#dens.fit()\n",
    "#plt.plot(dens.cdf)\n",
    "#plt.show()\n",
    "\n"
   ]
  },
  {
   "cell_type": "code",
   "execution_count": 11,
   "metadata": {},
   "outputs": [
    {
     "data": {
      "text/html": [
       "<div>\n",
       "<style scoped>\n",
       "    .dataframe tbody tr th:only-of-type {\n",
       "        vertical-align: middle;\n",
       "    }\n",
       "\n",
       "    .dataframe tbody tr th {\n",
       "        vertical-align: top;\n",
       "    }\n",
       "\n",
       "    .dataframe thead th {\n",
       "        text-align: right;\n",
       "    }\n",
       "</style>\n",
       "<table border=\"1\" class=\"dataframe\">\n",
       "  <thead>\n",
       "    <tr style=\"text-align: right;\">\n",
       "      <th></th>\n",
       "      <th>kde</th>\n",
       "      <th>work_dwell_min</th>\n",
       "      <th>work_dwell_max</th>\n",
       "    </tr>\n",
       "    <tr>\n",
       "      <th>dwell_work</th>\n",
       "      <th></th>\n",
       "      <th></th>\n",
       "      <th></th>\n",
       "    </tr>\n",
       "  </thead>\n",
       "  <tbody>\n",
       "    <tr>\n",
       "      <th>1</th>\n",
       "      <td>&lt;scipy.stats.kde.gaussian_kde object at 0x7f56...</td>\n",
       "      <td>0.016667</td>\n",
       "      <td>4.500000</td>\n",
       "    </tr>\n",
       "    <tr>\n",
       "      <th>2</th>\n",
       "      <td>&lt;scipy.stats.kde.gaussian_kde object at 0x7f56...</td>\n",
       "      <td>4.500000</td>\n",
       "      <td>7.750000</td>\n",
       "    </tr>\n",
       "    <tr>\n",
       "      <th>3</th>\n",
       "      <td>&lt;scipy.stats.kde.gaussian_kde object at 0x7f56...</td>\n",
       "      <td>7.750000</td>\n",
       "      <td>9.000000</td>\n",
       "    </tr>\n",
       "    <tr>\n",
       "      <th>4</th>\n",
       "      <td>&lt;scipy.stats.kde.gaussian_kde object at 0x7f56...</td>\n",
       "      <td>9.000000</td>\n",
       "      <td>10.483333</td>\n",
       "    </tr>\n",
       "    <tr>\n",
       "      <th>5</th>\n",
       "      <td>&lt;scipy.stats.kde.gaussian_kde object at 0x7f56...</td>\n",
       "      <td>10.500000</td>\n",
       "      <td>19.500000</td>\n",
       "    </tr>\n",
       "  </tbody>\n",
       "</table>\n",
       "</div>"
      ],
      "text/plain": [
       "                                                          kde  work_dwell_min  \\\n",
       "dwell_work                                                                      \n",
       "1           <scipy.stats.kde.gaussian_kde object at 0x7f56...        0.016667   \n",
       "2           <scipy.stats.kde.gaussian_kde object at 0x7f56...        4.500000   \n",
       "3           <scipy.stats.kde.gaussian_kde object at 0x7f56...        7.750000   \n",
       "4           <scipy.stats.kde.gaussian_kde object at 0x7f56...        9.000000   \n",
       "5           <scipy.stats.kde.gaussian_kde object at 0x7f56...       10.500000   \n",
       "\n",
       "            work_dwell_max  \n",
       "dwell_work                  \n",
       "1                 4.500000  \n",
       "2                 7.750000  \n",
       "3                 9.000000  \n",
       "4                10.483333  \n",
       "5                19.500000  "
      ]
     },
     "execution_count": 11,
     "metadata": {},
     "output_type": "execute_result"
    }
   ],
   "source": [
    "# work_dwell distribution\n",
    "WD_kde = (trips.loc[:, [\"dwell_work\", \"work_dwell\"]]\n",
    "          #.query(\"work_dwell==work_dwell\") # filtering for NaN\n",
    "  .groupby(\"dwell_work\")\n",
    "  .apply(lambda g: pd.Series({\"kde\": x_guassian_kde(g, x=\"work_dwell\")}))        \n",
    "  #.apply(ST_guassian_kde)\n",
    "  #.reset_index(name='kde')\n",
    ")\n",
    "\n",
    "WD_kde = WD_kde.join(WD_bounds, on=[\"dwell_work\"], lsuffix=\"_x\")\n",
    "#bounds.columns, ST_kde.columns\n",
    "WD_kde\n",
    "# Save ST_kde DataFrame for use in simulation\n"
   ]
  },
  {
   "cell_type": "markdown",
   "metadata": {},
   "source": [
    "## Simulation"
   ]
  },
  {
   "cell_type": "code",
   "execution_count": 12,
   "metadata": {},
   "outputs": [],
   "source": [
    "#from urbansim_templates import modelmanager\n",
    "#modelmanager.initialize()\n",
    "\n",
    "#modelmanager.register(m)"
   ]
  },
  {
   "cell_type": "code",
   "execution_count": 13,
   "metadata": {},
   "outputs": [],
   "source": [
    "#ST_kde.loc[1, 'kde'].resample(2)\n",
    "# In Simulation\n",
    "n_by_TOD = (trips.groupby(\"TOD\")\n",
    "  .size()\n",
    "  .reset_index(name='ntrips')\n",
    ")\n",
    "\n",
    "n_by_TOD = n_by_TOD.join(ET_kde, on=\"TOD\")\n",
    "         \n",
    "n_by_TOD[\"HW_trip_ET\"] = n_by_TOD.apply(lambda row: (row['kde'].resample(row['ntrips']))[0, ], axis=1)\n",
    "\n",
    "#n_by_TOD[\"HW_trip_ST\"] = n_by_TOD[\"ST\"].apply(lambda x: x[0, ])\n",
    "#n_by_TOD[\"WH_trip_ST\"] = n_by_TOD[\"ST\"].apply(lambda x: x[1, ])\n",
    "#ST_kde.kde.apply(lambda x: x.resample(2))\n",
    "\n",
    "trips_sim = pd.DataFrame({'TOD':n_by_TOD.TOD.repeat(n_by_TOD.HW_trip_ET.str.len()),\n",
    "              'HW_trip_ET':np.concatenate(n_by_TOD.HW_trip_ET.values),\n",
    "              #'WH_trip_ST':np.concatenate(n_by_TOD.WH_trip_ST.values),\n",
    "             })\n",
    "\n",
    "#trips_sim = trips_sim.set_index(\"TOD\")\n",
    "#n_by_TOD.ST.values[0, ][0, ].shape\n",
    "#n_by_TOD[\"HW_trip_ST\"].apply(lambda x: x.shape)\n",
    "\n",
    "\n",
    "# To append trips_sim back to trip, sort both trips and trips_sim by TOD\n",
    "results = (\n",
    "trips.sort_values(by=\"TOD\")\n",
    "    .assign(HW_trip_ET_sim=trips_sim.sort_values(by=\"TOD\").loc[:, \"HW_trip_ET\"].values)\n",
    "    .loc[:, [\"TOD\", \"HW_trip_ET\", \"HW_trip_ET_sim\"]]\n",
    ")    \n",
    "\n",
    "#trips_sim.shape\n",
    "\n",
    "\n",
    "# handle 24+ hour\n",
    "#trips_sim.loc[trips_sim[\"TOD\"].isin([14.0, 24.0]) & (trips_sim.WH_trip_ST < 12), 'WH_trip_ST'] -= 24"
   ]
  },
  {
   "cell_type": "code",
   "execution_count": 14,
   "metadata": {},
   "outputs": [],
   "source": [
    "from sklearn.metrics import r2_score, mean_squared_error\n",
    "\n",
    "def r2_rmse(g, obs_col, sim_col):\n",
    "    r2 = r2_score( g[obs_col], g[sim_col] )\n",
    "    rmse = np.sqrt( mean_squared_error( g[obs_col], g[sim_col] ) )\n",
    "    return pd.Series( dict(  r2 = r2, rmse = rmse ) )\n"
   ]
  },
  {
   "cell_type": "code",
   "execution_count": 15,
   "metadata": {},
   "outputs": [],
   "source": [
    "def simulate_from_kde(n_by_group, a_kde, group_name, x_name):\n",
    "    n_by_group = n_by_group.join(a_kde, on=group_name)\n",
    "\n",
    "    n_by_group[x_name] = n_by_group.apply(lambda row: row['kde'].resample(row['ntrips'])[0, ], axis=1)\n",
    "\n",
    "    #n_by_group[\"HW_trip_ST\"] = n_by_group[\"ST\"].apply(lambda x: x[0, ])\n",
    "    #n_by_group[\"WH_trip_ST\"] = n_by_group[\"ST\"].apply(lambda x: x[1, ])\n",
    "    #a_kde.kde.apply(lambda x: x.resample(2))\n",
    "    \n",
    "    group_values = n_by_group[group_name].repeat(n_by_group[x_name].str.len()).values\n",
    "    x_values = np.concatenate(n_by_group[x_name].values)\n",
    "    #print(group_values.shape, x_values.shape)\n",
    "    \n",
    "    samples = pd.DataFrame({group_name: group_values,\n",
    "                            x_name: x_values,\n",
    "                          })\n",
    "    samples = samples.reset_index()\n",
    "    #print(samples.index)\n",
    "\n",
    "    #trips_sim = trips_sim.set_index(\"TOD\")\n",
    "    #n_by_group.ST.values[0, ][0, ].shape\n",
    "    #n_by_group[\"HW_trip_ST\"].apply(lambda x: x.shape)\n",
    "\n",
    "    # handle 24+ hour\n",
    "    #samples.loc[samples[\"TOD\"].isin([14.0, 24.0]) & (samples.WH_trip_ST < 12), 'WH_trip_ST'] -= 24\n",
    "    \n",
    "    samples_w_bounds = samples.join(a_kde, how=\"left\", on=group_name)\n",
    "    samples_w_bounds.reset_index()\n",
    "    \n",
    "    samples_good = (samples_w_bounds.query(f'({x_name}_min <= {x_name} <= {x_name}_max) and ' +\n",
    "                                           f'({x_name}_min <= {x_name} <= {x_name}_max )')\n",
    "                                    .loc[:, [group_name, x_name]]\n",
    "                   )\n",
    "                         \n",
    "    _n_by_group = (samples.loc[~samples.index.isin(samples_good.index)]\n",
    "                        .groupby(group_name)\n",
    "                        .size()\n",
    "                        .reset_index(name='ntrips'))\n",
    "    \n",
    "    #print(samples.index)\n",
    "    #print(samples_good.index)\n",
    "    print(\"There are {} samples with out of bounds values\".format(_n_by_group.ntrips.sum()))\n",
    "    if _n_by_group.shape[0] > 0:\n",
    "        samples_extra = simulate_from_kde(_n_by_group, a_kde, group_name, x_name)\n",
    "        samples = pd.concat([samples_good, samples_extra], sort=False)\n",
    "            \n",
    "    return samples\n"
   ]
  },
  {
   "cell_type": "code",
   "execution_count": 16,
   "metadata": {},
   "outputs": [],
   "source": [
    "### TOD"
   ]
  },
  {
   "cell_type": "code",
   "execution_count": 17,
   "metadata": {},
   "outputs": [
    {
     "name": "stdout",
     "output_type": "stream",
     "text": [
      "There are 1012 samples with out of bounds values\n",
      "There are 85 samples with out of bounds values\n",
      "There are 10 samples with out of bounds values\n",
      "There are 0 samples with out of bounds values\n"
     ]
    }
   ],
   "source": [
    "n_by_TOD = (trips.groupby(\"TOD\")\n",
    "  .size()\n",
    "  .reset_index(name='ntrips')\n",
    ")\n",
    "\n",
    "#n_by_TOD.columns, ET_kde.columns\n",
    "  \n",
    "trips_sim = simulate_from_kde(n_by_TOD, ET_kde, group_name=\"TOD\", x_name=\"HW_trip_ET\")\n",
    "#trips_sim.loc[trips_sim.HW_trip_ET > 24, 'HW_trip_ET'] -= 24\n",
    "#trips_sim.loc[trips_sim[\"TOD\"].isin([14.0, 24.0]) & (trips_sim.WH_trip_ST < 12), 'WH_trip_ST'] -= 24"
   ]
  },
  {
   "cell_type": "code",
   "execution_count": 18,
   "metadata": {},
   "outputs": [],
   "source": [
    "assert np.alltrue( \n",
    "    n_by_TOD == (trips_sim.groupby(\"TOD\")\n",
    "                 .size()\n",
    "                 .reset_index(name='ntrips')\n",
    "                )\n",
    ")\n",
    "#trips_sim.columns, bounds.columns"
   ]
  },
  {
   "cell_type": "code",
   "execution_count": 19,
   "metadata": {},
   "outputs": [
    {
     "data": {
      "text/html": [
       "<div>\n",
       "<style scoped>\n",
       "    .dataframe tbody tr th:only-of-type {\n",
       "        vertical-align: middle;\n",
       "    }\n",
       "\n",
       "    .dataframe tbody tr th {\n",
       "        vertical-align: top;\n",
       "    }\n",
       "\n",
       "    .dataframe thead th {\n",
       "        text-align: right;\n",
       "    }\n",
       "</style>\n",
       "<table border=\"1\" class=\"dataframe\">\n",
       "  <thead>\n",
       "    <tr style=\"text-align: right;\">\n",
       "      <th></th>\n",
       "      <th>TOD</th>\n",
       "      <th>HW_trip_ET</th>\n",
       "      <th>index</th>\n",
       "      <th>HW_trip_ET_min</th>\n",
       "      <th>HW_trip_ET_max</th>\n",
       "    </tr>\n",
       "  </thead>\n",
       "  <tbody>\n",
       "  </tbody>\n",
       "</table>\n",
       "</div>"
      ],
      "text/plain": [
       "Empty DataFrame\n",
       "Columns: [TOD, HW_trip_ET, index, HW_trip_ET_min, HW_trip_ET_max]\n",
       "Index: []"
      ]
     },
     "execution_count": 19,
     "metadata": {},
     "output_type": "execute_result"
    }
   ],
   "source": [
    "# check for samples out of bounds; should be empty\n",
    "(\n",
    "trips_sim.join(TOD_bounds, on=\"TOD\")\n",
    "    .query('(HW_trip_ET < HW_trip_ET_min) or ' +\n",
    "                '(HW_trip_ET > HW_trip_ET_max)')\n",
    ")"
   ]
  },
  {
   "cell_type": "code",
   "execution_count": 20,
   "metadata": {},
   "outputs": [
    {
     "data": {
      "text/html": [
       "<div>\n",
       "<style scoped>\n",
       "    .dataframe tbody tr th:only-of-type {\n",
       "        vertical-align: middle;\n",
       "    }\n",
       "\n",
       "    .dataframe tbody tr th {\n",
       "        vertical-align: top;\n",
       "    }\n",
       "\n",
       "    .dataframe thead th {\n",
       "        text-align: right;\n",
       "    }\n",
       "</style>\n",
       "<table border=\"1\" class=\"dataframe\">\n",
       "  <thead>\n",
       "    <tr style=\"text-align: right;\">\n",
       "      <th></th>\n",
       "      <th>TOD</th>\n",
       "      <th>r2</th>\n",
       "      <th>rmse</th>\n",
       "    </tr>\n",
       "  </thead>\n",
       "  <tbody>\n",
       "    <tr>\n",
       "      <th>0</th>\n",
       "      <td>0</td>\n",
       "      <td>1.0</td>\n",
       "      <td>0.0</td>\n",
       "    </tr>\n",
       "    <tr>\n",
       "      <th>1</th>\n",
       "      <td>1</td>\n",
       "      <td>1.0</td>\n",
       "      <td>0.0</td>\n",
       "    </tr>\n",
       "    <tr>\n",
       "      <th>2</th>\n",
       "      <td>2</td>\n",
       "      <td>1.0</td>\n",
       "      <td>0.0</td>\n",
       "    </tr>\n",
       "    <tr>\n",
       "      <th>3</th>\n",
       "      <td>3</td>\n",
       "      <td>1.0</td>\n",
       "      <td>0.0</td>\n",
       "    </tr>\n",
       "    <tr>\n",
       "      <th>4</th>\n",
       "      <td>4</td>\n",
       "      <td>1.0</td>\n",
       "      <td>0.0</td>\n",
       "    </tr>\n",
       "  </tbody>\n",
       "</table>\n",
       "</div>"
      ],
      "text/plain": [
       "   TOD   r2  rmse\n",
       "0    0  1.0   0.0\n",
       "1    1  1.0   0.0\n",
       "2    2  1.0   0.0\n",
       "3    3  1.0   0.0\n",
       "4    4  1.0   0.0"
      ]
     },
     "execution_count": 20,
     "metadata": {},
     "output_type": "execute_result"
    }
   ],
   "source": [
    "# validation\n",
    "results = (\n",
    "trips.sort_values(by=\"TOD\")\n",
    "    .assign(HW_trip_ET_sim=trips_sim.sort_values(by=\"TOD\").loc[:, \"HW_trip_ET\"].values)\n",
    "    .loc[:, [\"TOD\", \"HW_trip_ET\", \"HW_trip_ET\"]]\n",
    ")    \n",
    "\n",
    "results.groupby('TOD').apply( r2_rmse, \n",
    "                            obs_col = \"HW_trip_ET\", \n",
    "                            sim_col = \"HW_trip_ET\" ).reset_index()"
   ]
  },
  {
   "cell_type": "markdown",
   "metadata": {},
   "source": [
    "### work_dwell"
   ]
  },
  {
   "cell_type": "code",
   "execution_count": 21,
   "metadata": {},
   "outputs": [
    {
     "name": "stdout",
     "output_type": "stream",
     "text": [
      "There are 1111 samples with out of bounds values\n",
      "There are 86 samples with out of bounds values\n",
      "There are 7 samples with out of bounds values\n",
      "There are 0 samples with out of bounds values\n"
     ]
    }
   ],
   "source": [
    "n_by_WD = (trips.groupby(\"dwell_work\")\n",
    "  .size()\n",
    "  .reset_index(name='ntrips')\n",
    ")\n",
    "\n",
    "#n_by_DT.columns, DT_kde.columns\n",
    "  \n",
    "trips_sim = simulate_from_kde(n_by_WD, WD_kde, group_name=\"dwell_work\", x_name=\"work_dwell\")\n"
   ]
  },
  {
   "cell_type": "code",
   "execution_count": 22,
   "metadata": {},
   "outputs": [],
   "source": [
    "assert np.alltrue( \n",
    "    n_by_WD == (trips_sim.groupby(\"dwell_work\")\n",
    "                 .size()\n",
    "                 .reset_index(name='ntrips')\n",
    "                )\n",
    ")\n",
    "#trips_sim.columns, bounds.columns"
   ]
  },
  {
   "cell_type": "code",
   "execution_count": 23,
   "metadata": {},
   "outputs": [
    {
     "data": {
      "text/html": [
       "<div>\n",
       "<style scoped>\n",
       "    .dataframe tbody tr th:only-of-type {\n",
       "        vertical-align: middle;\n",
       "    }\n",
       "\n",
       "    .dataframe tbody tr th {\n",
       "        vertical-align: top;\n",
       "    }\n",
       "\n",
       "    .dataframe thead th {\n",
       "        text-align: right;\n",
       "    }\n",
       "</style>\n",
       "<table border=\"1\" class=\"dataframe\">\n",
       "  <thead>\n",
       "    <tr style=\"text-align: right;\">\n",
       "      <th></th>\n",
       "      <th>dwell_work</th>\n",
       "      <th>work_dwell</th>\n",
       "      <th>index</th>\n",
       "      <th>work_dwell_min</th>\n",
       "      <th>work_dwell_max</th>\n",
       "    </tr>\n",
       "  </thead>\n",
       "  <tbody>\n",
       "  </tbody>\n",
       "</table>\n",
       "</div>"
      ],
      "text/plain": [
       "Empty DataFrame\n",
       "Columns: [dwell_work, work_dwell, index, work_dwell_min, work_dwell_max]\n",
       "Index: []"
      ]
     },
     "execution_count": 23,
     "metadata": {},
     "output_type": "execute_result"
    }
   ],
   "source": [
    "# check for samples out of bounds; should be empty\n",
    "(\n",
    "trips_sim.join(WD_bounds, on=\"dwell_work\")\n",
    "    .query('(work_dwell < work_dwell_min) or ' +\n",
    "                '(work_dwell > work_dwell_max)')\n",
    ")"
   ]
  },
  {
   "cell_type": "code",
   "execution_count": 24,
   "metadata": {},
   "outputs": [
    {
     "data": {
      "text/html": [
       "<div>\n",
       "<style scoped>\n",
       "    .dataframe tbody tr th:only-of-type {\n",
       "        vertical-align: middle;\n",
       "    }\n",
       "\n",
       "    .dataframe tbody tr th {\n",
       "        vertical-align: top;\n",
       "    }\n",
       "\n",
       "    .dataframe thead th {\n",
       "        text-align: right;\n",
       "    }\n",
       "</style>\n",
       "<table border=\"1\" class=\"dataframe\">\n",
       "  <thead>\n",
       "    <tr style=\"text-align: right;\">\n",
       "      <th></th>\n",
       "      <th>dwell_work</th>\n",
       "      <th>r2</th>\n",
       "      <th>rmse</th>\n",
       "    </tr>\n",
       "  </thead>\n",
       "  <tbody>\n",
       "    <tr>\n",
       "      <th>0</th>\n",
       "      <td>1</td>\n",
       "      <td>-0.962118</td>\n",
       "      <td>1.787003</td>\n",
       "    </tr>\n",
       "    <tr>\n",
       "      <th>1</th>\n",
       "      <td>2</td>\n",
       "      <td>-0.921704</td>\n",
       "      <td>1.311009</td>\n",
       "    </tr>\n",
       "    <tr>\n",
       "      <th>2</th>\n",
       "      <td>3</td>\n",
       "      <td>-0.962368</td>\n",
       "      <td>0.455472</td>\n",
       "    </tr>\n",
       "    <tr>\n",
       "      <th>3</th>\n",
       "      <td>4</td>\n",
       "      <td>-0.931290</td>\n",
       "      <td>0.573534</td>\n",
       "    </tr>\n",
       "    <tr>\n",
       "      <th>4</th>\n",
       "      <td>5</td>\n",
       "      <td>-0.971429</td>\n",
       "      <td>1.766805</td>\n",
       "    </tr>\n",
       "  </tbody>\n",
       "</table>\n",
       "</div>"
      ],
      "text/plain": [
       "   dwell_work        r2      rmse\n",
       "0           1 -0.962118  1.787003\n",
       "1           2 -0.921704  1.311009\n",
       "2           3 -0.962368  0.455472\n",
       "3           4 -0.931290  0.573534\n",
       "4           5 -0.971429  1.766805"
      ]
     },
     "execution_count": 24,
     "metadata": {},
     "output_type": "execute_result"
    }
   ],
   "source": [
    "# validation\n",
    "results = (\n",
    "trips.sort_values(by=\"dwell_work\")\n",
    "    .assign(work_dwell_sim=trips_sim.sort_values(by=\"dwell_work\").loc[:, \"work_dwell\"].values)\n",
    "    .loc[:, [\"dwell_work\", \"work_dwell\", \"work_dwell_sim\"]]\n",
    ")    \n",
    "\n",
    "results.groupby('dwell_work').apply( r2_rmse, \n",
    "                                    obs_col = \"work_dwell\", \n",
    "                                    sim_col = \"work_dwell_sim\" ).reset_index()"
   ]
  },
  {
   "cell_type": "code",
   "execution_count": 26,
   "metadata": {},
   "outputs": [
    {
     "data": {
      "text/plain": [
       "<matplotlib.axes._subplots.AxesSubplot at 0x7f561c77c6a0>"
      ]
     },
     "execution_count": 26,
     "metadata": {},
     "output_type": "execute_result"
    },
    {
     "data": {
      "image/png": "[encoded data removed]",
      "text/plain": [
       "<Figure size 432x288 with 1 Axes>"
      ]
     },
     "metadata": {
      "needs_background": "light"
     },
     "output_type": "display_data"
    }
   ],
   "source": [
    "colors = {0:'violet', 1:'blue', \n",
    "          2:'orange', 3:'yellow',\n",
    "          4:'grey', 5: 'black'\n",
    "         }\n",
    "\n",
    "results.plot.scatter(x='work_dwell',\n",
    "                     y='work_dwell_sim',\n",
    "                     c=results.dwell_work.apply(lambda x: colors[x]))"
   ]
  }
 ],
 "metadata": {
  "kernelspec": {
   "display_name": "Python 3",
   "language": "python",
   "name": "python3"
  },
  "language_info": {
   "codemirror_mode": {
    "name": "ipython",
    "version": 3
   },
   "file_extension": ".py",
   "mimetype": "text/x-python",
   "name": "python",
   "nbconvert_exporter": "python",
   "pygments_lexer": "ipython3",
   "version": "3.6.8"
  }
 },
 "nbformat": 4,
 "nbformat_minor": 2
}
