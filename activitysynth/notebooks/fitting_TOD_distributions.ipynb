{
 "cells": [
  {
   "cell_type": "code",
   "execution_count": 1,
   "metadata": {},
   "outputs": [],
   "source": [
    "import pandas as pd\n",
    "import numpy as np\n",
    "import scipy\n",
    "from scipy import stats\n",
    "import statsmodels as sm\n",
    "import matplotlib\n",
    "import matplotlib.pyplot as plt\n",
    "\n",
    "matplotlib.style.use('ggplot')\n",
    "matplotlib.rcParams['figure.figsize'] = (16.0, 12.0)\n",
    "\n",
    "import warnings\n",
    "\n",
    "%matplotlib inline\n",
    "\n",
    "pd.options.display.max_columns = 80"
   ]
  },
  {
   "cell_type": "code",
   "execution_count": 2,
   "metadata": {},
   "outputs": [],
   "source": [
    "trips = pd.read_csv('/home/data/fall_2018/HWtrips_032319.csv')"
   ]
  },
  {
   "cell_type": "code",
   "execution_count": 3,
   "metadata": {},
   "outputs": [
    {
     "data": {
      "text/plain": [
       "<matplotlib.axes._subplots.AxesSubplot at 0x7f86f3ab8898>"
      ]
     },
     "execution_count": 3,
     "metadata": {},
     "output_type": "execute_result"
    },
    {
     "data": {
      "image/png": "[encoded data removed]",
      "text/plain": [
       "<Figure size 432x288 with 1 Axes>"
      ]
     },
     "metadata": {
      "needs_background": "light"
     },
     "output_type": "display_data"
    }
   ],
   "source": [
    "trips.plot.scatter(x='HW_trip_ET',\n",
    "                   y='work_dwell')"
   ]
  },
  {
   "cell_type": "code",
   "execution_count": 4,
   "metadata": {},
   "outputs": [
    {
     "data": {
      "text/plain": [
       "'Correlation between End Time and Dwell Time: -0.4067233807085886'"
      ]
     },
     "execution_count": 4,
     "metadata": {},
     "output_type": "execute_result"
    }
   ],
   "source": [
    "f\"Correlation between End Time and Dwell Time: {trips['HW_trip_ET'].corr(trips['work_dwell'])}\"\n",
    "\n",
    "## Given the correlation between HW_trip_ET and work_dwell time\n",
    "## maybe it makes sense to draw them jointly from a multivariate distribution?"
   ]
  },
  {
   "cell_type": "markdown",
   "metadata": {},
   "source": [
    "## \"Estimation\""
   ]
  },
  {
   "cell_type": "code",
   "execution_count": 5,
   "metadata": {},
   "outputs": [],
   "source": [
    "def x_guassian_kde(group, x):\n",
    "    data = group[[x]].values.T\n",
    "    return stats.gaussian_kde(data)\n",
    "\n",
    "def xy_guassian_kde(group, x, y):\n",
    "    data = group[[x, y]].values.T\n",
    "    return stats.gaussian_kde(data)\n"
   ]
  },
  {
   "cell_type": "markdown",
   "metadata": {},
   "source": [
    "### TOD/HW_trip_ET"
   ]
  },
  {
   "cell_type": "code",
   "execution_count": 6,
   "metadata": {},
   "outputs": [
    {
     "data": {
      "text/html": [
       "<div>\n",
       "<style scoped>\n",
       "    .dataframe tbody tr th:only-of-type {\n",
       "        vertical-align: middle;\n",
       "    }\n",
       "\n",
       "    .dataframe tbody tr th {\n",
       "        vertical-align: top;\n",
       "    }\n",
       "\n",
       "    .dataframe thead th {\n",
       "        text-align: right;\n",
       "    }\n",
       "</style>\n",
       "<table border=\"1\" class=\"dataframe\">\n",
       "  <thead>\n",
       "    <tr style=\"text-align: right;\">\n",
       "      <th></th>\n",
       "      <th>lower_bound</th>\n",
       "      <th>upper_bound</th>\n",
       "    </tr>\n",
       "    <tr>\n",
       "      <th>TOD</th>\n",
       "      <th></th>\n",
       "      <th></th>\n",
       "    </tr>\n",
       "  </thead>\n",
       "  <tbody>\n",
       "    <tr>\n",
       "      <th>0</th>\n",
       "      <td>3.166667</td>\n",
       "      <td>5.983333</td>\n",
       "    </tr>\n",
       "    <tr>\n",
       "      <th>1</th>\n",
       "      <td>6.000000</td>\n",
       "      <td>8.983333</td>\n",
       "    </tr>\n",
       "    <tr>\n",
       "      <th>2</th>\n",
       "      <td>9.000000</td>\n",
       "      <td>15.466667</td>\n",
       "    </tr>\n",
       "    <tr>\n",
       "      <th>3</th>\n",
       "      <td>15.500000</td>\n",
       "      <td>18.433333</td>\n",
       "    </tr>\n",
       "    <tr>\n",
       "      <th>4</th>\n",
       "      <td>0.016667</td>\n",
       "      <td>24.000000</td>\n",
       "    </tr>\n",
       "  </tbody>\n",
       "</table>\n",
       "</div>"
      ],
      "text/plain": [
       "     lower_bound  upper_bound\n",
       "TOD                          \n",
       "0       3.166667     5.983333\n",
       "1       6.000000     8.983333\n",
       "2       9.000000    15.466667\n",
       "3      15.500000    18.433333\n",
       "4       0.016667    24.000000"
      ]
     },
     "execution_count": 6,
     "metadata": {},
     "output_type": "execute_result"
    }
   ],
   "source": [
    "# bounds can be manually specified instead\n",
    "TOD_bounds = (trips.loc[:, [\"TOD\", \"HW_trip_ET\"]]\n",
    "  .groupby(\"TOD\")\n",
    "  .agg(['min', 'max'])\n",
    "  #.reset_index(inplace=True)\n",
    ")\n",
    "#TOD_bounds.columns = TOD_bounds.columns.map('_'.join).str.strip(\" _\")\n",
    "#TOD_bounds = TOD_bounds.rename(columns={\"TOD_\": \"TOD\"})\n",
    "TOD_bounds.columns = ['lower_bound', 'upper_bound']\n",
    "TOD_bounds"
   ]
  },
  {
   "cell_type": "code",
   "execution_count": 7,
   "metadata": {},
   "outputs": [
    {
     "data": {
      "text/html": [
       "<div>\n",
       "<style scoped>\n",
       "    .dataframe tbody tr th:only-of-type {\n",
       "        vertical-align: middle;\n",
       "    }\n",
       "\n",
       "    .dataframe tbody tr th {\n",
       "        vertical-align: top;\n",
       "    }\n",
       "\n",
       "    .dataframe thead th {\n",
       "        text-align: right;\n",
       "    }\n",
       "</style>\n",
       "<table border=\"1\" class=\"dataframe\">\n",
       "  <thead>\n",
       "    <tr style=\"text-align: right;\">\n",
       "      <th></th>\n",
       "      <th>kde</th>\n",
       "      <th>lower_bound</th>\n",
       "      <th>upper_bound</th>\n",
       "    </tr>\n",
       "    <tr>\n",
       "      <th>TOD</th>\n",
       "      <th></th>\n",
       "      <th></th>\n",
       "      <th></th>\n",
       "    </tr>\n",
       "  </thead>\n",
       "  <tbody>\n",
       "    <tr>\n",
       "      <th>0</th>\n",
       "      <td>&lt;scipy.stats.kde.gaussian_kde object at 0x7f86...</td>\n",
       "      <td>3.166667</td>\n",
       "      <td>5.983333</td>\n",
       "    </tr>\n",
       "    <tr>\n",
       "      <th>1</th>\n",
       "      <td>&lt;scipy.stats.kde.gaussian_kde object at 0x7f86...</td>\n",
       "      <td>6.000000</td>\n",
       "      <td>8.983333</td>\n",
       "    </tr>\n",
       "    <tr>\n",
       "      <th>2</th>\n",
       "      <td>&lt;scipy.stats.kde.gaussian_kde object at 0x7f86...</td>\n",
       "      <td>9.000000</td>\n",
       "      <td>15.466667</td>\n",
       "    </tr>\n",
       "    <tr>\n",
       "      <th>3</th>\n",
       "      <td>&lt;scipy.stats.kde.gaussian_kde object at 0x7f86...</td>\n",
       "      <td>15.500000</td>\n",
       "      <td>18.433333</td>\n",
       "    </tr>\n",
       "    <tr>\n",
       "      <th>4</th>\n",
       "      <td>&lt;scipy.stats.kde.gaussian_kde object at 0x7f86...</td>\n",
       "      <td>0.016667</td>\n",
       "      <td>24.000000</td>\n",
       "    </tr>\n",
       "  </tbody>\n",
       "</table>\n",
       "</div>"
      ],
      "text/plain": [
       "                                                   kde  lower_bound  \\\n",
       "TOD                                                                   \n",
       "0    <scipy.stats.kde.gaussian_kde object at 0x7f86...     3.166667   \n",
       "1    <scipy.stats.kde.gaussian_kde object at 0x7f86...     6.000000   \n",
       "2    <scipy.stats.kde.gaussian_kde object at 0x7f86...     9.000000   \n",
       "3    <scipy.stats.kde.gaussian_kde object at 0x7f86...    15.500000   \n",
       "4    <scipy.stats.kde.gaussian_kde object at 0x7f86...     0.016667   \n",
       "\n",
       "     upper_bound  \n",
       "TOD               \n",
       "0       5.983333  \n",
       "1       8.983333  \n",
       "2      15.466667  \n",
       "3      18.433333  \n",
       "4      24.000000  "
      ]
     },
     "execution_count": 7,
     "metadata": {},
     "output_type": "execute_result"
    }
   ],
   "source": [
    "ET_kde = (trips.loc[:, [\"TOD\", \"HW_trip_ET\"]]\n",
    "          #.query(\"HW_trip_ET==HW_trip_ET\") # filtering for NaN\n",
    "  .groupby(\"TOD\")\n",
    "  .apply(lambda g: pd.Series({\"kde\": x_guassian_kde(g, x=\"HW_trip_ET\")}))        \n",
    "  #.apply(ST_guassian_kde)\n",
    "  #.reset_index(name='kde')\n",
    ")\n",
    "\n",
    "ET_kde = ET_kde.join(TOD_bounds, on=[\"TOD\"], lsuffix=\"_x\")\n",
    "#bounds.columns, ST_kde.columns\n",
    "ET_kde\n",
    "# Save ST_kde DataFrame for use in simulation\n"
   ]
  },
  {
   "cell_type": "code",
   "execution_count": 8,
   "metadata": {},
   "outputs": [],
   "source": [
    "### work_dwell"
   ]
  },
  {
   "cell_type": "code",
   "execution_count": 9,
   "metadata": {},
   "outputs": [
    {
     "data": {
      "text/html": [
       "<div>\n",
       "<style scoped>\n",
       "    .dataframe tbody tr th:only-of-type {\n",
       "        vertical-align: middle;\n",
       "    }\n",
       "\n",
       "    .dataframe tbody tr th {\n",
       "        vertical-align: top;\n",
       "    }\n",
       "\n",
       "    .dataframe thead th {\n",
       "        text-align: right;\n",
       "    }\n",
       "</style>\n",
       "<table border=\"1\" class=\"dataframe\">\n",
       "  <thead>\n",
       "    <tr style=\"text-align: right;\">\n",
       "      <th></th>\n",
       "      <th>lower_bound</th>\n",
       "      <th>upper_bound</th>\n",
       "    </tr>\n",
       "    <tr>\n",
       "      <th>dwell_work</th>\n",
       "      <th></th>\n",
       "      <th></th>\n",
       "    </tr>\n",
       "  </thead>\n",
       "  <tbody>\n",
       "    <tr>\n",
       "      <th>1</th>\n",
       "      <td>0.016667</td>\n",
       "      <td>4.500000</td>\n",
       "    </tr>\n",
       "    <tr>\n",
       "      <th>2</th>\n",
       "      <td>4.500000</td>\n",
       "      <td>7.750000</td>\n",
       "    </tr>\n",
       "    <tr>\n",
       "      <th>3</th>\n",
       "      <td>7.750000</td>\n",
       "      <td>9.000000</td>\n",
       "    </tr>\n",
       "    <tr>\n",
       "      <th>4</th>\n",
       "      <td>9.000000</td>\n",
       "      <td>10.483333</td>\n",
       "    </tr>\n",
       "    <tr>\n",
       "      <th>5</th>\n",
       "      <td>10.500000</td>\n",
       "      <td>19.500000</td>\n",
       "    </tr>\n",
       "  </tbody>\n",
       "</table>\n",
       "</div>"
      ],
      "text/plain": [
       "            lower_bound  upper_bound\n",
       "dwell_work                          \n",
       "1              0.016667     4.500000\n",
       "2              4.500000     7.750000\n",
       "3              7.750000     9.000000\n",
       "4              9.000000    10.483333\n",
       "5             10.500000    19.500000"
      ]
     },
     "execution_count": 9,
     "metadata": {},
     "output_type": "execute_result"
    }
   ],
   "source": [
    "# bounds can be manually specified instead\n",
    "WD_bounds = (trips.loc[:, [\"dwell_work\", \"work_dwell\"]]\n",
    "  .groupby(\"dwell_work\")\n",
    "  .agg(['min', 'max'])\n",
    "  #.reset_index(inplace=True)\n",
    ")\n",
    "#WD_bounds.columns = WD_bounds.columns.map('_'.join).str.strip(\" _\")\n",
    "#WD_bounds = WD_bounds.rename(columns={\"TOD_\": \"TOD\"})\n",
    "WD_bounds.columns = ['lower_bound', 'upper_bound']\n",
    "WD_bounds"
   ]
  },
  {
   "cell_type": "code",
   "execution_count": 10,
   "metadata": {},
   "outputs": [
    {
     "data": {
      "text/html": [
       "<div>\n",
       "<style scoped>\n",
       "    .dataframe tbody tr th:only-of-type {\n",
       "        vertical-align: middle;\n",
       "    }\n",
       "\n",
       "    .dataframe tbody tr th {\n",
       "        vertical-align: top;\n",
       "    }\n",
       "\n",
       "    .dataframe thead th {\n",
       "        text-align: right;\n",
       "    }\n",
       "</style>\n",
       "<table border=\"1\" class=\"dataframe\">\n",
       "  <thead>\n",
       "    <tr style=\"text-align: right;\">\n",
       "      <th></th>\n",
       "      <th>kde</th>\n",
       "      <th>lower_bound</th>\n",
       "      <th>upper_bound</th>\n",
       "    </tr>\n",
       "    <tr>\n",
       "      <th>dwell_work</th>\n",
       "      <th></th>\n",
       "      <th></th>\n",
       "      <th></th>\n",
       "    </tr>\n",
       "  </thead>\n",
       "  <tbody>\n",
       "    <tr>\n",
       "      <th>1</th>\n",
       "      <td>&lt;scipy.stats.kde.gaussian_kde object at 0x7f86...</td>\n",
       "      <td>0.016667</td>\n",
       "      <td>4.500000</td>\n",
       "    </tr>\n",
       "    <tr>\n",
       "      <th>2</th>\n",
       "      <td>&lt;scipy.stats.kde.gaussian_kde object at 0x7f86...</td>\n",
       "      <td>4.500000</td>\n",
       "      <td>7.750000</td>\n",
       "    </tr>\n",
       "    <tr>\n",
       "      <th>3</th>\n",
       "      <td>&lt;scipy.stats.kde.gaussian_kde object at 0x7f86...</td>\n",
       "      <td>7.750000</td>\n",
       "      <td>9.000000</td>\n",
       "    </tr>\n",
       "    <tr>\n",
       "      <th>4</th>\n",
       "      <td>&lt;scipy.stats.kde.gaussian_kde object at 0x7f86...</td>\n",
       "      <td>9.000000</td>\n",
       "      <td>10.483333</td>\n",
       "    </tr>\n",
       "    <tr>\n",
       "      <th>5</th>\n",
       "      <td>&lt;scipy.stats.kde.gaussian_kde object at 0x7f86...</td>\n",
       "      <td>10.500000</td>\n",
       "      <td>19.500000</td>\n",
       "    </tr>\n",
       "  </tbody>\n",
       "</table>\n",
       "</div>"
      ],
      "text/plain": [
       "                                                          kde  lower_bound  \\\n",
       "dwell_work                                                                   \n",
       "1           <scipy.stats.kde.gaussian_kde object at 0x7f86...     0.016667   \n",
       "2           <scipy.stats.kde.gaussian_kde object at 0x7f86...     4.500000   \n",
       "3           <scipy.stats.kde.gaussian_kde object at 0x7f86...     7.750000   \n",
       "4           <scipy.stats.kde.gaussian_kde object at 0x7f86...     9.000000   \n",
       "5           <scipy.stats.kde.gaussian_kde object at 0x7f86...    10.500000   \n",
       "\n",
       "            upper_bound  \n",
       "dwell_work               \n",
       "1              4.500000  \n",
       "2              7.750000  \n",
       "3              9.000000  \n",
       "4             10.483333  \n",
       "5             19.500000  "
      ]
     },
     "execution_count": 10,
     "metadata": {},
     "output_type": "execute_result"
    }
   ],
   "source": [
    "# work_dwell distribution\n",
    "WD_kde = (trips.loc[:, [\"dwell_work\", \"work_dwell\"]]\n",
    "          #.query(\"work_dwell==work_dwell\") # filtering for NaN\n",
    "  .groupby(\"dwell_work\")\n",
    "  .apply(lambda g: pd.Series({\"kde\": x_guassian_kde(g, x=\"work_dwell\")}))        \n",
    "  #.apply(ST_guassian_kde)\n",
    "  #.reset_index(name='kde')\n",
    ")\n",
    "\n",
    "WD_kde = WD_kde.join(WD_bounds, on=[\"dwell_work\"], lsuffix=\"_x\")\n",
    "#bounds.columns, ST_kde.columns\n",
    "WD_kde\n",
    "# Save ST_kde DataFrame for use in simulation\n"
   ]
  },
  {
   "cell_type": "markdown",
   "metadata": {},
   "source": [
    "## Simulation"
   ]
  },
  {
   "cell_type": "code",
   "execution_count": 11,
   "metadata": {},
   "outputs": [
    {
     "data": {
      "text/plain": [
       "(6.0, 8.966666666666667, 6.0, 8.983333333333333)"
      ]
     },
     "execution_count": 11,
     "metadata": {},
     "output_type": "execute_result"
    }
   ],
   "source": [
    "a_kde = ET_kde.loc[1, 'kde']\n",
    "n = 1000\n",
    "a_min = ET_kde.loc[1, 'lower_bound']\n",
    "a_max = ET_kde.loc[1, 'upper_bound']\n",
    "\n",
    "cdf_min, cdf_max = a_kde.integrate_box_1d(-np.inf, a_min), a_kde.integrate_box_1d(-np.inf, a_max)\n",
    "sample_unif = np.random.uniform(low=cdf_min, high=1.0, size=n)\n",
    "\n",
    "samples = scipy.stats.mstats.mquantiles(a_kde.dataset[0], sample_unif)\n",
    "samples.min(), samples.max(), a_min, a_max\n"
   ]
  },
  {
   "cell_type": "code",
   "execution_count": 12,
   "metadata": {},
   "outputs": [],
   "source": [
    "#from urbansim_templates import modelmanager\n",
    "#modelmanager.initialize()\n",
    "\n",
    "#modelmanager.register(m)\n",
    "\n",
    "#%debug\n",
    "\n",
    "n_by_TOD = (trips.groupby(\"TOD\")\n",
    "  .size()\n",
    "  .reset_index(name='ntrips')\n",
    ")\n",
    "\n",
    "n_by_TOD = n_by_TOD.join(ET_kde, on=\"TOD\")\n",
    "\n",
    "def sample_within_bounds(row):\n",
    "    a_kde, n = row['kde'], row['ntrips']\n",
    "    lower_bound, upper_bound = row['lower_bound'], row['upper_bound']\n",
    "    cdf_min = a_kde.integrate_box_1d(-np.inf, lower_bound)\n",
    "    cdf_max = a_kde.integrate_box_1d(-np.inf, upper_bound)\n",
    "    samples_unif = np.random.uniform(low=cdf_min, high=cdf_max, size=n)\n",
    "    samples = scipy.stats.mstats.mquantiles(a_kde.dataset[0], samples_unif)\n",
    "    return samples\n",
    "\n",
    "row = n_by_TOD.loc[1, ]\n",
    "sample_within_bounds(row)\n",
    "n_by_TOD['samples'] = n_by_TOD.apply(sample_within_bounds, axis=1)\n",
    "#n_by_TOD['samples'].apply(min), n_by_TOD['samples'].apply(max)"
   ]
  },
  {
   "cell_type": "code",
   "execution_count": 13,
   "metadata": {},
   "outputs": [],
   "source": [
    "from sklearn.metrics import r2_score, mean_squared_error\n",
    "\n",
    "def r2_rmse(g, obs_col, sim_col):\n",
    "    r2 = r2_score( g[obs_col], g[sim_col] )\n",
    "    rmse = np.sqrt( mean_squared_error( g[obs_col], g[sim_col] ) )\n",
    "    return pd.Series( dict(  r2 = r2, rmse = rmse ) )\n"
   ]
  },
  {
   "cell_type": "code",
   "execution_count": 14,
   "metadata": {},
   "outputs": [],
   "source": [
    "def sample_within_bounds(row):\n",
    "    a_kde, n = row['kde'], row['ntrips']\n",
    "    lower_bound, upper_bound = row['lower_bound'], row['upper_bound']\n",
    "    cdf_min = a_kde.integrate_box_1d(-np.inf, lower_bound)\n",
    "    cdf_max = a_kde.integrate_box_1d(-np.inf, upper_bound)\n",
    "    samples_unif = np.random.uniform(low=cdf_min, high=cdf_max, size=n)\n",
    "    samples = scipy.stats.mstats.mquantiles(a_kde.dataset[0], samples_unif)\n",
    "    return samples\n",
    "\n",
    "def simulate_from_kde(n_by_group, a_kde, group_name, x_name):\n",
    "    n_by_group = n_by_group.join(a_kde, on=group_name)\n",
    "    \n",
    "    n_by_group[x_name] = n_by_group.apply(sample_within_bounds, axis=1)\n",
    "    \n",
    "    group_values = n_by_group[group_name].repeat(n_by_group[x_name].str.len()).values\n",
    "    x_values = np.concatenate(n_by_group[x_name].values)\n",
    "    #print(group_values.shape, x_values.shape)\n",
    "    \n",
    "    samples = pd.DataFrame({group_name: group_values,\n",
    "                            x_name: x_values,\n",
    "                          })\n",
    "            \n",
    "    return samples\n"
   ]
  },
  {
   "cell_type": "code",
   "execution_count": 15,
   "metadata": {},
   "outputs": [],
   "source": [
    "### TOD"
   ]
  },
  {
   "cell_type": "code",
   "execution_count": 16,
   "metadata": {},
   "outputs": [],
   "source": [
    "n_by_TOD = (trips.groupby(\"TOD\")\n",
    "  .size()\n",
    "  .reset_index(name='ntrips')\n",
    ")\n",
    "\n",
    "#n_by_TOD.columns, ET_kde.columns\n",
    "  \n",
    "trips_sim = simulate_from_kde(n_by_TOD, ET_kde, group_name=\"TOD\", x_name=\"HW_trip_ET\")\n",
    "#trips_sim.loc[trips_sim.HW_trip_ET > 24, 'HW_trip_ET'] -= 24\n",
    "#trips_sim.loc[trips_sim[\"TOD\"].isin([14.0, 24.0]) & (trips_sim.WH_trip_ST < 12), 'WH_trip_ST'] -= 24"
   ]
  },
  {
   "cell_type": "code",
   "execution_count": 17,
   "metadata": {},
   "outputs": [],
   "source": [
    "assert np.alltrue( \n",
    "    n_by_TOD == (trips_sim.groupby(\"TOD\")\n",
    "                 .size()\n",
    "                 .reset_index(name='ntrips')\n",
    "                )\n",
    ")\n",
    "#trips_sim.columns, bounds.columns"
   ]
  },
  {
   "cell_type": "code",
   "execution_count": 18,
   "metadata": {},
   "outputs": [
    {
     "data": {
      "text/html": [
       "<div>\n",
       "<style scoped>\n",
       "    .dataframe tbody tr th:only-of-type {\n",
       "        vertical-align: middle;\n",
       "    }\n",
       "\n",
       "    .dataframe tbody tr th {\n",
       "        vertical-align: top;\n",
       "    }\n",
       "\n",
       "    .dataframe thead th {\n",
       "        text-align: right;\n",
       "    }\n",
       "</style>\n",
       "<table border=\"1\" class=\"dataframe\">\n",
       "  <thead>\n",
       "    <tr style=\"text-align: right;\">\n",
       "      <th></th>\n",
       "      <th>TOD</th>\n",
       "      <th>HW_trip_ET</th>\n",
       "      <th>lower_bound</th>\n",
       "      <th>upper_bound</th>\n",
       "    </tr>\n",
       "  </thead>\n",
       "  <tbody>\n",
       "  </tbody>\n",
       "</table>\n",
       "</div>"
      ],
      "text/plain": [
       "Empty DataFrame\n",
       "Columns: [TOD, HW_trip_ET, lower_bound, upper_bound]\n",
       "Index: []"
      ]
     },
     "execution_count": 18,
     "metadata": {},
     "output_type": "execute_result"
    }
   ],
   "source": [
    "# check for samples out of bounds; should be empty\n",
    "(\n",
    "trips_sim.join(TOD_bounds, on=\"TOD\")\n",
    "    .query('(HW_trip_ET < lower_bound) or ' +\n",
    "                '(HW_trip_ET > upper_bound)')\n",
    ")"
   ]
  },
  {
   "cell_type": "code",
   "execution_count": 19,
   "metadata": {},
   "outputs": [
    {
     "data": {
      "text/html": [
       "<div>\n",
       "<style scoped>\n",
       "    .dataframe tbody tr th:only-of-type {\n",
       "        vertical-align: middle;\n",
       "    }\n",
       "\n",
       "    .dataframe tbody tr th {\n",
       "        vertical-align: top;\n",
       "    }\n",
       "\n",
       "    .dataframe thead th {\n",
       "        text-align: right;\n",
       "    }\n",
       "</style>\n",
       "<table border=\"1\" class=\"dataframe\">\n",
       "  <thead>\n",
       "    <tr style=\"text-align: right;\">\n",
       "      <th></th>\n",
       "      <th>TOD</th>\n",
       "      <th>r2</th>\n",
       "      <th>rmse</th>\n",
       "    </tr>\n",
       "  </thead>\n",
       "  <tbody>\n",
       "    <tr>\n",
       "      <th>0</th>\n",
       "      <td>0</td>\n",
       "      <td>-0.960868</td>\n",
       "      <td>0.899741</td>\n",
       "    </tr>\n",
       "    <tr>\n",
       "      <th>1</th>\n",
       "      <td>1</td>\n",
       "      <td>-0.917061</td>\n",
       "      <td>1.048679</td>\n",
       "    </tr>\n",
       "    <tr>\n",
       "      <th>2</th>\n",
       "      <td>2</td>\n",
       "      <td>-0.996922</td>\n",
       "      <td>2.586998</td>\n",
       "    </tr>\n",
       "    <tr>\n",
       "      <th>3</th>\n",
       "      <td>3</td>\n",
       "      <td>-0.885246</td>\n",
       "      <td>1.115309</td>\n",
       "    </tr>\n",
       "    <tr>\n",
       "      <th>4</th>\n",
       "      <td>4</td>\n",
       "      <td>-1.110380</td>\n",
       "      <td>7.036270</td>\n",
       "    </tr>\n",
       "  </tbody>\n",
       "</table>\n",
       "</div>"
      ],
      "text/plain": [
       "   TOD        r2      rmse\n",
       "0    0 -0.960868  0.899741\n",
       "1    1 -0.917061  1.048679\n",
       "2    2 -0.996922  2.586998\n",
       "3    3 -0.885246  1.115309\n",
       "4    4 -1.110380  7.036270"
      ]
     },
     "execution_count": 19,
     "metadata": {},
     "output_type": "execute_result"
    }
   ],
   "source": [
    "# validation\n",
    "results = (\n",
    "trips.sort_values(by=\"TOD\")\n",
    "    .assign(HW_trip_ET_sim=trips_sim.sort_values(by=\"TOD\").loc[:, \"HW_trip_ET\"].values)\n",
    "    .loc[:, [\"TOD\", \"HW_trip_ET\", \"HW_trip_ET_sim\"]]\n",
    ")    \n",
    "\n",
    "results.groupby('TOD').apply( r2_rmse, \n",
    "                            obs_col = \"HW_trip_ET\", \n",
    "                            sim_col = \"HW_trip_ET_sim\" ).reset_index()"
   ]
  },
  {
   "cell_type": "code",
   "execution_count": 20,
   "metadata": {},
   "outputs": [
    {
     "data": {
      "text/plain": [
       "<matplotlib.axes._subplots.AxesSubplot at 0x7f86f03df588>"
      ]
     },
     "execution_count": 20,
     "metadata": {},
     "output_type": "execute_result"
    },
    {
     "data": {
      "image/png": "[encoded data removed]",
      "text/plain": [
       "<Figure size 432x288 with 1 Axes>"
      ]
     },
     "metadata": {
      "needs_background": "light"
     },
     "output_type": "display_data"
    }
   ],
   "source": [
    "colors = {0:'violet', 1:'blue', \n",
    "          2:'orange', 3:'yellow',\n",
    "          4:'grey', 5: 'black'\n",
    "         }\n",
    "\n",
    "results.plot.scatter(x='HW_trip_ET',\n",
    "                     y='HW_trip_ET_sim',\n",
    "                     c=results.TOD.apply(lambda x: colors[x]))"
   ]
  },
  {
   "cell_type": "markdown",
   "metadata": {},
   "source": [
    "### work_dwell"
   ]
  },
  {
   "cell_type": "code",
   "execution_count": 21,
   "metadata": {},
   "outputs": [],
   "source": [
    "n_by_WD = (trips.groupby(\"dwell_work\")\n",
    "  .size()\n",
    "  .reset_index(name='ntrips')\n",
    ")\n",
    "\n",
    "#n_by_DT.columns, DT_kde.columns\n",
    "  \n",
    "trips_sim = simulate_from_kde(n_by_WD, WD_kde, group_name=\"dwell_work\", x_name=\"work_dwell\")\n"
   ]
  },
  {
   "cell_type": "code",
   "execution_count": 22,
   "metadata": {},
   "outputs": [],
   "source": [
    "assert np.alltrue( \n",
    "    n_by_WD == (trips_sim.groupby(\"dwell_work\")\n",
    "                 .size()\n",
    "                 .reset_index(name='ntrips')\n",
    "                )\n",
    ")\n",
    "#trips_sim.columns, bounds.columns"
   ]
  },
  {
   "cell_type": "code",
   "execution_count": 23,
   "metadata": {},
   "outputs": [
    {
     "data": {
      "text/html": [
       "<div>\n",
       "<style scoped>\n",
       "    .dataframe tbody tr th:only-of-type {\n",
       "        vertical-align: middle;\n",
       "    }\n",
       "\n",
       "    .dataframe tbody tr th {\n",
       "        vertical-align: top;\n",
       "    }\n",
       "\n",
       "    .dataframe thead th {\n",
       "        text-align: right;\n",
       "    }\n",
       "</style>\n",
       "<table border=\"1\" class=\"dataframe\">\n",
       "  <thead>\n",
       "    <tr style=\"text-align: right;\">\n",
       "      <th></th>\n",
       "      <th>dwell_work</th>\n",
       "      <th>work_dwell</th>\n",
       "      <th>lower_bound</th>\n",
       "      <th>upper_bound</th>\n",
       "    </tr>\n",
       "  </thead>\n",
       "  <tbody>\n",
       "  </tbody>\n",
       "</table>\n",
       "</div>"
      ],
      "text/plain": [
       "Empty DataFrame\n",
       "Columns: [dwell_work, work_dwell, lower_bound, upper_bound]\n",
       "Index: []"
      ]
     },
     "execution_count": 23,
     "metadata": {},
     "output_type": "execute_result"
    }
   ],
   "source": [
    "# check for samples out of bounds; should be empty\n",
    "(\n",
    "trips_sim.join(WD_bounds, on=\"dwell_work\")\n",
    "    .query('(work_dwell < lower_bound) or ' +\n",
    "                '(work_dwell > upper_bound)')\n",
    ")"
   ]
  },
  {
   "cell_type": "code",
   "execution_count": 24,
   "metadata": {},
   "outputs": [
    {
     "data": {
      "text/html": [
       "<div>\n",
       "<style scoped>\n",
       "    .dataframe tbody tr th:only-of-type {\n",
       "        vertical-align: middle;\n",
       "    }\n",
       "\n",
       "    .dataframe tbody tr th {\n",
       "        vertical-align: top;\n",
       "    }\n",
       "\n",
       "    .dataframe thead th {\n",
       "        text-align: right;\n",
       "    }\n",
       "</style>\n",
       "<table border=\"1\" class=\"dataframe\">\n",
       "  <thead>\n",
       "    <tr style=\"text-align: right;\">\n",
       "      <th></th>\n",
       "      <th>dwell_work</th>\n",
       "      <th>r2</th>\n",
       "      <th>rmse</th>\n",
       "    </tr>\n",
       "  </thead>\n",
       "  <tbody>\n",
       "    <tr>\n",
       "      <th>0</th>\n",
       "      <td>1</td>\n",
       "      <td>-0.881327</td>\n",
       "      <td>1.749826</td>\n",
       "    </tr>\n",
       "    <tr>\n",
       "      <th>1</th>\n",
       "      <td>2</td>\n",
       "      <td>-0.882640</td>\n",
       "      <td>1.297616</td>\n",
       "    </tr>\n",
       "    <tr>\n",
       "      <th>2</th>\n",
       "      <td>3</td>\n",
       "      <td>-0.899674</td>\n",
       "      <td>0.448137</td>\n",
       "    </tr>\n",
       "    <tr>\n",
       "      <th>3</th>\n",
       "      <td>4</td>\n",
       "      <td>-0.889545</td>\n",
       "      <td>0.567301</td>\n",
       "    </tr>\n",
       "    <tr>\n",
       "      <th>4</th>\n",
       "      <td>5</td>\n",
       "      <td>-0.972475</td>\n",
       "      <td>1.767274</td>\n",
       "    </tr>\n",
       "  </tbody>\n",
       "</table>\n",
       "</div>"
      ],
      "text/plain": [
       "   dwell_work        r2      rmse\n",
       "0           1 -0.881327  1.749826\n",
       "1           2 -0.882640  1.297616\n",
       "2           3 -0.899674  0.448137\n",
       "3           4 -0.889545  0.567301\n",
       "4           5 -0.972475  1.767274"
      ]
     },
     "execution_count": 24,
     "metadata": {},
     "output_type": "execute_result"
    }
   ],
   "source": [
    "# validation\n",
    "results = (\n",
    "trips.sort_values(by=\"dwell_work\")\n",
    "    .assign(work_dwell_sim=trips_sim.sort_values(by=\"dwell_work\").loc[:, \"work_dwell\"].values)\n",
    "    .loc[:, [\"dwell_work\", \"work_dwell\", \"work_dwell_sim\"]]\n",
    ")    \n",
    "\n",
    "results.groupby('dwell_work').apply( r2_rmse, \n",
    "                                    obs_col = \"work_dwell\", \n",
    "                                    sim_col = \"work_dwell_sim\" ).reset_index()"
   ]
  },
  {
   "cell_type": "code",
   "execution_count": 25,
   "metadata": {},
   "outputs": [
    {
     "data": {
      "text/plain": [
       "<matplotlib.axes._subplots.AxesSubplot at 0x7f86f03bb940>"
      ]
     },
     "execution_count": 25,
     "metadata": {},
     "output_type": "execute_result"
    },
    {
     "data": {
      "image/png": "[encoded data removed]",
      "text/plain": [
       "<Figure size 432x288 with 1 Axes>"
      ]
     },
     "metadata": {
      "needs_background": "light"
     },
     "output_type": "display_data"
    }
   ],
   "source": [
    "colors = {0:'violet', 1:'blue', \n",
    "          2:'orange', 3:'yellow',\n",
    "          4:'grey', 5: 'black'\n",
    "         }\n",
    "\n",
    "results.plot.scatter(x='work_dwell',\n",
    "                     y='work_dwell_sim',\n",
    "                     c=results.dwell_work.apply(lambda x: colors[x]))"
   ]
  }
 ],
 "metadata": {
  "kernelspec": {
   "display_name": "Python 3",
   "language": "python",
   "name": "python3"
  },
  "language_info": {
   "codemirror_mode": {
    "name": "ipython",
    "version": 3
   },
   "file_extension": ".py",
   "mimetype": "text/x-python",
   "name": "python",
   "nbconvert_exporter": "python",
   "pygments_lexer": "ipython3",
   "version": "3.6.8"
  }
 },
 "nbformat": 4,
 "nbformat_minor": 2
}
