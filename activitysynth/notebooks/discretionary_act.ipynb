{
 "cells": [
  {
   "cell_type": "code",
   "execution_count": 1,
   "metadata": {},
   "outputs": [],
   "source": [
    "import numpy as np\n",
    "import pandas as pd\n",
    "import orca\n",
    "import os; os.chdir('../'); os.getcwd()\n",
    "import warnings; warnings.simplefilter('ignore')\n",
    "\n",
    "# Set data directory\n",
    "\n",
    "d = '/home/data/fall_2018/'\n",
    "\n",
    "if 'data_directory' in orca.list_injectables():\n",
    "    d = orca.get_injectable('data_directory')\n",
    "    "
   ]
  },
  {
   "cell_type": "code",
   "execution_count": 2,
   "metadata": {},
   "outputs": [],
   "source": [
    "@orca.table(\"activity_freq\")\n",
    "def activity_freq():\n",
    "    nact_df = pd.read_csv(\"data/hhper_purp_nact.csv\", \n",
    "                        dtype={'HHPER': 'S',\n",
    "                               'nact': 'i'})\n",
    "    # A tibble: 20 x 2\n",
    "    #    nact      n\n",
    "    #   <int>  <int>\n",
    "    # 1     0 263942\n",
    "    # 2     1  38581\n",
    "    # 3     2  18125\n",
    "    # 4     3   7868\n",
    "    # 5     4   3680\n",
    "    # 6     5   1584\n",
    "    # 7     6    803\n",
    "    # 8     7    314\n",
    "    # 9     8    151\n",
    "    #10     9     84\n",
    "    #11    10     40\n",
    "    #12    11     20\n",
    "    #13    12      6\n",
    "    #14    13      4\n",
    "    #15    14      4\n",
    "    #16    15      5\n",
    "    #17    16      2\n",
    "    #18    17      1\n",
    "    #19    18      1\n",
    "    #20    21      1\n",
    "    \n",
    "    # truncate nact>5 to 5\n",
    "    nact_df = (nact_df\n",
    "           .assign(nact = lambda x: np.where(x[\"nact\"]>5, 5, x[\"nact\"]))\n",
    "          )\n",
    "    return nact_df\n",
    "\n",
    "@orca.table(\"activities\")\n",
    "def activities():\n",
    "    act_df = pd.read_csv(\"data/activities.csv\", \n",
    "                        dtype={'HHPER': 'S'})\n",
    "    act_df = (act_df\n",
    "              .loc[:, [\"HHPER\", \"purp\", \"age\", \"sex\", \"income\", \"edu\", \n",
    "                       \"worker\", \"student\", \"persons\", \"nchildren\", \n",
    "                       \"n65plus\",\"start_mins\", \"act_duration\"]]\n",
    "              .dropna()\n",
    "              .assign(female=lambda x: np.where(x[\"sex\"]==2, 1, 0))\n",
    "             )\n",
    "\n",
    "    return act_df\n"
   ]
  },
  {
   "cell_type": "markdown",
   "metadata": {},
   "source": [
    "# MNL models of activity frequency by Purpose"
   ]
  },
  {
   "cell_type": "code",
   "execution_count": 3,
   "metadata": {},
   "outputs": [
    {
     "name": "stdout",
     "output_type": "stream",
     "text": [
      "Registering model step 'auto_ownership'\n",
      "Registering model step 'WLCM_gen_tt'\n",
      "Registering model step 'TOD_choice'\n",
      "Registering model step 'primary_mode_choice'\n",
      "Registering model step 'WLCM'\n",
      "Log-likelihood at zero: 0.0000\n",
      "Initial Log-likelihood: 0.0000\n",
      "Estimation Time for Point Estimation: 0.18 seconds.\n",
      "Final log-likelihood: 0.0000\n",
      "                     Multinomial Logit Model Regression Results                    \n",
      "===================================================================================\n",
      "Dep. Variable:                     _chosen   No. Observations:               23,944\n",
      "Model:             Multinomial Logit Model   Df Residuals:                   23,943\n",
      "Method:                                MLE   Df Model:                            1\n",
      "Date:                     Fri, 27 Sep 2019   Pseudo R-squ.:                     nan\n",
      "Time:                             11:45:42   Pseudo R-bar-squ.:                 inf\n",
      "AIC:                                 2.000   Log-Likelihood:                  0.000\n",
      "BIC:                                10.083   LL-Null:                         0.000\n",
      "===============================================================================\n",
      "                  coef    std err          z      P>|z|      [0.025      0.975]\n",
      "-------------------------------------------------------------------------------\n",
      "intercept_1          0  6.46e+147          0      1.000  -1.27e+148   1.27e+148\n",
      "===============================================================================\n"
     ]
    }
   ],
   "source": [
    "from urbansim_templates import modelmanager\n",
    "from urbansim_templates.models import SmallMultinomialLogitStep, \\\n",
    "     LargeMultinomialLogitStep, SegmentedLargeMultinomialLogitStep\n",
    "\n",
    "from collections import OrderedDict\n",
    "\n",
    "modelmanager.initialize()\n",
    "\n",
    "#nact_df = orca.get_table(\"activity_freq\").to_frame()\n",
    "\n",
    "#nact_df_shp = nact_df.query(\"purp=='Shopping'\")\n",
    "\n",
    "m0_shp = SmallMultinomialLogitStep(\n",
    "    tables=[\"activity_freq\"],\n",
    "    #tables=[\"persons_tod\"],\n",
    "    choice_column = \"nact\",\n",
    "    filters = \"purp=='Shopping'\",\n",
    "    name = \"shopping_activity_freq_choice_model\",\n",
    ")\n",
    "#m0.model_expression = (\"HW_EA\")  #not working\n",
    "m0_shp.model_expression = OrderedDict([\n",
    "    ('intercept', [1, ]),\n",
    "    #('sex', [1, 2, 3, 4, 5])\n",
    "    ] )\n",
    "    \n",
    "m0_shp.fit()"
   ]
  },
  {
   "cell_type": "markdown",
   "metadata": {},
   "source": [
    "# Regression models of activity start time "
   ]
  },
  {
   "cell_type": "code",
   "execution_count": 35,
   "metadata": {
    "scrolled": true
   },
   "outputs": [
    {
     "name": "stdout",
     "output_type": "stream",
     "text": [
      "                            OLS Regression Results                            \n",
      "==============================================================================\n",
      "Dep. Variable:     np.log(start_mins)   R-squared:                       0.004\n",
      "Model:                            OLS   Adj. R-squared:                  0.003\n",
      "Method:                 Least Squares   F-statistic:                     4.515\n",
      "Date:                Fri, 27 Sep 2019   Prob (F-statistic):            0.00122\n",
      "Time:                        13:01:09   Log-Likelihood:                -1155.7\n",
      "No. Observations:                4737   AIC:                             2321.\n",
      "Df Residuals:                    4732   BIC:                             2354.\n",
      "Df Model:                           4                                         \n",
      "Covariance Type:            nonrobust                                         \n",
      "==============================================================================\n",
      "                 coef    std err          t      P>|t|      [0.025      0.975]\n",
      "------------------------------------------------------------------------------\n",
      "Intercept      6.7315      0.009    709.370      0.000       6.713       6.750\n",
      "age         4.464e-05   2.91e-05      1.533      0.125   -1.24e-05       0.000\n",
      "worker        -0.0180      0.010     -1.760      0.078      -0.038       0.002\n",
      "student        0.0393      0.015      2.652      0.008       0.010       0.068\n",
      "n65plus       -0.0213      0.008     -2.844      0.004      -0.036      -0.007\n",
      "==============================================================================\n",
      "Omnibus:                     1622.434   Durbin-Watson:                   1.864\n",
      "Prob(Omnibus):                  0.000   Jarque-Bera (JB):            11444.174\n",
      "Skew:                          -1.452   Prob(JB):                         0.00\n",
      "Kurtosis:                      10.039   Cond. No.                         687.\n",
      "==============================================================================\n",
      "\n",
      "Warnings:\n",
      "[1] Standard Errors assume that the covariance matrix of the errors is correctly specified.\n"
     ]
    }
   ],
   "source": [
    "from urbansim_templates.models import OLSRegressionStep\n",
    "\n",
    "m_eatout = OLSRegressionStep(\n",
    "    tables=[\"activities\"],\n",
    "    filters=\"purp=='EatOut'\"\n",
    ")\n",
    "m_eatout.model_expression = 'np.log1p(start_mins) ~ age + worker + student + n65plus'\n",
    "m_eatout.fit()"
   ]
  },
  {
   "cell_type": "code",
   "execution_count": 21,
   "metadata": {},
   "outputs": [
    {
     "name": "stdout",
     "output_type": "stream",
     "text": [
      "                             OLS Regression Results                             \n",
      "================================================================================\n",
      "Dep. Variable:     np.log1p(start_mins)   R-squared:                       0.002\n",
      "Model:                              OLS   Adj. R-squared:                  0.002\n",
      "Method:                   Least Squares   F-statistic:                     9.760\n",
      "Date:                  Fri, 27 Sep 2019   Prob (F-statistic):            0.00179\n",
      "Time:                          11:54:16   Log-Likelihood:                -3015.6\n",
      "No. Observations:                  5576   AIC:                             6035.\n",
      "Df Residuals:                      5574   BIC:                             6049.\n",
      "Df Model:                             1                                         \n",
      "Covariance Type:              nonrobust                                         \n",
      "==============================================================================\n",
      "                 coef    std err          t      P>|t|      [0.025      0.975]\n",
      "------------------------------------------------------------------------------\n",
      "Intercept      6.6327      0.009    751.353      0.000       6.615       6.650\n",
      "nchildren     -0.0157      0.005     -3.124      0.002      -0.026      -0.006\n",
      "==============================================================================\n",
      "Omnibus:                     3732.304   Durbin-Watson:                   1.879\n",
      "Prob(Omnibus):                  0.000   Jarque-Bera (JB):           167508.992\n",
      "Skew:                          -2.622   Prob(JB):                         0.00\n",
      "Kurtosis:                      29.334   Cond. No.                         3.39\n",
      "==============================================================================\n",
      "\n",
      "Warnings:\n",
      "[1] Standard Errors assume that the covariance matrix of the errors is correctly specified.\n"
     ]
    }
   ],
   "source": [
    "m_escort = OLSRegressionStep(\n",
    "    tables=[\"activities\"],\n",
    "    filters=\"purp=='Escort'\"\n",
    ")\n",
    "m_escort.model_expression = 'np.log1p(start_mins) ~ nchildren'\n",
    "m_escort.fit()"
   ]
  },
  {
   "cell_type": "code",
   "execution_count": 27,
   "metadata": {},
   "outputs": [
    {
     "name": "stdout",
     "output_type": "stream",
     "text": [
      "                             OLS Regression Results                             \n",
      "================================================================================\n",
      "Dep. Variable:     np.log1p(start_mins)   R-squared:                       0.007\n",
      "Model:                              OLS   Adj. R-squared:                  0.005\n",
      "Method:                   Least Squares   F-statistic:                     3.203\n",
      "Date:                  Fri, 27 Sep 2019   Prob (F-statistic):           0.000408\n",
      "Time:                          11:56:48   Log-Likelihood:                -2337.8\n",
      "No. Observations:                  4847   AIC:                             4698.\n",
      "Df Residuals:                      4836   BIC:                             4769.\n",
      "Df Model:                            10                                         \n",
      "Covariance Type:              nonrobust                                         \n",
      "=======================================================================================\n",
      "                          coef    std err          t      P>|t|      [0.025      0.975]\n",
      "---------------------------------------------------------------------------------------\n",
      "Intercept               6.6952      0.024    274.811      0.000       6.647       6.743\n",
      "income[T.$100-150k]    -0.0576      0.027     -2.126      0.034      -0.111      -0.004\n",
      "income[T.$150-200k]    -0.0590      0.030     -1.997      0.046      -0.117      -0.001\n",
      "income[T.$200-250k]    -0.0439      0.034     -1.289      0.198      -0.111       0.023\n",
      "income[T.$25-35k]      -0.1139      0.034     -3.335      0.001      -0.181      -0.047\n",
      "income[T.$250k+]       -0.0528      0.032     -1.661      0.097      -0.115       0.010\n",
      "income[T.$35-50k]      -0.0600      0.030     -1.992      0.046      -0.119      -0.001\n",
      "income[T.$50-75k]      -0.0359      0.028     -1.270      0.204      -0.091       0.020\n",
      "income[T.$75-100k]     -0.0595      0.028     -2.129      0.033      -0.114      -0.005\n",
      "income[T.<$10k]        -0.1942      0.045     -4.316      0.000      -0.282      -0.106\n",
      "n65plus                -0.0193      0.008     -2.370      0.018      -0.035      -0.003\n",
      "==============================================================================\n",
      "Omnibus:                     4299.740   Durbin-Watson:                   1.668\n",
      "Prob(Omnibus):                  0.000   Jarque-Bera (JB):           312912.048\n",
      "Skew:                          -3.910   Prob(JB):                         0.00\n",
      "Kurtosis:                      41.578   Cond. No.                         16.8\n",
      "==============================================================================\n",
      "\n",
      "Warnings:\n",
      "[1] Standard Errors assume that the covariance matrix of the errors is correctly specified.\n"
     ]
    }
   ],
   "source": [
    "m_personalbus = OLSRegressionStep(\n",
    "    tables=[\"activities\"],\n",
    "    filters=\"purp=='PersonalBus'\"\n",
    ")\n",
    "m_personalbus.model_expression = 'np.log1p(start_mins) ~ income + n65plus'\n",
    "m_personalbus.fit()"
   ]
  },
  {
   "cell_type": "code",
   "execution_count": 31,
   "metadata": {},
   "outputs": [
    {
     "name": "stdout",
     "output_type": "stream",
     "text": [
      "                             OLS Regression Results                             \n",
      "================================================================================\n",
      "Dep. Variable:     np.log1p(start_mins)   R-squared:                       0.006\n",
      "Model:                              OLS   Adj. R-squared:                  0.006\n",
      "Method:                   Least Squares   F-statistic:                     13.57\n",
      "Date:                  Fri, 27 Sep 2019   Prob (F-statistic):           7.95e-09\n",
      "Time:                          12:58:33   Log-Likelihood:                -3827.4\n",
      "No. Observations:                  6513   AIC:                             7663.\n",
      "Df Residuals:                      6509   BIC:                             7690.\n",
      "Df Model:                             3                                         \n",
      "Covariance Type:              nonrobust                                         \n",
      "==============================================================================\n",
      "                 coef    std err          t      P>|t|      [0.025      0.975]\n",
      "------------------------------------------------------------------------------\n",
      "Intercept      6.5620      0.010    630.438      0.000       6.542       6.582\n",
      "worker         0.0417      0.012      3.615      0.000       0.019       0.064\n",
      "student        0.0414      0.018      2.261      0.024       0.006       0.077\n",
      "n65plus       -0.0302      0.008     -3.866      0.000      -0.045      -0.015\n",
      "==============================================================================\n",
      "Omnibus:                     3389.318   Durbin-Watson:                   1.753\n",
      "Prob(Omnibus):                  0.000   Jarque-Bera (JB):            61578.983\n",
      "Skew:                          -2.072   Prob(JB):                         0.00\n",
      "Kurtosis:                      17.482   Cond. No.                         4.58\n",
      "==============================================================================\n",
      "\n",
      "Warnings:\n",
      "[1] Standard Errors assume that the covariance matrix of the errors is correctly specified.\n"
     ]
    }
   ],
   "source": [
    "m_rec = OLSRegressionStep(\n",
    "    tables=[\"activities\"],\n",
    "    filters=\"purp=='Recreation'\"\n",
    ")\n",
    "m_rec.model_expression = 'np.log1p(start_mins) ~ worker + student + n65plus'\n",
    "m_rec.fit()"
   ]
  },
  {
   "cell_type": "code",
   "execution_count": 38,
   "metadata": {},
   "outputs": [
    {
     "name": "stdout",
     "output_type": "stream",
     "text": [
      "                             OLS Regression Results                             \n",
      "================================================================================\n",
      "Dep. Variable:     np.log1p(start_mins)   R-squared:                       0.007\n",
      "Model:                              OLS   Adj. R-squared:                  0.006\n",
      "Method:                   Least Squares   F-statistic:                     11.97\n",
      "Date:                  Fri, 27 Sep 2019   Prob (F-statistic):           8.34e-08\n",
      "Time:                          13:02:20   Log-Likelihood:                -4291.9\n",
      "No. Observations:                  5372   AIC:                             8592.\n",
      "Df Residuals:                      5368   BIC:                             8618.\n",
      "Df Model:                             3                                         \n",
      "Covariance Type:              nonrobust                                         \n",
      "==============================================================================\n",
      "                 coef    std err          t      P>|t|      [0.025      0.975]\n",
      "------------------------------------------------------------------------------\n",
      "Intercept      6.6221      0.013    504.746      0.000       6.596       6.648\n",
      "age            0.0001   4.87e-05      2.848      0.004    4.32e-05       0.000\n",
      "worker         0.0374      0.015      2.430      0.015       0.007       0.068\n",
      "n65plus       -0.0519      0.011     -4.676      0.000      -0.074      -0.030\n",
      "==============================================================================\n",
      "Omnibus:                     3311.808   Durbin-Watson:                   1.627\n",
      "Prob(Omnibus):                  0.000   Jarque-Bera (JB):            56344.880\n",
      "Skew:                          -2.649   Prob(JB):                         0.00\n",
      "Kurtosis:                      17.955   Cond. No.                         502.\n",
      "==============================================================================\n",
      "\n",
      "Warnings:\n",
      "[1] Standard Errors assume that the covariance matrix of the errors is correctly specified.\n"
     ]
    }
   ],
   "source": [
    "m_soc = OLSRegressionStep(\n",
    "    tables=[\"activities\"],\n",
    "    filters=\"purp=='SocialRec'\"\n",
    ")\n",
    "m_soc.model_expression = 'np.log1p(start_mins) ~ age + worker + n65plus'\n",
    "m_soc.fit()"
   ]
  },
  {
   "cell_type": "code",
   "execution_count": 39,
   "metadata": {
    "scrolled": true
   },
   "outputs": [
    {
     "name": "stdout",
     "output_type": "stream",
     "text": [
      "                            OLS Regression Results                            \n",
      "==============================================================================\n",
      "Dep. Variable:     np.log(start_mins)   R-squared:                       0.017\n",
      "Model:                            OLS   Adj. R-squared:                  0.015\n",
      "Method:                 Least Squares   F-statistic:                     9.585\n",
      "Date:                Fri, 27 Sep 2019   Prob (F-statistic):           3.81e-20\n",
      "Time:                        13:02:39   Log-Likelihood:                -158.43\n",
      "No. Observations:                7351   AIC:                             344.9\n",
      "Df Residuals:                    7337   BIC:                             441.5\n",
      "Df Model:                          13                                         \n",
      "Covariance Type:            nonrobust                                         \n",
      "=======================================================================================\n",
      "                          coef    std err          t      P>|t|      [0.025      0.975]\n",
      "---------------------------------------------------------------------------------------\n",
      "Intercept               6.7093      0.014    492.567      0.000       6.683       6.736\n",
      "income[T.$100-150k]     0.0051      0.015      0.353      0.724      -0.023       0.034\n",
      "income[T.$150-200k]    -0.0157      0.016     -1.002      0.316      -0.046       0.015\n",
      "income[T.$200-250k]     0.0011      0.019      0.060      0.952      -0.035       0.037\n",
      "income[T.$25-35k]      -0.0298      0.018     -1.657      0.097      -0.065       0.005\n",
      "income[T.$250k+]       -0.0106      0.017     -0.617      0.538      -0.044       0.023\n",
      "income[T.$35-50k]      -0.0344      0.017     -2.070      0.039      -0.067      -0.002\n",
      "income[T.$50-75k]      -0.0227      0.015     -1.515      0.130      -0.052       0.007\n",
      "income[T.$75-100k]      0.0019      0.015      0.124      0.901      -0.028       0.032\n",
      "income[T.<$10k]        -0.0404      0.025     -1.632      0.103      -0.089       0.008\n",
      "age                  5.325e-05   1.99e-05      2.674      0.008    1.42e-05    9.23e-05\n",
      "worker                  0.0487      0.006      7.792      0.000       0.036       0.061\n",
      "student                 0.0262      0.011      2.483      0.013       0.006       0.047\n",
      "n65plus                -0.0095      0.004     -2.122      0.034      -0.018      -0.001\n",
      "==============================================================================\n",
      "Omnibus:                     2041.952   Durbin-Watson:                   1.623\n",
      "Prob(Omnibus):                  0.000   Jarque-Bera (JB):            13481.052\n",
      "Skew:                          -1.164   Prob(JB):                         0.00\n",
      "Kurtosis:                       9.212   Cond. No.                     2.70e+03\n",
      "==============================================================================\n",
      "\n",
      "Warnings:\n",
      "[1] Standard Errors assume that the covariance matrix of the errors is correctly specified.\n",
      "[2] The condition number is large, 2.7e+03. This might indicate that there are\n",
      "strong multicollinearity or other numerical problems.\n"
     ]
    }
   ],
   "source": [
    "m_shp = OLSRegressionStep(\n",
    "    tables=[\"activities\"],\n",
    "    filters=\"purp=='Shopping'\"\n",
    ")\n",
    "m_shp.model_expression = 'np.log1p(start_mins) ~ age + worker + income + student + n65plus'\n",
    "m_shp.fit()"
   ]
  },
  {
   "cell_type": "markdown",
   "metadata": {},
   "source": [
    "# Regression models of activity duration"
   ]
  },
  {
   "cell_type": "code",
   "execution_count": 87,
   "metadata": {},
   "outputs": [
    {
     "name": "stdout",
     "output_type": "stream",
     "text": [
      "                            OLS Regression Results                            \n",
      "==============================================================================\n",
      "Dep. Variable:     np.log(start_mins)   R-squared:                       0.003\n",
      "Model:                            OLS   Adj. R-squared:                  0.002\n",
      "Method:                 Least Squares   F-statistic:                     6.589\n",
      "Date:                Fri, 27 Sep 2019   Prob (F-statistic):            0.00139\n",
      "Time:                        13:16:57   Log-Likelihood:                -1158.2\n",
      "No. Observations:                4737   AIC:                             2322.\n",
      "Df Residuals:                    4734   BIC:                             2342.\n",
      "Df Model:                           2                                         \n",
      "Covariance Type:            nonrobust                                         \n",
      "==============================================================================\n",
      "                 coef    std err          t      P>|t|      [0.025      0.975]\n",
      "------------------------------------------------------------------------------\n",
      "Intercept      6.7196      0.005   1262.306      0.000       6.709       6.730\n",
      "student        0.0428      0.015      2.937      0.003       0.014       0.071\n",
      "n65plus       -0.0131      0.006     -2.045      0.041      -0.026      -0.001\n",
      "==============================================================================\n",
      "Omnibus:                     1622.333   Durbin-Watson:                   1.865\n",
      "Prob(Omnibus):                  0.000   Jarque-Bera (JB):            11339.912\n",
      "Skew:                          -1.455   Prob(JB):                         0.00\n",
      "Kurtosis:                       9.999   Cond. No.                         3.63\n",
      "==============================================================================\n",
      "\n",
      "Warnings:\n",
      "[1] Standard Errors assume that the covariance matrix of the errors is correctly specified.\n"
     ]
    }
   ],
   "source": [
    "m_eatout = OLSRegressionStep(\n",
    "    tables=[\"activities\"],\n",
    "    filters=\"purp=='EatOut'\"\n",
    ")\n",
    "m_eatout.model_expression = 'np.log(start_mins) ~ student + n65plus'\n",
    "m_eatout.fit()"
   ]
  },
  {
   "cell_type": "code",
   "execution_count": 78,
   "metadata": {},
   "outputs": [
    {
     "name": "stdout",
     "output_type": "stream",
     "text": [
      "                             OLS Regression Results                             \n",
      "================================================================================\n",
      "Dep. Variable:     np.log1p(start_mins)   R-squared:                       0.003\n",
      "Model:                              OLS   Adj. R-squared:                  0.003\n",
      "Method:                   Least Squares   F-statistic:                     8.278\n",
      "Date:                  Fri, 27 Sep 2019   Prob (F-statistic):           0.000257\n",
      "Time:                          13:15:21   Log-Likelihood:                -3012.2\n",
      "No. Observations:                  5576   AIC:                             6030.\n",
      "Df Residuals:                      5573   BIC:                             6050.\n",
      "Df Model:                             2                                         \n",
      "Covariance Type:              nonrobust                                         \n",
      "==============================================================================\n",
      "                 coef    std err          t      P>|t|      [0.025      0.975]\n",
      "------------------------------------------------------------------------------\n",
      "Intercept      6.6437      0.010    678.978      0.000       6.625       6.663\n",
      "n65plus       -0.0224      0.009     -2.605      0.009      -0.039      -0.006\n",
      "nchildren     -0.0196      0.005     -3.740      0.000      -0.030      -0.009\n",
      "==============================================================================\n",
      "Omnibus:                     3738.885   Durbin-Watson:                   1.881\n",
      "Prob(Omnibus):                  0.000   Jarque-Bera (JB):           168566.973\n",
      "Skew:                          -2.628   Prob(JB):                         0.00\n",
      "Kurtosis:                      29.418   Cond. No.                         4.10\n",
      "==============================================================================\n",
      "\n",
      "Warnings:\n",
      "[1] Standard Errors assume that the covariance matrix of the errors is correctly specified.\n"
     ]
    }
   ],
   "source": [
    "m_escort = OLSRegressionStep(\n",
    "    tables=[\"activities\"],\n",
    "    filters=\"purp=='Escort'\"\n",
    ")\n",
    "m_escort.model_expression = 'np.log1p(start_mins) ~ n65plus + nchildren'\n",
    "m_escort.fit()"
   ]
  },
  {
   "cell_type": "code",
   "execution_count": 69,
   "metadata": {},
   "outputs": [
    {
     "name": "stdout",
     "output_type": "stream",
     "text": [
      "                              OLS Regression Results                              \n",
      "==================================================================================\n",
      "Dep. Variable:     np.log1p(act_duration)   R-squared:                       0.018\n",
      "Model:                                OLS   Adj. R-squared:                  0.015\n",
      "Method:                     Least Squares   F-statistic:                     5.609\n",
      "Date:                    Fri, 27 Sep 2019   Prob (F-statistic):           3.75e-12\n",
      "Time:                            13:13:07   Log-Likelihood:                -8487.6\n",
      "No. Observations:                    4847   AIC:                         1.701e+04\n",
      "Df Residuals:                        4830   BIC:                         1.712e+04\n",
      "Df Model:                              16                                         \n",
      "Covariance Type:                nonrobust                                         \n",
      "========================================================================================\n",
      "                           coef    std err          t      P>|t|      [0.025      0.975]\n",
      "----------------------------------------------------------------------------------------\n",
      "Intercept                2.7153      0.108     25.056      0.000       2.503       2.928\n",
      "edu[T.Graduate]         -0.0033      0.080     -0.041      0.967      -0.159       0.153\n",
      "edu[T.HS]                0.0983      0.093      1.052      0.293      -0.085       0.281\n",
      "edu[T.Some College]      0.0951      0.088      1.087      0.277      -0.076       0.267\n",
      "edu[T.Undergraduate]    -0.0302      0.077     -0.390      0.697      -0.182       0.122\n",
      "edu[T.less than HS]      0.4364      0.116      3.778      0.000       0.210       0.663\n",
      "income[T.$100-150k]     -0.0612      0.098     -0.622      0.534      -0.254       0.132\n",
      "income[T.$150-200k]      0.1764      0.108      1.636      0.102      -0.035       0.388\n",
      "income[T.$200-250k]      0.0649      0.124      0.524      0.600      -0.178       0.307\n",
      "income[T.$25-35k]       -0.0502      0.122     -0.412      0.680      -0.289       0.188\n",
      "income[T.$250k+]         0.2614      0.117      2.241      0.025       0.033       0.490\n",
      "income[T.$35-50k]       -0.0387      0.108     -0.360      0.719      -0.249       0.172\n",
      "income[T.$50-75k]       -0.1333      0.102     -1.310      0.190      -0.333       0.066\n",
      "income[T.$75-100k]      -0.0668      0.101     -0.663      0.508      -0.264       0.131\n",
      "income[T.<$10k]          0.2807      0.160      1.751      0.080      -0.034       0.595\n",
      "n65plus                  0.1475      0.030      4.967      0.000       0.089       0.206\n",
      "nchildren                0.0604      0.023      2.595      0.009       0.015       0.106\n",
      "==============================================================================\n",
      "Omnibus:                      575.936   Durbin-Watson:                   1.603\n",
      "Prob(Omnibus):                  0.000   Jarque-Bera (JB):              804.673\n",
      "Skew:                           0.933   Prob(JB):                    1.85e-175\n",
      "Kurtosis:                       3.709   Cond. No.                         20.3\n",
      "==============================================================================\n",
      "\n",
      "Warnings:\n",
      "[1] Standard Errors assume that the covariance matrix of the errors is correctly specified.\n"
     ]
    }
   ],
   "source": [
    "m_personalbus = OLSRegressionStep(\n",
    "    tables=[\"activities\"],\n",
    "    filters=\"purp=='PersonalBus'\"\n",
    ")\n",
    "m_personalbus.model_expression = 'np.log1p(act_duration) ~ edu + income + n65plus + nchildren'\n",
    "m_personalbus.fit()"
   ]
  },
  {
   "cell_type": "code",
   "execution_count": 64,
   "metadata": {},
   "outputs": [
    {
     "name": "stdout",
     "output_type": "stream",
     "text": [
      "                              OLS Regression Results                              \n",
      "==================================================================================\n",
      "Dep. Variable:     np.log1p(act_duration)   R-squared:                       0.010\n",
      "Model:                                OLS   Adj. R-squared:                  0.009\n",
      "Method:                     Least Squares   F-statistic:                     6.802\n",
      "Date:                    Fri, 27 Sep 2019   Prob (F-statistic):           1.23e-10\n",
      "Time:                            13:11:00   Log-Likelihood:                -10551.\n",
      "No. Observations:                    6513   AIC:                         2.112e+04\n",
      "Df Residuals:                        6502   BIC:                         2.120e+04\n",
      "Df Model:                              10                                         \n",
      "Covariance Type:                nonrobust                                         \n",
      "========================================================================================\n",
      "                           coef    std err          t      P>|t|      [0.025      0.975]\n",
      "----------------------------------------------------------------------------------------\n",
      "Intercept                4.1119      0.061     67.256      0.000       3.992       4.232\n",
      "edu[T.Graduate]         -0.1237      0.062     -1.988      0.047      -0.246      -0.002\n",
      "edu[T.HS]               -0.0137      0.077     -0.178      0.859      -0.165       0.137\n",
      "edu[T.Other]             1.5846      0.615      2.578      0.010       0.380       2.789\n",
      "edu[T.Some College]     -0.0194      0.071     -0.272      0.785      -0.159       0.120\n",
      "edu[T.Undergraduate]    -0.0672      0.062     -1.080      0.280      -0.189       0.055\n",
      "edu[T.less than HS]      0.0283      0.095      0.298      0.766      -0.158       0.214\n",
      "female                  -0.0895      0.031     -2.933      0.003      -0.149      -0.030\n",
      "student                  0.1751      0.057      3.099      0.002       0.064       0.286\n",
      "n65plus                  0.0807      0.022      3.669      0.000       0.038       0.124\n",
      "nchildren                0.0612      0.017      3.584      0.000       0.028       0.095\n",
      "==============================================================================\n",
      "Omnibus:                      587.844   Durbin-Watson:                   1.611\n",
      "Prob(Omnibus):                  0.000   Jarque-Bera (JB):             1087.115\n",
      "Skew:                          -0.623   Prob(JB):                    8.63e-237\n",
      "Kurtosis:                       4.567   Cond. No.                         61.2\n",
      "==============================================================================\n",
      "\n",
      "Warnings:\n",
      "[1] Standard Errors assume that the covariance matrix of the errors is correctly specified.\n"
     ]
    }
   ],
   "source": [
    "m_rec = OLSRegressionStep(\n",
    "    tables=[\"activities\"],\n",
    "    filters=\"purp=='Recreation'\"\n",
    ")\n",
    "m_rec.model_expression = 'np.log1p(act_duration) ~  edu + female + student + n65plus + nchildren'\n",
    "m_rec.fit()"
   ]
  },
  {
   "cell_type": "code",
   "execution_count": 50,
   "metadata": {},
   "outputs": [
    {
     "name": "stdout",
     "output_type": "stream",
     "text": [
      "                              OLS Regression Results                              \n",
      "==================================================================================\n",
      "Dep. Variable:     np.log1p(act_duration)   R-squared:                       0.009\n",
      "Model:                                OLS   Adj. R-squared:                  0.006\n",
      "Method:                     Least Squares   F-statistic:                     3.889\n",
      "Date:                    Fri, 27 Sep 2019   Prob (F-statistic):           5.66e-06\n",
      "Time:                            13:07:37   Log-Likelihood:                -9146.5\n",
      "No. Observations:                    5372   AIC:                         1.832e+04\n",
      "Df Residuals:                        5359   BIC:                         1.840e+04\n",
      "Df Model:                              12                                         \n",
      "Covariance Type:                nonrobust                                         \n",
      "=======================================================================================\n",
      "                          coef    std err          t      P>|t|      [0.025      0.975]\n",
      "---------------------------------------------------------------------------------------\n",
      "Intercept               4.6191      0.088     52.264      0.000       4.446       4.792\n",
      "income[T.$100-150k]    -0.1175      0.091     -1.298      0.194      -0.295       0.060\n",
      "income[T.$150-200k]    -0.1770      0.098     -1.809      0.071      -0.369       0.015\n",
      "income[T.$200-250k]    -0.0055      0.115     -0.048      0.962      -0.231       0.220\n",
      "income[T.$25-35k]      -0.0279      0.116     -0.240      0.810      -0.255       0.200\n",
      "income[T.$250k+]       -0.0482      0.108     -0.447      0.655      -0.260       0.163\n",
      "income[T.$35-50k]      -0.2056      0.103     -1.995      0.046      -0.408      -0.004\n",
      "income[T.$50-75k]      -0.1957      0.093     -2.100      0.036      -0.378      -0.013\n",
      "income[T.$75-100k]     -0.2396      0.093     -2.567      0.010      -0.423      -0.057\n",
      "income[T.<$10k]        -0.3988      0.155     -2.574      0.010      -0.703      -0.095\n",
      "age                    -0.0002      0.000     -1.754      0.079      -0.000    2.48e-05\n",
      "persons                 0.0316      0.014      2.201      0.028       0.003       0.060\n",
      "n65plus                 0.1141      0.027      4.233      0.000       0.061       0.167\n",
      "==============================================================================\n",
      "Omnibus:                       38.667   Durbin-Watson:                   1.522\n",
      "Prob(Omnibus):                  0.000   Jarque-Bera (JB):               39.350\n",
      "Skew:                          -0.209   Prob(JB):                     2.85e-09\n",
      "Kurtosis:                       3.025   Cond. No.                     2.80e+03\n",
      "==============================================================================\n",
      "\n",
      "Warnings:\n",
      "[1] Standard Errors assume that the covariance matrix of the errors is correctly specified.\n",
      "[2] The condition number is large, 2.8e+03. This might indicate that there are\n",
      "strong multicollinearity or other numerical problems.\n"
     ]
    }
   ],
   "source": [
    "m_soc = OLSRegressionStep(\n",
    "    tables=[\"activities\"],\n",
    "    filters=\"purp=='SocialRec'\"\n",
    ")\n",
    "m_soc.model_expression = 'np.log1p(act_duration) ~ age + income + persons +  n65plus'\n",
    "m_soc.fit()"
   ]
  },
  {
   "cell_type": "code",
   "execution_count": 65,
   "metadata": {},
   "outputs": [
    {
     "name": "stdout",
     "output_type": "stream",
     "text": [
      "                              OLS Regression Results                              \n",
      "==================================================================================\n",
      "Dep. Variable:     np.log1p(act_duration)   R-squared:                       0.028\n",
      "Model:                                OLS   Adj. R-squared:                  0.027\n",
      "Method:                     Least Squares   F-statistic:                     23.27\n",
      "Date:                    Fri, 27 Sep 2019   Prob (F-statistic):           1.35e-39\n",
      "Time:                            13:11:21   Log-Likelihood:                -9322.2\n",
      "No. Observations:                    7351   AIC:                         1.866e+04\n",
      "Df Residuals:                        7341   BIC:                         1.873e+04\n",
      "Df Model:                               9                                         \n",
      "Covariance Type:                nonrobust                                         \n",
      "========================================================================================\n",
      "                           coef    std err          t      P>|t|      [0.025      0.975]\n",
      "----------------------------------------------------------------------------------------\n",
      "Intercept                3.0524      0.040     76.953      0.000       2.975       3.130\n",
      "edu[T.Graduate]         -0.0964      0.038     -2.503      0.012      -0.172      -0.021\n",
      "edu[T.HS]                0.1129      0.046      2.450      0.014       0.023       0.203\n",
      "edu[T.Other]             0.1812      0.387      0.469      0.639      -0.577       0.939\n",
      "edu[T.Some College]     -0.0288      0.043     -0.675      0.499      -0.112       0.055\n",
      "edu[T.Undergraduate]    -0.0552      0.038     -1.457      0.145      -0.129       0.019\n",
      "edu[T.less than HS]      0.1534      0.062      2.475      0.013       0.032       0.275\n",
      "female                   0.1842      0.021      8.976      0.000       0.144       0.224\n",
      "worker                  -0.0825      0.022     -3.814      0.000      -0.125      -0.040\n",
      "n65plus                  0.0776      0.014      5.556      0.000       0.050       0.105\n",
      "==============================================================================\n",
      "Omnibus:                       14.257   Durbin-Watson:                   1.616\n",
      "Prob(Omnibus):                  0.001   Jarque-Bera (JB):               17.295\n",
      "Skew:                           0.007   Prob(JB):                     0.000176\n",
      "Kurtosis:                       3.237   Cond. No.                         57.6\n",
      "==============================================================================\n",
      "\n",
      "Warnings:\n",
      "[1] Standard Errors assume that the covariance matrix of the errors is correctly specified.\n"
     ]
    }
   ],
   "source": [
    "m_shp = OLSRegressionStep(\n",
    "    tables=[\"activities\"],\n",
    "    filters=\"purp=='Shopping'\"\n",
    ")\n",
    "m_shp.model_expression = 'np.log1p(act_duration) ~ female + worker + edu + n65plus'\n",
    "m_shp.fit()"
   ]
  }
 ],
 "metadata": {
  "kernelspec": {
   "display_name": "Python 3",
   "language": "python",
   "name": "python3"
  },
  "language_info": {
   "codemirror_mode": {
    "name": "ipython",
    "version": 3
   },
   "file_extension": ".py",
   "mimetype": "text/x-python",
   "name": "python",
   "nbconvert_exporter": "python",
   "pygments_lexer": "ipython3",
   "version": "3.7.3"
  }
 },
 "nbformat": 4,
 "nbformat_minor": 2
}
