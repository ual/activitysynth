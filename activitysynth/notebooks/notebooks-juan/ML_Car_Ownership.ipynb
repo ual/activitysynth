{
 "cells": [
  {
   "cell_type": "code",
   "execution_count": 1,
   "metadata": {},
   "outputs": [],
   "source": [
    "import warnings;\n",
    "warnings.simplefilter('ignore')"
   ]
  },
  {
   "cell_type": "code",
   "execution_count": 2,
   "metadata": {},
   "outputs": [
    {
     "name": "stderr",
     "output_type": "stream",
     "text": [
      "/home/juan/anaconda3/envs/template-env/lib/python3.6/site-packages/pandana/network.py:5: UserWarning: \n",
      "This call to matplotlib.use() has no effect because the backend has already\n",
      "been chosen; matplotlib.use() must be called *before* pylab, matplotlib.pyplot,\n",
      "or matplotlib.backends is imported for the first time.\n",
      "\n",
      "The backend was *originally* set to 'module://ipykernel.pylab.backend_inline' by the following code:\n",
      "  File \"/home/juan/anaconda3/envs/template-env/lib/python3.6/runpy.py\", line 193, in _run_module_as_main\n",
      "    \"__main__\", mod_spec)\n",
      "  File \"/home/juan/anaconda3/envs/template-env/lib/python3.6/runpy.py\", line 85, in _run_code\n",
      "    exec(code, run_globals)\n",
      "  File \"/home/juan/anaconda3/envs/template-env/lib/python3.6/site-packages/ipykernel_launcher.py\", line 16, in <module>\n",
      "    app.launch_new_instance()\n",
      "  File \"/home/juan/anaconda3/envs/template-env/lib/python3.6/site-packages/traitlets/config/application.py\", line 658, in launch_instance\n",
      "    app.start()\n",
      "  File \"/home/juan/anaconda3/envs/template-env/lib/python3.6/site-packages/ipykernel/kernelapp.py\", line 505, in start\n",
      "    self.io_loop.start()\n",
      "  File \"/home/juan/anaconda3/envs/template-env/lib/python3.6/site-packages/tornado/platform/asyncio.py\", line 132, in start\n",
      "    self.asyncio_loop.run_forever()\n",
      "  File \"/home/juan/anaconda3/envs/template-env/lib/python3.6/asyncio/base_events.py\", line 427, in run_forever\n",
      "    self._run_once()\n",
      "  File \"/home/juan/anaconda3/envs/template-env/lib/python3.6/asyncio/base_events.py\", line 1440, in _run_once\n",
      "    handle._run()\n",
      "  File \"/home/juan/anaconda3/envs/template-env/lib/python3.6/asyncio/events.py\", line 145, in _run\n",
      "    self._callback(*self._args)\n",
      "  File \"/home/juan/anaconda3/envs/template-env/lib/python3.6/site-packages/tornado/ioloop.py\", line 758, in _run_callback\n",
      "    ret = callback()\n",
      "  File \"/home/juan/anaconda3/envs/template-env/lib/python3.6/site-packages/tornado/stack_context.py\", line 300, in null_wrapper\n",
      "    return fn(*args, **kwargs)\n",
      "  File \"/home/juan/anaconda3/envs/template-env/lib/python3.6/site-packages/tornado/gen.py\", line 1233, in inner\n",
      "    self.run()\n",
      "  File \"/home/juan/anaconda3/envs/template-env/lib/python3.6/site-packages/tornado/gen.py\", line 1147, in run\n",
      "    yielded = self.gen.send(value)\n",
      "  File \"/home/juan/anaconda3/envs/template-env/lib/python3.6/site-packages/ipykernel/kernelbase.py\", line 357, in process_one\n",
      "    yield gen.maybe_future(dispatch(*args))\n",
      "  File \"/home/juan/anaconda3/envs/template-env/lib/python3.6/site-packages/tornado/gen.py\", line 326, in wrapper\n",
      "    yielded = next(result)\n",
      "  File \"/home/juan/anaconda3/envs/template-env/lib/python3.6/site-packages/ipykernel/kernelbase.py\", line 267, in dispatch_shell\n",
      "    yield gen.maybe_future(handler(stream, idents, msg))\n",
      "  File \"/home/juan/anaconda3/envs/template-env/lib/python3.6/site-packages/tornado/gen.py\", line 326, in wrapper\n",
      "    yielded = next(result)\n",
      "  File \"/home/juan/anaconda3/envs/template-env/lib/python3.6/site-packages/ipykernel/kernelbase.py\", line 534, in execute_request\n",
      "    user_expressions, allow_stdin,\n",
      "  File \"/home/juan/anaconda3/envs/template-env/lib/python3.6/site-packages/tornado/gen.py\", line 326, in wrapper\n",
      "    yielded = next(result)\n",
      "  File \"/home/juan/anaconda3/envs/template-env/lib/python3.6/site-packages/ipykernel/ipkernel.py\", line 294, in do_execute\n",
      "    res = shell.run_cell(code, store_history=store_history, silent=silent)\n",
      "  File \"/home/juan/anaconda3/envs/template-env/lib/python3.6/site-packages/ipykernel/zmqshell.py\", line 536, in run_cell\n",
      "    return super(ZMQInteractiveShell, self).run_cell(*args, **kwargs)\n",
      "  File \"/home/juan/anaconda3/envs/template-env/lib/python3.6/site-packages/IPython/core/interactiveshell.py\", line 2819, in run_cell\n",
      "    raw_cell, store_history, silent, shell_futures)\n",
      "  File \"/home/juan/anaconda3/envs/template-env/lib/python3.6/site-packages/IPython/core/interactiveshell.py\", line 2845, in _run_cell\n",
      "    return runner(coro)\n",
      "  File \"/home/juan/anaconda3/envs/template-env/lib/python3.6/site-packages/IPython/core/async_helpers.py\", line 67, in _pseudo_sync_runner\n",
      "    coro.send(None)\n",
      "  File \"/home/juan/anaconda3/envs/template-env/lib/python3.6/site-packages/IPython/core/interactiveshell.py\", line 3020, in run_cell_async\n",
      "    interactivity=interactivity, compiler=compiler, result=result)\n",
      "  File \"/home/juan/anaconda3/envs/template-env/lib/python3.6/site-packages/IPython/core/interactiveshell.py\", line 3185, in run_ast_nodes\n",
      "    if (yield from self.run_code(code, result)):\n",
      "  File \"/home/juan/anaconda3/envs/template-env/lib/python3.6/site-packages/IPython/core/interactiveshell.py\", line 3267, in run_code\n",
      "    exec(code_obj, self.user_global_ns, self.user_ns)\n",
      "  File \"<ipython-input-2-e7915d4f329b>\", line 10, in <module>\n",
      "    get_ipython().run_line_magic('matplotlib', 'inline')\n",
      "  File \"/home/juan/anaconda3/envs/template-env/lib/python3.6/site-packages/IPython/core/interactiveshell.py\", line 2287, in run_line_magic\n",
      "    result = fn(*args,**kwargs)\n",
      "  File \"</home/juan/anaconda3/envs/template-env/lib/python3.6/site-packages/decorator.py:decorator-gen-107>\", line 2, in matplotlib\n",
      "  File \"/home/juan/anaconda3/envs/template-env/lib/python3.6/site-packages/IPython/core/magic.py\", line 187, in <lambda>\n",
      "    call = lambda f, *a, **k: f(*a, **k)\n",
      "  File \"/home/juan/anaconda3/envs/template-env/lib/python3.6/site-packages/IPython/core/magics/pylab.py\", line 99, in matplotlib\n",
      "    gui, backend = self.shell.enable_matplotlib(args.gui)\n",
      "  File \"/home/juan/anaconda3/envs/template-env/lib/python3.6/site-packages/IPython/core/interactiveshell.py\", line 3355, in enable_matplotlib\n",
      "    pt.activate_matplotlib(backend)\n",
      "  File \"/home/juan/anaconda3/envs/template-env/lib/python3.6/site-packages/IPython/core/pylabtools.py\", line 314, in activate_matplotlib\n",
      "    matplotlib.pyplot.switch_backend(backend)\n",
      "  File \"/home/juan/anaconda3/envs/template-env/lib/python3.6/site-packages/matplotlib/pyplot.py\", line 231, in switch_backend\n",
      "    matplotlib.use(newbackend, warn=False, force=True)\n",
      "  File \"/home/juan/anaconda3/envs/template-env/lib/python3.6/site-packages/matplotlib/__init__.py\", line 1422, in use\n",
      "    reload(sys.modules['matplotlib.backends'])\n",
      "  File \"/home/juan/anaconda3/envs/template-env/lib/python3.6/importlib/__init__.py\", line 166, in reload\n",
      "    _bootstrap._exec(spec, module)\n",
      "  File \"/home/juan/anaconda3/envs/template-env/lib/python3.6/site-packages/matplotlib/backends/__init__.py\", line 16, in <module>\n",
      "    line for line in traceback.format_stack()\n",
      "\n",
      "\n",
      "  matplotlib.use('Agg')\n"
     ]
    },
    {
     "name": "stdout",
     "output_type": "stream",
     "text": [
      "Registering model step 'auto_ownership'\n",
      "Registering model step 'TOD_choice'\n",
      "Registering model step 'primary_mode_choice'\n",
      "Registering model step 'WLCM'\n"
     ]
    }
   ],
   "source": [
    "from urbansim_templates import modelmanager as mm\n",
    "from urbansim_templates.models import LargeMultinomialLogitStep\n",
    "import orca\n",
    "import os; os.chdir('/home/juan/ual_model_workspace/spring-2019-models')#('../')\n",
    "from statsmodels.discrete.discrete_model import MNLogit\n",
    "import pandas as pd\n",
    "import numpy as np\n",
    "\n",
    "from matplotlib import pyplot as plt\n",
    "%matplotlib inline\n",
    "\n",
    "from sklearn import tree\n",
    "from sklearn.model_selection import KFold, train_test_split\n",
    "from sklearn.model_selection import cross_validate\n",
    "from sklearn.ensemble import RandomForestClassifier\n",
    "from sklearn.ensemble import AdaBoostRegressor\n",
    "from sklearn.ensemble import GradientBoostingClassifier\n",
    "import matplotlib.pyplot as plt\n",
    "from collections import OrderedDict\n",
    "\n",
    "from urbansim_templates.models import SmallMultinomialLogitStep\n",
    "import seaborn as sns\n",
    "\n",
    "from scripts import datasources\n",
    "from scripts import variables\n",
    "# from scripts import utils\n",
    "from scripts import models\n",
    "# from scripts import datasources, models, variables"
   ]
  },
  {
   "cell_type": "code",
   "execution_count": 3,
   "metadata": {},
   "outputs": [],
   "source": [
    "# from scripts import datasources, models, variables, utils"
   ]
  },
  {
   "cell_type": "code",
   "execution_count": 4,
   "metadata": {},
   "outputs": [],
   "source": [
    "from urbansim_templates import modelmanager as mm"
   ]
  },
  {
   "cell_type": "code",
   "execution_count": 20,
   "metadata": {},
   "outputs": [],
   "source": [
    "# os.listdir(\"/home/juan/ual_model_workspace/configs/\")"
   ]
  },
  {
   "cell_type": "code",
   "execution_count": 5,
   "metadata": {},
   "outputs": [
    {
     "name": "stdout",
     "output_type": "stream",
     "text": [
      "Registering model step 'auto_ownership'\n",
      "Registering model step 'TOD_choice'\n",
      "Registering model step 'primary_mode_choice'\n",
      "Registering model step 'WLCM'\n"
     ]
    }
   ],
   "source": [
    "mm.initialize(path = '/home/juan/ual_model_workspace/spring-2019-models/configs')\n",
    "\n",
    "# ual_model_workspace/spring-2019-models/configs"
   ]
  },
  {
   "cell_type": "code",
   "execution_count": 6,
   "metadata": {},
   "outputs": [
    {
     "data": {
      "text/plain": [
       "'/home/juan/ual_model_workspace/spring-2019-models'"
      ]
     },
     "execution_count": 6,
     "metadata": {},
     "output_type": "execute_result"
    }
   ],
   "source": [
    "os.getcwd()"
   ]
  },
  {
   "cell_type": "markdown",
   "metadata": {},
   "source": [
    "## Generating accesibility variables"
   ]
  },
  {
   "cell_type": "code",
   "execution_count": 7,
   "metadata": {},
   "outputs": [
    {
     "name": "stdout",
     "output_type": "stream",
     "text": [
      "Running step 'initialize_network_small'\n",
      "Time to execute step 'initialize_network_small': 0.00 s\n",
      "Running step 'network_aggregations_small'\n",
      "Computing accessibility variables\n",
      "Computing units_10000\n",
      "Computing units_sf_10000\n",
      "Computing units_mf_10000\n",
      "Computing pop_10000\n",
      "Computing hh_10000\n",
      "Computing poor_10000\n",
      "Computing renters_10000\n",
      "Computing avg_income_10000\n",
      "Computing jobs_10000\n",
      "Computing avg_rent_10000\n",
      "Computing med_rent_10000\n",
      "Computing pop_white_10000\n",
      "Computing pop_black_10000\n",
      "Computing pop_asian_10000\n",
      "Computing pop_hisp_10000\n",
      "Computing units_25000\n",
      "Computing units_sf_25000\n",
      "Computing units_mf_25000\n",
      "Computing pop_25000\n",
      "Computing hh_25000\n",
      "Computing poor_25000\n",
      "Computing renters_25000\n",
      "Computing avg_income_25000\n",
      "Computing jobs_25000\n",
      "Computing avg_rent_25000\n",
      "Computing pop_white_25000\n",
      "Computing pop_black_25000\n",
      "Computing pop_asian_25000\n",
      "Computing pop_hisp_25000\n",
      "Computing jobs_10000_retail\n",
      "Computing jobs_25000_retail\n",
      "Computing jobs_10000_fire\n",
      "Computing jobs_25000_fire\n",
      "Computing jobs_10000_tech\n",
      "Computing jobs_25000_tech\n",
      "Computing jobs_10000_serv\n",
      "Computing jobs_25000_serv\n",
      "compute additional aggregation variables\n",
      "        units_10000  units_sf_10000  units_mf_10000     pop_10000  \\\n",
      "count   30826.00000    30826.000000    30826.000000  3.082600e+04   \n",
      "mean   123478.57604    59685.754688    45085.221955  3.173505e+05   \n",
      "std     97670.45433    36332.680273    44514.362334  2.359256e+05   \n",
      "min         0.00000        0.000000        0.000000  0.000000e+00   \n",
      "25%     46582.50000    31102.500000    10519.500000  1.230942e+05   \n",
      "50%    103126.00000    58914.000000    32007.500000  2.728665e+05   \n",
      "75%    186203.25000    88261.000000    68992.500000  4.842512e+05   \n",
      "max    439744.00000   144430.000000   197201.000000  1.004838e+06   \n",
      "\n",
      "            hh_10000     poor_10000  renters_10000  avg_income_10000  \\\n",
      "count   30826.000000   30826.000000        30826.0      30826.000000   \n",
      "mean   121527.818205   33317.494874            0.0     111952.856399   \n",
      "std     96125.755835   29872.612658            0.0      28722.182244   \n",
      "min         0.000000       0.000000            0.0          0.000000   \n",
      "25%     45993.000000   11097.500000            0.0      94230.246868   \n",
      "50%    101909.000000   24134.000000            0.0     113791.677666   \n",
      "75%    182454.500000   48014.250000            0.0     130068.165168   \n",
      "max    435385.000000  134801.000000            0.0     222905.786893   \n",
      "\n",
      "          jobs_10000  avg_rent_10000       ...         pop_asian_25000  \\\n",
      "count   30826.000000    30826.000000       ...            30826.000000   \n",
      "mean   207342.424804     8647.580797       ...           343478.623727   \n",
      "std    218670.930744    16417.784771       ...           244932.232904   \n",
      "min         0.000000        0.000000       ...                0.000000   \n",
      "25%     38953.000000     2523.717778       ...            89146.000000   \n",
      "50%    134126.500000     3722.877044       ...           373899.000000   \n",
      "75%    310105.500000     6309.534791       ...           554744.750000   \n",
      "max    962458.000000   359042.471026       ...           779705.000000   \n",
      "\n",
      "       pop_hisp_25000  jobs_10000_retail  jobs_25000_retail  jobs_10000_fire  \\\n",
      "count    30826.000000       30826.000000       30826.000000     30826.000000   \n",
      "mean    220619.911601       15918.176831       55025.652826     21095.094660   \n",
      "std     131177.373546       12909.411320       31474.505013     31109.869691   \n",
      "min          0.000000           0.000000           0.000000         0.000000   \n",
      "25%     101678.000000        5653.000000       25188.000000      2545.000000   \n",
      "50%     228551.000000       13897.000000       61369.000000     10608.500000   \n",
      "75%     352321.750000       20619.500000       84616.000000     28217.000000   \n",
      "max     416087.000000       55407.000000       99959.000000    150806.000000   \n",
      "\n",
      "       jobs_25000_fire  jobs_10000_tech  jobs_25000_tech  jobs_10000_serv  \\\n",
      "count     30826.000000     30826.000000     30826.000000     30826.000000   \n",
      "mean      71779.411990     38787.196328    131684.304191     19369.726886   \n",
      "std       60582.770494     52492.659322    106568.149002     21592.943853   \n",
      "min           0.000000         0.000000         0.000000         0.000000   \n",
      "25%       15875.750000      4080.250000     25563.000000      4027.000000   \n",
      "50%       65031.500000     17206.000000    124535.000000     12596.000000   \n",
      "75%      100146.500000     54899.500000    195256.750000     27379.250000   \n",
      "max      203825.000000    242834.000000    353450.000000    101257.000000   \n",
      "\n",
      "       jobs_25000_serv  \n",
      "count     30826.000000  \n",
      "mean      64773.327483  \n",
      "std       46553.601262  \n",
      "min           0.000000  \n",
      "25%       18681.000000  \n",
      "50%       64473.500000  \n",
      "75%       94226.000000  \n",
      "max      164680.000000  \n",
      "\n",
      "[8 rows x 37 columns]\n",
      "Time to execute step 'network_aggregations_small': 846.07 s\n",
      "Total time to execute iteration 1 with iteration value None: 846.07 s\n",
      "Running step 'initialize_network_walk'\n",
      "Time to execute step 'initialize_network_walk': 0.00 s\n",
      "Running step 'network_aggregations_walk'\n",
      "Computing accessibility variables\n",
      "Computing units_500_walk\n",
      "Computing sqft_unit_500_walk\n",
      "Computing singles_500_walk\n",
      "Computing elderly_hh_500_walk\n",
      "Computing children_500_walk\n",
      "Computing units_sf_500_walk\n",
      "Computing units_mf_500_walk\n",
      "Computing pop_500_walk\n",
      "Computing hh_500_walk\n",
      "Computing poor_500_walk\n",
      "Computing rich_500_walk\n",
      "Computing renters_500_walk\n",
      "Computing avg_income_500_walk\n",
      "Computing jobs_500_walk\n",
      "Computing avg_rent_500_walk\n",
      "Computing pop_white_500_walk\n",
      "Computing pop_black_500_walk\n",
      "Computing pop_asian_500_walk\n",
      "Computing pop_hisp_500_walk\n",
      "Computing units_1500_walk\n",
      "Computing sqft_unit_1500_walk\n",
      "Computing singles_1500_walk\n",
      "Computing elderly_hh_1500_walk\n",
      "Computing children_1500_walk\n",
      "Computing units_sf_1500_walk\n",
      "Computing units_mf_1500_walk\n",
      "Computing pop_1500_walk\n",
      "Computing hh_1500_walk\n",
      "Computing poor_1500_walk\n",
      "Computing rich_1500_walk\n",
      "Computing renters_1500_walk\n",
      "Computing avg_income_1500_walk\n",
      "Computing jobs_1500_walk\n",
      "Computing avg_rent_1500_walk\n",
      "Computing pop_white_1500_walk\n",
      "Computing pop_black_1500_walk\n",
      "Computing pop_asian_1500_walk\n",
      "Computing pop_hisp_1500_walk\n",
      "Computing pop_2500_walk\n",
      "Computing pop_white_2500_walk\n",
      "Computing pop_black_2500_walk\n",
      "Computing pop_asian_2500_walk\n",
      "Computing pop_hisp_2500_walk\n",
      "Computing jobs_500_walk_retail\n",
      "Computing jobs_1500_walk_retail\n",
      "Computing jobs_2500_walk_retail\n",
      "Computing jobs_500_walk_fire\n",
      "Computing jobs_1500_walk_fire\n",
      "Computing jobs_2500_walk_fire\n",
      "Computing jobs_500_walk_tech\n",
      "Computing jobs_1500_walk_tech\n",
      "Computing jobs_2500_walk_tech\n",
      "Computing jobs_500_walk_serv\n",
      "Computing jobs_1500_walk_serv\n",
      "Computing jobs_2500_walk_serv\n",
      "compute additional aggregation variables\n",
      "       units_500_walk  sqft_unit_500_walk  singles_500_walk  \\\n",
      "count   415716.000000       415716.000000     415716.000000   \n",
      "mean       395.923799         2366.706757        115.857804   \n",
      "std       1174.997326         1520.313354        404.829400   \n",
      "min          0.000000            0.000000          0.000000   \n",
      "25%         14.000000         1522.430044          2.000000   \n",
      "50%        207.000000         1973.190074         36.000000   \n",
      "75%        480.000000         2887.559244        111.000000   \n",
      "max     209235.000000         6000.000000      57775.000000   \n",
      "\n",
      "       elderly_hh_500_walk  children_500_walk  units_sf_500_walk  \\\n",
      "count        415716.000000      415716.000000      415716.000000   \n",
      "mean             73.572788         200.210709         161.382165   \n",
      "std             284.655286         548.671915         700.844374   \n",
      "min               0.000000           0.000000           0.000000   \n",
      "25%               2.000000           7.000000           2.000000   \n",
      "50%              38.000000         120.000000          96.000000   \n",
      "75%              88.000000         285.000000         243.000000   \n",
      "max           51166.000000      104127.000000      136919.000000   \n",
      "\n",
      "       units_mf_500_walk   pop_500_walk    hh_500_walk  poor_500_walk  \\\n",
      "count      415716.000000  415716.000000  415716.000000  415716.000000   \n",
      "mean          161.894228     980.109435     389.590379     117.496151   \n",
      "std           456.399539    2739.467344    1156.876817     418.729334   \n",
      "min             0.000000       0.000000       0.000000       0.000000   \n",
      "25%             0.000000      38.000000      14.000000       2.000000   \n",
      "50%             2.000000     565.000000     206.000000      37.000000   \n",
      "75%           156.000000    1300.000000     474.000000     116.000000   \n",
      "max         47787.000000  503027.000000  203602.000000   59388.000000   \n",
      "\n",
      "             ...          prop_singles_1500_walk  prop_elderly_1500_walk  \\\n",
      "count        ...                   415716.000000           415716.000000   \n",
      "mean         ...                        0.216714                0.179893   \n",
      "std          ...                        0.118671                0.095276   \n",
      "min          ...                        0.000000                0.000000   \n",
      "25%          ...                        0.153117                0.141384   \n",
      "50%          ...                        0.217573                0.181238   \n",
      "75%          ...                        0.280899                0.222479   \n",
      "max          ...                        1.000000                1.000000   \n",
      "\n",
      "       prop_black_1500_walk  prop_white_1500_walk  prop_asian_1500_walk  \\\n",
      "count         415716.000000         415716.000000         415716.000000   \n",
      "mean               0.041385              0.517036              0.254525   \n",
      "std                0.062307              0.236541              0.181644   \n",
      "min                0.000000              0.000000              0.000000   \n",
      "25%                0.009501              0.374822              0.127006   \n",
      "50%                0.020633              0.547549              0.222461   \n",
      "75%                0.040917              0.698605              0.356485   \n",
      "max                1.000000              1.000000              1.000000   \n",
      "\n",
      "       prop_hisp_1500_walk  prop_rich_1500_walk  prop_poor_1500_walk  \\\n",
      "count        415716.000000        415716.000000        415716.000000   \n",
      "mean              0.166527             0.105043             0.085995   \n",
      "std               0.142341             0.067848             0.060209   \n",
      "min               0.000000             0.000000             0.000000   \n",
      "25%               0.067359             0.058980             0.052566   \n",
      "50%               0.132857             0.103540             0.079459   \n",
      "75%               0.229840             0.148479             0.111978   \n",
      "max               1.000000             1.000000             1.000000   \n",
      "\n",
      "       avg_hhs_500_walk  avg_hhs_1500_walk  \n",
      "count     415716.000000      415716.000000  \n",
      "mean           2.185777           2.487081  \n",
      "std            1.168390           0.857623  \n",
      "min            0.000000           0.000000  \n",
      "25%            2.000000           2.377028  \n",
      "50%            2.555785           2.646081  \n",
      "75%            2.911538           2.922624  \n",
      "max           19.000000          19.000000  \n",
      "\n",
      "[8 rows x 75 columns]\n",
      "Time to execute step 'network_aggregations_walk': 614.10 s\n",
      "Total time to execute iteration 1 with iteration value None: 614.10 s\n",
      "\n"
     ]
    }
   ],
   "source": [
    "orca.run(['initialize_network_small', 'network_aggregations_small'])\n",
    "\n",
    "orca.run(['initialize_network_walk', 'network_aggregations_walk'])\n",
    "\n",
    "print()"
   ]
  },
  {
   "cell_type": "markdown",
   "metadata": {},
   "source": [
    "### Some additional functions"
   ]
  },
  {
   "cell_type": "code",
   "execution_count": 8,
   "metadata": {},
   "outputs": [],
   "source": [
    "def normalize(data):\n",
    "    ''' \n",
    "    Normalizes values in a Series\n",
    "    Input: \n",
    "    data: Series-like\n",
    "    \n",
    "    Return: Normalized Series-like object\n",
    "    '''\n",
    "    if data.dtype == 'O':\n",
    "        return 0\n",
    "    else:\n",
    "        return (data - np.mean(data)) / np.std(data)"
   ]
  },
  {
   "cell_type": "markdown",
   "metadata": {},
   "source": [
    "## Loading data"
   ]
  },
  {
   "cell_type": "code",
   "execution_count": 9,
   "metadata": {},
   "outputs": [],
   "source": [
    "#Loading am peak transit accessibility varaibles\n",
    "@orca.table(cache=False)\n",
    "def am_acc():\n",
    "    df = pd.read_csv('/home/data/urbanaccess_transit/access_indicators_ampeak.csv',dtype = {'block_id':str})\n",
    "    df.block_id = df.block_id.str.zfill(15)\n",
    "    return df\n",
    "\n",
    "households = orca.get_table('households').to_frame()\n",
    "# persons = orca.get_table('persons').to_frame()\n",
    "persons = pd.read_csv('/home/data/spring_2019/2025/persons.csv', \n",
    "                      index_col='member_id', dtype={'member_id': int, 'household_id': int})\n",
    "\n",
    "parcels = orca.get_table('parcels').to_frame()\n",
    "nodessmall = orca.get_table('nodessmall').to_frame()\n",
    "# nodessmall = pd.read_csv('/home/data/2018-07/nodessmall_vars.csv')\n",
    "nodessmall.index.name = 'node_id_small'\n",
    "nodeswalk = orca.get_table('nodeswalk').to_frame()\n",
    "# nodeswalk = pd.read_csv('/home/data/2018-07/nodeswalk_vars.csv')\n",
    "nodeswalk.index.name = 'node_id_walk'\n",
    "am_acc = orca.get_table('am_acc').to_frame()"
   ]
  },
  {
   "cell_type": "code",
   "execution_count": 10,
   "metadata": {},
   "outputs": [
    {
     "data": {
      "text/html": [
       "<div>\n",
       "<style scoped>\n",
       "    .dataframe tbody tr th:only-of-type {\n",
       "        vertical-align: middle;\n",
       "    }\n",
       "\n",
       "    .dataframe tbody tr th {\n",
       "        vertical-align: top;\n",
       "    }\n",
       "\n",
       "    .dataframe thead th {\n",
       "        text-align: right;\n",
       "    }\n",
       "</style>\n",
       "<table border=\"1\" class=\"dataframe\">\n",
       "  <thead>\n",
       "    <tr style=\"text-align: right;\">\n",
       "      <th></th>\n",
       "      <th>Unnamed: 0</th>\n",
       "      <th>student</th>\n",
       "      <th>household_id</th>\n",
       "      <th>age</th>\n",
       "      <th>primary_commute_mode</th>\n",
       "      <th>worker</th>\n",
       "      <th>work_at_home</th>\n",
       "      <th>sex</th>\n",
       "      <th>hours</th>\n",
       "      <th>hispanic</th>\n",
       "      <th>race_id</th>\n",
       "      <th>member_id</th>\n",
       "      <th>edu</th>\n",
       "      <th>relate</th>\n",
       "      <th>earning</th>\n",
       "    </tr>\n",
       "  </thead>\n",
       "  <tbody>\n",
       "    <tr>\n",
       "      <th>0</th>\n",
       "      <td>0</td>\n",
       "      <td>0</td>\n",
       "      <td>0</td>\n",
       "      <td>47</td>\n",
       "      <td>1.0</td>\n",
       "      <td>1</td>\n",
       "      <td>0</td>\n",
       "      <td>1</td>\n",
       "      <td>40.0</td>\n",
       "      <td>1</td>\n",
       "      <td>1</td>\n",
       "      <td>1</td>\n",
       "      <td>22.0</td>\n",
       "      <td>0</td>\n",
       "      <td>85000.0</td>\n",
       "    </tr>\n",
       "    <tr>\n",
       "      <th>1</th>\n",
       "      <td>1</td>\n",
       "      <td>0</td>\n",
       "      <td>670</td>\n",
       "      <td>47</td>\n",
       "      <td>1.0</td>\n",
       "      <td>1</td>\n",
       "      <td>0</td>\n",
       "      <td>1</td>\n",
       "      <td>40.0</td>\n",
       "      <td>1</td>\n",
       "      <td>1</td>\n",
       "      <td>1</td>\n",
       "      <td>22.0</td>\n",
       "      <td>0</td>\n",
       "      <td>85000.0</td>\n",
       "    </tr>\n",
       "    <tr>\n",
       "      <th>2</th>\n",
       "      <td>2</td>\n",
       "      <td>0</td>\n",
       "      <td>740</td>\n",
       "      <td>47</td>\n",
       "      <td>1.0</td>\n",
       "      <td>1</td>\n",
       "      <td>0</td>\n",
       "      <td>1</td>\n",
       "      <td>40.0</td>\n",
       "      <td>1</td>\n",
       "      <td>1</td>\n",
       "      <td>1</td>\n",
       "      <td>22.0</td>\n",
       "      <td>0</td>\n",
       "      <td>85000.0</td>\n",
       "    </tr>\n",
       "    <tr>\n",
       "      <th>3</th>\n",
       "      <td>3</td>\n",
       "      <td>0</td>\n",
       "      <td>975</td>\n",
       "      <td>47</td>\n",
       "      <td>1.0</td>\n",
       "      <td>1</td>\n",
       "      <td>0</td>\n",
       "      <td>1</td>\n",
       "      <td>40.0</td>\n",
       "      <td>1</td>\n",
       "      <td>1</td>\n",
       "      <td>1</td>\n",
       "      <td>22.0</td>\n",
       "      <td>0</td>\n",
       "      <td>85000.0</td>\n",
       "    </tr>\n",
       "    <tr>\n",
       "      <th>4</th>\n",
       "      <td>4</td>\n",
       "      <td>0</td>\n",
       "      <td>977</td>\n",
       "      <td>47</td>\n",
       "      <td>1.0</td>\n",
       "      <td>1</td>\n",
       "      <td>0</td>\n",
       "      <td>1</td>\n",
       "      <td>40.0</td>\n",
       "      <td>1</td>\n",
       "      <td>1</td>\n",
       "      <td>1</td>\n",
       "      <td>22.0</td>\n",
       "      <td>0</td>\n",
       "      <td>85000.0</td>\n",
       "    </tr>\n",
       "  </tbody>\n",
       "</table>\n",
       "</div>"
      ],
      "text/plain": [
       "   Unnamed: 0  student  household_id  age  primary_commute_mode  worker  \\\n",
       "0           0        0             0   47                   1.0       1   \n",
       "1           1        0           670   47                   1.0       1   \n",
       "2           2        0           740   47                   1.0       1   \n",
       "3           3        0           975   47                   1.0       1   \n",
       "4           4        0           977   47                   1.0       1   \n",
       "\n",
       "   work_at_home  sex  hours  hispanic  race_id  member_id   edu  relate  \\\n",
       "0             0    1   40.0         1        1          1  22.0       0   \n",
       "1             0    1   40.0         1        1          1  22.0       0   \n",
       "2             0    1   40.0         1        1          1  22.0       0   \n",
       "3             0    1   40.0         1        1          1  22.0       0   \n",
       "4             0    1   40.0         1        1          1  22.0       0   \n",
       "\n",
       "   earning  \n",
       "0  85000.0  \n",
       "1  85000.0  \n",
       "2  85000.0  \n",
       "3  85000.0  \n",
       "4  85000.0  "
      ]
     },
     "execution_count": 10,
     "metadata": {},
     "output_type": "execute_result"
    }
   ],
   "source": [
    "\n",
    "\n",
    "persons = pd.read_csv('/home/data/spring_2019/2025/persons.csv',) \n",
    "#                       index_col='member_id', dtype={'member_id': int, 'household_id': int})\n",
    "persons.head()"
   ]
  },
  {
   "cell_type": "code",
   "execution_count": 11,
   "metadata": {},
   "outputs": [],
   "source": [
    "#Creating a Parcel Table with accessibility variables \n",
    "\n",
    "# Merging transit accessibility to parcels (Have to do this manually because orca.merge_tables performs inner merge only)\n",
    "parcels_acc = parcels.reset_index().merge(am_acc, how='left', on='block_id').set_index('parcel_id')\n",
    "\n",
    "#Filling transit accessibility NA with median value and adding columns to the parcelDataFrame in orca\n",
    "for acc_col in set(parcels_acc.columns) - set(parcels):\n",
    "    parcels_acc[acc_col].fillna(parcels_acc[acc_col].median())\n",
    "\n",
    "parcels_acc = parcels_acc.reset_index().merge(nodessmall, \n",
    "                                          how='left', \n",
    "                                          left_on='node_id_small',\n",
    "                                          right_index= True).set_index('parcel_id')\n",
    "\n",
    "parcels_acc = parcels_acc.reset_index().merge(nodeswalk, \n",
    "                                          how='left', \n",
    "                                          left_on='node_id_walk',\n",
    "                                          right_index= True).set_index('parcel_id')\n",
    "\n"
   ]
  },
  {
   "cell_type": "markdown",
   "metadata": {},
   "source": [
    "## Merging process"
   ]
  },
  {
   "cell_type": "markdown",
   "metadata": {},
   "source": [
    "### Synthetic population"
   ]
  },
  {
   "cell_type": "code",
   "execution_count": 13,
   "metadata": {},
   "outputs": [
    {
     "data": {
      "text/html": [
       "<div>\n",
       "<style scoped>\n",
       "    .dataframe tbody tr th:only-of-type {\n",
       "        vertical-align: middle;\n",
       "    }\n",
       "\n",
       "    .dataframe tbody tr th {\n",
       "        vertical-align: top;\n",
       "    }\n",
       "\n",
       "    .dataframe thead th {\n",
       "        text-align: right;\n",
       "    }\n",
       "</style>\n",
       "<table border=\"1\" class=\"dataframe\">\n",
       "  <thead>\n",
       "    <tr style=\"text-align: right;\">\n",
       "      <th></th>\n",
       "      <th>parcel_id</th>\n",
       "      <th>proportion_undevelopable</th>\n",
       "      <th>development_type_id</th>\n",
       "      <th>parcel_id_local</th>\n",
       "      <th>block_id</th>\n",
       "      <th>acres</th>\n",
       "      <th>geom_id</th>\n",
       "      <th>shape_area</th>\n",
       "      <th>apn</th>\n",
       "      <th>tax_exempt_status</th>\n",
       "      <th>...</th>\n",
       "      <th>average_income_20</th>\n",
       "      <th>below_jobs_20</th>\n",
       "      <th>below_jobs_40</th>\n",
       "      <th>below_jobs_60</th>\n",
       "      <th>employment_20</th>\n",
       "      <th>employment_40</th>\n",
       "      <th>employment_60</th>\n",
       "      <th>population_20</th>\n",
       "      <th>population_40</th>\n",
       "      <th>population_60</th>\n",
       "    </tr>\n",
       "  </thead>\n",
       "  <tbody>\n",
       "    <tr>\n",
       "      <th>0</th>\n",
       "      <td>229116</td>\n",
       "      <td>0.0</td>\n",
       "      <td>1</td>\n",
       "      <td></td>\n",
       "      <td>060014511022061</td>\n",
       "      <td>3.360520</td>\n",
       "      <td>10305106092872</td>\n",
       "      <td>1.359956e+04</td>\n",
       "      <td>099 029001700</td>\n",
       "      <td>0</td>\n",
       "      <td>...</td>\n",
       "      <td>11909.593750</td>\n",
       "      <td>2911.103516</td>\n",
       "      <td>6.954954e+05</td>\n",
       "      <td>1.261719e+06</td>\n",
       "      <td>3977.569580</td>\n",
       "      <td>9.196619e+05</td>\n",
       "      <td>1.643289e+06</td>\n",
       "      <td>1.161895e+04</td>\n",
       "      <td>1.523784e+06</td>\n",
       "      <td>3.083880e+06</td>\n",
       "    </tr>\n",
       "    <tr>\n",
       "      <th>1</th>\n",
       "      <td>244166</td>\n",
       "      <td>0.0</td>\n",
       "      <td>1</td>\n",
       "      <td></td>\n",
       "      <td>060014511011025</td>\n",
       "      <td>1.294423</td>\n",
       "      <td>11107351665227</td>\n",
       "      <td>5.238348e+03</td>\n",
       "      <td>099B540210200</td>\n",
       "      <td>0</td>\n",
       "      <td>...</td>\n",
       "      <td>15186.344727</td>\n",
       "      <td>2894.846680</td>\n",
       "      <td>5.774668e+05</td>\n",
       "      <td>1.173576e+06</td>\n",
       "      <td>3175.333496</td>\n",
       "      <td>7.665082e+05</td>\n",
       "      <td>1.530112e+06</td>\n",
       "      <td>1.119106e+04</td>\n",
       "      <td>1.223592e+06</td>\n",
       "      <td>2.848800e+06</td>\n",
       "    </tr>\n",
       "    <tr>\n",
       "      <th>2</th>\n",
       "      <td>202378</td>\n",
       "      <td>0.0</td>\n",
       "      <td>25</td>\n",
       "      <td></td>\n",
       "      <td>060014351031029</td>\n",
       "      <td>14.993605</td>\n",
       "      <td>11030175960628</td>\n",
       "      <td>6.067702e+04</td>\n",
       "      <td>085A643106000</td>\n",
       "      <td>1</td>\n",
       "      <td>...</td>\n",
       "      <td>19240.576172</td>\n",
       "      <td>106.014801</td>\n",
       "      <td>1.073881e+05</td>\n",
       "      <td>7.683527e+05</td>\n",
       "      <td>109.150246</td>\n",
       "      <td>1.485545e+05</td>\n",
       "      <td>1.003674e+06</td>\n",
       "      <td>6.511355e+02</td>\n",
       "      <td>1.764887e+05</td>\n",
       "      <td>1.794940e+06</td>\n",
       "    </tr>\n",
       "    <tr>\n",
       "      <th>3</th>\n",
       "      <td>2004420</td>\n",
       "      <td>0.0</td>\n",
       "      <td>-1</td>\n",
       "      <td></td>\n",
       "      <td>060971541003180</td>\n",
       "      <td>316.247146</td>\n",
       "      <td>6381677629073</td>\n",
       "      <td>1.279808e+06</td>\n",
       "      <td>141-100-012</td>\n",
       "      <td>0</td>\n",
       "      <td>...</td>\n",
       "      <td>24899.277344</td>\n",
       "      <td>8.183801</td>\n",
       "      <td>2.591878e+02</td>\n",
       "      <td>7.835066e+03</td>\n",
       "      <td>8.183801</td>\n",
       "      <td>2.647908e+02</td>\n",
       "      <td>9.493087e+03</td>\n",
       "      <td>1.850755e+01</td>\n",
       "      <td>3.618403e+02</td>\n",
       "      <td>1.231156e+04</td>\n",
       "    </tr>\n",
       "    <tr>\n",
       "      <th>4</th>\n",
       "      <td>340332</td>\n",
       "      <td>0.0</td>\n",
       "      <td>2</td>\n",
       "      <td></td>\n",
       "      <td>060014419272014</td>\n",
       "      <td>0.621275</td>\n",
       "      <td>314875459798</td>\n",
       "      <td>2.514215e+03</td>\n",
       "      <td>525 166004800</td>\n",
       "      <td>0</td>\n",
       "      <td>...</td>\n",
       "      <td>15905.204102</td>\n",
       "      <td>537069.875000</td>\n",
       "      <td>1.390428e+06</td>\n",
       "      <td>1.749340e+06</td>\n",
       "      <td>722645.125000</td>\n",
       "      <td>1.813563e+06</td>\n",
       "      <td>2.267568e+06</td>\n",
       "      <td>1.004974e+06</td>\n",
       "      <td>3.299243e+06</td>\n",
       "      <td>4.365044e+06</td>\n",
       "    </tr>\n",
       "  </tbody>\n",
       "</table>\n",
       "<p>5 rows × 32 columns</p>\n",
       "</div>"
      ],
      "text/plain": [
       "   parcel_id  proportion_undevelopable  development_type_id parcel_id_local  \\\n",
       "0     229116                       0.0                    1                   \n",
       "1     244166                       0.0                    1                   \n",
       "2     202378                       0.0                   25                   \n",
       "3    2004420                       0.0                   -1                   \n",
       "4     340332                       0.0                    2                   \n",
       "\n",
       "          block_id       acres         geom_id    shape_area            apn  \\\n",
       "0  060014511022061    3.360520  10305106092872  1.359956e+04  099 029001700   \n",
       "1  060014511011025    1.294423  11107351665227  5.238348e+03  099B540210200   \n",
       "2  060014351031029   14.993605  11030175960628  6.067702e+04  085A643106000   \n",
       "3  060971541003180  316.247146   6381677629073  1.279808e+06    141-100-012   \n",
       "4  060014419272014    0.621275    314875459798  2.514215e+03  525 166004800   \n",
       "\n",
       "   tax_exempt_status      ...        average_income_20  below_jobs_20  \\\n",
       "0                  0      ...             11909.593750    2911.103516   \n",
       "1                  0      ...             15186.344727    2894.846680   \n",
       "2                  1      ...             19240.576172     106.014801   \n",
       "3                  0      ...             24899.277344       8.183801   \n",
       "4                  0      ...             15905.204102  537069.875000   \n",
       "\n",
       "   below_jobs_40  below_jobs_60  employment_20  employment_40  employment_60  \\\n",
       "0   6.954954e+05   1.261719e+06    3977.569580   9.196619e+05   1.643289e+06   \n",
       "1   5.774668e+05   1.173576e+06    3175.333496   7.665082e+05   1.530112e+06   \n",
       "2   1.073881e+05   7.683527e+05     109.150246   1.485545e+05   1.003674e+06   \n",
       "3   2.591878e+02   7.835066e+03       8.183801   2.647908e+02   9.493087e+03   \n",
       "4   1.390428e+06   1.749340e+06  722645.125000   1.813563e+06   2.267568e+06   \n",
       "\n",
       "   population_20  population_40  population_60  \n",
       "0   1.161895e+04   1.523784e+06   3.083880e+06  \n",
       "1   1.119106e+04   1.223592e+06   2.848800e+06  \n",
       "2   6.511355e+02   1.764887e+05   1.794940e+06  \n",
       "3   1.850755e+01   3.618403e+02   1.231156e+04  \n",
       "4   1.004974e+06   3.299243e+06   4.365044e+06  \n",
       "\n",
       "[5 rows x 32 columns]"
      ]
     },
     "execution_count": 13,
     "metadata": {},
     "output_type": "execute_result"
    }
   ],
   "source": [
    "parcels_with_acc = parcels.reset_index().merge(am_acc, how='left', on='block_id').set_index('primary_id')\n",
    "parcels_with_acc.head()"
   ]
  },
  {
   "cell_type": "code",
   "execution_count": 14,
   "metadata": {},
   "outputs": [],
   "source": [
    "# Merging transit accessibility to parcels \n",
    "#(Have to do this manually because orca.merge_tables performs inner merge only)\n",
    "parcels_with_acc = parcels.reset_index().merge(am_acc, how='left', on='block_id').set_index('parcel_id')\n",
    "\n",
    "#Filling transit accessibility NA with median value and adding columns to the parcelDataFrame in orca\n",
    "for acc_col in set(parcels_with_acc.columns) - set(parcels):\n",
    "    orca.add_column('parcels',acc_col,\n",
    "         parcels_with_acc[acc_col].fillna(parcels_with_acc[acc_col].median())\n",
    "                   )\n",
    "\n",
    "#Merging parcel to househols\n",
    "@orca.table(cache=False)\n",
    "def hh_merged():\n",
    "    df = orca.merge_tables(target = 'households',tables = ['households','units','buildings','parcels'])\n",
    "    return df\n",
    "\n",
    "#Uploading merge df\n",
    "hh_merged = orca.get_table('hh_merged').to_frame()\n",
    "\n",
    "#Merging nodessmall and nodeswalk to household\n",
    "hh_merged = hh_merged.merge(nodessmall, how = 'left', left_on = 'node_id_small', right_index= True\n",
    "                           ).merge(nodeswalk, how = 'left', left_on = 'node_id_walk', right_index= True )\n",
    "\n",
    "#Generating household variables from the persons table \n",
    "hh_16_younger = persons[persons['age'] < 16].groupby(by='household_id').agg({'age':'count'}).rename(columns={'age': 'hh_16_younger'})\n",
    "hh_70_older = persons[persons['age'] > 70].groupby(by='household_id').agg({'age':'count'}).rename(columns={'age': 'hh_70_older'})\n",
    "hh_students = persons[persons['student'] == 1].groupby(by='household_id').agg({'student':'count'}).rename(columns={'student': 'hh_student'})\n",
    "hh_work_home = persons[persons['work_at_home'] == 1].groupby(by='household_id').agg({'work_at_home':'count'}).rename(columns={'work_at_home': 'hh_work_home'})\n",
    "\n",
    "# Merging variables to hh_merged\n",
    "hh_merged = hh_merged .merge(hh_16_younger, on = 'household_id', how = 'left'\n",
    "                           ).merge(hh_70_older, on ='household_id', how = 'left'\n",
    "                                  ).merge(hh_students, on= 'household_id',how = 'left'\n",
    "                                         ).merge(hh_work_home, on= 'household_id', how = 'left')\n",
    "\n",
    "# Filling NA with zeros \n",
    "values = {'hh_16_younger': 0, 'hh_70_older': 0, 'hh_student': 0, 'hh_work_home': 0}\n",
    "hh_merged = hh_merged.fillna(value=values)\n",
    "\n",
    "\n",
    "#Filter repited values is any\n",
    "filter_col = [col for col in hh_merged if (col.endswith('_y')) | (col.endswith('_x'))]\n",
    "\n",
    "if len(filter_col) != 0:\n",
    "    hh_merged = hh_merged.drop(columns=filter_col)"
   ]
  },
  {
   "cell_type": "code",
   "execution_count": null,
   "metadata": {},
   "outputs": [],
   "source": [
    "# Additional Jayne's code for MNL \n",
    "# # income bins\n",
    "# income_bins = pd.cut(orca.get_table('households').to_frame().income,\n",
    "#       bins = [0,20000,40000,60000,80000,100000,120000,np.inf],\n",
    "#       labels = ['2','4','6','8','10','12','12p'],include_lowest = True)\n",
    "# income_bin_dummies = pd.get_dummies(income_bins,prefix = 'income')\n",
    "# for i in income_bin_dummies.columns:\n",
    "#     orca.add_column('households',i,income_bin_dummies[i])\n",
    "\n",
    "# # tenure type dummy\n",
    "# orca.add_column('households','tenure_1',(orca.get_table('households').to_frame()['tenure']==1).astype(int))\n",
    "# orca.add_column('households','tenure_2',(orca.get_table('households').to_frame()['tenure']==2).astype(int))\n",
    "# orca.add_column('households','tenure_3',(orca.get_table('households').to_frame()['tenure']==3).astype(int))\n",
    "# orca.add_column('households','tenure_4',(orca.get_table('households').to_frame()['tenure']==4).astype(int))\n",
    "\n",
    "# # single family as integer\n",
    "# orca.add_column('households','single_family_int',(orca.get_table('households').to_frame()['single_family'].astype(int)))\n",
    "\n",
    "# # building type dummy\n",
    "# orca.add_column('households','building_type_2',(orca.get_table('households').to_frame()['building_type']==2).astype(int))\n",
    "\n",
    "# county_dummies = pd.get_dummies(parcels['county_id'].astype(int),prefix='county')\n",
    "# for i in county_dummies.columns:\n",
    "#     orca.add_column('parcels',i,county_dummies[i])\n",
    "\n",
    "# acc_cols = list(orca.get_table('nodessmall').to_frame().columns) + list(orca.get_table('nodeswalk').to_frame().columns) + list(set(parcels_with_acc.columns) - set(parcels))"
   ]
  },
  {
   "cell_type": "markdown",
   "metadata": {},
   "source": [
    "### CHTS data"
   ]
  },
  {
   "cell_type": "code",
   "execution_count": 197,
   "metadata": {},
   "outputs": [],
   "source": [
    "persons_chts = pd.read_csv('/home/data/fall_2018/chts_persons_w_zone_ids.csv')\n",
    "household_chts = pd.read_csv(\"/home/data/fall_2018/CHTS_csv_format/data/Deliv_HH.csv\")"
   ]
  },
  {
   "cell_type": "code",
   "execution_count": 198,
   "metadata": {},
   "outputs": [],
   "source": [
    "# Variables in the persons table\n",
    "# persons_chts['worker'] = [1 if x == 1 else 0 for x in persons_chts['EMPLY']]\n",
    "persons_chts['children'] = [1 if x < 18 else 0 for x in persons_chts.AGE]\n",
    "persons_chts['TransitPass'] = persons_chts.TRANS.apply(lambda x: 1 if x == 1 else 0)\n",
    "\n",
    "#Age categories \n",
    "persons_chts['age_0_15'] = [1 if x < 16 else 0 for x in persons_chts.AGE]\n",
    "persons_chts['age_16_17'] = [1 if (x >= 16) & (x <=17) else 0 for x in persons_chts.AGE]\n",
    "persons_chts['age_18_25'] = [1 if (x >= 18) & (x <=23) else 0 for x in persons_chts.AGE]\n",
    "persons_chts['age_25_40'] = [1 if (x >= 24) & (x <=38) else 0 for x in persons_chts.AGE]\n",
    "persons_chts['age_40_60'] = [1 if (x >= 39) & (x <=60) else 0 for x in persons_chts.AGE]\n",
    "persons_chts['age_60'] = [1 if x > 60 else 0 for x in persons_chts.AGE]\n",
    "\n",
    "#Occupation Categories \n",
    "persons_chts['worker_student'] = [1 if (persons_chts.EMPLY[x] == 1) & (persons_chts.STUDE[x] <=2) else 0 for x in range(len(persons_chts.EMPLY))]\n",
    "persons_chts['non_worker_non_student'] = [1 if (persons_chts.EMPLY[x] != 1) & (persons_chts.STUDE[x] > 2) else 0 for x in range(len(persons_chts.EMPLY))]\n",
    "persons_chts['worker'] = [1 if (persons_chts.EMPLY[x] == 1) & (persons_chts.worker_student[x] != 1) else 0 for x in range(len(persons_chts.EMPLY))]\n",
    "persons_chts['student'] = [1 if (persons_chts.STUDE[x] <= 2) & (persons_chts.worker_student[x] != 1) else 0 for x in range(len(persons_chts.EMPLY))]\n",
    "\n",
    "\n",
    "# #Creating person-based variables to merge onto Household table\n",
    "person_var = persons_chts.groupby(by ='SAMPN').agg({'PERNO': 'count',\n",
    "                                                    'AGE': 'max',\n",
    "                                                    'zone_id_home': 'first',\n",
    "                                                    'EMPLY':'sum', \n",
    "                                                    'children':'sum',\n",
    "                                                    'TransitPass':'sum',\n",
    "                                                    'parcel_id_home': 'first',\n",
    "                                                    'age_0_15': 'sum',\n",
    "                                                    'age_16_17': 'sum',\n",
    "                                                    'age_18_25': 'sum',\n",
    "                                                    'age_25_40': 'sum',\n",
    "                                                    'age_40_60': 'sum',\n",
    "                                                    'age_60': 'sum', \n",
    "                                                    'non_worker_non_student': 'sum',\n",
    "                                                    'worker_student':'sum',\n",
    "                                                    'worker': 'sum',\n",
    "                                                    'student': 'sum'})\n",
    "\n",
    "household_chts = household_chts.merge(person_var, how = 'left', left_on = 'SAMPN', right_index=True )\n",
    "household_chts = household_chts.dropna(subset=['PERNO', 'AGE', 'zone_id_home', 'children'])\n",
    "household_chts['max_35'] = [1 if x <=35 else 0 for x in household_chts.AGE]\n",
    "\n",
    "#Creating a Parcel Table with accessibility variables \n",
    "# Merging transit accessibility to parcels (Have to do this manually because orca.merge_tables performs inner merge only)\n",
    "parcels_acc = parcels.reset_index().merge(am_acc, how='left', on='block_id').set_index('parcel_id')\n",
    "\n",
    "#Filling transit accessibility NA \n",
    "for acc_col in set(parcels_acc.columns) - set(parcels):\n",
    "    parcels_acc[acc_col].fillna(parcels_acc[acc_col].median())\n",
    "\n",
    "parcels_acc = parcels_acc.reset_index().merge(nodessmall, \n",
    "                                          how='left', \n",
    "                                          left_on='node_id_small',\n",
    "                                          right_index= True).set_index('parcel_id')\n",
    "\n",
    "parcels_acc = parcels_acc.reset_index().merge(nodeswalk, \n",
    "                                          how='left', \n",
    "                                          left_on='node_id_walk',\n",
    "                                          right_index= True).set_index('parcel_id')\n",
    "\n",
    "\n",
    "#Merging parcels onto household\n",
    "df_merge = household_chts.merge(parcels_acc, how = 'left', left_on ='parcel_id_home', right_index= True )\n",
    "\n",
    "df_merge = df_merge[df_merge.INCOM<50]"
   ]
  },
  {
   "cell_type": "code",
   "execution_count": 199,
   "metadata": {},
   "outputs": [],
   "source": [
    "df_merge['cars_alt'] = df_merge['HHVEH'].apply(lambda x: 0*(x==0)+ 1*(x==1)+ 2*(x==2)+3*(x>=3))\n",
    "df_merge['RESTY'] = [1 if (x>=4) & (x<=6) else 0 for x in df_merge.RESTY]\n",
    "df_merge['single_family'] = [1 if x >= 1 else 0 for x in df_merge.HHSIZ]"
   ]
  },
  {
   "cell_type": "code",
   "execution_count": 200,
   "metadata": {},
   "outputs": [],
   "source": [
    "# df_merge.isnull().sum()"
   ]
  },
  {
   "cell_type": "code",
   "execution_count": 201,
   "metadata": {},
   "outputs": [],
   "source": [
    "# sns.catplot(x = 'cars_alt', kind=\"count\", palette=\"ch:.25\", data=df_merge)\n",
    "# plt.xlabel('Number of cars per household')\n",
    "# plt.ylabel('Households');"
   ]
  },
  {
   "cell_type": "code",
   "execution_count": 202,
   "metadata": {},
   "outputs": [],
   "source": [
    "#Getting variables names for each data source\n",
    "accessibility_var = set(parcels_acc) - set(parcels)\n",
    "parcel_var = set(parcels.columns) - set(accessibility_var)\n",
    "households_var_continious = ['INCOM','AGE', 'children', 'TransitPass'] # ,'PERNO', 'EMPLY'                   \n",
    "households_var_dummy = ['max_35', 'age_0_15', \n",
    "                    'age_16_17', 'age_18_25', 'age_25_40','age_40_60',\n",
    "                    'age_60', 'worker_student', 'non_worker_non_student',\n",
    "                   'worker','student','RESTY', 'TEN']#, 'HHLIC', ]\n",
    "dependent_var = ['cars_alt']"
   ]
  },
  {
   "cell_type": "code",
   "execution_count": 203,
   "metadata": {},
   "outputs": [],
   "source": [
    "final_var = list(accessibility_var) + households_var_continious + households_var_dummy + dependent_var\n",
    "\n",
    "#Creating a dataset with varaibles needed\n",
    "df = df_merge.loc[:,final_var]"
   ]
  },
  {
   "cell_type": "markdown",
   "metadata": {},
   "source": [
    "## Machine Learning approach"
   ]
  },
  {
   "cell_type": "code",
   "execution_count": 24,
   "metadata": {},
   "outputs": [],
   "source": [
    "df_ml = df_merge.loc[:,final_var]\n",
    "\n",
    "to_normalize =  households_var_continious + list(accessibility_var) \n",
    "\n",
    "for i in to_normalize:\n",
    "    df_ml[i] = normalize(df_ml[i])\n",
    "\n",
    "df_ml = df_ml.dropna(axis=1)\n",
    "\n",
    "## EDA CHTS data"
   ]
  },
  {
   "cell_type": "code",
   "execution_count": 25,
   "metadata": {},
   "outputs": [],
   "source": [
    "#Splitting the data\n",
    "x = df_ml.drop(['cars_alt'], axis = 1)\n",
    "y = df_ml.loc[:,'cars_alt']\n",
    "X_train, X_test, y_train, y_test = train_test_split(x, y, test_size=0.33, random_state= 2348)"
   ]
  },
  {
   "cell_type": "markdown",
   "metadata": {},
   "source": [
    "### Decission tree"
   ]
  },
  {
   "cell_type": "code",
   "execution_count": 26,
   "metadata": {},
   "outputs": [],
   "source": [
    "result_train = []\n",
    "result_test = []\n",
    "max_depth = range(1,20)\n",
    "for i in max_depth:\n",
    "    clf = tree.DecisionTreeClassifier(criterion='entropy',max_depth=i)\n",
    "    scores = cross_validate(clf, X_train, y_train, cv=3, return_train_score=True)\n",
    "    result_train.append(scores['train_score'].mean())\n",
    "    result_test.append(scores['test_score'].mean()) \n"
   ]
  },
  {
   "cell_type": "code",
   "execution_count": 27,
   "metadata": {},
   "outputs": [
    {
     "data": {
      "image/png": "[encoded data removed]",
      "text/plain": [
       "<Figure size 720x576 with 1 Axes>"
      ]
     },
     "metadata": {
      "needs_background": "light"
     },
     "output_type": "display_data"
    }
   ],
   "source": [
    "plt.figure(figsize = (10,8))\n",
    "plt.plot(max_depth, result_train, '-o',color='blue',label='Train')\n",
    "plt.plot(max_depth, result_test, '-o',color='red',label='Test')\n",
    "plt.xlabel('Max depth')\n",
    "plt.ylabel('Accuracy')\n",
    "plt.title('Maximum depth')\n",
    "plt.legend();"
   ]
  },
  {
   "cell_type": "code",
   "execution_count": 28,
   "metadata": {},
   "outputs": [
    {
     "data": {
      "image/png": "[encoded data removed]",
      "text/plain": [
       "<Figure size 432x288 with 1 Axes>"
      ]
     },
     "metadata": {
      "needs_background": "light"
     },
     "output_type": "display_data"
    }
   ],
   "source": [
    "clf = tree.DecisionTreeClassifier(criterion='entropy', splitter = 'best', \n",
    "                                  max_depth= 5, class_weight ={0: 1, 1: 1})#, \n",
    "#                                   min_weight_fraction_leaf = 0.2 )\n",
    "clf.fit(X_train, y_train)\n",
    "\n",
    "aa = pd.DataFrame({'importances':clf.feature_importances_,\n",
    "                   'variables':X_train.columns}).sort_values(by = 'importances', ascending= False)\n",
    "\n",
    "aa[:20].plot.barh(x = 'variables', y='importances', color ='lightsteelblue')#, figsize =(15,5) )\n",
    "plt.yticks();#(fontsize = 10)\n",
    "# plt.tight_layout()"
   ]
  },
  {
   "cell_type": "code",
   "execution_count": 29,
   "metadata": {},
   "outputs": [
    {
     "data": {
      "text/plain": [
       "Text(0.5,1,'Feature importance - Decision Tree')"
      ]
     },
     "execution_count": 29,
     "metadata": {},
     "output_type": "execute_result"
    },
    {
     "data": {
      "image/png": "[encoded data removed]",
      "text/plain": [
       "<Figure size 720x576 with 1 Axes>"
      ]
     },
     "metadata": {
      "needs_background": "light"
     },
     "output_type": "display_data"
    }
   ],
   "source": [
    "plt.figure(figsize = (10,8))\n",
    "ax = sns.barplot(x='importances', y='variables', data=aa[:20],palette=\"Blues_d\" )\n",
    "plt.title('Feature importance - Decision Tree')"
   ]
  },
  {
   "cell_type": "code",
   "execution_count": 30,
   "metadata": {},
   "outputs": [
    {
     "data": {
      "text/html": [
       "<div>\n",
       "<style scoped>\n",
       "    .dataframe tbody tr th:only-of-type {\n",
       "        vertical-align: middle;\n",
       "    }\n",
       "\n",
       "    .dataframe tbody tr th {\n",
       "        vertical-align: top;\n",
       "    }\n",
       "\n",
       "    .dataframe thead th {\n",
       "        text-align: right;\n",
       "    }\n",
       "</style>\n",
       "<table border=\"1\" class=\"dataframe\">\n",
       "  <thead>\n",
       "    <tr style=\"text-align: right;\">\n",
       "      <th>col_0</th>\n",
       "      <th>0</th>\n",
       "      <th>1</th>\n",
       "      <th>2</th>\n",
       "      <th>3</th>\n",
       "    </tr>\n",
       "    <tr>\n",
       "      <th>cars_alt</th>\n",
       "      <th></th>\n",
       "      <th></th>\n",
       "      <th></th>\n",
       "      <th></th>\n",
       "    </tr>\n",
       "  </thead>\n",
       "  <tbody>\n",
       "    <tr>\n",
       "      <th>0</th>\n",
       "      <td>81</td>\n",
       "      <td>93</td>\n",
       "      <td>18</td>\n",
       "      <td>1</td>\n",
       "    </tr>\n",
       "    <tr>\n",
       "      <th>1</th>\n",
       "      <td>70</td>\n",
       "      <td>541</td>\n",
       "      <td>248</td>\n",
       "      <td>1</td>\n",
       "    </tr>\n",
       "    <tr>\n",
       "      <th>2</th>\n",
       "      <td>12</td>\n",
       "      <td>225</td>\n",
       "      <td>1007</td>\n",
       "      <td>30</td>\n",
       "    </tr>\n",
       "    <tr>\n",
       "      <th>3</th>\n",
       "      <td>1</td>\n",
       "      <td>51</td>\n",
       "      <td>391</td>\n",
       "      <td>121</td>\n",
       "    </tr>\n",
       "  </tbody>\n",
       "</table>\n",
       "</div>"
      ],
      "text/plain": [
       "col_0      0    1     2    3\n",
       "cars_alt                    \n",
       "0         81   93    18    1\n",
       "1         70  541   248    1\n",
       "2         12  225  1007   30\n",
       "3          1   51   391  121"
      ]
     },
     "execution_count": 30,
     "metadata": {},
     "output_type": "execute_result"
    }
   ],
   "source": [
    "pd.crosstab( y_test, clf.predict(X_test))#,normalize = 'index')"
   ]
  },
  {
   "cell_type": "code",
   "execution_count": 31,
   "metadata": {},
   "outputs": [
    {
     "data": {
      "text/plain": [
       "0.6053268765133172"
      ]
     },
     "execution_count": 31,
     "metadata": {},
     "output_type": "execute_result"
    }
   ],
   "source": [
    "clf.score(X_test, y_test)"
   ]
  },
  {
   "cell_type": "code",
   "execution_count": 32,
   "metadata": {},
   "outputs": [
    {
     "data": {
      "text/plain": [
       "(2891,)"
      ]
     },
     "execution_count": 32,
     "metadata": {},
     "output_type": "execute_result"
    }
   ],
   "source": [
    "y_test.shape"
   ]
  },
  {
   "cell_type": "markdown",
   "metadata": {},
   "source": [
    "### Gradient Boosting"
   ]
  },
  {
   "cell_type": "code",
   "execution_count": 33,
   "metadata": {},
   "outputs": [
    {
     "data": {
      "text/plain": [
       "0.6413005880318229"
      ]
     },
     "execution_count": 33,
     "metadata": {},
     "output_type": "execute_result"
    }
   ],
   "source": [
    "model = GradientBoostingClassifier(max_depth=3, n_estimators=100)\n",
    "model.fit(X_train, y_train)\n",
    "importances = model.feature_importances_\n",
    "pd.crosstab( y_test, model.predict(X_test))\n",
    "model.score(X_test, y_test)"
   ]
  },
  {
   "cell_type": "code",
   "execution_count": 34,
   "metadata": {},
   "outputs": [
    {
     "data": {
      "image/png": "[encoded data removed]",
      "text/plain": [
       "<Figure size 432x288 with 1 Axes>"
      ]
     },
     "metadata": {
      "needs_background": "light"
     },
     "output_type": "display_data"
    }
   ],
   "source": [
    "bb = pd.DataFrame({'importances':model.feature_importances_,\n",
    "                   'variables':X_train.columns}).sort_values(by = 'importances', ascending= True)\n",
    "\n",
    "bb[-20:].plot.barh(x = 'variables', y='importances', color ='lightsteelblue')#, figsize =(15,5) )\n",
    "plt.yticks();#(fontsize = 10)"
   ]
  },
  {
   "cell_type": "code",
   "execution_count": 35,
   "metadata": {},
   "outputs": [
    {
     "data": {
      "text/html": [
       "<div>\n",
       "<style scoped>\n",
       "    .dataframe tbody tr th:only-of-type {\n",
       "        vertical-align: middle;\n",
       "    }\n",
       "\n",
       "    .dataframe tbody tr th {\n",
       "        vertical-align: top;\n",
       "    }\n",
       "\n",
       "    .dataframe thead th {\n",
       "        text-align: right;\n",
       "    }\n",
       "</style>\n",
       "<table border=\"1\" class=\"dataframe\">\n",
       "  <thead>\n",
       "    <tr style=\"text-align: right;\">\n",
       "      <th>col_0</th>\n",
       "      <th>0</th>\n",
       "      <th>1</th>\n",
       "      <th>2</th>\n",
       "      <th>3</th>\n",
       "    </tr>\n",
       "    <tr>\n",
       "      <th>cars_alt</th>\n",
       "      <th></th>\n",
       "      <th></th>\n",
       "      <th></th>\n",
       "      <th></th>\n",
       "    </tr>\n",
       "  </thead>\n",
       "  <tbody>\n",
       "    <tr>\n",
       "      <th>0</th>\n",
       "      <td>72</td>\n",
       "      <td>109</td>\n",
       "      <td>12</td>\n",
       "      <td>0</td>\n",
       "    </tr>\n",
       "    <tr>\n",
       "      <th>1</th>\n",
       "      <td>34</td>\n",
       "      <td>575</td>\n",
       "      <td>242</td>\n",
       "      <td>9</td>\n",
       "    </tr>\n",
       "    <tr>\n",
       "      <th>2</th>\n",
       "      <td>10</td>\n",
       "      <td>188</td>\n",
       "      <td>1004</td>\n",
       "      <td>72</td>\n",
       "    </tr>\n",
       "    <tr>\n",
       "      <th>3</th>\n",
       "      <td>2</td>\n",
       "      <td>38</td>\n",
       "      <td>321</td>\n",
       "      <td>203</td>\n",
       "    </tr>\n",
       "  </tbody>\n",
       "</table>\n",
       "</div>"
      ],
      "text/plain": [
       "col_0      0    1     2    3\n",
       "cars_alt                    \n",
       "0         72  109    12    0\n",
       "1         34  575   242    9\n",
       "2         10  188  1004   72\n",
       "3          2   38   321  203"
      ]
     },
     "execution_count": 35,
     "metadata": {},
     "output_type": "execute_result"
    }
   ],
   "source": [
    "pd.crosstab( y_test, model.predict(X_test))"
   ]
  },
  {
   "cell_type": "code",
   "execution_count": 36,
   "metadata": {},
   "outputs": [
    {
     "data": {
      "text/plain": [
       "0.6413005880318229"
      ]
     },
     "execution_count": 36,
     "metadata": {},
     "output_type": "execute_result"
    }
   ],
   "source": [
    "model.score(X_test, y_test)"
   ]
  },
  {
   "cell_type": "markdown",
   "metadata": {},
   "source": [
    "## MLN model"
   ]
  },
  {
   "cell_type": "markdown",
   "metadata": {},
   "source": [
    "*Select the fetures that are greater than the feature importances mean*"
   ]
  },
  {
   "cell_type": "code",
   "execution_count": 209,
   "metadata": {
    "scrolled": true
   },
   "outputs": [],
   "source": [
    "df_mnl = df[list(bb[bb.importances>bb.importances.mean()].variables)]\n",
    "df_mnl['cars_alt'] = df['cars_alt']"
   ]
  },
  {
   "cell_type": "code",
   "execution_count": 210,
   "metadata": {},
   "outputs": [],
   "source": [
    "continous_var = ['jobs_10000_serv', 'sqft_unit_500_walk', 'prop_singles_1500_walk',\n",
    "                 'avg_hhs_1500_walk', 'jobs_25000', 'prop_poor_500_walk','jobs_10000_tech', \n",
    "                 'population_20', 'jobs_25000_tech', 'poor_10000']\n",
    "\n",
    "dumy_var = ['TransitPass', 'age_0_15','worker_student', 'age_18_25', 'non_worker_non_student', \n",
    "            'age_60', 'age_40_60', 'RESTY', 'INCOM', 'worker']\n",
    "\n",
    "dependet_variable = ['cars_alt']"
   ]
  },
  {
   "cell_type": "code",
   "execution_count": 211,
   "metadata": {},
   "outputs": [],
   "source": [
    "#Creates 3 dummies for income\n",
    "#df_mnl['income_0_50k'] = [1 if x<=4 else 0 for x in df_mnl.INCOM]\n",
    "df_mnl['income_50K_150k'] = [1 if (x>4) & (x<=7) else 0 for x in df_mnl.INCOM]\n",
    "df_mnl['income_+150K'] = [1 if x>=8 else 0 for x in df_mnl.INCOM]\n",
    "df_mnl.drop(['INCOM'], axis = 1, inplace = True)\n",
    "\n",
    "#Creating an intercept\n",
    "df_mnl['intercept'] = np.ones(df_mnl.shape[0])"
   ]
  },
  {
   "cell_type": "code",
   "execution_count": 212,
   "metadata": {},
   "outputs": [],
   "source": [
    "#Splitting the data\n",
    "\n",
    "\n",
    "# x = df_mnl.loc[:,['intercept', 'income_0_50k','income_50K_150k', 'worker','RESTY', \n",
    "#                'age_18_25','age_25_40','age_40_60','age_60', 'TransitPass', 'non_worker_non_student',\n",
    "#                'TEN', 'jobs_25000_serv','poor_10000','population_20','jobs_25000_tech','jobs_10000_tech',\n",
    "#                   'units_mf_10000', 'avg_income_1500_walk']]\n",
    "               \n",
    "#                'units_mf_10000', 'avg_income_1500_walk', 'avg_hhs_1500_walk',\n",
    "#        'prop_poor_500_walk', 'prop_singles_1500_walk', 'jobs_25000',\n",
    "#        'jobs_10000_tech', 'jobs_25000_tech', 'population_20', 'poor_10000',\n",
    "#        'TEN', 'age_25_40', 'AGE', 'jobs_25000_serv', 'TransitPass', 'age_0_15',\n",
    "#        'worker_student', 'age_18_25', 'non_worker_non_student', 'age_60',\n",
    "#        'age_40_60', 'RESTY', ]\n",
    "\n",
    "x = df_mnl.drop(['cars_alt'], axis = 1)\n",
    "y = df_mnl.loc[:,'cars_alt']\n",
    "X_train, X_test, y_train, y_test = train_test_split(x, y, test_size=0.33, random_state= 2348)"
   ]
  },
  {
   "cell_type": "code",
   "execution_count": 214,
   "metadata": {
    "scrolled": false
   },
   "outputs": [],
   "source": [
    "\n",
    "\n",
    "@orca.injectable(autocall=False)\n",
    "def COM(y, x):\n",
    "    model = MNLogit(y_train, X_train)\n",
    "    result = model.fit()\n",
    "    return result\n",
    "\n",
    "\n",
    "# result.summary()"
   ]
  },
  {
   "cell_type": "code",
   "execution_count": 215,
   "metadata": {},
   "outputs": [
    {
     "name": "stdout",
     "output_type": "stream",
     "text": [
      "Optimization terminated successfully.\n",
      "         Current function value: 0.831409\n",
      "         Iterations 8\n"
     ]
    },
    {
     "data": {
      "text/plain": [
       "<bound method Summary.add_table_params of <class 'statsmodels.iolib.summary.Summary'>\n",
       "\"\"\"\n",
       "                          MNLogit Regression Results                          \n",
       "==============================================================================\n",
       "Dep. Variable:               cars_alt   No. Observations:                 5867\n",
       "Model:                        MNLogit   Df Residuals:                     5789\n",
       "Method:                           MLE   Df Model:                           75\n",
       "Date:                Tue, 18 Jun 2019   Pseudo R-squ.:                  0.3156\n",
       "Time:                        15:30:35   Log-Likelihood:                -4877.9\n",
       "converged:                       True   LL-Null:                       -7127.1\n",
       "                                        LLR p-value:                     0.000\n",
       "==========================================================================================\n",
       "            cars_alt=1       coef    std err          z      P>|z|      [0.025      0.975]\n",
       "------------------------------------------------------------------------------------------\n",
       "jobs_10000_serv        -4.403e-06   2.91e-05     -0.151      0.880   -6.14e-05    5.26e-05\n",
       "sqft_unit_500_walk        -0.0002      0.000     -1.764      0.078      -0.000    2.25e-05\n",
       "prop_singles_1500_walk    -3.3097      2.115     -1.565      0.118      -7.455       0.835\n",
       "avg_hhs_1500_walk         -0.8322      0.457     -1.823      0.068      -1.727       0.063\n",
       "jobs_25000              8.056e-07   1.06e-06      0.758      0.448   -1.28e-06    2.89e-06\n",
       "prop_poor_500_walk        -3.5740      1.395     -2.562      0.010      -6.308      -0.840\n",
       "jobs_10000_tech         6.681e-07   9.04e-06      0.074      0.941   -1.71e-05    1.84e-05\n",
       "population_20          -3.907e-07   1.84e-07     -2.121      0.034   -7.52e-07   -2.97e-08\n",
       "jobs_25000_tech        -1.555e-05   5.88e-06     -2.646      0.008   -2.71e-05   -4.03e-06\n",
       "poor_10000             -1.505e-05   8.38e-06     -1.796      0.073   -3.15e-05    1.37e-06\n",
       "TEN                        0.0009      0.006      0.168      0.867      -0.010       0.012\n",
       "age_25_40                  0.3354      0.300      1.118      0.263      -0.252       0.923\n",
       "AGE                       -0.0001      0.000     -0.309      0.757      -0.001       0.001\n",
       "jobs_25000_serv         3.387e-05   1.79e-05      1.892      0.058   -1.21e-06     6.9e-05\n",
       "TransitPass               -0.8022      0.103     -7.826      0.000      -1.003      -0.601\n",
       "age_0_15                   0.2500      0.145      1.721      0.085      -0.035       0.535\n",
       "worker_student             0.1466      0.320      0.458      0.647      -0.481       0.775\n",
       "age_18_25                  0.5412      0.320      1.693      0.090      -0.085       1.168\n",
       "non_worker_non_student     0.0981      0.245      0.401      0.688      -0.381       0.578\n",
       "age_60                     0.4887      0.283      1.729      0.084      -0.065       1.043\n",
       "age_40_60                  0.1576      0.277      0.568      0.570      -0.386       0.701\n",
       "RESTY                     -0.6963      0.155     -4.490      0.000      -1.000      -0.392\n",
       "worker                     0.6855      0.254      2.702      0.007       0.188       1.183\n",
       "income_50K_150k            1.4866      0.160      9.269      0.000       1.172       1.801\n",
       "income_+150K               1.4709      0.286      5.139      0.000       0.910       2.032\n",
       "intercept                  5.0204      1.643      3.055      0.002       1.800       8.241\n",
       "------------------------------------------------------------------------------------------\n",
       "            cars_alt=2       coef    std err          z      P>|z|      [0.025      0.975]\n",
       "------------------------------------------------------------------------------------------\n",
       "jobs_10000_serv        -3.161e-06   3.21e-05     -0.099      0.921    -6.6e-05    5.97e-05\n",
       "sqft_unit_500_walk     -4.154e-05      0.000     -0.309      0.757      -0.000       0.000\n",
       "prop_singles_1500_walk    -4.6581      2.283     -2.040      0.041      -9.133      -0.184\n",
       "avg_hhs_1500_walk         -0.9385      0.485     -1.937      0.053      -1.888       0.011\n",
       "jobs_25000              1.204e-06   1.13e-06      1.063      0.288   -1.02e-06    3.43e-06\n",
       "prop_poor_500_walk        -5.5061      1.601     -3.440      0.001      -8.643      -2.369\n",
       "jobs_10000_tech        -5.798e-06   9.95e-06     -0.583      0.560   -2.53e-05    1.37e-05\n",
       "population_20           -7.58e-07   2.04e-07     -3.717      0.000   -1.16e-06   -3.58e-07\n",
       "jobs_25000_tech        -1.659e-05   6.28e-06     -2.644      0.008   -2.89e-05   -4.29e-06\n",
       "poor_10000             -9.405e-06   9.32e-06     -1.009      0.313   -2.77e-05    8.86e-06\n",
       "TEN                        0.0041      0.006      0.655      0.512      -0.008       0.016\n",
       "age_25_40                  1.9785      0.318      6.216      0.000       1.355       2.602\n",
       "AGE                    -7.817e-05      0.000     -0.201      0.841      -0.001       0.001\n",
       "jobs_25000_serv         2.889e-05   1.92e-05      1.501      0.133   -8.83e-06    6.66e-05\n",
       "TransitPass               -1.2145      0.111    -10.980      0.000      -1.431      -0.998\n",
       "age_0_15                   0.5491      0.149      3.682      0.000       0.257       0.841\n",
       "worker_student             0.5070      0.340      1.490      0.136      -0.160       1.174\n",
       "age_18_25                  1.0915      0.339      3.217      0.001       0.426       1.756\n",
       "non_worker_non_student    -0.0701      0.256     -0.274      0.784      -0.573       0.432\n",
       "age_60                     2.3882      0.299      7.985      0.000       1.802       2.974\n",
       "age_40_60                  2.0819      0.294      7.083      0.000       1.506       2.658\n",
       "RESTY                     -1.3491      0.181     -7.463      0.000      -1.703      -0.995\n",
       "worker                     0.9776      0.268      3.653      0.000       0.453       1.502\n",
       "income_50K_150k            2.5139      0.178     14.095      0.000       2.164       2.863\n",
       "income_+150K               3.1101      0.301     10.334      0.000       2.520       3.700\n",
       "intercept                  1.9806      1.763      1.123      0.261      -1.476       5.437\n",
       "------------------------------------------------------------------------------------------\n",
       "            cars_alt=3       coef    std err          z      P>|z|      [0.025      0.975]\n",
       "------------------------------------------------------------------------------------------\n",
       "jobs_10000_serv         -1.26e-05   3.66e-05     -0.344      0.731   -8.43e-05    5.91e-05\n",
       "sqft_unit_500_walk     -2.384e-05      0.000     -0.154      0.878      -0.000       0.000\n",
       "prop_singles_1500_walk    -6.7578      2.467     -2.739      0.006     -11.594      -1.922\n",
       "avg_hhs_1500_walk         -1.2563      0.515     -2.438      0.015      -2.266      -0.246\n",
       "jobs_25000              1.394e-06   1.24e-06      1.124      0.261   -1.04e-06    3.82e-06\n",
       "prop_poor_500_walk        -6.3191      1.865     -3.389      0.001      -9.974      -2.665\n",
       "jobs_10000_tech         -1.86e-06   1.13e-05     -0.164      0.870   -2.41e-05    2.03e-05\n",
       "population_20          -9.969e-07   2.36e-07     -4.232      0.000   -1.46e-06   -5.35e-07\n",
       "jobs_25000_tech        -1.882e-05   6.88e-06     -2.738      0.006   -3.23e-05   -5.35e-06\n",
       "poor_10000             -1.289e-05   1.07e-05     -1.199      0.230   -3.39e-05    8.18e-06\n",
       "TEN                        0.0247      0.007      3.552      0.000       0.011       0.038\n",
       "age_25_40                  2.7811      0.334      8.327      0.000       2.127       3.436\n",
       "AGE                       -0.0006      0.000     -1.333      0.182      -0.001       0.000\n",
       "jobs_25000_serv         3.043e-05   2.11e-05      1.443      0.149   -1.09e-05    7.17e-05\n",
       "TransitPass               -1.5202      0.124    -12.225      0.000      -1.764      -1.276\n",
       "age_0_15                   0.2936      0.157      1.874      0.061      -0.014       0.601\n",
       "worker_student             1.2819      0.356      3.599      0.000       0.584       1.980\n",
       "age_18_25                  2.0149      0.349      5.776      0.000       1.331       2.699\n",
       "non_worker_non_student     0.1491      0.270      0.552      0.581      -0.380       0.678\n",
       "age_60                     3.0876      0.315      9.802      0.000       2.470       3.705\n",
       "age_40_60                  2.9455      0.310      9.506      0.000       2.338       3.553\n",
       "RESTY                     -1.5218      0.256     -5.956      0.000      -2.023      -1.021\n",
       "worker                     1.4927      0.282      5.292      0.000       0.940       2.046\n",
       "income_50K_150k            3.0428      0.216     14.073      0.000       2.619       3.467\n",
       "income_+150K               3.8029      0.330     11.519      0.000       3.156       4.450\n",
       "intercept                 -0.8283      1.903     -0.435      0.663      -4.558       2.901\n",
       "==========================================================================================\n",
       "\"\"\">"
      ]
     },
     "execution_count": 215,
     "metadata": {},
     "output_type": "execute_result"
    }
   ],
   "source": [
    "orca.get_injectable('COM')(y_train, X_train).summary().add_table_params"
   ]
  },
  {
   "cell_type": "code",
   "execution_count": 128,
   "metadata": {},
   "outputs": [
    {
     "data": {
      "text/html": [
       "<div>\n",
       "<style scoped>\n",
       "    .dataframe tbody tr th:only-of-type {\n",
       "        vertical-align: middle;\n",
       "    }\n",
       "\n",
       "    .dataframe tbody tr th {\n",
       "        vertical-align: top;\n",
       "    }\n",
       "\n",
       "    .dataframe thead th {\n",
       "        text-align: right;\n",
       "    }\n",
       "</style>\n",
       "<table border=\"1\" class=\"dataframe\">\n",
       "  <thead>\n",
       "    <tr style=\"text-align: right;\">\n",
       "      <th>predicted</th>\n",
       "      <th>0</th>\n",
       "      <th>1</th>\n",
       "      <th>2</th>\n",
       "      <th>3</th>\n",
       "    </tr>\n",
       "    <tr>\n",
       "      <th>cars_alt</th>\n",
       "      <th></th>\n",
       "      <th></th>\n",
       "      <th></th>\n",
       "      <th></th>\n",
       "    </tr>\n",
       "  </thead>\n",
       "  <tbody>\n",
       "    <tr>\n",
       "      <th>0</th>\n",
       "      <td>0.326</td>\n",
       "      <td>0.588</td>\n",
       "      <td>0.084</td>\n",
       "      <td>0.002</td>\n",
       "    </tr>\n",
       "    <tr>\n",
       "      <th>1</th>\n",
       "      <td>0.031</td>\n",
       "      <td>0.680</td>\n",
       "      <td>0.279</td>\n",
       "      <td>0.010</td>\n",
       "    </tr>\n",
       "    <tr>\n",
       "      <th>2</th>\n",
       "      <td>0.003</td>\n",
       "      <td>0.133</td>\n",
       "      <td>0.810</td>\n",
       "      <td>0.054</td>\n",
       "    </tr>\n",
       "    <tr>\n",
       "      <th>3</th>\n",
       "      <td>0.002</td>\n",
       "      <td>0.050</td>\n",
       "      <td>0.584</td>\n",
       "      <td>0.364</td>\n",
       "    </tr>\n",
       "  </tbody>\n",
       "</table>\n",
       "</div>"
      ],
      "text/plain": [
       "predicted      0      1      2      3\n",
       "cars_alt                             \n",
       "0          0.326  0.588  0.084  0.002\n",
       "1          0.031  0.680  0.279  0.010\n",
       "2          0.003  0.133  0.810  0.054\n",
       "3          0.002  0.050  0.584  0.364"
      ]
     },
     "execution_count": 128,
     "metadata": {},
     "output_type": "execute_result"
    }
   ],
   "source": [
    "#Prediction\n",
    "mnl_result = result.predict(X_train)\n",
    "mnl_result['predicted'] = mnl_result.idxmax(axis=1, skipna=True)\n",
    "\n",
    "#Cross tab\n",
    "pd.crosstab( y_train, mnl_result['predicted'], normalize= 'index').round(decimals=3)"
   ]
  },
  {
   "cell_type": "code",
   "execution_count": 129,
   "metadata": {},
   "outputs": [
    {
     "data": {
      "text/html": [
       "<div>\n",
       "<style scoped>\n",
       "    .dataframe tbody tr th:only-of-type {\n",
       "        vertical-align: middle;\n",
       "    }\n",
       "\n",
       "    .dataframe tbody tr th {\n",
       "        vertical-align: top;\n",
       "    }\n",
       "\n",
       "    .dataframe thead th {\n",
       "        text-align: right;\n",
       "    }\n",
       "</style>\n",
       "<table border=\"1\" class=\"dataframe\">\n",
       "  <thead>\n",
       "    <tr style=\"text-align: right;\">\n",
       "      <th>predicted</th>\n",
       "      <th>0</th>\n",
       "      <th>1</th>\n",
       "      <th>2</th>\n",
       "      <th>3</th>\n",
       "    </tr>\n",
       "    <tr>\n",
       "      <th>cars_alt</th>\n",
       "      <th></th>\n",
       "      <th></th>\n",
       "      <th></th>\n",
       "      <th></th>\n",
       "    </tr>\n",
       "  </thead>\n",
       "  <tbody>\n",
       "    <tr>\n",
       "      <th>0</th>\n",
       "      <td>132</td>\n",
       "      <td>238</td>\n",
       "      <td>34</td>\n",
       "      <td>1</td>\n",
       "    </tr>\n",
       "    <tr>\n",
       "      <th>1</th>\n",
       "      <td>57</td>\n",
       "      <td>1240</td>\n",
       "      <td>508</td>\n",
       "      <td>18</td>\n",
       "    </tr>\n",
       "    <tr>\n",
       "      <th>2</th>\n",
       "      <td>7</td>\n",
       "      <td>345</td>\n",
       "      <td>2108</td>\n",
       "      <td>141</td>\n",
       "    </tr>\n",
       "    <tr>\n",
       "      <th>3</th>\n",
       "      <td>2</td>\n",
       "      <td>52</td>\n",
       "      <td>606</td>\n",
       "      <td>378</td>\n",
       "    </tr>\n",
       "  </tbody>\n",
       "</table>\n",
       "</div>"
      ],
      "text/plain": [
       "predicted    0     1     2    3\n",
       "cars_alt                       \n",
       "0          132   238    34    1\n",
       "1           57  1240   508   18\n",
       "2            7   345  2108  141\n",
       "3            2    52   606  378"
      ]
     },
     "execution_count": 129,
     "metadata": {},
     "output_type": "execute_result"
    }
   ],
   "source": [
    "a = pd.crosstab( y_train, mnl_result['predicted'])\n",
    "a"
   ]
  },
  {
   "cell_type": "code",
   "execution_count": 130,
   "metadata": {},
   "outputs": [
    {
     "data": {
      "text/plain": [
       "0.6575762740753366"
      ]
     },
     "execution_count": 130,
     "metadata": {},
     "output_type": "execute_result"
    }
   ],
   "source": [
    "accuracy = np.sum(np.diagonal(np.array(a)))/y_train.shape[0]\n",
    "accuracy"
   ]
  },
  {
   "cell_type": "code",
   "execution_count": 150,
   "metadata": {},
   "outputs": [
    {
     "data": {
      "text/plain": [
       "<orca.orca.DataFrameWrapper at 0x7f82dd88d978>"
      ]
     },
     "execution_count": 150,
     "metadata": {},
     "output_type": "execute_result"
    }
   ],
   "source": [
    "df = pd.DataFrame({'B': [1,1,1,1,1,1,1], \n",
    "                   'C': [1,2,3,1,2,3,1]})\n",
    "orca.add_table('x_matrix', df)"
   ]
  },
  {
   "cell_type": "code",
   "execution_count": 168,
   "metadata": {},
   "outputs": [
    {
     "data": {
      "text/plain": [
       "<orca.orca.DataFrameWrapper at 0x7f82e637c630>"
      ]
     },
     "execution_count": 168,
     "metadata": {},
     "output_type": "execute_result"
    }
   ],
   "source": [
    "\n",
    "\n",
    "orca.add_table('x_matrix', df_mnl)"
   ]
  },
  {
   "cell_type": "code",
   "execution_count": 180,
   "metadata": {},
   "outputs": [],
   "source": [
    "m = SmallMultinomialLogitStep()\n",
    "m.name = 'car_ownership_model'\n",
    "m.tables = ['x_matrix']\n",
    "m.choice_column = 'cars_alt'\n",
    "m.model_expression = OrderedDict([('intercept', [0,1,2])])"
   ]
  },
  {
   "cell_type": "code",
   "execution_count": 181,
   "metadata": {},
   "outputs": [
    {
     "name": "stdout",
     "output_type": "stream",
     "text": [
      "Log-likelihood at zero: -7,861.6695\n",
      "Initial Log-likelihood: -7,861.6695\n",
      "Estimation Time for Point Estimation: 0.20 seconds.\n",
      "Final log-likelihood: -6,585.6830\n",
      "                     Multinomial Logit Model Regression Results                    \n",
      "===================================================================================\n",
      "Dep. Variable:                     _chosen   No. Observations:                8,758\n",
      "Model:             Multinomial Logit Model   Df Residuals:                    8,755\n",
      "Method:                                MLE   Df Model:                            3\n",
      "Date:                     Tue, 18 Jun 2019   Pseudo R-squ.:                   0.162\n",
      "Time:                             14:59:31   Pseudo R-bar-squ.:               0.162\n",
      "AIC:                            13,177.366   Log-Likelihood:             -6,585.683\n",
      "BIC:                            13,198.599   LL-Null:                    -7,861.670\n",
      "===============================================================================\n",
      "                  coef    std err          z      P>|z|      [0.025      0.975]\n",
      "-------------------------------------------------------------------------------\n",
      "intercept_0    -1.3052   5.02e+04   -2.6e-05      1.000   -9.83e+04    9.83e+04\n",
      "intercept_1    -0.1972   5.02e+04  -3.93e-06      1.000   -9.83e+04    9.83e+04\n",
      "intercept_2     0.0145   5.02e+04   2.88e-07      1.000   -9.83e+04    9.83e+04\n",
      "===============================================================================\n"
     ]
    }
   ],
   "source": [
    "m.fit()"
   ]
  },
  {
   "cell_type": "code",
   "execution_count": 183,
   "metadata": {},
   "outputs": [
    {
     "name": "stdout",
     "output_type": "stream",
     "text": [
      "Optimization terminated successfully.\n",
      "         Current function value: 1.217206\n",
      "         Iterations 6\n"
     ]
    },
    {
     "data": {
      "text/plain": [
       "<bound method Summary.add_table_params of <class 'statsmodels.iolib.summary.Summary'>\n",
       "\"\"\"\n",
       "                          MNLogit Regression Results                          \n",
       "==============================================================================\n",
       "Dep. Variable:               cars_alt   No. Observations:                 8758\n",
       "Model:                        MNLogit   Df Residuals:                     8755\n",
       "Method:                           MLE   Df Model:                            0\n",
       "Date:                Tue, 18 Jun 2019   Pseudo R-squ.:               4.161e-11\n",
       "Time:                        15:13:26   Log-Likelihood:                -10660.\n",
       "converged:                       True   LL-Null:                       -10660.\n",
       "                                        LLR p-value:                       nan\n",
       "==============================================================================\n",
       "cars_alt=1       coef    std err          z      P>|z|      [0.025      0.975]\n",
       "------------------------------------------------------------------------------\n",
       "intercept      1.5011      0.045     33.195      0.000       1.412       1.590\n",
       "------------------------------------------------------------------------------\n",
       "cars_alt=2       coef    std err          z      P>|z|      [0.025      0.975]\n",
       "------------------------------------------------------------------------------\n",
       "intercept      1.8687      0.044     42.533      0.000       1.783       1.955\n",
       "------------------------------------------------------------------------------\n",
       "cars_alt=3       coef    std err          z      P>|z|      [0.025      0.975]\n",
       "------------------------------------------------------------------------------\n",
       "intercept      0.9854      0.048     20.563      0.000       0.891       1.079\n",
       "==============================================================================\n",
       "\"\"\">"
      ]
     },
     "execution_count": 183,
     "metadata": {},
     "output_type": "execute_result"
    }
   ],
   "source": [
    "from statsmodels.discrete.discrete_model import MNLogit\n",
    "model = MNLogit(df_mnl.loc[:,['cars_alt']], df_mnl.loc[:,['intercept']])\n",
    "result = model.fit()\n",
    "result.summary().add_table_params"
   ]
  }
 ],
 "metadata": {
  "kernelspec": {
   "display_name": "Python 3",
   "language": "python",
   "name": "python3"
  },
  "language_info": {
   "codemirror_mode": {
    "name": "ipython",
    "version": 3
   },
   "file_extension": ".py",
   "mimetype": "text/x-python",
   "name": "python",
   "nbconvert_exporter": "python",
   "pygments_lexer": "ipython3",
   "version": "3.6.7"
  }
 },
 "nbformat": 4,
 "nbformat_minor": 2
}
