{
 "cells": [
  {
   "cell_type": "markdown",
   "metadata": {},
   "source": [
    "# SMC SIMULATION K-12"
   ]
  },
  {
   "cell_type": "code",
   "execution_count": 1,
   "metadata": {},
   "outputs": [
    {
     "name": "stdout",
     "output_type": "stream",
     "text": [
      "Registering model step 'auto_ownership'\n",
      "Registering model step 'WLCM_gen_tt'\n",
      "Registering model step 'TOD_choice'\n",
      "Registering model step 'primary_mode_choice'\n",
      "Registering model step 'WLCM'\n"
     ]
    }
   ],
   "source": [
    "import numpy as np\n",
    "import pandas as pd\n",
    "import orca\n",
    "from matplotlib import pyplot as plt\n",
    "import matplotlib.animation as animation\n",
    "import seaborn as sns\n",
    "import os; os.chdir('../../')\n",
    "import warnings; warnings.simplefilter('ignore')\n",
    "\n",
    "import pandana as pdna\n",
    "from collections import OrderedDict\n",
    "import pylogit as pl\n",
    "from pylogit import nested_logit as nl\n",
    "import math \n",
    "import pickle\n",
    "import dill\n",
    "import time\n",
    "import random\n",
    "import scipy.stats as st\n",
    "from sklearn.neighbors import BallTree\n",
    "from sklearn.model_selection import train_test_split\n",
    "from sklearn.preprocessing import StandardScaler\n",
    "from sklearn.model_selection import cross_validate\n",
    "from sklearn import tree\n",
    "from sklearn.ensemble import GradientBoostingClassifier\n",
    "    \n",
    "from urbansim_templates import modelmanager as mm\n",
    "from urbansim_templates.models import LargeMultinomialLogitStep\n",
    "from urbansim.utils import misc\n",
    "import urbansim_templates\n",
    "\n",
    "from scripts import datasources, models, variables, utils"
   ]
  },
  {
   "cell_type": "code",
   "execution_count": 2,
   "metadata": {},
   "outputs": [],
   "source": [
    "input_file_format = 'csv'\n",
    "input_data_dir = '/home/data/spring_2019/base/'\n",
    "\n",
    "formattable_fname_dict = {\n",
    "    'parcels': 'parcels.{0}',\n",
    "    'buildings': 'buildings.{0}',\n",
    "    'jobs': 'jobs.{0}',\n",
    "    'establishments': 'establishments.{0}',\n",
    "    'households': 'households.{0}',\n",
    "    'persons': 'persons.{0}',\n",
    "    'rentals': 'craigslist.{0}',\n",
    "    'units': 'units.{0}',\n",
    "    'mtc_skims': 'mtc_skims.{0}',\n",
    "    'beam_skims_raw': '30.skims-smart-23April2019-baseline.csv.gz',\n",
    "    'beam_skims_imputed': 'beam_skims_imputed.{0}',\n",
    "    # the following nodes and edges .csv's will be phased out and\n",
    "    # replaced by travel model skims entirely\n",
    "    'drive_nodes': 'drive_nodes.{0}',\n",
    "    'drive_edges': 'drive_edges.{0}',\n",
    "    'drive_access_vars': 'drive_net_vars.{0}',\n",
    "    'walk_nodes': 'walk_nodes.{0}',\n",
    "    'walk_edges': 'walk_edges.{0}',\n",
    "    'walk_access_vars': 'walk_net_vars.{0}',\n",
    "    'zones': 'zones.{0}',\n",
    "    'zone_access_vars': 'zones_w_access_vars.{0}',\n",
    "}\n",
    "\n",
    "def format_fname_dict(formattable_fname_dict, format='csv'):\n",
    "    formatted_dict = {\n",
    "        k: v.format('csv')\n",
    "        for k, v in formattable_fname_dict.items()}\n",
    "    return formatted_dict\n",
    "\n",
    "input_fnames = format_fname_dict(\n",
    "            formattable_fname_dict, input_file_format)"
   ]
  },
  {
   "cell_type": "code",
   "execution_count": 3,
   "metadata": {},
   "outputs": [],
   "source": [
    "orca.add_injectable('input_file_format', input_file_format)\n",
    "orca.add_injectable('input_data_dir', input_data_dir)\n",
    "orca.add_injectable('input_fnames', input_fnames)\n",
    "orca.add_injectable('store', None)"
   ]
  },
  {
   "cell_type": "code",
   "execution_count": 4,
   "metadata": {},
   "outputs": [
    {
     "name": "stdout",
     "output_type": "stream",
     "text": [
      "Running step 'initialize_network_small'\n",
      "Time to execute step 'initialize_network_small': 0.00 s\n",
      "Total time to execute iteration 1 with iteration value None: 0.00 s\n",
      "Running step 'initialize_network_walk'\n",
      "Time to execute step 'initialize_network_walk': 0.00 s\n",
      "Total time to execute iteration 1 with iteration value None: 0.00 s\n",
      "Running step 'initialize_imputed_skims'\n",
      "No imputed skims found. Creating them now.\n",
      "Time to execute step 'initialize_imputed_skims': 85.62 s\n",
      "Total time to execute iteration 1 with iteration value None: 85.62 s\n",
      "Running step 'skims_aggregations'\n",
      "Time to execute step 'skims_aggregations': 0.00 s\n",
      "Total time to execute iteration 1 with iteration value None: 0.00 s\n"
     ]
    }
   ],
   "source": [
    "orca.run(['initialize_network_small']) \n",
    "orca.run([ 'initialize_network_walk']) \n",
    "orca.run(['initialize_imputed_skims']) \n",
    "orca.run(['skims_aggregations']) "
   ]
  },
  {
   "cell_type": "code",
   "execution_count": 5,
   "metadata": {},
   "outputs": [
    {
     "name": "stdout",
     "output_type": "stream",
     "text": [
      "Running step 'SLCM_simulate'\n",
      "Time to execute step 'SLCM_simulate': 886.15 s\n",
      "Running step 'TOD_school_arrival_simulate'\n",
      "Time to execute step 'TOD_school_arrival_simulate': 33.32 s\n",
      "Running step 'TOD_school_departure_simulate'\n",
      "Time to execute step 'TOD_school_departure_simulate': 11.72 s\n",
      "Running step 'TOD_school_distribution_simulate'\n",
      "Time to execute step 'TOD_school_distribution_simulate': 1.44 s\n",
      "Total time to execute iteration 1 with iteration value None: 932.63 s\n"
     ]
    }
   ],
   "source": [
    "orca.run(['SLCM_simulate','TOD_school_arrival_simulate','TOD_school_departure_simulate','TOD_school_distribution_simulate']) "
   ]
  },
  {
   "cell_type": "code",
   "execution_count": 6,
   "metadata": {},
   "outputs": [],
   "source": [
    "# In variables.py files\n",
    "\n",
    "@orca.column('households', cache=True)\n",
    "def hispanic_head_SMC(households):\n",
    "    return households.hispanic_head.replace({'yes': 1, 'no': 0})\n",
    "\n",
    "@orca.column('households', cache=True)\n",
    "def tenure_SMC(households):\n",
    "    return households.tenure.replace([1, 2],[1, 0])\n",
    "\n",
    "@orca.column('households', cache=True)\n",
    "def income_1(households):\n",
    "    s = pd.cut(households.income, [-math.inf, 9999, 24999, 34999, 49999, \n",
    "                                        74999, 99999,149999, 199999, 249999, math.inf], \n",
    "                            labels = [1,2,3,4,5,6,7,8,9,10])\n",
    "    return s \n",
    "\n",
    "@orca.column('households', cache=True)\n",
    "def race_head_white(households):\n",
    "    return (households.race_of_head == 1.0).astype(int)\n",
    "\n",
    "@orca.column('households', cache=True)\n",
    "def race_head_african_american(households):\n",
    "    return (households.race_of_head == 2.0).astype(int)\n",
    "\n",
    "@orca.column('households', column_name = 'race_head_indian/alaska', cache=True)\n",
    "def race_head_alaska(households):\n",
    "    return households.race_of_head.between(3.0, 5.0, inclusive=True).astype(int)\n",
    "            \n",
    "@orca.column('households', cache=True)\n",
    "def race_head_asian(households):\n",
    "    return (households.race_of_head == 6.0).astype(int)\n",
    "            \n",
    "@orca.column('households', column_name = 'race_head_hawaii/pacific', cache=True)\n",
    "def race_head_hawaii(households):\n",
    "    return (households.race_of_head == 7.0).astype(int)\n",
    "\n",
    "@orca.column('households', column_name= 'race_head_other', cache=True)\n",
    "def race_head_other(households):\n",
    "    return (households.race_of_head == 8.0).astype(int)\n",
    "\n",
    "@orca.column('households', column_name= 'race_head_2+races')\n",
    "def race_head_two(households):\n",
    "    return (households.race_of_head == 9.0).astype(int)\n",
    "\n",
    "@orca.column('persons', cache=True)\n",
    "def sex_SMC(persons):\n",
    "    return persons.sex.replace([1, 2],[0, 1])\n",
    "\n",
    "@orca.column('persons', cache=True)\n",
    "def race_white(persons):\n",
    "    return (persons.race_id == 1.0).astype(int)\n",
    "\n",
    "@orca.column('persons', cache=True)\n",
    "def race_african_american(persons):\n",
    "    return (persons.race_id == 2.0).astype(int)\n",
    "\n",
    "@orca.column('persons', column_name = 'race_indian/alaska', cache=True)\n",
    "def race_alaska(persons):\n",
    "    return persons.race_id.between(3.0, 5.0, inclusive=True).astype(int)\n",
    "            \n",
    "@orca.column('persons', cache=True)\n",
    "def race_asian(persons):\n",
    "    return (persons.race_id == 6.0).astype(int)\n",
    "            \n",
    "@orca.column('persons', column_name = 'race_hawaii/pacific', cache=True)\n",
    "def race_hawaii(persons):\n",
    "    return (persons.race_id == 7.0).astype(int)\n",
    "\n",
    "@orca.column('persons', column_name= 'race_other', cache=True)\n",
    "def race_other(persons):\n",
    "    return (persons.race_id == 8.0).astype(int)\n",
    "\n",
    "@orca.column('persons', column_name= 'race_2+races', cache=True)\n",
    "def race_two(persons):\n",
    "    return (persons.race_id == 9.0).astype(int)"
   ]
  },
  {
   "cell_type": "code",
   "execution_count": 7,
   "metadata": {},
   "outputs": [],
   "source": [
    "# In utils.py file\n",
    "@orca.injectable(cache = True)\n",
    "def school_mode_choice_table():\n",
    "    \n",
    "    #Define bradcasting\n",
    "    orca.broadcast(cast = 'household', onto = 'persons', cast_index = True, onto_on= 'household_id')\n",
    "    orca.broadcast(cast = 'zones', onto = 'persons', cast_index= True, onto_on = 'zone_id_home')\n",
    "    \n",
    "    #Merging tables \n",
    "    df = orca.merge_tables(target = 'persons', tables = ['households', 'zones', 'persons'])\n",
    "    \n",
    "    df = pd.merge(df, orca.get_table('beam_skims_imputed').to_frame().reset_index(), how = 'left', \n",
    "              left_on = ['zone_id_home', 'zone_id_school'], \n",
    "              right_on = ['from_zone_id', 'to_zone_id'])\n",
    "    \n",
    "    list_var = ['sex_SMC', 'tenure_SMC', 'recent_mover', 'hispanic_head_SMC', 'income_1',\n",
    "       'race_2+races', 'race_african_american', 'race_asian',\n",
    "       'race_hawaii/pacific', 'race_indian/alaska', 'race_other', 'race_white',\n",
    "       'race_head_2+races', 'race_head_african_american', 'race_head_asian',\n",
    "       'race_head_hawaii/pacific', 'race_head_indian/alaska',\n",
    "       'race_head_other', 'race_head_white', 'age', 'persons', 'cars',\n",
    "       'workers', 'children', 'age_of_head', 'HS_ET',\n",
    "       'sum_residential_units_gen_tt_WALK_TRANSIT_15',\n",
    "       'total_jobs_gen_tt_WALK_TRANSIT_45',\n",
    "       'avg_income_gen_tt_WALK_TRANSIT_30', 'sum_residential_units',\n",
    "       'sum_persons_gen_tt_WALK_TRANSIT_15',\n",
    "       'sum_income_gen_tt_WALK_TRANSIT_15', 'sum_income_gen_tt_CAR_45',\n",
    "       'sum_persons_gen_tt_CAR_15', 'avg_income', 'total_jobs', 'sum_income',\n",
    "       'sum_persons_gen_tt_CAR_45', 'sum_income_gen_tt_WALK_TRANSIT_45',\n",
    "       'sum_residential_units_gen_tt_WALK_TRANSIT_45',\n",
    "       'avg_income_gen_tt_CAR_30', 'sum_residential_units_gen_tt_CAR_15',\n",
    "       'sum_persons_gen_tt_WALK_TRANSIT_45', 'total_jobs_gen_tt_CAR_45',\n",
    "       'total_jobs_gen_tt_CAR_15', 'sum_persons',\n",
    "       'sum_residential_units_gen_tt_CAR_45', 'sum_income_gen_tt_CAR_15',\n",
    "       'total_jobs_gen_tt_WALK_TRANSIT_15', 'gen_tt_CAR',\n",
    "       'gen_tt_DRIVE_TRANSIT', 'gen_cost_WALK_TRANSIT',\n",
    "       'gen_tt_RIDE_HAIL_TRANSIT', 'gen_cost_RIDE_HAIL_TRANSIT',\n",
    "       'gen_cost_CAR', 'gen_cost_DRIVE_TRANSIT', 'gen_cost_WALK', 'dist',\n",
    "       'gen_cost_RIDE_HAIL', 'gen_tt_RIDE_HAIL', 'gen_cost_BIKE',\n",
    "       'gen_tt_WALK', 'gen_cost_RIDE_HAIL_POOLED', 'gen_tt_WALK_TRANSIT',\n",
    "       'gen_tt_BIKE', 'gen_tt_RIDE_HAIL_POOLED'] #List of variables in the same order as in model estimation\n",
    "    \n",
    "    students = df[(df.age> 4) & (df.age <=18) & (df.student == 1)][list_var]\n",
    "    \n",
    "    return students\n"
   ]
  },
  {
   "cell_type": "code",
   "execution_count": 8,
   "metadata": {},
   "outputs": [],
   "source": [
    "## in models.py file\n",
    "@orca.step()\n",
    "def SMC_simulate(persons):\n",
    "    \"\"\"\n",
    "      School Mode Choice simulation: Mode choice for school trips \n",
    "      1. Drive alone\n",
    "      2. Shared\n",
    "      3. Walk\n",
    "      4. Bike\n",
    "      5. Walk to transit\n",
    "      6. Drive to transit\n",
    "      7. School Bus\n",
    "      \n",
    "    \"\"\"\n",
    "    data = orca.get_injectable('school_mode_choice_table')\n",
    "    \n",
    "    #Running the simulation\n",
    "    file_Name = \"/home/juan/activitysynth/activitysynth/configs/SMC_ml.pkl\"\n",
    "    fileObject = open(file_Name,'rb')  \n",
    "    mode_choice = pickle.load(fileObject)\n",
    "\n",
    "    data = orca.get_injectable('school_mode_choice_table')\n",
    "    choice_col = pd.Series(mode_choice.predict(data), index = data.index )\n",
    "    \n",
    "    #Adding column to persons table\n",
    "    persons.update_col('school_mode_choice', choice_col)"
   ]
  },
  {
   "cell_type": "code",
   "execution_count": 9,
   "metadata": {},
   "outputs": [
    {
     "name": "stdout",
     "output_type": "stream",
     "text": [
      "Running step 'SMC_simulate'\n",
      "Time to execute step 'SMC_simulate': 143.16 s\n",
      "Total time to execute iteration 1 with iteration value None: 143.16 s\n"
     ]
    }
   ],
   "source": [
    "orca.run(['SMC_simulate'])"
   ]
  },
  {
   "cell_type": "code",
   "execution_count": null,
   "metadata": {},
   "outputs": [],
   "source": []
  }
 ],
 "metadata": {
  "kernelspec": {
   "display_name": "Python 3",
   "language": "python",
   "name": "python3"
  },
  "language_info": {
   "codemirror_mode": {
    "name": "ipython",
    "version": 3
   },
   "file_extension": ".py",
   "mimetype": "text/x-python",
   "name": "python",
   "nbconvert_exporter": "python",
   "pygments_lexer": "ipython3",
   "version": "3.6.7"
  }
 },
 "nbformat": 4,
 "nbformat_minor": 2
}
