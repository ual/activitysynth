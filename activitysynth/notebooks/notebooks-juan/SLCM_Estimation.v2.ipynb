{
 "cells": [
  {
   "cell_type": "code",
   "execution_count": 1,
   "metadata": {},
   "outputs": [
    {
     "name": "stdout",
     "output_type": "stream",
     "text": [
      "Registering model step 'auto_ownership'\n",
      "Registering model step 'WLCM_gen_tt'\n",
      "Registering model step 'TOD_choice'\n",
      "Registering model step 'primary_mode_choice'\n",
      "Registering model step 'WLCM'\n"
     ]
    }
   ],
   "source": [
    "import numpy as np\n",
    "import pandas as pd\n",
    "import orca\n",
    "from matplotlib import pyplot as plt\n",
    "import matplotlib.animation as animation\n",
    "import seaborn as sns\n",
    "import os; os.chdir('../../')\n",
    "import warnings; warnings.simplefilter('ignore')\n",
    "\n",
    "import pandana as pdna\n",
    "from collections import OrderedDict\n",
    "import pylogit as pl\n",
    "from pylogit import nested_logit as nl\n",
    "import math \n",
    "import pickle\n",
    "import dill\n",
    "import time\n",
    "import random\n",
    "import scipy.stats as st\n",
    "from sklearn.neighbors import BallTree\n",
    "from sklearn.model_selection import train_test_split\n",
    "from sklearn.preprocessing import StandardScaler\n",
    "from sklearn.model_selection import cross_validate\n",
    "from sklearn import tree\n",
    "from sklearn.ensemble import GradientBoostingClassifier\n",
    "    \n",
    "from urbansim_templates import modelmanager as mm\n",
    "from urbansim_templates.models import LargeMultinomialLogitStep\n",
    "from urbansim_templates.models import BinaryLogitStep\n",
    "from urbansim.utils import misc\n",
    "import urbansim_templates\n",
    "\n",
    "from scripts import datasources, models, variables, utils"
   ]
  },
  {
   "cell_type": "code",
   "execution_count": 2,
   "metadata": {},
   "outputs": [],
   "source": [
    "input_file_format = 'csv'\n",
    "input_data_dir = '/home/data/spring_2019/base/'\n",
    "\n",
    "formattable_fname_dict = {\n",
    "    'parcels': 'parcels.{0}',\n",
    "    'buildings': 'buildings.{0}',\n",
    "    'jobs': 'jobs.{0}',\n",
    "    'establishments': 'establishments.{0}',\n",
    "    'households': 'households.{0}',\n",
    "    'persons': 'persons.{0}',\n",
    "    'rentals': 'craigslist.{0}',\n",
    "    'units': 'units.{0}',\n",
    "    'mtc_skims': 'mtc_skims.{0}',\n",
    "    'beam_skims_raw': '30.skims-smart-23April2019-baseline.csv.gz',\n",
    "    'beam_skims_imputed': 'beam_skims_imputed.{0}',\n",
    "    # the following nodes and edges .csv's will be phased out and\n",
    "    # replaced by travel model skims entirely\n",
    "    'drive_nodes': 'drive_nodes.{0}',\n",
    "    'drive_edges': 'drive_edges.{0}',\n",
    "    'drive_access_vars': 'drive_net_vars.{0}',\n",
    "    'walk_nodes': 'walk_nodes.{0}',\n",
    "    'walk_edges': 'walk_edges.{0}',\n",
    "    'walk_access_vars': 'walk_net_vars.{0}',\n",
    "    'zones': 'zones.{0}',\n",
    "    'zone_access_vars': 'zones_w_access_vars.{0}',\n",
    "}\n",
    "\n",
    "def format_fname_dict(formattable_fname_dict, format='csv'):\n",
    "    formatted_dict = {\n",
    "        k: v.format('csv')\n",
    "        for k, v in formattable_fname_dict.items()}\n",
    "    return formatted_dict\n",
    "\n",
    "input_fnames = format_fname_dict(\n",
    "            formattable_fname_dict, input_file_format)"
   ]
  },
  {
   "cell_type": "code",
   "execution_count": 3,
   "metadata": {},
   "outputs": [],
   "source": [
    "orca.add_injectable('input_file_format', input_file_format)\n",
    "orca.add_injectable('input_data_dir', input_data_dir)\n",
    "orca.add_injectable('input_fnames', input_fnames)\n",
    "orca.add_injectable('store', None)"
   ]
  },
  {
   "cell_type": "code",
   "execution_count": 4,
   "metadata": {},
   "outputs": [
    {
     "name": "stdout",
     "output_type": "stream",
     "text": [
      "Running step 'initialize_network_small'\n",
      "Time to execute step 'initialize_network_small': 0.00 s\n",
      "Running step 'network_aggregations_small'\n",
      "Computing accessibility variables\n",
      "Computing units_10000\n",
      "Computing units_sf_10000\n",
      "Computing units_mf_10000\n",
      "Computing pop_10000\n",
      "Removed 189769 rows because they contain missing values\n",
      "Computing hh_10000\n",
      "Removed 189769 rows because they contain missing values\n",
      "Computing poor_10000\n",
      "Removed 53114 rows because they contain missing values\n",
      "Computing renters_10000\n",
      "Removed 102597 rows because they contain missing values\n",
      "Computing avg_income_10000\n",
      "Removed 189769 rows because they contain missing values\n",
      "Computing jobs_10000\n",
      "Computing avg_rent_10000\n",
      "Computing med_rent_10000\n",
      "Computing pop_white_10000\n",
      "Removed 107372 rows because they contain missing values\n",
      "Computing pop_black_10000\n",
      "Removed 10541 rows because they contain missing values\n",
      "Computing pop_asian_10000\n",
      "Removed 51048 rows because they contain missing values\n",
      "Computing pop_hisp_10000\n",
      "Removed 31685 rows because they contain missing values\n",
      "Computing units_25000\n",
      "Computing units_sf_25000\n",
      "Computing units_mf_25000\n",
      "Computing pop_25000\n",
      "Removed 189769 rows because they contain missing values\n",
      "Computing hh_25000\n",
      "Removed 189769 rows because they contain missing values\n",
      "Computing poor_25000\n",
      "Removed 53114 rows because they contain missing values\n",
      "Computing renters_25000\n",
      "Removed 102597 rows because they contain missing values\n",
      "Computing avg_income_25000\n",
      "Removed 189769 rows because they contain missing values\n",
      "Computing jobs_25000\n",
      "Computing avg_rent_25000\n",
      "Computing pop_white_25000\n",
      "Removed 107372 rows because they contain missing values\n",
      "Computing pop_black_25000\n",
      "Removed 10541 rows because they contain missing values\n",
      "Computing pop_asian_25000\n",
      "Removed 51048 rows because they contain missing values\n",
      "Computing pop_hisp_25000\n",
      "Removed 31685 rows because they contain missing values\n",
      "Computing jobs_10000_retail\n",
      "Computing jobs_25000_retail\n",
      "Computing jobs_10000_fire\n",
      "Computing jobs_25000_fire\n",
      "Computing jobs_10000_tech\n",
      "Computing jobs_25000_tech\n",
      "Computing jobs_10000_serv\n",
      "Computing jobs_25000_serv\n",
      "         units_10000  units_sf_10000  units_mf_10000      pop_10000  \\\n",
      "count   30826.000000    30826.000000    30826.000000   30826.000000   \n",
      "mean   111655.259521    60758.737592    45983.788815  260258.257023   \n",
      "std     87205.002426    37438.499035    46022.772268  188415.644622   \n",
      "min         0.000000        0.000000        0.000000       0.000000   \n",
      "25%     43964.000000    31220.250000    10558.000000  106529.000000   \n",
      "50%     96857.000000    59397.000000    32540.000000  231992.500000   \n",
      "75%    163123.000000    90067.750000    69669.000000  392372.500000   \n",
      "max    406849.000000   147988.000000   205873.000000  838919.000000   \n",
      "\n",
      "            hh_10000     poor_10000  renters_10000  avg_income_10000  \\\n",
      "count   30826.000000   30826.000000   30826.000000      30826.000000   \n",
      "mean    99092.191721   24263.902939   47250.300298     111232.133257   \n",
      "std     78052.959198   22118.834988   47935.457922      30332.958647   \n",
      "min         0.000000       0.000000       0.000000          0.000000   \n",
      "25%     39191.000000    7995.750000   13226.250000      93100.589083   \n",
      "50%     85632.500000   17593.000000   33265.000000     111716.310346   \n",
      "75%    143063.250000   34092.750000   65630.250000     129610.887845   \n",
      "max    370544.000000  100942.000000  225495.000000     265525.000000   \n",
      "\n",
      "          jobs_10000  avg_rent_10000       ...         pop_asian_25000  \\\n",
      "count   30826.000000    30826.000000       ...            30826.000000   \n",
      "mean   118243.519464     2643.122460       ...           294669.101408   \n",
      "std    107993.608729      776.766843       ...           217585.925381   \n",
      "min         0.000000        0.000000       ...                0.000000   \n",
      "25%     28940.250000     2269.256141       ...            73012.250000   \n",
      "50%     92301.500000     2712.736729       ...           312616.000000   \n",
      "75%    176945.000000     2983.646159       ...           477996.500000   \n",
      "max    428606.000000     7266.666667       ...           693127.000000   \n",
      "\n",
      "       pop_hisp_25000  jobs_10000_retail  jobs_25000_retail  jobs_10000_fire  \\\n",
      "count    30826.000000       30826.000000       30826.000000     30826.000000   \n",
      "mean    183838.911698       15902.012100       55488.349478      8651.443132   \n",
      "std     110234.361576       14105.231994       33838.915279     10033.247270   \n",
      "min          0.000000           0.000000           0.000000         0.000000   \n",
      "25%      88483.750000        4314.000000       21935.500000      2093.000000   \n",
      "50%     181105.000000       13269.500000       61066.000000      5932.500000   \n",
      "75%     298576.750000       21232.750000       87060.000000     10849.000000   \n",
      "max     351717.000000       61048.000000      103899.000000     48870.000000   \n",
      "\n",
      "       jobs_25000_fire  jobs_10000_tech  jobs_25000_tech  jobs_10000_serv  \\\n",
      "count     30826.000000     30826.000000     30826.000000     30826.000000   \n",
      "mean      30371.376533     18321.402161     63953.289593     10136.738240   \n",
      "std       20592.329443     21681.852522     46756.286825     11020.692482   \n",
      "min           0.000000         0.000000         0.000000         0.000000   \n",
      "25%       10928.000000      2208.000000     16480.250000      2744.000000   \n",
      "50%       31111.500000      9152.500000     64664.000000      6776.000000   \n",
      "75%       42117.750000     28647.500000     98836.750000     13249.750000   \n",
      "max       73607.000000    103018.000000    149697.000000     51636.000000   \n",
      "\n",
      "       jobs_25000_serv  \n",
      "count     30826.000000  \n",
      "mean      34163.351489  \n",
      "std       23411.034125  \n",
      "min           0.000000  \n",
      "25%       11541.000000  \n",
      "50%       32524.000000  \n",
      "75%       50603.750000  \n",
      "max       82062.000000  \n",
      "\n",
      "[8 rows x 37 columns]\n",
      "Time to execute step 'network_aggregations_small': 657.64 s\n",
      "Total time to execute iteration 1 with iteration value None: 657.64 s\n",
      "Running step 'initialize_network_walk'\n",
      "Time to execute step 'initialize_network_walk': 0.00 s\n",
      "Running step 'network_aggregations_walk'\n",
      "Computing accessibility variables\n",
      "Computing units_500_walk\n",
      "Computing sqft_unit_500_walk\n",
      "Computing singles_500_walk\n",
      "Removed 52084 rows because they contain missing values\n",
      "Computing elderly_hh_500_walk\n",
      "Removed 34553 rows because they contain missing values\n",
      "Computing children_500_walk\n",
      "Removed 189769 rows because they contain missing values\n",
      "Computing units_sf_500_walk\n",
      "Computing units_mf_500_walk\n",
      "Computing pop_500_walk\n",
      "Removed 189769 rows because they contain missing values\n",
      "Computing hh_500_walk\n",
      "Removed 189769 rows because they contain missing values\n",
      "Computing poor_500_walk\n",
      "Removed 53114 rows because they contain missing values\n",
      "Computing rich_500_walk\n",
      "Removed 38964 rows because they contain missing values\n",
      "Computing renters_500_walk\n",
      "Removed 102597 rows because they contain missing values\n",
      "Computing avg_income_500_walk\n",
      "Removed 189769 rows because they contain missing values\n",
      "Computing jobs_500_walk\n",
      "Computing avg_rent_500_walk\n",
      "Computing pop_white_500_walk\n",
      "Removed 107372 rows because they contain missing values\n",
      "Computing pop_black_500_walk\n",
      "Removed 10541 rows because they contain missing values\n",
      "Computing pop_asian_500_walk\n",
      "Removed 51048 rows because they contain missing values\n",
      "Computing pop_hisp_500_walk\n",
      "Removed 31685 rows because they contain missing values\n",
      "Computing units_1500_walk\n",
      "Computing sqft_unit_1500_walk\n",
      "Computing singles_1500_walk\n",
      "Removed 52084 rows because they contain missing values\n",
      "Computing elderly_hh_1500_walk\n",
      "Removed 34553 rows because they contain missing values\n",
      "Computing children_1500_walk\n",
      "Removed 189769 rows because they contain missing values\n",
      "Computing units_sf_1500_walk\n",
      "Computing units_mf_1500_walk\n",
      "Computing pop_1500_walk\n",
      "Removed 189769 rows because they contain missing values\n",
      "Computing hh_1500_walk\n",
      "Removed 189769 rows because they contain missing values\n",
      "Computing poor_1500_walk\n",
      "Removed 53114 rows because they contain missing values\n",
      "Computing rich_1500_walk\n",
      "Removed 38964 rows because they contain missing values\n",
      "Computing renters_1500_walk\n",
      "Removed 102597 rows because they contain missing values\n",
      "Computing avg_income_1500_walk\n",
      "Removed 189769 rows because they contain missing values\n",
      "Computing jobs_1500_walk\n",
      "Computing avg_rent_1500_walk\n",
      "Computing pop_white_1500_walk\n",
      "Removed 107372 rows because they contain missing values\n"
     ]
    },
    {
     "name": "stdout",
     "output_type": "stream",
     "text": [
      "Computing pop_black_1500_walk\n",
      "Removed 10541 rows because they contain missing values\n",
      "Computing pop_asian_1500_walk\n",
      "Removed 51048 rows because they contain missing values\n",
      "Computing pop_hisp_1500_walk\n",
      "Removed 31685 rows because they contain missing values\n",
      "Computing pop_2500_walk\n",
      "Removed 189769 rows because they contain missing values\n",
      "Computing pop_white_2500_walk\n",
      "Removed 107372 rows because they contain missing values\n",
      "Computing pop_black_2500_walk\n",
      "Removed 10541 rows because they contain missing values\n",
      "Computing pop_asian_2500_walk\n",
      "Removed 51048 rows because they contain missing values\n",
      "Computing pop_hisp_2500_walk\n",
      "Removed 31685 rows because they contain missing values\n",
      "Computing jobs_500_walk_retail\n",
      "Computing jobs_1500_walk_retail\n",
      "Computing jobs_2500_walk_retail\n",
      "Computing jobs_500_walk_fire\n",
      "Computing jobs_1500_walk_fire\n",
      "Computing jobs_2500_walk_fire\n",
      "Computing jobs_500_walk_tech\n",
      "Computing jobs_1500_walk_tech\n",
      "Computing jobs_2500_walk_tech\n",
      "Computing jobs_500_walk_serv\n",
      "Computing jobs_1500_walk_serv\n",
      "Computing jobs_2500_walk_serv\n",
      "       units_500_walk  sqft_unit_500_walk  singles_500_walk  \\\n",
      "count   415716.000000       415716.000000     415716.000000   \n",
      "mean       356.025760         1245.303477         94.368742   \n",
      "std       1097.266478          979.057308        344.532606   \n",
      "min          0.000000            0.000000          0.000000   \n",
      "25%          8.000000          455.911149          1.000000   \n",
      "50%        188.000000         1315.697967         27.000000   \n",
      "75%        440.000000         1761.777561         87.000000   \n",
      "max     184977.000000        30000.000000      45805.000000   \n",
      "\n",
      "       elderly_hh_500_walk  children_500_walk  units_sf_500_walk  \\\n",
      "count        415716.000000      415716.000000      415716.000000   \n",
      "mean             58.488439         158.008881         163.913537   \n",
      "std             241.396787         443.206144         704.706968   \n",
      "min               0.000000           0.000000           0.000000   \n",
      "25%               1.000000           3.000000           2.000000   \n",
      "50%              28.000000          92.000000          98.000000   \n",
      "75%              70.000000         231.000000         247.000000   \n",
      "max           41743.000000       81187.000000      136953.000000   \n",
      "\n",
      "       units_mf_500_walk   pop_500_walk    hh_500_walk  poor_500_walk  \\\n",
      "count      415716.000000  415716.000000  415716.000000  415716.000000   \n",
      "mean          165.691405     792.425952     315.910172      85.848214   \n",
      "std           469.461483    2241.623502     957.091514     320.291735   \n",
      "min             0.000000       0.000000       0.000000       0.000000   \n",
      "25%             0.000000      20.000000       7.000000       1.000000   \n",
      "50%             2.000000     462.000000     170.000000      25.000000   \n",
      "75%           159.000000    1085.000000     395.000000      83.000000   \n",
      "max         48024.000000  396939.000000  162454.000000   42782.000000   \n",
      "\n",
      "              ...           jobs_2500_walk_retail  jobs_500_walk_fire  \\\n",
      "count         ...                   415716.000000       415716.000000   \n",
      "mean          ...                     1581.179690           53.885460   \n",
      "std           ...                     3031.162291          429.421888   \n",
      "min           ...                        0.000000            0.000000   \n",
      "25%           ...                      223.000000            0.000000   \n",
      "50%           ...                      842.000000            3.000000   \n",
      "75%           ...                     1990.000000           23.000000   \n",
      "max           ...                    35933.000000        20526.000000   \n",
      "\n",
      "       jobs_1500_walk_fire  jobs_2500_walk_fire  jobs_500_walk_tech  \\\n",
      "count        415716.000000        415716.000000       415716.000000   \n",
      "mean            420.179305           979.940062          106.490318   \n",
      "std            1996.134238          3203.315346          791.083748   \n",
      "min               0.000000             0.000000            0.000000   \n",
      "25%              19.000000           112.000000            0.000000   \n",
      "50%             101.000000           366.000000            4.000000   \n",
      "75%             278.000000           857.000000           30.000000   \n",
      "max           34721.000000         38378.000000        31572.000000   \n",
      "\n",
      "       jobs_1500_walk_tech  jobs_2500_walk_tech  jobs_500_walk_serv  \\\n",
      "count        415716.000000        415716.000000       415716.000000   \n",
      "mean            815.705017          1950.765186           60.123912   \n",
      "std            3808.003905          6458.022536          270.243780   \n",
      "min               0.000000             0.000000            0.000000   \n",
      "25%              25.000000           126.000000            0.000000   \n",
      "50%             117.000000           455.000000            0.000000   \n",
      "75%             463.000000          1449.000000           35.000000   \n",
      "max           68294.000000         77926.000000        12480.000000   \n",
      "\n",
      "       jobs_1500_walk_serv  jobs_2500_walk_serv  \n",
      "count        415716.000000        415716.000000  \n",
      "mean            436.386119          1104.828303  \n",
      "std            1438.848663          2959.981741  \n",
      "min               0.000000             0.000000  \n",
      "25%              12.000000           116.000000  \n",
      "50%             127.000000           494.000000  \n",
      "75%             416.000000          1108.000000  \n",
      "max           25447.000000         34317.000000  \n",
      "\n",
      "[8 rows x 55 columns]\n",
      "Time to execute step 'network_aggregations_walk': 501.71 s\n",
      "Total time to execute iteration 1 with iteration value None: 501.71 s\n",
      "Running step 'initialize_imputed_skims'\n",
      "No imputed skims found. Creating them now.\n",
      "Time to execute step 'initialize_imputed_skims': 90.08 s\n",
      "Total time to execute iteration 1 with iteration value None: 90.08 s\n",
      "Running step 'skims_aggregations'\n",
      "Time to execute step 'skims_aggregations': 0.00 s\n",
      "Total time to execute iteration 1 with iteration value None: 0.00 s\n"
     ]
    }
   ],
   "source": [
    "orca.run(['initialize_network_small']) \n",
    "orca.run(['initialize_network_walk']) \n",
    "orca.run(['initialize_imputed_skims']) \n",
    "orca.run(['skims_aggregations']) "
   ]
  },
  {
   "cell_type": "code",
   "execution_count": 48,
   "metadata": {},
   "outputs": [],
   "source": [
    "# #In case I need to redo this. \n",
    "# nodessmall = orca.get_table('nodessmall').to_frame()\n",
    "# nodeswalk = orca.get_table('nodeswalk').to_frame()\n",
    "# nodessmall.to_csv('nodessmall.csv')\n",
    "# nodeswalk.to_csv('nodeswalk.csv')"
   ]
  },
  {
   "cell_type": "code",
   "execution_count": 70,
   "metadata": {},
   "outputs": [],
   "source": [
    "k12_students = pd.read_csv('/home/juan/ual_model_workspace/spring-2019-models/notebooks-juan/students_with_school_id.csv')\n",
    "persons = pd.read_csv('/home/data/fall_2018/chts_persons_w_zone_ids.csv')\n",
    "households = pd.read_csv(\"/home/data/fall_2018/CHTS_csv_format/data/Deliv_HH.csv\")\n",
    "zones = orca.get_table('zones').to_frame()\n",
    "beam_skims = orca.get_table('beam_skims_imputed').to_frame().reset_index()\n",
    "schools = orca.get_table('schools').to_frame()\n",
    "\n",
    "#I have save this tables on disk just for convinience\n",
    "nodessmall = pd.read_csv('nodessmall.csv').set_index('osmid')\n",
    "nodeswalk = pd.read_csv('nodeswalk.csv').set_index('osmid')"
   ]
  },
  {
   "cell_type": "markdown",
   "metadata": {},
   "source": [
    "## Data cleaning"
   ]
  },
  {
   "cell_type": "code",
   "execution_count": 137,
   "metadata": {},
   "outputs": [],
   "source": [
    "students = k12_students.copy(deep=True)\n",
    "\n",
    "#Getting the type (public/private) of school for each observation\n",
    "students = students.merge(schools.loc[:,['type']], how = 'left', left_on = 'school_id', right_index = True)\n",
    "students['s_type'] = students.type.replace(['public', 'private'], [1,0])\n",
    "\n",
    "#Filtering correct age \n",
    "students = students[students.AGE <= 18]\n",
    "\n",
    "#Hispanic indicador\n",
    "students.HISP.replace([2,9,8], [0, np.nan, np.nan], inplace = True)\n",
    "\n",
    "#Sex indicator \n",
    "students.GEND.replace(2,0, inplace = True) # 1 male, 0 female\n",
    "\n",
    "#Cheking if there is more than one race per person\n",
    "students['race'] = students.RACE1.notnull().astype(int) + \\\n",
    "                          students.RACE2.notnull().astype(int) + \\\n",
    "                          students.RACE3.notnull().astype(int) + \\\n",
    "                          students.RACE4.notnull().astype(int)\n",
    "\n",
    "\n",
    "students['race'] = students['race'].replace(2, 6) # Two or more races (6. 2+ races)\n",
    "students['race'] = np.where(students['race'] == 1, students['RACE1'], students['race'])\n",
    "\n",
    "students.rename(columns = {'HISP': 'hispanic', 'AGE': 'age', 'GEND': 'sex'}, inplace = True)\n",
    "\n",
    "###################################\n",
    "#Merging household characteristics\n",
    "###################################\n",
    "\n",
    "#Getting number of children per household, race and age of the head (head assume to be PERNO == 1)\n",
    "persons['children'] = (persons.AGE < 18).astype(int) # Children indicator\n",
    "# persons.loc[:,['RACE1', 'RACE2', 'RACE3', 'RACE4', 'O_RACE']]\n",
    "persons['race_id'] = persons.RACE1.notnull().astype(int) + \\\n",
    "                          persons.RACE2.notnull().astype(int) + \\\n",
    "                          persons.RACE3.notnull().astype(int) + \\\n",
    "                          persons.RACE4.notnull().astype(int)\n",
    "\n",
    "persons['race_id'] = persons['race_id'].replace(2, 6) # Two or more races (6. 2+ races)\n",
    "persons['race_id'] = np.where(persons['race_id'] == 1, persons['RACE1'], persons['race_id'])\n",
    "\n",
    "\n",
    "hh_per_var = persons.loc[:,['SAMPN', 'PERNO', 'children','race_id', 'AGE', 'HISP']].sort_values(['SAMPN', 'PERNO']).groupby('SAMPN').\\\n",
    "             agg({'children': 'sum', 'race_id': 'first', 'AGE': 'first', 'HISP': 'first'})\n",
    "\n",
    "hh_per_var.rename(columns = {'AGE': 'age_of_head', 'race_id': 'race_head', 'HISP': 'hispanic_head'}, inplace = True)\n",
    "hh_per_var.hispanic_head.replace(2,0, inplace = True) # 1 is hispanic, 0 itherwise\n",
    "\n",
    "students = students.merge(hh_per_var, how = 'inner', left_on = 'SAMPN', right_index = True )\n",
    "\n",
    "#Merging household table\n",
    "households['recent_mover'] = (households.TEN <= 5).astype(int)\n",
    "\n",
    "#Naming varaibles as in PUMS varaibles\n",
    "pums_names = {'HHSIZ': 'persons', 'INCOM': 'income', 'OWN': 'tenure', 'HHVEH': 'cars', 'HHEMP': 'workers' }\n",
    "households.rename(columns=pums_names, inplace = True)\n",
    "\n",
    "hh_var = ['SAMPN', 'persons', 'income', 'tenure', 'cars', 'workers', 'recent_mover']\n",
    "students = students.merge(households.loc[:,hh_var], how = 'left', on = 'SAMPN')\n",
    "\n",
    "################################\n",
    "#Merging accesibility variables\n",
    "################################\n",
    "\n",
    "#Getting small and walk networks\n",
    "netsmall = orca.get_injectable('netsmall')\n",
    "netwalk = orca.get_injectable('netwalk')\n",
    "\n",
    "#Getting small and walk node ID for each student home location\n",
    "students['small_node_id'] = netsmall.get_node_ids(students.HXCORD.astype(float),students.HYCORD.astype(float))\n",
    "students['walk_node_id'] = netwalk.get_node_ids(students.HXCORD.astype(float),students.HYCORD.astype(float))\n",
    "\n",
    "#Merging distance based accesibilities\n",
    "students = students.merge(nodessmall, how = 'left', left_on = 'small_node_id', right_index = True)\n",
    "students = students.merge(nodeswalk, how = 'left', left_on = 'walk_node_id', right_index = True)\n",
    "\n",
    "#Merging time-based accesibilities\n",
    "students = students.merge(zones, how = 'left', left_on ='zone_id_home', right_index = True)\n",
    "\n",
    "#Selecting important variables \n",
    "students_vars = ['SAMPN', 'PERNO', 's_type', 'age', 'race', 'hispanic', 'sex', 'age_of_head', \n",
    "                 'race_head', 'hispanic_head', 'recent_mover', 'persons',\n",
    "                 'income', 'tenure', 'cars', 'workers'] \\\n",
    "                 + list(nodessmall.columns) + list(nodeswalk.columns)  \\\n",
    "                 + list(zones.drop(columns = ['gid', 'area', 'acres']).columns)\n",
    "\n",
    "students = students[students_vars]"
   ]
  },
  {
   "cell_type": "code",
   "execution_count": 138,
   "metadata": {},
   "outputs": [],
   "source": [
    "################################\n",
    "# Dropping NA values \n",
    "################################\n",
    "#Replacing NA keys to real na \n",
    "na_dict = {\n",
    "    'race':[98, 99],\n",
    "    'hispanic':[8, 9],\n",
    "    'sex':[9],\n",
    "    'income':[98,99],\n",
    "    'tenure':[7, 8, 9],\n",
    "    'race_head':[98, 99],\n",
    "    'hispanic_head':[8, 9],\n",
    "    'age_of_head': [998, 999],\n",
    "    }\n",
    "\n",
    "for col in na_dict:\n",
    "    for vals in na_dict[col]:\n",
    "        students[col] = students[col].replace(vals,np.nan)\n",
    "        \n",
    "students.dropna(inplace = True)"
   ]
  },
  {
   "cell_type": "markdown",
   "metadata": {},
   "source": [
    "## ML Approach \n",
    "\n"
   ]
  },
  {
   "cell_type": "code",
   "execution_count": 143,
   "metadata": {},
   "outputs": [],
   "source": [
    "# Splitting train (70%) and test (30%) dataset\n",
    "X = students.drop(columns=['SAMPN', 'PERNO', 's_type'])\n",
    "y = students.s_type\n",
    "X_train, X_test, y_train, y_test = train_test_split(X, y, test_size=0.3, random_state=42)"
   ]
  },
  {
   "cell_type": "code",
   "execution_count": 144,
   "metadata": {},
   "outputs": [],
   "source": [
    "result_train = []\n",
    "result_test = []\n",
    "max_depth = range(1,20)\n",
    "for i in max_depth:\n",
    "    clf = tree.DecisionTreeClassifier(criterion='entropy',max_depth=i)\n",
    "    scores = cross_validate(clf, X_train, y_train, cv=3, return_train_score=True)\n",
    "    result_train.append(scores['train_score'].mean())\n",
    "    result_test.append(scores['test_score'].mean()) "
   ]
  },
  {
   "cell_type": "code",
   "execution_count": 145,
   "metadata": {},
   "outputs": [
    {
     "data": {
      "image/png": "[encoded data removed]",
      "text/plain": [
       "<Figure size 720x576 with 1 Axes>"
      ]
     },
     "metadata": {
      "needs_background": "light"
     },
     "output_type": "display_data"
    }
   ],
   "source": [
    "plt.figure(figsize = (10,8))\n",
    "plt.plot(max_depth, result_train, '-o',color='blue',label='Train')\n",
    "plt.plot(max_depth, result_test, '-o',color='red',label='Test')\n",
    "plt.xlabel('Max depth')\n",
    "plt.ylabel('Accuracy')\n",
    "plt.title('Maximum depth')\n",
    "plt.legend();"
   ]
  },
  {
   "cell_type": "code",
   "execution_count": 149,
   "metadata": {},
   "outputs": [
    {
     "data": {
      "image/png": "[encoded data removed]",
      "text/plain": [
       "<Figure size 720x576 with 1 Axes>"
      ]
     },
     "metadata": {
      "needs_background": "light"
     },
     "output_type": "display_data"
    }
   ],
   "source": [
    "clf = tree.DecisionTreeClassifier(criterion='entropy',max_depth=2)\n",
    "clf.fit(X_train, y_train);\n",
    "\n",
    "aa = pd.DataFrame({'importances':clf.feature_importances_,\n",
    "                   'variables':X_train.columns}).sort_values(by = 'importances', ascending= False)\n",
    "\n",
    "plt.figure(figsize = (10,8))\n",
    "ax = sns.barplot(x='importances', y='variables', data=aa[:5],palette=\"Blues_d\" )\n",
    "plt.title('Feature importance - Decision Tree');"
   ]
  },
  {
   "cell_type": "code",
   "execution_count": 151,
   "metadata": {},
   "outputs": [
    {
     "data": {
      "text/html": [
       "<div>\n",
       "<style scoped>\n",
       "    .dataframe tbody tr th:only-of-type {\n",
       "        vertical-align: middle;\n",
       "    }\n",
       "\n",
       "    .dataframe tbody tr th {\n",
       "        vertical-align: top;\n",
       "    }\n",
       "\n",
       "    .dataframe thead th {\n",
       "        text-align: right;\n",
       "    }\n",
       "</style>\n",
       "<table border=\"1\" class=\"dataframe\">\n",
       "  <thead>\n",
       "    <tr style=\"text-align: right;\">\n",
       "      <th>col_0</th>\n",
       "      <th>0.0</th>\n",
       "      <th>1.0</th>\n",
       "    </tr>\n",
       "    <tr>\n",
       "      <th>s_type</th>\n",
       "      <th></th>\n",
       "      <th></th>\n",
       "    </tr>\n",
       "  </thead>\n",
       "  <tbody>\n",
       "    <tr>\n",
       "      <th>0.0</th>\n",
       "      <td>2</td>\n",
       "      <td>109</td>\n",
       "    </tr>\n",
       "    <tr>\n",
       "      <th>1.0</th>\n",
       "      <td>5</td>\n",
       "      <td>783</td>\n",
       "    </tr>\n",
       "  </tbody>\n",
       "</table>\n",
       "</div>"
      ],
      "text/plain": [
       "col_0   0.0  1.0\n",
       "s_type          \n",
       "0.0       2  109\n",
       "1.0       5  783"
      ]
     },
     "execution_count": 151,
     "metadata": {},
     "output_type": "execute_result"
    }
   ],
   "source": [
    "pd.crosstab( y_test, clf.predict(X_test))#,normalize = 'index')"
   ]
  },
  {
   "cell_type": "code",
   "execution_count": 153,
   "metadata": {},
   "outputs": [
    {
     "data": {
      "text/plain": [
       "0.8731924360400445"
      ]
     },
     "execution_count": 153,
     "metadata": {},
     "output_type": "execute_result"
    }
   ],
   "source": [
    "clf.score(X_test, y_test)"
   ]
  },
  {
   "cell_type": "code",
   "execution_count": null,
   "metadata": {},
   "outputs": [],
   "source": []
  },
  {
   "cell_type": "code",
   "execution_count": 207,
   "metadata": {},
   "outputs": [
    {
     "data": {
      "image/png": "[encoded data removed]",
      "text/plain": [
       "<Figure size 720x576 with 1 Axes>"
      ]
     },
     "metadata": {
      "needs_background": "light"
     },
     "output_type": "display_data"
    }
   ],
   "source": [
    "result_train = []\n",
    "result_test = []\n",
    "max_depth = range(1,20)\n",
    "for i in max_depth:\n",
    "    clf = GradientBoostingClassifier(max_depth = i, n_estimators = 100)\n",
    "    scores = cross_validate(clf, X_train, y_train, cv=3, return_train_score=True)\n",
    "    result_train.append(scores['train_score'].mean())\n",
    "    result_test.append(scores['test_score'].mean()) \n",
    "    \n",
    "plt.figure(figsize = (10,8))\n",
    "plt.plot(max_depth, result_train, '-o',color='blue',label='Train')\n",
    "plt.plot(max_depth, result_test, '-o',color='red',label='Test')\n",
    "plt.xlabel('Max depth')\n",
    "plt.ylabel('Accuracy')\n",
    "plt.title('Maximum depth')\n",
    "plt.legend();"
   ]
  },
  {
   "cell_type": "code",
   "execution_count": 208,
   "metadata": {},
   "outputs": [
    {
     "data": {
      "image/png": "[encoded data removed]",
      "text/plain": [
       "<Figure size 720x576 with 1 Axes>"
      ]
     },
     "metadata": {
      "needs_background": "light"
     },
     "output_type": "display_data"
    }
   ],
   "source": [
    "model = GradientBoostingClassifier(max_depth=5, n_estimators=100)\n",
    "model.fit(X_train, y_train)\n",
    "\n",
    "# importances = model.feature_importances_\n",
    "# pd.crosstab( y_test, model.predict(X_test))\n",
    "# model.score(X_test, y_test)\n",
    "\n",
    "feat_importance = pd.DataFrame({'importances':model.feature_importances_,\n",
    "                   'variables':X_train.columns}).sort_values(by = 'importances', ascending= False)\n",
    "\n",
    "plt.figure(figsize = (10,8))\n",
    "ax = sns.barplot(x='importances', y='variables', data=feat_importance[:20],palette=\"Blues_d\" )\n",
    "plt.title('Feature importance - Gradient Boosting');"
   ]
  },
  {
   "cell_type": "code",
   "execution_count": 209,
   "metadata": {},
   "outputs": [
    {
     "data": {
      "text/html": [
       "<div>\n",
       "<style scoped>\n",
       "    .dataframe tbody tr th:only-of-type {\n",
       "        vertical-align: middle;\n",
       "    }\n",
       "\n",
       "    .dataframe tbody tr th {\n",
       "        vertical-align: top;\n",
       "    }\n",
       "\n",
       "    .dataframe thead th {\n",
       "        text-align: right;\n",
       "    }\n",
       "</style>\n",
       "<table border=\"1\" class=\"dataframe\">\n",
       "  <thead>\n",
       "    <tr style=\"text-align: right;\">\n",
       "      <th>col_0</th>\n",
       "      <th>0.0</th>\n",
       "      <th>1.0</th>\n",
       "    </tr>\n",
       "    <tr>\n",
       "      <th>s_type</th>\n",
       "      <th></th>\n",
       "      <th></th>\n",
       "    </tr>\n",
       "  </thead>\n",
       "  <tbody>\n",
       "    <tr>\n",
       "      <th>0.0</th>\n",
       "      <td>44</td>\n",
       "      <td>67</td>\n",
       "    </tr>\n",
       "    <tr>\n",
       "      <th>1.0</th>\n",
       "      <td>21</td>\n",
       "      <td>767</td>\n",
       "    </tr>\n",
       "  </tbody>\n",
       "</table>\n",
       "</div>"
      ],
      "text/plain": [
       "col_0   0.0  1.0\n",
       "s_type          \n",
       "0.0      44   67\n",
       "1.0      21  767"
      ]
     },
     "execution_count": 209,
     "metadata": {},
     "output_type": "execute_result"
    }
   ],
   "source": [
    "pd.crosstab( y_test, model.predict(X_test))"
   ]
  },
  {
   "cell_type": "code",
   "execution_count": 210,
   "metadata": {},
   "outputs": [
    {
     "data": {
      "text/plain": [
       "0.9021134593993326"
      ]
     },
     "execution_count": 210,
     "metadata": {},
     "output_type": "execute_result"
    }
   ],
   "source": [
    "model.score(X_test, y_test)"
   ]
  },
  {
   "cell_type": "code",
   "execution_count": 236,
   "metadata": {
    "scrolled": true
   },
   "outputs": [],
   "source": [
    "probs = model.predict_proba(X_test)\n",
    "results_table = pd.DataFrame(probs, columns= ['private', 'public'])\n",
    "results_table['real'] = np.array(y_test)\n",
    "\n",
    "TPR_list = []\n",
    "FPR_list = []\n",
    "F1_score_list = []\n",
    "for x in np.linspace(0,1,100):\n",
    "    results_table['predicted'] = (results_table.public > x)*1\n",
    "    results_table['tp'] = (results_table.real == 1) & (results_table.predicted == 1)\n",
    "    results_table['tn'] = (results_table.real == 0) & (results_table.predicted == 0)\n",
    "    results_table['fp'] = (results_table.real == 0) & (results_table.predicted == 1)\n",
    "    results_table['fn'] = (results_table.real == 1) & (results_table.predicted == 0)\n",
    "# print ((results_table.real == results_table.predicted).mean())\n",
    "# pd.crosstab( results_table.real, results_table.predicted)\n",
    "    TP = results_table.tp.sum()\n",
    "    TN = results_table.tn.sum()\n",
    "    FP = results_table.fp.sum()\n",
    "    FN = results_table.fn.sum()\n",
    "\n",
    "    TPR = TP / (TP + FN)\n",
    "    FPR = FP / (FP + TN)\n",
    "    recall = TPR \n",
    "    precision = TP / (TP + FP)\n",
    "    F1_score = 2*(precision*recall)/(precision+recall)\n",
    "    \n",
    "    TPR_list.append(TPR)\n",
    "    FPR_list.append(FPR)\n",
    "    F1_score_list.append(F1_score)\n",
    "    \n",
    "# results_table"
   ]
  },
  {
   "cell_type": "code",
   "execution_count": 234,
   "metadata": {},
   "outputs": [
    {
     "data": {
      "image/png": "[encoded data removed]",
      "text/plain": [
       "<Figure size 432x288 with 1 Axes>"
      ]
     },
     "metadata": {
      "needs_background": "light"
     },
     "output_type": "display_data"
    }
   ],
   "source": [
    "plt.plot(FPR_list, TPR_list)\n",
    "plt.title('ROC curve');"
   ]
  },
  {
   "cell_type": "code",
   "execution_count": 248,
   "metadata": {},
   "outputs": [
    {
     "data": {
      "image/png": "[encoded data removed]",
      "text/plain": [
       "<Figure size 432x288 with 1 Axes>"
      ]
     },
     "metadata": {
      "needs_background": "light"
     },
     "output_type": "display_data"
    }
   ],
   "source": [
    "plt.plot( np.linspace(0,1,100)*100, F1_score_list,)\n",
    "plt.xlabel('Probability Treshold');\n",
    "plt.ylabel('F1 Score')\n",
    "plt.title('F1 Score');"
   ]
  },
  {
   "cell_type": "code",
   "execution_count": 249,
   "metadata": {},
   "outputs": [
    {
     "data": {
      "text/html": [
       "<div>\n",
       "<style scoped>\n",
       "    .dataframe tbody tr th:only-of-type {\n",
       "        vertical-align: middle;\n",
       "    }\n",
       "\n",
       "    .dataframe tbody tr th {\n",
       "        vertical-align: top;\n",
       "    }\n",
       "\n",
       "    .dataframe thead th {\n",
       "        text-align: right;\n",
       "    }\n",
       "</style>\n",
       "<table border=\"1\" class=\"dataframe\">\n",
       "  <thead>\n",
       "    <tr style=\"text-align: right;\">\n",
       "      <th>real</th>\n",
       "      <th>0.0</th>\n",
       "      <th>1.0</th>\n",
       "    </tr>\n",
       "    <tr>\n",
       "      <th>predicted</th>\n",
       "      <th></th>\n",
       "      <th></th>\n",
       "    </tr>\n",
       "  </thead>\n",
       "  <tbody>\n",
       "    <tr>\n",
       "      <th>0</th>\n",
       "      <td>74</td>\n",
       "      <td>145</td>\n",
       "    </tr>\n",
       "    <tr>\n",
       "      <th>1</th>\n",
       "      <td>37</td>\n",
       "      <td>643</td>\n",
       "    </tr>\n",
       "  </tbody>\n",
       "</table>\n",
       "</div>"
      ],
      "text/plain": [
       "real       0.0  1.0\n",
       "predicted          \n",
       "0           74  145\n",
       "1           37  643"
      ]
     },
     "execution_count": 249,
     "metadata": {},
     "output_type": "execute_result"
    }
   ],
   "source": [
    "results_table['predicted'] = (results_table.public > 0.9)*1\n",
    "results_table\n",
    "pd.crosstab(results_table.predicted, results_table.real)\n",
    "# results_table.groupby('real').agg({'public':['mean', 'std']})"
   ]
  },
  {
   "cell_type": "code",
   "execution_count": null,
   "metadata": {},
   "outputs": [],
   "source": [
    "'''\n",
    "Merge studnets and households tables with accesibility variables (beam and distance based)\n",
    "Separate 70/30 for train and test data \n",
    "Prepare this for simulation\n",
    "\n",
    "Step for simulation \n",
    "1. Public.Private model \n",
    "2. Public school model \n",
    "3. Private school model \n",
    "'''"
   ]
  },
  {
   "cell_type": "code",
   "execution_count": null,
   "metadata": {},
   "outputs": [],
   "source": []
  },
  {
   "cell_type": "code",
   "execution_count": 115,
   "metadata": {
    "scrolled": true
   },
   "outputs": [
    {
     "data": {
      "text/plain": [
       "1.0    2844\n",
       "0.0     443\n",
       "Name: s_type, dtype: int64"
      ]
     },
     "execution_count": 115,
     "metadata": {},
     "output_type": "execute_result"
    }
   ],
   "source": [
    "a = orca.get_table('my_table').to_frame()\n",
    "a.s_type.value_counts()"
   ]
  },
  {
   "cell_type": "code",
   "execution_count": 73,
   "metadata": {},
   "outputs": [
    {
     "name": "stdout",
     "output_type": "stream",
     "text": [
      "Path not found: /configs\n"
     ]
    }
   ],
   "source": [
    "mm.initialize()"
   ]
  },
  {
   "cell_type": "code",
   "execution_count": 11,
   "metadata": {},
   "outputs": [
    {
     "ename": "NameError",
     "evalue": "name 'students' is not defined",
     "output_type": "error",
     "traceback": [
      "\u001b[0;31m---------------------------------------------------------------------------\u001b[0m",
      "\u001b[0;31mNameError\u001b[0m                                 Traceback (most recent call last)",
      "\u001b[0;32m<ipython-input-11-53d8ebfc759b>\u001b[0m in \u001b[0;36m<module>\u001b[0;34m\u001b[0m\n\u001b[0;32m----> 1\u001b[0;31m \u001b[0morca\u001b[0m\u001b[0;34m.\u001b[0m\u001b[0madd_table\u001b[0m\u001b[0;34m(\u001b[0m\u001b[0;34m'my_table'\u001b[0m\u001b[0;34m,\u001b[0m \u001b[0mstudents\u001b[0m\u001b[0;34m)\u001b[0m\u001b[0;34m\u001b[0m\u001b[0;34m\u001b[0m\u001b[0m\n\u001b[0m\u001b[1;32m      2\u001b[0m \u001b[0mmodel\u001b[0m \u001b[0;34m=\u001b[0m \u001b[0mBinaryLogitStep\u001b[0m\u001b[0;34m(\u001b[0m\u001b[0mtables\u001b[0m \u001b[0;34m=\u001b[0m \u001b[0;34m'my_table'\u001b[0m\u001b[0;34m,\u001b[0m \u001b[0mmodel_expression\u001b[0m \u001b[0;34m=\u001b[0m \u001b[0;34m's_type ~ np.log(income) + tenure + AGE'\u001b[0m\u001b[0;34m)\u001b[0m\u001b[0;34m\u001b[0m\u001b[0;34m\u001b[0m\u001b[0m\n",
      "\u001b[0;31mNameError\u001b[0m: name 'students' is not defined"
     ]
    }
   ],
   "source": [
    "orca.add_table('my_table', students)\n",
    "model = BinaryLogitStep(tables = 'my_table', model_expression = 's_type ~ np.log(income) + tenure + AGE')"
   ]
  },
  {
   "cell_type": "code",
   "execution_count": 146,
   "metadata": {},
   "outputs": [
    {
     "name": "stdout",
     "output_type": "stream",
     "text": [
      "Optimization terminated successfully.\n",
      "         Current function value: 0.388920\n",
      "         Iterations 7\n",
      "                           Logit Regression Results                           \n",
      "==============================================================================\n",
      "Dep. Variable:                 s_type   No. Observations:                 3287\n",
      "Model:                          Logit   Df Residuals:                     3283\n",
      "Method:                           MLE   Df Model:                            3\n",
      "Date:                Fri, 25 Oct 2019   Pseudo R-squ.:                 0.01629\n",
      "Time:                        22:51:14   Log-Likelihood:                -1278.4\n",
      "converged:                       True   LL-Null:                       -1299.6\n",
      "                                        LLR p-value:                 3.394e-09\n",
      "==============================================================================\n",
      "                 coef    std err          z      P>|z|      [0.025      0.975]\n",
      "------------------------------------------------------------------------------\n",
      "Intercept      0.8944      0.261      3.421      0.001       0.382       1.407\n",
      "income         0.0031      0.003      1.211      0.226      -0.002       0.008\n",
      "tenure         0.9182      0.162      5.683      0.000       0.602       1.235\n",
      "AGE           -0.0118      0.014     -0.842      0.400      -0.039       0.016\n",
      "==============================================================================\n"
     ]
    }
   ],
   "source": [
    "model.fit()"
   ]
  },
  {
   "cell_type": "code",
   "execution_count": null,
   "metadata": {},
   "outputs": [],
   "source": []
  },
  {
   "cell_type": "markdown",
   "metadata": {},
   "source": [
    "## TOD Model"
   ]
  },
  {
   "cell_type": "code",
   "execution_count": 11,
   "metadata": {},
   "outputs": [
    {
     "data": {
      "text/plain": [
       "array([[-0.46764288, -0.20242127],\n",
       "       [57.06977981, 56.24852572]])"
      ]
     },
     "execution_count": 11,
     "metadata": {},
     "output_type": "execute_result"
    }
   ],
   "source": [
    "# This is a first approach to run my a 2-d estimation and random sample # \n",
    "# This is to estimate TOD for school arrival and departure time\n",
    "from scipy import stats\n",
    "m1 = np.random.normal(size=10000)\n",
    "m2 = np.random.normal(scale=0.5, size=10000) + 56\n",
    "values = np.vstack([m1, m2])\n",
    "kernel = stats.gaussian_kde(values)\n",
    "kernel.resample(size = 2)"
   ]
  },
  {
   "cell_type": "code",
   "execution_count": null,
   "metadata": {},
   "outputs": [],
   "source": []
  }
 ],
 "metadata": {
  "kernelspec": {
   "display_name": "Python 3",
   "language": "python",
   "name": "python3"
  },
  "language_info": {
   "codemirror_mode": {
    "name": "ipython",
    "version": 3
   },
   "file_extension": ".py",
   "mimetype": "text/x-python",
   "name": "python",
   "nbconvert_exporter": "python",
   "pygments_lexer": "ipython3",
   "version": "3.6.7"
  }
 },
 "nbformat": 4,
 "nbformat_minor": 2
}
