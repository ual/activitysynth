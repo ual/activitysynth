{
 "cells": [
  {
   "cell_type": "markdown",
   "metadata": {},
   "source": [
    "# School location choice model \n",
    "\n",
    "There are 4 models that should run in sequentially. \n",
    "\n",
    "- Public vs private school \n",
    "- Public school choice model \n",
    "- Private school choice model \n",
    "- TOD model (Randon sample from a 2-d kernel distribution) "
   ]
  },
  {
   "cell_type": "code",
   "execution_count": 1,
   "metadata": {},
   "outputs": [
    {
     "name": "stdout",
     "output_type": "stream",
     "text": [
      "Registering model step 'TOD_choice'\n",
      "Registering model step 'auto_ownership'\n",
      "Registering model step 'WLCM_gen_tt'\n",
      "Registering model step 'primary_mode_choice'\n",
      "Registering model step 'WLCM'\n",
      "Registering model step 'Public_vs_private'\n"
     ]
    }
   ],
   "source": [
    "import numpy as np\n",
    "import pandas as pd\n",
    "import orca\n",
    "from matplotlib import pyplot as plt\n",
    "import matplotlib.animation as animation\n",
    "# import seaborn as sns\n",
    "import os; os.chdir('../../')\n",
    "import warnings; warnings.simplefilter('ignore')\n",
    "\n",
    "import pandana as pdna\n",
    "from collections import OrderedDict\n",
    "import pylogit as pl\n",
    "from pylogit import nested_logit as nl\n",
    "import math \n",
    "import pickle\n",
    "import dill\n",
    "import time\n",
    "import random\n",
    "import scipy.stats as st\n",
    "from sklearn.neighbors import BallTree\n",
    "from sklearn.model_selection import train_test_split\n",
    "from sklearn.preprocessing import StandardScaler\n",
    "from sklearn.model_selection import cross_validate\n",
    "from sklearn import tree\n",
    "from sklearn.ensemble import GradientBoostingClassifier\n",
    "    \n",
    "from urbansim_templates import modelmanager as mm\n",
    "from urbansim_templates.models import LargeMultinomialLogitStep\n",
    "from urbansim_templates.models import BinaryLogitStep\n",
    "from urbansim.utils import misc\n",
    "import urbansim_templates\n",
    "\n",
    "from scripts import datasources, models, variables, utils"
   ]
  },
  {
   "cell_type": "code",
   "execution_count": 2,
   "metadata": {},
   "outputs": [],
   "source": [
    "def f1_scores(probs, y_test):\n",
    "    \n",
    "    results_table = pd.DataFrame(probs, columns= ['private', 'public'], index = y_test.index)\n",
    "    results_table['real'] = np.array(y_test)\n",
    "    \n",
    "    TPR_list = []\n",
    "    FPR_list = []\n",
    "    F1_score_list = []\n",
    "    MMC_score_list = []\n",
    "    for x in np.linspace(0,1,100):\n",
    "        results_table['predicted'] = (results_table.public > x)*1\n",
    "        results_table['tp'] = (results_table.real == 1) & (results_table.predicted == 1)\n",
    "        results_table['tn'] = (results_table.real == 0) & (results_table.predicted == 0)\n",
    "        results_table['fp'] = (results_table.real == 0) & (results_table.predicted == 1)\n",
    "        results_table['fn'] = (results_table.real == 1) & (results_table.predicted == 0)\n",
    "    # print ((results_table.real == results_table.predicted).mean())\n",
    "    # pd.crosstab( results_table.real, results_table.predicted)\n",
    "        TP = results_table.tp.sum()\n",
    "        TN = results_table.tn.sum()\n",
    "        FP = results_table.fp.sum()\n",
    "        FN = results_table.fn.sum()\n",
    "\n",
    "        TPR = TP / (TP + FN)\n",
    "        FPR = FP / (FP + TN)\n",
    "        recall = TPR \n",
    "        precision = TP / (TP + FP)\n",
    "        F1_score = 2*(precision*recall)/(precision+recall)\n",
    "        MMC = ((TP*TN)-(FP*FN))/np.sqrt((TP+FP)*(TP+FN)*(TN+FP)*(TN+FN))\n",
    "\n",
    "        TPR_list.append(TPR)\n",
    "        FPR_list.append(FPR)\n",
    "        F1_score_list.append(F1_score)\n",
    "        MMC_score_list.append(MMC)\n",
    "    \n",
    "    return TPR_list, FPR_list, F1_score_list, MMC_score_list, results_table"
   ]
  },
  {
   "cell_type": "code",
   "execution_count": 3,
   "metadata": {},
   "outputs": [],
   "source": [
    "input_file_format = 'csv'\n",
    "input_data_dir = 's3://baus-data/spring_2019/'\n",
    "\n",
    "formattable_fname_dict = {\n",
    "    'parcels': 'parcels.{0}',\n",
    "    'buildings': 'buildings.{0}',\n",
    "    'jobs': 'jobs.{0}',\n",
    "    'establishments': 'establishments.{0}',\n",
    "    'households': 'households.{0}',\n",
    "    'persons': 'persons.{0}',\n",
    "    'rentals': 'craigslist.{0}',\n",
    "    'units': 'units.{0}',\n",
    "    'mtc_skims': 'mtc_skims.{0}',\n",
    "    'beam_skims_raw': '30.skims-smart-23April2019-baseline.csv.gz',\n",
    "    'beam_skims_imputed': 'beam_skims_imputed.{0}',\n",
    "    # the following nodes and edges .csv's will be phased out and\n",
    "    # replaced by travel model skims entirely\n",
    "    'drive_nodes': 'drive_nodes.{0}',\n",
    "    'drive_edges': 'drive_edges.{0}',\n",
    "    'drive_access_vars': 'drive_net_vars.{0}',\n",
    "    'walk_nodes': 'walk_nodes.{0}',\n",
    "    'walk_edges': 'walk_edges.{0}',\n",
    "    'walk_access_vars': 'walk_net_vars.{0}',\n",
    "    'zones': 'zones.{0}',\n",
    "    'zone_access_vars': 'zones_w_access_vars.{0}',\n",
    "    'students_k12': 'students_k12.{0}',\n",
    "    'schools_k12': 'schools_bay_area.{0}'\n",
    "}\n",
    "\n",
    "def format_fname_dict(formattable_fname_dict, format='csv'):\n",
    "    formatted_dict = {\n",
    "        k: v.format('csv')\n",
    "        for k, v in formattable_fname_dict.items()}\n",
    "    return formatted_dict\n",
    "\n",
    "input_fnames = format_fname_dict(\n",
    "            formattable_fname_dict, input_file_format)"
   ]
  },
  {
   "cell_type": "code",
   "execution_count": 4,
   "metadata": {},
   "outputs": [],
   "source": [
    "orca.add_injectable('input_file_format', input_file_format)\n",
    "orca.add_injectable('input_data_dir', input_data_dir)\n",
    "orca.add_injectable('input_fnames', input_fnames)\n",
    "orca.add_injectable('store', None)"
   ]
  },
  {
   "cell_type": "code",
   "execution_count": 5,
   "metadata": {},
   "outputs": [
    {
     "name": "stdout",
     "output_type": "stream",
     "text": [
      "Running step 'initialize_network_small'\n",
      "Time to execute step 'initialize_network_small': 0.00 s\n",
      "Total time to execute iteration 1 with iteration value None: 0.00 s\n",
      "Running step 'initialize_network_walk'\n",
      "Time to execute step 'initialize_network_walk': 0.00 s\n",
      "Total time to execute iteration 1 with iteration value None: 0.00 s\n",
      "Running step 'initialize_imputed_skims'\n",
      "Time to execute step 'initialize_imputed_skims': 78.69 s\n",
      "Total time to execute iteration 1 with iteration value None: 78.69 s\n",
      "Running step 'skims_aggregations'\n",
      "Time to execute step 'skims_aggregations': 0.00 s\n",
      "Total time to execute iteration 1 with iteration value None: 0.00 s\n"
     ]
    }
   ],
   "source": [
    "orca.run(['initialize_network_small']) \n",
    "orca.run(['initialize_network_walk']) \n",
    "orca.run(['initialize_imputed_skims']) \n",
    "orca.run(['skims_aggregations']) "
   ]
  },
  {
   "cell_type": "code",
   "execution_count": 6,
   "metadata": {},
   "outputs": [],
   "source": [
    "# Distance-based accesibilities \n",
    "#SAVED TO DISK AS THEY TAKE A LONG TIME TO RUN. \n",
    "\n",
    "# orca.run(['network_aggregations_small']) \n",
    "# orca.run(['network_aggregations_walk']) \n",
    "# nodessmall = orca.get_table('nodessmall').to_frame()\n",
    "# nodeswalk = orca.get_table('nodeswalk').to_frame()\n",
    "# nodessmall.to_csv('/home/ubuntu/activitysynth/activitysynth/data/nodessmall.csv')\n",
    "# nodeswalk.to_csv('/home/ubuntu/activitysynth/activitysynth/data/nodeswalk.csv')\n",
    "# beam_skims_imputed.to_csv('/home/ubuntu/activitysynth/activitysynth/data/beam_skims_imputed.csv')"
   ]
  },
  {
   "cell_type": "markdown",
   "metadata": {},
   "source": [
    "## CHTS Data for estimation "
   ]
  },
  {
   "cell_type": "code",
   "execution_count": 7,
   "metadata": {},
   "outputs": [
    {
     "data": {
      "text/plain": [
       "<orca.orca.DataFrameWrapper at 0x7fc0247bf5c0>"
      ]
     },
     "execution_count": 7,
     "metadata": {},
     "output_type": "execute_result"
    }
   ],
   "source": [
    "k12_students = pd.read_csv('s3://baus-data/spring_2019/students_k12.csv')\n",
    "\n",
    "persons = pd.read_csv('s3://baus-data/fall_2018/chts_persons_w_zone_ids.csv')\n",
    "households = pd.read_csv(\"s3://baus-data/fall_2018/CHTS_csv_format/data/Deliv_HH.csv\")\n",
    "\n",
    "zones = orca.get_table('zones').to_frame()\n",
    "\n",
    "beam_skims = orca.get_table('beam_skims_imputed').to_frame().reset_index()\n",
    "schools = orca.get_table('schools').to_frame()\n",
    "public_schools_50 = orca.get_table('public_schools_50').to_frame()\n",
    "\n",
    "#I have save this tables (Distance-based accessibilities) on disk just for convinience\n",
    "nodessmall = pd.read_csv('/home/ubuntu/activitysynth/activitysynth/data/nodessmall.csv').set_index('osmid')\n",
    "nodeswalk = pd.read_csv('/home/ubuntu/activitysynth/activitysynth/data/nodeswalk.csv').set_index('osmid')\n",
    "\n",
    "orca.add_table('nodessmall', nodessmall)\n",
    "orca.add_table('nodeswalk', nodeswalk)"
   ]
  },
  {
   "cell_type": "code",
   "execution_count": 8,
   "metadata": {},
   "outputs": [],
   "source": [
    "counties_dic = {'06001': 1, '06013': 13, '06041': 41, \n",
    "                '06055': 55, '06075': 75, '06081': 81, \n",
    "                '06085': 85, '06095': 95, '06097': 97}"
   ]
  },
  {
   "cell_type": "markdown",
   "metadata": {},
   "source": [
    "## Data cleaning"
   ]
  },
  {
   "cell_type": "code",
   "execution_count": 9,
   "metadata": {},
   "outputs": [],
   "source": [
    "students = k12_students.copy(deep=True)\n",
    "\n",
    "#Getting the type (public/private) of school for each observation\n",
    "students = students.merge(schools.loc[:,['type']], how = 'left', left_on = 'school_id', right_index = True)\n",
    "students['s_type'] = students.type.replace(['public', 'private'], [1,0])\n",
    "\n",
    "#Filtering correct age \n",
    "students = students[students.AGE <= 18]\n",
    "\n",
    "#Hispanic indicador\n",
    "students.HISP.replace([2,9,8], [0, np.nan, np.nan], inplace = True)\n",
    "\n",
    "#Sex indicator \n",
    "students.GEND.replace(2,0, inplace = True) # 1 male, 0 female\n",
    "\n",
    "#Cheking if there is more than one race per person\n",
    "students['race'] = students.RACE1.notnull().astype(int) + \\\n",
    "                          students.RACE2.notnull().astype(int) + \\\n",
    "                          students.RACE3.notnull().astype(int) + \\\n",
    "                          students.RACE4.notnull().astype(int)\n",
    "\n",
    "\n",
    "students['race'] = students['race'].replace(2, 6) # Two or more races (6. 2+ races)\n",
    "students['race'] = np.where(students['race'] == 1, students['RACE1'], students['race'])\n",
    "\n",
    "students.rename(columns = {'HISP': 'hispanic', 'AGE': 'age', 'GEND': 'sex'}, inplace = True)\n",
    "\n",
    "###################################\n",
    "#Merging household characteristics\n",
    "###################################\n",
    "\n",
    "#Getting number of children per household, race and age of the head (head assume to be PERNO == 1)\n",
    "persons['children'] = (persons.AGE < 18).astype(int) # Children indicator\n",
    "# persons.loc[:,['RACE1', 'RACE2', 'RACE3', 'RACE4', 'O_RACE']]\n",
    "persons['race_id'] = persons.RACE1.notnull().astype(int) + \\\n",
    "                          persons.RACE2.notnull().astype(int) + \\\n",
    "                          persons.RACE3.notnull().astype(int) + \\\n",
    "                          persons.RACE4.notnull().astype(int)\n",
    "\n",
    "persons['race_id'] = persons['race_id'].replace(2, 6) # Two or more races (6. 2+ races)\n",
    "persons['race_id'] = np.where(persons['race_id'] == 1, persons['RACE1'], persons['race_id'])\n",
    "\n",
    "\n",
    "hh_per_var = persons.loc[:,['SAMPN', 'PERNO', 'children','race_id', 'AGE', 'HISP']].sort_values(['SAMPN', 'PERNO']).groupby('SAMPN').\\\n",
    "             agg({'children': 'sum', 'race_id': 'first', 'AGE': 'first', 'HISP': 'first'})\n",
    "\n",
    "hh_per_var.rename(columns = {'AGE': 'age_of_head', 'race_id': 'race_head', 'HISP': 'hispanic_head'}, inplace = True)\n",
    "hh_per_var.hispanic_head.replace(2,0, inplace = True) # 1 is hispanic, 0 itherwise\n",
    "\n",
    "students = students.merge(hh_per_var, how = 'inner', left_on = 'SAMPN', right_index = True )\n",
    "\n",
    "#Merging household table\n",
    "households['recent_mover'] = (households.TEN <= 5).astype(int)\n",
    "\n",
    "#Naming varaibles as in PUMS varaibles\n",
    "pums_names = {'HHSIZ': 'persons', 'INCOM': 'income', 'OWN': 'tenure', 'HHVEH': 'cars', 'HHEMP': 'workers' }\n",
    "households.rename(columns=pums_names, inplace = True)\n",
    "\n",
    "hh_var = ['SAMPN', 'persons', 'income', 'tenure', 'cars', 'workers', 'recent_mover']\n",
    "students = students.merge(households.loc[:,hh_var], how = 'left', on = 'SAMPN')\n",
    "\n",
    "################################\n",
    "#Merging accesibility variables\n",
    "################################\n",
    "\n",
    "#Getting small and walk networks\n",
    "netsmall = orca.get_injectable('netsmall')\n",
    "netwalk = orca.get_injectable('netwalk')\n",
    "\n",
    "#Getting small and walk node ID for each student home location\n",
    "students['small_node_id'] = netsmall.get_node_ids(students.HXCORD.astype(float),students.HYCORD.astype(float))\n",
    "students['walk_node_id'] = netwalk.get_node_ids(students.HXCORD.astype(float),students.HYCORD.astype(float))\n",
    "\n",
    "#Merging distance based accesibilities\n",
    "students = students.merge(nodessmall, how = 'left', left_on = 'small_node_id', right_index = True)\n",
    "students = students.merge(nodeswalk, how = 'left', left_on = 'walk_node_id', right_index = True)\n",
    "\n",
    "#Merging time-based accesibilities\n",
    "students = students.merge(zones, how = 'left', left_on ='zone_id_home', right_index = True)\n",
    "\n",
    "######################################################################\n",
    "#Merging average score of xx closest schools to student home location \n",
    "######################################################################\n",
    "\n",
    "df = public_schools_50.copy()\n",
    "df.columns = df.columns.astype(str)\n",
    "\n",
    "# Get the score of the 50th closest scools to node ID\n",
    "for col in range(1,51):\n",
    "    col_name = 'poi' + str(col)\n",
    "    df = df.merge(schools[['rank']], how = 'left', left_on = col_name, right_index = True)\n",
    "    new_col_name = 'rank' + str(col)\n",
    "    df.rename(columns = {'rank': new_col_name}, inplace = True)\n",
    "\n",
    "# Calculate average of the 50th closest scools to node ID\n",
    "for col in range(102,151):\n",
    "    col_name = 'mean' + str(col-100)\n",
    "    df[col_name]= df.iloc[:,100:col].mean(axis = 1)\n",
    "\n",
    "#Merging to student table \n",
    "students = students.merge(df.loc[:,df.columns.str.startswith('mean')], \n",
    "                          how = 'left', \n",
    "                          left_on = 'small_node_id',\n",
    "                          right_index = True)\n",
    "\n",
    "###############################\n",
    "# ADDING INTERACTION VARIABLES \n",
    "###############################\n",
    "students['tenure'].replace(2,0, inplace = True) # 1: own, 0:Rent\n",
    "students['income:tenure'] = students['income'] * students['tenure']\n",
    "students['income:recent_mover'] = students['income'] * students['recent_mover']\n",
    "students['income:race'] = students['income'] * students['race']\n",
    "students['income:hispanic'] = students['income'] * students['hispanic']\n",
    "students['mean5:tenure'] = students['mean5'] * students['tenure']\n",
    "students['mean5:cars'] = students['mean5'] * students['cars']\n",
    "\n",
    "city_dummies = pd.get_dummies(students.HCITY)\n",
    "city_dummies.columns = city_dummies.columns.str.replace(' ', '_')\n",
    "city_dummies.rename(columns= lambda x: x.strip(), inplace = True)\n",
    "students = pd.concat([students, city_dummies], axis=1, sort=False)\n"
   ]
  },
  {
   "cell_type": "code",
   "execution_count": 16,
   "metadata": {},
   "outputs": [],
   "source": [
    "#Selecting important variables \n",
    "students_vars = ['SAMPN', 'PERNO', 's_type', 'age', 'race', 'hispanic', 'sex', \n",
    "                 'age_of_head', \n",
    "                 'race_head', 'hispanic_head', 'recent_mover', 'persons',\n",
    "                 'income', 'tenure', 'cars', 'workers', 'children','mean2', 'mean5', 'mean6', 'mean7', 'mean8', 'mean9',\n",
    "                 'mean10', 'mean11', 'mean12', 'mean13', 'mean14','mean15', 'mean20','income:tenure','income:recent_mover',\n",
    "                 'income:race', 'income:hispanic', 'mean5:tenure', 'mean5:cars'] \\\n",
    "                 + list(nodessmall.columns) + list(nodeswalk.columns)  \\\n",
    "                 + list(zones.drop(columns = ['gid', 'area', 'acres']).columns) + list(city_dummies.columns)\n",
    "\n",
    "students_df = students[students_vars]"
   ]
  },
  {
   "cell_type": "code",
   "execution_count": 11,
   "metadata": {},
   "outputs": [],
   "source": [
    "#Selecting important variables \n",
    "students_vars = ['SAMPN', 'PERNO', 's_type', 'age', 'race', 'hispanic', 'sex', \n",
    "                 'age_of_head', \n",
    "                 'race_head', 'hispanic_head', 'recent_mover', 'persons',\n",
    "                 'income', 'tenure', 'cars', 'workers', 'children'] \\\n",
    "                 + list(zones.drop(columns = ['gid', 'area', 'acres']).columns)\n",
    "\n",
    "students_df = students[students_vars]"
   ]
  },
  {
   "cell_type": "code",
   "execution_count": 17,
   "metadata": {},
   "outputs": [
    {
     "data": {
      "text/plain": [
       "(2996, 297)"
      ]
     },
     "execution_count": 17,
     "metadata": {},
     "output_type": "execute_result"
    }
   ],
   "source": [
    "################################\n",
    "# Dropping NA values \n",
    "################################\n",
    "#Replacing NA keys to real na \n",
    "na_dict = {\n",
    "    'race':[98, 99],\n",
    "    'hispanic':[8, 9],\n",
    "    'sex':[9],\n",
    "    'income':[98,99],\n",
    "    'tenure':[7, 8, 9],\n",
    "    'race_head':[98, 99],\n",
    "    'hispanic_head':[8, 9],\n",
    "    'age_of_head': [998, 999],\n",
    "    }\n",
    "\n",
    "for col in na_dict:\n",
    "    for vals in na_dict[col]:\n",
    "        students_df[col] = students_df[col].replace(vals,np.nan)\n",
    "        \n",
    "students_df.dropna(inplace = True)\n",
    "students_df.shape"
   ]
  },
  {
   "cell_type": "code",
   "execution_count": 18,
   "metadata": {
    "scrolled": true
   },
   "outputs": [],
   "source": [
    "#Race variable to dummy variables\n",
    "race_dict = {1:'white', 2:'african_american',3:'indian/alaska',4:'asian', 5:'hawaii/pacific', 6:'+2races', 97:'other'}\n",
    "students_df.race.replace(race_dict, inplace = True)\n",
    "students_df.race_head.replace(race_dict, inplace = True)\n",
    "\n",
    "race_dummies = pd.get_dummies(students_df.race, prefix='race', prefix_sep='_')\n",
    "race_head_dummies = pd.get_dummies(students_df.race_head, prefix='race_head', prefix_sep='_')\n",
    "students_df = pd.concat([students_df, race_dummies, race_head_dummies], axis=1, sort=False)\n"
   ]
  },
  {
   "cell_type": "code",
   "execution_count": 13,
   "metadata": {},
   "outputs": [
    {
     "data": {
      "image/png": "[encoded data removed]",
      "text/plain": [
       "<Figure size 432x288 with 1 Axes>"
      ]
     },
     "metadata": {
      "needs_background": "light"
     },
     "output_type": "display_data"
    }
   ],
   "source": [
    "sns.scatterplot(students.HXCORD, students.HYCORD);"
   ]
  },
  {
   "cell_type": "code",
   "execution_count": 14,
   "metadata": {},
   "outputs": [
    {
     "data": {
      "image/png": "[encoded data removed]",
      "text/plain": [
       "<Figure size 432x288 with 1 Axes>"
      ]
     },
     "metadata": {
      "needs_background": "light"
     },
     "output_type": "display_data"
    }
   ],
   "source": [
    "sns.scatterplot(students[students.s_type == 0].HXCORD, students[students.s_type == 0].HYCORD);"
   ]
  },
  {
   "cell_type": "code",
   "execution_count": 15,
   "metadata": {},
   "outputs": [],
   "source": [
    "# sns.scatterplot(x='HXCORD', y='HYCORD', data = students[students.s_type == 0])#, hue = 's_type')"
   ]
  },
  {
   "cell_type": "code",
   "execution_count": 122,
   "metadata": {},
   "outputs": [
    {
     "data": {
      "image/png": "[encoded data removed]",
      "text/plain": [
       "<Figure size 482.625x360 with 1 Axes>"
      ]
     },
     "metadata": {
      "needs_background": "light"
     },
     "output_type": "display_data"
    }
   ],
   "source": [
    "sns.catplot(x = 's_type', y = 'income', hue = 'race', data = students_df, kind = 'box');"
   ]
  },
  {
   "cell_type": "code",
   "execution_count": 17,
   "metadata": {},
   "outputs": [
    {
     "data": {
      "image/png": "[encoded data removed]",
      "text/plain": [
       "<Figure size 412x360 with 1 Axes>"
      ]
     },
     "metadata": {
      "needs_background": "light"
     },
     "output_type": "display_data"
    }
   ],
   "source": [
    "sns.catplot(x = 'cars', y = 'mean5', hue = 's_type', data = students_df, kind = 'box');"
   ]
  },
  {
   "cell_type": "code",
   "execution_count": 18,
   "metadata": {},
   "outputs": [
    {
     "data": {
      "image/png": "[encoded data removed]",
      "text/plain": [
       "<Figure size 436.875x360 with 1 Axes>"
      ]
     },
     "metadata": {
      "needs_background": "light"
     },
     "output_type": "display_data"
    }
   ],
   "source": [
    "sns.catplot(x=\"tenure\", y=\"s_type\", kind=\"bar\", hue = 'recent_mover',data=students_df)\n",
    "plt.ylabel('% of students in public schools');"
   ]
  },
  {
   "cell_type": "code",
   "execution_count": 20,
   "metadata": {},
   "outputs": [],
   "source": [
    "# fig, ax1 = plt.subplots(figsize=(10, 50))\n",
    "# sns.catplot(students.s_type, students.HCITY, kind=\"bar\", ax=ax1);"
   ]
  },
  {
   "cell_type": "markdown",
   "metadata": {},
   "source": [
    "## ML Approach \n",
    "\n"
   ]
  },
  {
   "cell_type": "code",
   "execution_count": 16,
   "metadata": {},
   "outputs": [],
   "source": [
    "# Splitting train (70%) and test (30%) dataset\n",
    "X = students_df.drop(columns=['SAMPN', 'PERNO', 's_type', 'race', 'race_head'])\n",
    "y = students_df.s_type\n",
    "X_train, X_test, y_train, y_test = train_test_split(X, y, test_size=0.3, random_state=42)"
   ]
  },
  {
   "cell_type": "markdown",
   "metadata": {},
   "source": [
    "### Base line \n",
    "Assing all observations to class 1 (Public schools) "
   ]
  },
  {
   "cell_type": "code",
   "execution_count": 19,
   "metadata": {},
   "outputs": [
    {
     "name": "stdout",
     "output_type": "stream",
     "text": [
      "Base line accuracy:  0.8765294771968855\n"
     ]
    },
    {
     "data": {
      "text/html": [
       "<div>\n",
       "<style scoped>\n",
       "    .dataframe tbody tr th:only-of-type {\n",
       "        vertical-align: middle;\n",
       "    }\n",
       "\n",
       "    .dataframe tbody tr th {\n",
       "        vertical-align: top;\n",
       "    }\n",
       "\n",
       "    .dataframe thead th {\n",
       "        text-align: right;\n",
       "    }\n",
       "</style>\n",
       "<table border=\"1\" class=\"dataframe\">\n",
       "  <thead>\n",
       "    <tr style=\"text-align: right;\">\n",
       "      <th>col_0</th>\n",
       "      <th>1.0</th>\n",
       "    </tr>\n",
       "    <tr>\n",
       "      <th>s_type</th>\n",
       "      <th></th>\n",
       "    </tr>\n",
       "  </thead>\n",
       "  <tbody>\n",
       "    <tr>\n",
       "      <th>0.0</th>\n",
       "      <td>111</td>\n",
       "    </tr>\n",
       "    <tr>\n",
       "      <th>1.0</th>\n",
       "      <td>788</td>\n",
       "    </tr>\n",
       "  </tbody>\n",
       "</table>\n",
       "</div>"
      ],
      "text/plain": [
       "col_0   1.0\n",
       "s_type     \n",
       "0.0     111\n",
       "1.0     788"
      ]
     },
     "execution_count": 19,
     "metadata": {},
     "output_type": "execute_result"
    }
   ],
   "source": [
    "y_base_line = np.ones(len(y_test))\n",
    "accuracy_base_line = np.mean(y_base_line == y_test)\n",
    "print (\"Base line accuracy: \", accuracy_base_line)\n",
    "pd.crosstab( y_test, y_base_line)#,normalize = 'index')"
   ]
  },
  {
   "cell_type": "markdown",
   "metadata": {},
   "source": [
    "### Decission tree "
   ]
  },
  {
   "cell_type": "code",
   "execution_count": 86,
   "metadata": {},
   "outputs": [],
   "source": [
    "# Max depth cross validation \n",
    "result_train = []\n",
    "result_test = []\n",
    "max_depth = range(1,20)\n",
    "for i in max_depth:\n",
    "    clf = tree.DecisionTreeClassifier(criterion='entropy',max_depth=i)\n",
    "    scores = cross_validate(clf, X_train, y_train, cv=3, return_train_score=True)\n",
    "    result_train.append(scores['train_score'].mean())\n",
    "    result_test.append(scores['test_score'].mean()) "
   ]
  },
  {
   "cell_type": "code",
   "execution_count": 87,
   "metadata": {},
   "outputs": [
    {
     "data": {
      "image/png": "[encoded data removed]",
      "text/plain": [
       "<Figure size 720x576 with 1 Axes>"
      ]
     },
     "metadata": {
      "needs_background": "light"
     },
     "output_type": "display_data"
    }
   ],
   "source": [
    "# Plotting max depth cross validation plot \n",
    "plt.figure(figsize = (10,8))\n",
    "plt.plot(max_depth, result_train, '-o',color='blue',label='Train')\n",
    "plt.plot(max_depth, result_test, '-o',color='red',label='Test')\n",
    "plt.xlabel('Max depth')\n",
    "plt.ylabel('Accuracy')\n",
    "plt.title('Maximum depth')\n",
    "plt.legend();"
   ]
  },
  {
   "cell_type": "code",
   "execution_count": 20,
   "metadata": {},
   "outputs": [
    {
     "data": {
      "image/png": "[encoded data removed]",
      "text/plain": [
       "<Figure size 720x576 with 1 Axes>"
      ]
     },
     "metadata": {
      "needs_background": "light"
     },
     "output_type": "display_data"
    }
   ],
   "source": [
    "dtc = tree.DecisionTreeClassifier(criterion='entropy',max_depth= 5)\n",
    "dtc.fit(X_train, y_train);\n",
    "\n",
    "aa = pd.DataFrame({'importances':dtc.feature_importances_,\n",
    "                   'variables':X_train.columns}).sort_values(by = 'importances', ascending= False)\n",
    "\n",
    "plt.figure(figsize = (10,8))\n",
    "ax = sns.barplot(x='importances', y='variables', data=aa[:5],palette=\"Blues_d\" )\n",
    "plt.title('Feature importance - Decision Tree');"
   ]
  },
  {
   "cell_type": "code",
   "execution_count": 21,
   "metadata": {},
   "outputs": [
    {
     "name": "stdout",
     "output_type": "stream",
     "text": [
      "Model accuracy:  0.8798665183537263\n"
     ]
    },
    {
     "data": {
      "text/html": [
       "<div>\n",
       "<style scoped>\n",
       "    .dataframe tbody tr th:only-of-type {\n",
       "        vertical-align: middle;\n",
       "    }\n",
       "\n",
       "    .dataframe tbody tr th {\n",
       "        vertical-align: top;\n",
       "    }\n",
       "\n",
       "    .dataframe thead th {\n",
       "        text-align: right;\n",
       "    }\n",
       "</style>\n",
       "<table border=\"1\" class=\"dataframe\">\n",
       "  <thead>\n",
       "    <tr style=\"text-align: right;\">\n",
       "      <th>col_0</th>\n",
       "      <th>0.0</th>\n",
       "      <th>1.0</th>\n",
       "    </tr>\n",
       "    <tr>\n",
       "      <th>s_type</th>\n",
       "      <th></th>\n",
       "      <th></th>\n",
       "    </tr>\n",
       "  </thead>\n",
       "  <tbody>\n",
       "    <tr>\n",
       "      <th>0.0</th>\n",
       "      <td>16</td>\n",
       "      <td>95</td>\n",
       "    </tr>\n",
       "    <tr>\n",
       "      <th>1.0</th>\n",
       "      <td>13</td>\n",
       "      <td>775</td>\n",
       "    </tr>\n",
       "  </tbody>\n",
       "</table>\n",
       "</div>"
      ],
      "text/plain": [
       "col_0   0.0  1.0\n",
       "s_type          \n",
       "0.0      16   95\n",
       "1.0      13  775"
      ]
     },
     "execution_count": 21,
     "metadata": {},
     "output_type": "execute_result"
    }
   ],
   "source": [
    "print (\"Model accuracy: \", dtc.score(X_test, y_test))\n",
    "pd.crosstab( y_test, dtc.predict(X_test))#,normalize = 'index')"
   ]
  },
  {
   "cell_type": "markdown",
   "metadata": {},
   "source": [
    "### Gradient boosting"
   ]
  },
  {
   "cell_type": "code",
   "execution_count": 27,
   "metadata": {},
   "outputs": [
    {
     "data": {
      "image/png": "[encoded data removed]",
      "text/plain": [
       "<Figure size 720x576 with 1 Axes>"
      ]
     },
     "metadata": {
      "needs_background": "light"
     },
     "output_type": "display_data"
    }
   ],
   "source": [
    "result_train = []\n",
    "result_test = []\n",
    "max_depth = range(1,6)\n",
    "for i in max_depth:\n",
    "    clf = GradientBoostingClassifier(max_depth = i, n_estimators = 100)\n",
    "    scores = cross_validate(clf, X_train, y_train, cv=3, return_train_score=True)\n",
    "    result_train.append(scores['train_score'].mean())\n",
    "    result_test.append(scores['test_score'].mean()) \n",
    "    \n",
    "plt.figure(figsize = (10,8))\n",
    "plt.plot(max_depth, result_train, '-o',color='blue',label='Train')\n",
    "plt.plot(max_depth, result_test, '-o',color='red',label='Test')\n",
    "plt.xlabel('Max depth')\n",
    "plt.ylabel('Accuracy')\n",
    "plt.title('Maximum depth')\n",
    "plt.legend();"
   ]
  },
  {
   "cell_type": "code",
   "execution_count": 22,
   "metadata": {},
   "outputs": [
    {
     "data": {
      "image/png": "[encoded data removed]",
      "text/plain": [
       "<Figure size 720x576 with 1 Axes>"
      ]
     },
     "metadata": {
      "needs_background": "light"
     },
     "output_type": "display_data"
    }
   ],
   "source": [
    "gbc = GradientBoostingClassifier(max_depth=4, n_estimators=100)\n",
    "gbc.fit(X_train, y_train)\n",
    "\n",
    "# importances = model.feature_importances_\n",
    "# pd.crosstab( y_test, model.predict(X_test))\n",
    "# model.score(X_test, y_test)\n",
    "\n",
    "feat_importance = pd.DataFrame({'importances':gbc.feature_importances_,\n",
    "                   'variables':X_train.columns}).sort_values(by = 'importances', ascending= False)\n",
    "\n",
    "plt.figure(figsize = (10,8))\n",
    "ax = sns.barplot(x='importances', y='variables', data=feat_importance[:20],palette=\"Blues_d\" )\n",
    "plt.title('Feature importance - Gradient Boosting');"
   ]
  },
  {
   "cell_type": "code",
   "execution_count": 23,
   "metadata": {},
   "outputs": [
    {
     "name": "stdout",
     "output_type": "stream",
     "text": [
      "Model accuracy:  0.8921023359288098\n"
     ]
    },
    {
     "data": {
      "text/html": [
       "<div>\n",
       "<style scoped>\n",
       "    .dataframe tbody tr th:only-of-type {\n",
       "        vertical-align: middle;\n",
       "    }\n",
       "\n",
       "    .dataframe tbody tr th {\n",
       "        vertical-align: top;\n",
       "    }\n",
       "\n",
       "    .dataframe thead th {\n",
       "        text-align: right;\n",
       "    }\n",
       "</style>\n",
       "<table border=\"1\" class=\"dataframe\">\n",
       "  <thead>\n",
       "    <tr style=\"text-align: right;\">\n",
       "      <th>col_0</th>\n",
       "      <th>0.0</th>\n",
       "      <th>1.0</th>\n",
       "    </tr>\n",
       "    <tr>\n",
       "      <th>s_type</th>\n",
       "      <th></th>\n",
       "      <th></th>\n",
       "    </tr>\n",
       "  </thead>\n",
       "  <tbody>\n",
       "    <tr>\n",
       "      <th>0.0</th>\n",
       "      <td>27</td>\n",
       "      <td>84</td>\n",
       "    </tr>\n",
       "    <tr>\n",
       "      <th>1.0</th>\n",
       "      <td>13</td>\n",
       "      <td>775</td>\n",
       "    </tr>\n",
       "  </tbody>\n",
       "</table>\n",
       "</div>"
      ],
      "text/plain": [
       "col_0   0.0  1.0\n",
       "s_type          \n",
       "0.0      27   84\n",
       "1.0      13  775"
      ]
     },
     "execution_count": 23,
     "metadata": {},
     "output_type": "execute_result"
    }
   ],
   "source": [
    "print (\"Model accuracy: \", gbc.score(X_test, y_test))\n",
    "pd.crosstab(y_test, gbc.predict(X_test))"
   ]
  },
  {
   "cell_type": "code",
   "execution_count": 616,
   "metadata": {},
   "outputs": [
    {
     "data": {
      "image/png": "[encoded data removed]",
      "text/plain": [
       "<Figure size 432x288 with 1 Axes>"
      ]
     },
     "metadata": {
      "needs_background": "light"
     },
     "output_type": "display_data"
    }
   ],
   "source": [
    "#f1 score plot \n",
    "probs = gbc.predict_proba(X_test)\n",
    "TPR_list, FPR_list, F1_score_list, MMC_score_list, results_table = f1_scores(probs, y_test)\n",
    "\n",
    "plt.plot( np.linspace(0,1,100)*100, F1_score_list,)\n",
    "plt.xlabel('Probability Treshold');\n",
    "plt.ylabel('F1 Score')\n",
    "plt.title('F1 Score');"
   ]
  },
  {
   "cell_type": "code",
   "execution_count": 41,
   "metadata": {},
   "outputs": [
    {
     "name": "stdout",
     "output_type": "stream",
     "text": [
      "gbc accuracy:  0.8231368186874305\n"
     ]
    },
    {
     "data": {
      "text/html": [
       "<div>\n",
       "<style scoped>\n",
       "    .dataframe tbody tr th:only-of-type {\n",
       "        vertical-align: middle;\n",
       "    }\n",
       "\n",
       "    .dataframe tbody tr th {\n",
       "        vertical-align: top;\n",
       "    }\n",
       "\n",
       "    .dataframe thead th {\n",
       "        text-align: right;\n",
       "    }\n",
       "</style>\n",
       "<table border=\"1\" class=\"dataframe\">\n",
       "  <thead>\n",
       "    <tr style=\"text-align: right;\">\n",
       "      <th>predicted</th>\n",
       "      <th>0</th>\n",
       "      <th>1</th>\n",
       "    </tr>\n",
       "    <tr>\n",
       "      <th>real</th>\n",
       "      <th></th>\n",
       "      <th></th>\n",
       "    </tr>\n",
       "  </thead>\n",
       "  <tbody>\n",
       "    <tr>\n",
       "      <th>0.0</th>\n",
       "      <td>63</td>\n",
       "      <td>48</td>\n",
       "    </tr>\n",
       "    <tr>\n",
       "      <th>1.0</th>\n",
       "      <td>111</td>\n",
       "      <td>677</td>\n",
       "    </tr>\n",
       "  </tbody>\n",
       "</table>\n",
       "</div>"
      ],
      "text/plain": [
       "predicted    0    1\n",
       "real               \n",
       "0.0         63   48\n",
       "1.0        111  677"
      ]
     },
     "execution_count": 41,
     "metadata": {},
     "output_type": "execute_result"
    }
   ],
   "source": [
    "#Changing probability treshhold\n",
    "results_table['predicted'] = (results_table.public > 0.85)*1\n",
    "\n",
    "accuracy_gbc = np.mean(results_table['predicted'] == y_test)\n",
    "print (\"gbc accuracy: \", accuracy_gbc)\n",
    "pd.crosstab(results_table.real, results_table.predicted)\n",
    "# results_table.groupby('real').agg({'public':['mean', 'std']})"
   ]
  },
  {
   "cell_type": "markdown",
   "metadata": {},
   "source": [
    "### AdaBost Classifier"
   ]
  },
  {
   "cell_type": "code",
   "execution_count": 17,
   "metadata": {},
   "outputs": [],
   "source": [
    "from sklearn.ensemble import AdaBoostClassifier\n",
    "from sklearn.datasets import make_classification"
   ]
  },
  {
   "cell_type": "code",
   "execution_count": 612,
   "metadata": {},
   "outputs": [],
   "source": [
    "# result_train = []\n",
    "# result_test = []\n",
    "# max_depth = range(1,100,10)\n",
    "# for i in max_depth:\n",
    "#     clf = AdaBoostClassifier(n_estimators=100, random_state=0)\n",
    "#     scores = cross_validate(clf, X_train, y_train, cv=3, return_train_score=True)\n",
    "#     result_train.append(scores['train_score'].mean())\n",
    "#     result_test.append(scores['test_score'].mean()) \n",
    "    \n",
    "# plt.figure(figsize = (10,8))\n",
    "# plt.plot(max_depth, result_train, '-o',color='blue',label='Train')\n",
    "# plt.plot(max_depth, result_test, '-o',color='red',label='Test')\n",
    "# plt.xlabel('Max depth')\n",
    "# plt.ylabel('Accuracy')\n",
    "# plt.title('Maximum depth')\n",
    "# plt.legend();"
   ]
  },
  {
   "cell_type": "code",
   "execution_count": 18,
   "metadata": {
    "scrolled": true
   },
   "outputs": [
    {
     "name": "stdout",
     "output_type": "stream",
     "text": [
      "Model accuracy:  0.8676307007786429\n"
     ]
    },
    {
     "data": {
      "text/html": [
       "<div>\n",
       "<style scoped>\n",
       "    .dataframe tbody tr th:only-of-type {\n",
       "        vertical-align: middle;\n",
       "    }\n",
       "\n",
       "    .dataframe tbody tr th {\n",
       "        vertical-align: top;\n",
       "    }\n",
       "\n",
       "    .dataframe thead th {\n",
       "        text-align: right;\n",
       "    }\n",
       "</style>\n",
       "<table border=\"1\" class=\"dataframe\">\n",
       "  <thead>\n",
       "    <tr style=\"text-align: right;\">\n",
       "      <th>col_0</th>\n",
       "      <th>0.0</th>\n",
       "      <th>1.0</th>\n",
       "    </tr>\n",
       "    <tr>\n",
       "      <th>s_type</th>\n",
       "      <th></th>\n",
       "      <th></th>\n",
       "    </tr>\n",
       "  </thead>\n",
       "  <tbody>\n",
       "    <tr>\n",
       "      <th>0.0</th>\n",
       "      <td>25</td>\n",
       "      <td>86</td>\n",
       "    </tr>\n",
       "    <tr>\n",
       "      <th>1.0</th>\n",
       "      <td>33</td>\n",
       "      <td>755</td>\n",
       "    </tr>\n",
       "  </tbody>\n",
       "</table>\n",
       "</div>"
      ],
      "text/plain": [
       "col_0   0.0  1.0\n",
       "s_type          \n",
       "0.0      25   86\n",
       "1.0      33  755"
      ]
     },
     "execution_count": 18,
     "metadata": {},
     "output_type": "execute_result"
    }
   ],
   "source": [
    "clf = AdaBoostClassifier(n_estimators=500, random_state=0)\n",
    "clf.fit(X_train, y_train)\n",
    "\n",
    "# feat_importance = pd.DataFrame({'importances':clf.feature_importances_,\n",
    "#                    'variables':X_train.columns}).sort_values(by = 'importances', ascending= False)\n",
    "\n",
    "# plt.figure(figsize = (10,8))\n",
    "# ax = sns.barplot(x='importances', y='variables', data=feat_importance[:20],palette=\"Blues_d\" )\n",
    "# plt.title('Feature importance - Gradient Boosting');\n",
    "\n",
    "\n",
    "print (\"Model accuracy: \", clf.score(X_test, y_test))\n",
    "pd.crosstab(y_test, clf.predict(X_test))"
   ]
  },
  {
   "cell_type": "code",
   "execution_count": 694,
   "metadata": {},
   "outputs": [],
   "source": [
    "#Creating a pkl file\n",
    "file_Name = \"configs/pu_vs_pr.pkl\"\n",
    "fileObject = open(file_Name,'wb') \n",
    "dill.dump(clf,fileObject)   \n",
    "fileObject.close()"
   ]
  },
  {
   "cell_type": "code",
   "execution_count": 695,
   "metadata": {},
   "outputs": [
    {
     "data": {
      "text/plain": [
       "array([1., 1., 1., 1., 1., 1., 1., 1., 1., 1., 1., 1., 0., 1., 1., 1., 1.,\n",
       "       1., 1., 1., 1., 0., 1., 1., 1., 1., 1., 1., 1., 1., 1., 1., 0., 1.,\n",
       "       0., 1., 1., 1., 0., 1., 1., 1., 1., 1., 1., 1., 1., 1., 1., 1., 1.,\n",
       "       1., 1., 1., 1., 1., 1., 1., 1., 1., 1., 1., 1., 1., 1., 1., 1., 1.,\n",
       "       1., 1., 1., 1., 1., 1., 1., 0., 1., 1., 1., 1., 0., 1., 1., 0., 0.,\n",
       "       1., 1., 1., 1., 0., 1., 1., 1., 1., 1., 1., 1., 1., 1., 1., 1., 1.,\n",
       "       1., 1., 1., 1., 1., 0., 1., 1., 1., 1., 1., 1., 1., 1., 1., 0., 1.,\n",
       "       1., 1., 0., 1., 1., 1., 1., 1., 1., 1., 1., 1., 1., 0., 1., 1., 0.,\n",
       "       1., 1., 1., 1., 1., 1., 1., 0., 1., 1., 1., 1., 1., 1., 1., 1., 1.,\n",
       "       1., 1., 1., 1., 1., 1., 1., 1., 1., 1., 1., 1., 1., 1., 0., 1., 1.,\n",
       "       1., 1., 0., 1., 1., 1., 1., 1., 1., 1., 1., 1., 1., 1., 1., 1., 1.,\n",
       "       0., 1., 1., 1., 1., 1., 1., 1., 0., 1., 0., 1., 1., 1., 1., 1., 1.,\n",
       "       1., 1., 1., 1., 1., 1., 1., 1., 1., 1., 1., 1., 0., 1., 1., 1., 1.,\n",
       "       1., 1., 1., 1., 1., 1., 1., 1., 0., 1., 1., 1., 1., 1., 1., 1., 1.,\n",
       "       1., 1., 1., 1., 0., 1., 1., 0., 1., 1., 1., 1., 1., 1., 1., 1., 1.,\n",
       "       1., 1., 1., 1., 1., 1., 1., 1., 0., 1., 1., 1., 1., 1., 1., 1., 1.,\n",
       "       1., 1., 0., 1., 1., 1., 1., 0., 1., 1., 0., 1., 0., 1., 1., 0., 1.,\n",
       "       1., 1., 0., 1., 1., 1., 1., 1., 1., 1., 0., 1., 1., 1., 1., 1., 1.,\n",
       "       1., 1., 1., 1., 1., 1., 1., 0., 1., 1., 1., 1., 1., 1., 1., 1., 1.,\n",
       "       1., 1., 1., 1., 1., 1., 0., 1., 1., 1., 1., 1., 1., 1., 1., 1., 1.,\n",
       "       1., 1., 1., 0., 1., 1., 1., 1., 1., 1., 1., 1., 1., 1., 1., 1., 1.,\n",
       "       1., 1., 0., 1., 1., 1., 1., 1., 1., 1., 1., 1., 1., 1., 1., 1., 1.,\n",
       "       1., 0., 1., 1., 1., 1., 0., 1., 1., 1., 1., 0., 1., 1., 1., 1., 1.,\n",
       "       1., 1., 1., 1., 1., 1., 1., 1., 1., 1., 1., 1., 1., 1., 1., 1., 1.,\n",
       "       1., 1., 1., 1., 1., 1., 1., 1., 1., 1., 0., 1., 1., 1., 1., 1., 1.,\n",
       "       1., 1., 1., 1., 1., 0., 1., 0., 1., 1., 1., 1., 1., 1., 1., 1., 1.,\n",
       "       1., 1., 0., 1., 1., 0., 1., 1., 1., 1., 1., 1., 1., 1., 1., 1., 1.,\n",
       "       1., 1., 1., 1., 1., 1., 1., 1., 1., 0., 1., 1., 1., 0., 1., 1., 1.,\n",
       "       1., 1., 1., 1., 1., 1., 1., 1., 1., 1., 1., 1., 1., 1., 1., 1., 1.,\n",
       "       0., 1., 0., 1., 1., 1., 1., 1., 1., 1., 1., 1., 1., 1., 1., 0., 1.,\n",
       "       1., 1., 1., 0., 1., 1., 1., 0., 1., 1., 1., 1., 0., 1., 1., 1., 1.,\n",
       "       1., 1., 1., 1., 1., 1., 1., 1., 1., 1., 1., 1., 1., 1., 1., 1., 1.,\n",
       "       0., 1., 1., 1., 1., 1., 1., 1., 1., 1., 1., 1., 1., 1., 1., 1., 0.,\n",
       "       1., 1., 1., 1., 1., 0., 1., 1., 1., 1., 1., 0., 1., 1., 1., 1., 1.,\n",
       "       0., 1., 1., 1., 1., 0., 1., 0., 1., 1., 1., 1., 1., 1., 1., 1., 1.,\n",
       "       1., 1., 1., 0., 1., 0., 1., 1., 1., 0., 1., 1., 1., 1., 1., 0., 1.,\n",
       "       1., 1., 1., 1., 1., 1., 1., 1., 1., 1., 1., 1., 0., 1., 1., 1., 1.,\n",
       "       0., 1., 1., 1., 1., 1., 1., 1., 1., 1., 1., 0., 1., 1., 1., 1., 1.,\n",
       "       1., 1., 1., 1., 1., 1., 0., 1., 1., 1., 1., 1., 1., 1., 1., 1., 1.,\n",
       "       1., 0., 1., 1., 1., 1., 1., 0., 1., 1., 1., 1., 1., 0., 1., 1., 1.,\n",
       "       1., 1., 1., 1., 0., 1., 1., 1., 0., 1., 1., 1., 1., 1., 1., 1., 1.,\n",
       "       1., 1., 1., 1., 1., 1., 1., 1., 1., 1., 1., 1., 1., 1., 1., 1., 1.,\n",
       "       1., 1., 1., 1., 1., 1., 1., 1., 1., 1., 1., 1., 1., 1., 1., 1., 1.,\n",
       "       0., 1., 1., 1., 1., 0., 1., 1., 1., 1., 1., 1., 1., 1., 1., 1., 1.,\n",
       "       1., 1., 1., 1., 1., 1., 1., 1., 1., 1., 1., 1., 1., 1., 1., 1., 1.,\n",
       "       1., 1., 1., 0., 1., 1., 1., 1., 1., 1., 1., 1., 1., 1., 1., 0., 1.,\n",
       "       1., 1., 1., 1., 1., 1., 1., 1., 1., 1., 1., 0., 1., 1., 1., 1., 1.,\n",
       "       1., 1., 1., 1., 1., 1., 1., 1., 1., 1., 1., 1., 1., 1., 1., 1., 1.,\n",
       "       1., 1., 1., 1., 0., 1., 1., 1., 1., 1., 1., 1., 1., 1., 1., 1., 1.,\n",
       "       1., 1., 1., 0., 1., 1., 1., 1., 1., 1., 1., 1., 1., 1., 1., 1., 1.,\n",
       "       1., 0., 1., 1., 1., 1., 1., 1., 1., 1., 1., 1., 1., 1., 1., 0., 1.,\n",
       "       1., 0., 1., 1., 1., 1., 1., 1., 0., 0., 0., 1., 1., 1., 1., 1., 1.,\n",
       "       1., 1., 1., 1., 1., 1., 0., 0., 1., 1., 1., 1., 1., 1., 0.])"
      ]
     },
     "execution_count": 695,
     "metadata": {},
     "output_type": "execute_result"
    }
   ],
   "source": [
    "#Testing pkl file\n",
    "fileObject = open(file_Name,'rb')  \n",
    "# load the object from the file into var b\n",
    "b = pickle.load(fileObject)  \n",
    "b.predict(X_test)"
   ]
  },
  {
   "cell_type": "code",
   "execution_count": 692,
   "metadata": {},
   "outputs": [
    {
     "data": {
      "text/plain": [
       "'/home/ubuntu/activitysynth/activitysynth'"
      ]
     },
     "execution_count": 692,
     "metadata": {},
     "output_type": "execute_result"
    }
   ],
   "source": [
    "os.getcwd()"
   ]
  },
  {
   "cell_type": "code",
   "execution_count": null,
   "metadata": {},
   "outputs": [],
   "source": [
    "@orca.step()\n",
    "def SLCM_simulate(persons):\n",
    "    \"\"\"\n",
    "    Generate school location choices for the synthetic pop households.\n",
    "    \n",
    "    \"\"\"\n",
    "    #Running the simulation \n",
    "    file_Name = \"configs/SLCM_gen_tt.pkl\"\n",
    "    fileObject = open(file_Name,'rb')  \n",
    "    SLCM = pickle.load(fileObject) \n",
    "    orca.add_column('long_format', 'probabilities', SLCM.predict(orca.get_table('long_format').to_frame()))\n",
    "    df = orca.get_table('long_format').to_frame()\n",
    "    school_choice = df.sort_values(\"probabilities\", ascending=False).groupby('obs_id').agg({'school_choice_set': 'first', \n",
    "                                                                                            'school_zone_id': 'first'})\n",
    "    \n",
    "    #Adding school choice to the persons table. \n",
    "    persons.update_col('school_id',school_choice.school_choice_set )\n",
    "    persons.update_col('zone_id_school',school_choice.school_zone_id )"
   ]
  },
  {
   "cell_type": "markdown",
   "metadata": {},
   "source": [
    "#### Gaussian Process Classifier"
   ]
  },
  {
   "cell_type": "code",
   "execution_count": 630,
   "metadata": {},
   "outputs": [],
   "source": [
    "from sklearn.gaussian_process import GaussianProcessClassifier\n",
    "from sklearn.gaussian_process.kernels import RBF"
   ]
  },
  {
   "cell_type": "code",
   "execution_count": 631,
   "metadata": {},
   "outputs": [
    {
     "name": "stdout",
     "output_type": "stream",
     "text": [
      "Model accuracy:  0.7875417130144605\n"
     ]
    },
    {
     "data": {
      "text/html": [
       "<div>\n",
       "<style scoped>\n",
       "    .dataframe tbody tr th:only-of-type {\n",
       "        vertical-align: middle;\n",
       "    }\n",
       "\n",
       "    .dataframe tbody tr th {\n",
       "        vertical-align: top;\n",
       "    }\n",
       "\n",
       "    .dataframe thead th {\n",
       "        text-align: right;\n",
       "    }\n",
       "</style>\n",
       "<table border=\"1\" class=\"dataframe\">\n",
       "  <thead>\n",
       "    <tr style=\"text-align: right;\">\n",
       "      <th>col_0</th>\n",
       "      <th>0.0</th>\n",
       "      <th>1.0</th>\n",
       "    </tr>\n",
       "    <tr>\n",
       "      <th>s_type</th>\n",
       "      <th></th>\n",
       "      <th></th>\n",
       "    </tr>\n",
       "  </thead>\n",
       "  <tbody>\n",
       "    <tr>\n",
       "      <th>0.0</th>\n",
       "      <td>74</td>\n",
       "      <td>37</td>\n",
       "    </tr>\n",
       "    <tr>\n",
       "      <th>1.0</th>\n",
       "      <td>154</td>\n",
       "      <td>634</td>\n",
       "    </tr>\n",
       "  </tbody>\n",
       "</table>\n",
       "</div>"
      ],
      "text/plain": [
       "col_0   0.0  1.0\n",
       "s_type          \n",
       "0.0      74   37\n",
       "1.0     154  634"
      ]
     },
     "execution_count": 631,
     "metadata": {},
     "output_type": "execute_result"
    }
   ],
   "source": [
    "clf = GaussianProcessClassifier(1.0 * RBF(1.0))\n",
    "clf.fit(X_train, y_train)\n",
    "\n",
    "print (\"Model accuracy: \", clf.score(X_test, y_test))\n",
    "pd.crosstab(y_test, clf.predict(X_test))"
   ]
  },
  {
   "cell_type": "code",
   "execution_count": 632,
   "metadata": {
    "scrolled": true
   },
   "outputs": [
    {
     "data": {
      "image/png": "[encoded data removed]",
      "text/plain": [
       "<Figure size 432x288 with 1 Axes>"
      ]
     },
     "metadata": {
      "needs_background": "light"
     },
     "output_type": "display_data"
    }
   ],
   "source": [
    "#f1 score plot \n",
    "probs = clf.predict_proba(X_test)\n",
    "TPR_list, FPR_list, F1_score_list, MMC_score_list, results_table = f1_scores(probs, y_test)\n",
    "\n",
    "plt.plot( np.linspace(0,1,100)*100, F1_score_list,)\n",
    "plt.xlabel('Probability Treshold');\n",
    "plt.ylabel('F1 Score')\n",
    "plt.title('F1 Score');"
   ]
  },
  {
   "cell_type": "code",
   "execution_count": 646,
   "metadata": {},
   "outputs": [
    {
     "name": "stdout",
     "output_type": "stream",
     "text": [
      "gbc accuracy:  0.8843159065628476\n"
     ]
    },
    {
     "data": {
      "text/html": [
       "<div>\n",
       "<style scoped>\n",
       "    .dataframe tbody tr th:only-of-type {\n",
       "        vertical-align: middle;\n",
       "    }\n",
       "\n",
       "    .dataframe tbody tr th {\n",
       "        vertical-align: top;\n",
       "    }\n",
       "\n",
       "    .dataframe thead th {\n",
       "        text-align: right;\n",
       "    }\n",
       "</style>\n",
       "<table border=\"1\" class=\"dataframe\">\n",
       "  <thead>\n",
       "    <tr style=\"text-align: right;\">\n",
       "      <th>predicted</th>\n",
       "      <th>0</th>\n",
       "      <th>1</th>\n",
       "    </tr>\n",
       "    <tr>\n",
       "      <th>real</th>\n",
       "      <th></th>\n",
       "      <th></th>\n",
       "    </tr>\n",
       "  </thead>\n",
       "  <tbody>\n",
       "    <tr>\n",
       "      <th>0.0</th>\n",
       "      <td>39</td>\n",
       "      <td>72</td>\n",
       "    </tr>\n",
       "    <tr>\n",
       "      <th>1.0</th>\n",
       "      <td>32</td>\n",
       "      <td>756</td>\n",
       "    </tr>\n",
       "  </tbody>\n",
       "</table>\n",
       "</div>"
      ],
      "text/plain": [
       "predicted   0    1\n",
       "real              \n",
       "0.0        39   72\n",
       "1.0        32  756"
      ]
     },
     "execution_count": 646,
     "metadata": {},
     "output_type": "execute_result"
    }
   ],
   "source": [
    "#Changing probability treshhold\n",
    "results_table['predicted'] = (results_table.public > 0.45)*1\n",
    "\n",
    "accuracy_gbc = np.mean(results_table['predicted'] == y_test)\n",
    "print (\"gbc accuracy: \", accuracy_gbc)\n",
    "pd.crosstab(results_table.real, results_table.predicted)\n",
    "# results_table.groupby('real').agg({'public':['mean', 'std']})"
   ]
  },
  {
   "cell_type": "markdown",
   "metadata": {},
   "source": [
    "#### Naive bayes"
   ]
  },
  {
   "cell_type": "code",
   "execution_count": 647,
   "metadata": {},
   "outputs": [],
   "source": [
    "from sklearn.naive_bayes import GaussianNB"
   ]
  },
  {
   "cell_type": "code",
   "execution_count": 648,
   "metadata": {},
   "outputs": [
    {
     "name": "stdout",
     "output_type": "stream",
     "text": [
      "Model accuracy:  0.8553948832035595\n"
     ]
    },
    {
     "data": {
      "text/html": [
       "<div>\n",
       "<style scoped>\n",
       "    .dataframe tbody tr th:only-of-type {\n",
       "        vertical-align: middle;\n",
       "    }\n",
       "\n",
       "    .dataframe tbody tr th {\n",
       "        vertical-align: top;\n",
       "    }\n",
       "\n",
       "    .dataframe thead th {\n",
       "        text-align: right;\n",
       "    }\n",
       "</style>\n",
       "<table border=\"1\" class=\"dataframe\">\n",
       "  <thead>\n",
       "    <tr style=\"text-align: right;\">\n",
       "      <th>col_0</th>\n",
       "      <th>0.0</th>\n",
       "      <th>1.0</th>\n",
       "    </tr>\n",
       "    <tr>\n",
       "      <th>s_type</th>\n",
       "      <th></th>\n",
       "      <th></th>\n",
       "    </tr>\n",
       "  </thead>\n",
       "  <tbody>\n",
       "    <tr>\n",
       "      <th>0.0</th>\n",
       "      <td>13</td>\n",
       "      <td>98</td>\n",
       "    </tr>\n",
       "    <tr>\n",
       "      <th>1.0</th>\n",
       "      <td>32</td>\n",
       "      <td>756</td>\n",
       "    </tr>\n",
       "  </tbody>\n",
       "</table>\n",
       "</div>"
      ],
      "text/plain": [
       "col_0   0.0  1.0\n",
       "s_type          \n",
       "0.0      13   98\n",
       "1.0      32  756"
      ]
     },
     "execution_count": 648,
     "metadata": {},
     "output_type": "execute_result"
    }
   ],
   "source": [
    "clf = GaussianNB()\n",
    "clf.fit(X_train, y_train)\n",
    "\n",
    "print (\"Model accuracy: \", clf.score(X_test, y_test))\n",
    "pd.crosstab(y_test, clf.predict(X_test))"
   ]
  },
  {
   "cell_type": "code",
   "execution_count": 649,
   "metadata": {},
   "outputs": [
    {
     "data": {
      "image/png": "[encoded data removed]",
      "text/plain": [
       "<Figure size 432x288 with 1 Axes>"
      ]
     },
     "metadata": {
      "needs_background": "light"
     },
     "output_type": "display_data"
    }
   ],
   "source": [
    "#f1 score plot \n",
    "probs = clf.predict_proba(X_test)\n",
    "TPR_list, FPR_list, F1_score_list, MMC_score_list, results_table = f1_scores(probs, y_test)\n",
    "\n",
    "plt.plot( np.linspace(0,1,100)*100, F1_score_list,)\n",
    "plt.xlabel('Probability Treshold');\n",
    "plt.ylabel('F1 Score')\n",
    "plt.title('F1 Score');"
   ]
  },
  {
   "cell_type": "code",
   "execution_count": 653,
   "metadata": {},
   "outputs": [
    {
     "name": "stdout",
     "output_type": "stream",
     "text": [
      "gbc accuracy:  0.8175750834260289\n"
     ]
    },
    {
     "data": {
      "text/html": [
       "<div>\n",
       "<style scoped>\n",
       "    .dataframe tbody tr th:only-of-type {\n",
       "        vertical-align: middle;\n",
       "    }\n",
       "\n",
       "    .dataframe tbody tr th {\n",
       "        vertical-align: top;\n",
       "    }\n",
       "\n",
       "    .dataframe thead th {\n",
       "        text-align: right;\n",
       "    }\n",
       "</style>\n",
       "<table border=\"1\" class=\"dataframe\">\n",
       "  <thead>\n",
       "    <tr style=\"text-align: right;\">\n",
       "      <th>predicted</th>\n",
       "      <th>0</th>\n",
       "      <th>1</th>\n",
       "    </tr>\n",
       "    <tr>\n",
       "      <th>real</th>\n",
       "      <th></th>\n",
       "      <th></th>\n",
       "    </tr>\n",
       "  </thead>\n",
       "  <tbody>\n",
       "    <tr>\n",
       "      <th>0.0</th>\n",
       "      <td>21</td>\n",
       "      <td>90</td>\n",
       "    </tr>\n",
       "    <tr>\n",
       "      <th>1.0</th>\n",
       "      <td>74</td>\n",
       "      <td>714</td>\n",
       "    </tr>\n",
       "  </tbody>\n",
       "</table>\n",
       "</div>"
      ],
      "text/plain": [
       "predicted   0    1\n",
       "real              \n",
       "0.0        21   90\n",
       "1.0        74  714"
      ]
     },
     "execution_count": 653,
     "metadata": {},
     "output_type": "execute_result"
    }
   ],
   "source": [
    "#Changing probability treshhold\n",
    "results_table['predicted'] = (results_table.public > 0.7)*1\n",
    "\n",
    "accuracy_gbc = np.mean(results_table['predicted'] == y_test)\n",
    "print (\"gbc accuracy: \", accuracy_gbc)\n",
    "pd.crosstab(results_table.real, results_table.predicted)\n",
    "# results_table.groupby('real').agg({'public':['mean', 'std']})"
   ]
  },
  {
   "cell_type": "markdown",
   "metadata": {},
   "source": [
    "#### Discriminant analysis"
   ]
  },
  {
   "cell_type": "code",
   "execution_count": 658,
   "metadata": {},
   "outputs": [],
   "source": [
    "from sklearn.discriminant_analysis import QuadraticDiscriminantAnalysis"
   ]
  },
  {
   "cell_type": "code",
   "execution_count": 659,
   "metadata": {},
   "outputs": [
    {
     "name": "stdout",
     "output_type": "stream",
     "text": [
      "Model accuracy:  0.8665183537263627\n"
     ]
    },
    {
     "data": {
      "text/html": [
       "<div>\n",
       "<style scoped>\n",
       "    .dataframe tbody tr th:only-of-type {\n",
       "        vertical-align: middle;\n",
       "    }\n",
       "\n",
       "    .dataframe tbody tr th {\n",
       "        vertical-align: top;\n",
       "    }\n",
       "\n",
       "    .dataframe thead th {\n",
       "        text-align: right;\n",
       "    }\n",
       "</style>\n",
       "<table border=\"1\" class=\"dataframe\">\n",
       "  <thead>\n",
       "    <tr style=\"text-align: right;\">\n",
       "      <th>col_0</th>\n",
       "      <th>0.0</th>\n",
       "      <th>1.0</th>\n",
       "    </tr>\n",
       "    <tr>\n",
       "      <th>s_type</th>\n",
       "      <th></th>\n",
       "      <th></th>\n",
       "    </tr>\n",
       "  </thead>\n",
       "  <tbody>\n",
       "    <tr>\n",
       "      <th>0.0</th>\n",
       "      <td>46</td>\n",
       "      <td>65</td>\n",
       "    </tr>\n",
       "    <tr>\n",
       "      <th>1.0</th>\n",
       "      <td>55</td>\n",
       "      <td>733</td>\n",
       "    </tr>\n",
       "  </tbody>\n",
       "</table>\n",
       "</div>"
      ],
      "text/plain": [
       "col_0   0.0  1.0\n",
       "s_type          \n",
       "0.0      46   65\n",
       "1.0      55  733"
      ]
     },
     "execution_count": 659,
     "metadata": {},
     "output_type": "execute_result"
    }
   ],
   "source": [
    "clf = QuadraticDiscriminantAnalysis()\n",
    "clf.fit(X_train, y_train)\n",
    "\n",
    "print (\"Model accuracy: \", clf.score(X_test, y_test))\n",
    "pd.crosstab(y_test, clf.predict(X_test))"
   ]
  },
  {
   "cell_type": "markdown",
   "metadata": {},
   "source": [
    "#### Kmeans neighbors"
   ]
  },
  {
   "cell_type": "code",
   "execution_count": 51,
   "metadata": {},
   "outputs": [
    {
     "name": "stdout",
     "output_type": "stream",
     "text": [
      "Model accuracy:  0.8665183537263627\n"
     ]
    },
    {
     "data": {
      "text/html": [
       "<div>\n",
       "<style scoped>\n",
       "    .dataframe tbody tr th:only-of-type {\n",
       "        vertical-align: middle;\n",
       "    }\n",
       "\n",
       "    .dataframe tbody tr th {\n",
       "        vertical-align: top;\n",
       "    }\n",
       "\n",
       "    .dataframe thead th {\n",
       "        text-align: right;\n",
       "    }\n",
       "</style>\n",
       "<table border=\"1\" class=\"dataframe\">\n",
       "  <thead>\n",
       "    <tr style=\"text-align: right;\">\n",
       "      <th>col_0</th>\n",
       "      <th>0.0</th>\n",
       "      <th>1.0</th>\n",
       "    </tr>\n",
       "    <tr>\n",
       "      <th>s_type</th>\n",
       "      <th></th>\n",
       "      <th></th>\n",
       "    </tr>\n",
       "  </thead>\n",
       "  <tbody>\n",
       "    <tr>\n",
       "      <th>0.0</th>\n",
       "      <td>14</td>\n",
       "      <td>97</td>\n",
       "    </tr>\n",
       "    <tr>\n",
       "      <th>1.0</th>\n",
       "      <td>23</td>\n",
       "      <td>765</td>\n",
       "    </tr>\n",
       "  </tbody>\n",
       "</table>\n",
       "</div>"
      ],
      "text/plain": [
       "col_0   0.0  1.0\n",
       "s_type          \n",
       "0.0      14   97\n",
       "1.0      23  765"
      ]
     },
     "execution_count": 51,
     "metadata": {},
     "output_type": "execute_result"
    }
   ],
   "source": [
    "from sklearn.neighbors import KNeighborsClassifier\n",
    "clf = KNeighborsClassifier(n_neighbors= 10)\n",
    "clf.fit(X_train, y_train)\n",
    "\n",
    "print (\"Model accuracy: \", clf.score(X_test, y_test))\n",
    "pd.crosstab(y_test, clf.predict(X_test))"
   ]
  },
  {
   "cell_type": "markdown",
   "metadata": {},
   "source": [
    "### Logistic regression - Binary model"
   ]
  },
  {
   "cell_type": "code",
   "execution_count": 19,
   "metadata": {},
   "outputs": [
    {
     "name": "stdout",
     "output_type": "stream",
     "text": [
      "Registering model step 'TOD_choice'\n",
      "Registering model step 'auto_ownership'\n",
      "Registering model step 'WLCM_gen_tt'\n",
      "Registering model step 'primary_mode_choice'\n",
      "Registering model step 'WLCM'\n",
      "Registering model step 'Public_vs_private'\n"
     ]
    }
   ],
   "source": [
    "mm.initialize()"
   ]
  },
  {
   "cell_type": "code",
   "execution_count": 20,
   "metadata": {},
   "outputs": [],
   "source": [
    "# Splitting train (70%) and test (30%) dataset\n",
    "students_df.index.name = 'person_id'\n",
    "X = students_df.drop(columns=['SAMPN', 'PERNO'])\n",
    "school_level = pd.cut(X.mean9, bins =3, labels = ['bad', 'medium', 'good']).rename('school_level', inplace = True)\n"
   ]
  },
  {
   "cell_type": "code",
   "execution_count": 21,
   "metadata": {},
   "outputs": [],
   "source": [
    "inc_dumies = pd.get_dummies(pd.cut(X.income, bins = [0,2,5,8,10], labels = ['hh_inc_under_25k', \n",
    "                                                'hh_inc_25_to_75k',\n",
    "                                                'hh_inc_75_to_200k',\n",
    "                                                'hh_inc_over_200k']))\n",
    "\n",
    "X = pd.concat([X, school_level, inc_dumies], axis = 1)\n",
    "train, test = train_test_split(X, test_size=0.3, random_state=42)"
   ]
  },
  {
   "cell_type": "code",
   "execution_count": 22,
   "metadata": {},
   "outputs": [],
   "source": [
    "#Add train/test tables to Orca\n",
    "orca.add_table('train_table', train)\n",
    "orca.add_table('test_table', test);\n",
    "\n",
    "# predicted = pd.Series(np.zeros(len(X_test)))\n",
    "# orca.add_column('test_table', 's_type', predicted)"
   ]
  },
  {
   "cell_type": "code",
   "execution_count": 23,
   "metadata": {},
   "outputs": [],
   "source": [
    "model_expression = 's_type ~ age_of_head   \\\n",
    "                    + recent_mover \\\n",
    "                    + income \\\n",
    "                    + mean9:income\\\n",
    "                    + persons  \\\n",
    "                    + np.divide(renters_10000,100000) \\\n",
    "                    + np.divide(sqft_unit_500_walk,1000) \\\n",
    "                    + np.divide(avg_rent_500_walk,1000) \\\n",
    "                    + np.divide(avg_income,10000) \\\n",
    "                    + np.divide(avg_income_gen_tt_CAR_30, 10000) \\\n",
    "                    + mean9:tenure \\\n",
    "                   '\n",
    "\n",
    "model = BinaryLogitStep(tables = 'train_table', model_expression = model_expression)"
   ]
  },
  {
   "cell_type": "code",
   "execution_count": 24,
   "metadata": {},
   "outputs": [
    {
     "name": "stdout",
     "output_type": "stream",
     "text": [
      "Optimization terminated successfully.\n",
      "         Current function value: 0.354159\n",
      "         Iterations 7\n",
      "                           Logit Regression Results                           \n",
      "==============================================================================\n",
      "Dep. Variable:                 s_type   No. Observations:                 2097\n",
      "Model:                          Logit   Df Residuals:                     2085\n",
      "Method:                           MLE   Df Model:                           11\n",
      "Date:                Thu, 13 Feb 2020   Pseudo R-squ.:                  0.1299\n",
      "Time:                        18:46:06   Log-Likelihood:                -742.67\n",
      "converged:                       True   LL-Null:                       -853.59\n",
      "Covariance Type:            nonrobust   LLR p-value:                 2.137e-41\n",
      "==============================================================================================================\n",
      "                                                 coef    std err          z      P>|z|      [0.025      0.975]\n",
      "--------------------------------------------------------------------------------------------------------------\n",
      "Intercept                                      7.3178      0.880      8.317      0.000       5.593       9.042\n",
      "age_of_head                                   -0.0317      0.009     -3.562      0.000      -0.049      -0.014\n",
      "recent_mover                                  -0.5241      0.166     -3.163      0.002      -0.849      -0.199\n",
      "income                                        -0.5120      0.061     -8.339      0.000      -0.632      -0.392\n",
      "mean9:income                                   0.0272      0.007      3.932      0.000       0.014       0.041\n",
      "persons                                        0.2180      0.073      2.974      0.003       0.074       0.362\n",
      "np.divide(renters_10000, 100000)              -0.9676      0.122     -7.930      0.000      -1.207      -0.728\n",
      "np.divide(sqft_unit_500_walk, 1000)           -0.3386      0.145     -2.329      0.020      -0.624      -0.054\n",
      "np.divide(avg_rent_500_walk, 1000)             0.1287      0.054      2.396      0.017       0.023       0.234\n",
      "np.divide(avg_income, 10000)                   0.2796      0.068      4.131      0.000       0.147       0.412\n",
      "np.divide(avg_income_gen_tt_CAR_30, 10000)    -0.2037      0.057     -3.556      0.000      -0.316      -0.091\n",
      "mean9:tenure                                  -0.0796      0.034     -2.327      0.020      -0.147      -0.013\n",
      "==============================================================================================================\n"
     ]
    }
   ],
   "source": [
    "model.fit()"
   ]
  },
  {
   "cell_type": "code",
   "execution_count": 442,
   "metadata": {},
   "outputs": [],
   "source": [
    "model.name = 'Public_vs_private'\n",
    "model.out_tables = 'test_table'\n",
    "model.out_column = 's_type'\n",
    "# model.out_filters = ['age <= 18', 'age>=4']\n",
    "model.run()"
   ]
  },
  {
   "cell_type": "code",
   "execution_count": 28,
   "metadata": {},
   "outputs": [],
   "source": [
    "orca.broadcast('nodessmall', 'persons', cast_index = True, onto_on = 'node_id_small')\n",
    "orca.broadcast('nodeswalk', 'persons', cast_index = True, onto_on = 'node_id_walk')\n",
    "orca.broadcast('zones', 'persons', cast_index = True, onto_on = 'zone_id_home')"
   ]
  },
  {
   "cell_type": "code",
   "execution_count": 29,
   "metadata": {},
   "outputs": [],
   "source": [
    "@orca.column('nodessmall')\n",
    "def mean9(public_schools_50):\n",
    "    s = public_schools_50.mean9\n",
    "    return s\n",
    "\n"
   ]
  },
  {
   "cell_type": "code",
   "execution_count": 30,
   "metadata": {},
   "outputs": [
    {
     "ename": "ValueError",
     "evalue": "Could not find a target to merge table 5 onto",
     "output_type": "error",
     "traceback": [
      "\u001b[0;31m---------------------------------------------------------------------------\u001b[0m",
      "\u001b[0;31mValueError\u001b[0m                                Traceback (most recent call last)",
      "\u001b[0;32m<ipython-input-30-510a2126d6a9>\u001b[0m in \u001b[0;36m<module>\u001b[0;34m\u001b[0m\n\u001b[1;32m      3\u001b[0m \u001b[0mmodel\u001b[0m\u001b[0;34m.\u001b[0m\u001b[0mout_column\u001b[0m \u001b[0;34m=\u001b[0m \u001b[0;34m's_type'\u001b[0m\u001b[0;34m\u001b[0m\u001b[0;34m\u001b[0m\u001b[0m\n\u001b[1;32m      4\u001b[0m \u001b[0mmodel\u001b[0m\u001b[0;34m.\u001b[0m\u001b[0mout_filters\u001b[0m \u001b[0;34m=\u001b[0m \u001b[0;34m[\u001b[0m\u001b[0;34m'age <= 18'\u001b[0m\u001b[0;34m,\u001b[0m \u001b[0;34m'age>=4'\u001b[0m\u001b[0;34m]\u001b[0m\u001b[0;34m\u001b[0m\u001b[0;34m\u001b[0m\u001b[0m\n\u001b[0;32m----> 5\u001b[0;31m \u001b[0mmodel\u001b[0m\u001b[0;34m.\u001b[0m\u001b[0mrun\u001b[0m\u001b[0;34m(\u001b[0m\u001b[0;34m)\u001b[0m\u001b[0;34m\u001b[0m\u001b[0;34m\u001b[0m\u001b[0m\n\u001b[0m",
      "\u001b[0;32m~/anaconda3/envs/activitysynth/lib/python3.6/site-packages/urbansim_templates/models/binary_logit.py\u001b[0m in \u001b[0;36mrun\u001b[0;34m(self)\u001b[0m\n\u001b[1;32m    228\u001b[0m                       \u001b[0mfallback_tables\u001b[0m \u001b[0;34m=\u001b[0m \u001b[0mself\u001b[0m\u001b[0;34m.\u001b[0m\u001b[0mtables\u001b[0m\u001b[0;34m,\u001b[0m\u001b[0;34m\u001b[0m\u001b[0;34m\u001b[0m\u001b[0m\n\u001b[1;32m    229\u001b[0m                       \u001b[0mfilters\u001b[0m \u001b[0;34m=\u001b[0m \u001b[0mself\u001b[0m\u001b[0;34m.\u001b[0m\u001b[0mout_filters\u001b[0m\u001b[0;34m,\u001b[0m\u001b[0;34m\u001b[0m\u001b[0;34m\u001b[0m\u001b[0m\n\u001b[0;32m--> 230\u001b[0;31m                       model_expression = self.model_expression)\n\u001b[0m\u001b[1;32m    231\u001b[0m \u001b[0;34m\u001b[0m\u001b[0m\n\u001b[1;32m    232\u001b[0m         dm = patsy.dmatrices(data=df, formula_like=self.model_expression,\n",
      "\u001b[0;32m~/anaconda3/envs/activitysynth/lib/python3.6/site-packages/urbansim_templates/utils.py\u001b[0m in \u001b[0;36mget_data\u001b[0;34m(tables, fallback_tables, filters, model_expression, extra_columns)\u001b[0m\n\u001b[1;32m    488\u001b[0m \u001b[0;34m\u001b[0m\u001b[0m\n\u001b[1;32m    489\u001b[0m     \u001b[0;32melse\u001b[0m\u001b[0;34m:\u001b[0m\u001b[0;34m\u001b[0m\u001b[0;34m\u001b[0m\u001b[0m\n\u001b[0;32m--> 490\u001b[0;31m         \u001b[0mdf\u001b[0m \u001b[0;34m=\u001b[0m \u001b[0mmerge_tables\u001b[0m\u001b[0;34m(\u001b[0m\u001b[0mtables\u001b[0m\u001b[0;34m,\u001b[0m \u001b[0mcolnames\u001b[0m\u001b[0;34m)\u001b[0m\u001b[0;34m\u001b[0m\u001b[0;34m\u001b[0m\u001b[0m\n\u001b[0m\u001b[1;32m    491\u001b[0m \u001b[0;34m\u001b[0m\u001b[0m\n\u001b[1;32m    492\u001b[0m     \u001b[0mdf\u001b[0m \u001b[0;34m=\u001b[0m \u001b[0mapply_filter_query\u001b[0m\u001b[0;34m(\u001b[0m\u001b[0mdf\u001b[0m\u001b[0;34m,\u001b[0m \u001b[0mfilters\u001b[0m\u001b[0;34m)\u001b[0m\u001b[0;34m\u001b[0m\u001b[0;34m\u001b[0m\u001b[0m\n",
      "\u001b[0;32m~/anaconda3/envs/activitysynth/lib/python3.6/site-packages/urbansim_templates/utils.py\u001b[0m in \u001b[0;36mmerge_tables\u001b[0;34m(tables, columns)\u001b[0m\n\u001b[1;32m    264\u001b[0m         \u001b[0;32mif\u001b[0m \u001b[0mtarget_position\u001b[0m \u001b[0;32mis\u001b[0m \u001b[0;32mNone\u001b[0m\u001b[0;34m:\u001b[0m\u001b[0;34m\u001b[0m\u001b[0;34m\u001b[0m\u001b[0m\n\u001b[1;32m    265\u001b[0m             \u001b[0mmsg\u001b[0m \u001b[0;34m=\u001b[0m \u001b[0;34m\"Could not find a target to merge table {} onto\"\u001b[0m\u001b[0;34m.\u001b[0m\u001b[0mformat\u001b[0m\u001b[0;34m(\u001b[0m\u001b[0mlen\u001b[0m\u001b[0;34m(\u001b[0m\u001b[0mtables\u001b[0m\u001b[0;34m)\u001b[0m\u001b[0;34m)\u001b[0m\u001b[0;34m\u001b[0m\u001b[0;34m\u001b[0m\u001b[0m\n\u001b[0;32m--> 266\u001b[0;31m             \u001b[0;32mraise\u001b[0m \u001b[0mValueError\u001b[0m\u001b[0;34m(\u001b[0m\u001b[0mmsg\u001b[0m\u001b[0;34m)\u001b[0m\u001b[0;34m\u001b[0m\u001b[0;34m\u001b[0m\u001b[0m\n\u001b[0m\u001b[1;32m    267\u001b[0m \u001b[0;34m\u001b[0m\u001b[0m\n\u001b[1;32m    268\u001b[0m         \u001b[0;31m# merge source onto target\u001b[0m\u001b[0;34m\u001b[0m\u001b[0;34m\u001b[0m\u001b[0;34m\u001b[0m\u001b[0m\n",
      "\u001b[0;31mValueError\u001b[0m: Could not find a target to merge table 5 onto"
     ]
    }
   ],
   "source": [
    "model.name = 'Public_vs_private'\n",
    "model.out_tables = ['persons', 'households', 'nodessmall', 'nodeswalk', 'zones']\n",
    "model.out_column = 's_type'\n",
    "model.out_filters = ['age <= 18', 'age>=4']\n",
    "model.run()"
   ]
  },
  {
   "cell_type": "code",
   "execution_count": 443,
   "metadata": {},
   "outputs": [
    {
     "name": "stdout",
     "output_type": "stream",
     "text": [
      "dcm accuracy:  0.7919911012235817\n"
     ]
    },
    {
     "data": {
      "text/html": [
       "<div>\n",
       "<style scoped>\n",
       "    .dataframe tbody tr th:only-of-type {\n",
       "        vertical-align: middle;\n",
       "    }\n",
       "\n",
       "    .dataframe tbody tr th {\n",
       "        vertical-align: top;\n",
       "    }\n",
       "\n",
       "    .dataframe thead th {\n",
       "        text-align: right;\n",
       "    }\n",
       "</style>\n",
       "<table border=\"1\" class=\"dataframe\">\n",
       "  <thead>\n",
       "    <tr style=\"text-align: right;\">\n",
       "      <th>predicted</th>\n",
       "      <th>0.0</th>\n",
       "      <th>1.0</th>\n",
       "    </tr>\n",
       "    <tr>\n",
       "      <th>s_type</th>\n",
       "      <th></th>\n",
       "      <th></th>\n",
       "    </tr>\n",
       "  </thead>\n",
       "  <tbody>\n",
       "    <tr>\n",
       "      <th>0.0</th>\n",
       "      <td>24</td>\n",
       "      <td>87</td>\n",
       "    </tr>\n",
       "    <tr>\n",
       "      <th>1.0</th>\n",
       "      <td>100</td>\n",
       "      <td>688</td>\n",
       "    </tr>\n",
       "  </tbody>\n",
       "</table>\n",
       "</div>"
      ],
      "text/plain": [
       "predicted  0.0  1.0\n",
       "s_type             \n",
       "0.0         24   87\n",
       "1.0        100  688"
      ]
     },
     "execution_count": 443,
     "metadata": {},
     "output_type": "execute_result"
    }
   ],
   "source": [
    "model.run()\n",
    "\n",
    "testing = orca.get_table('test_table').to_frame()\n",
    "pre = testing.s_type.rename('predicted')\n",
    "\n",
    "accuracy_DCM = np.mean(pre == y_test)\n",
    "print (\"dcm accuracy: \", accuracy_DCM)\n",
    "pd.crosstab( y_test, pre)#,normalize = 'index')"
   ]
  },
  {
   "cell_type": "code",
   "execution_count": null,
   "metadata": {},
   "outputs": [],
   "source": [
    "# mm.register(model)"
   ]
  },
  {
   "cell_type": "markdown",
   "metadata": {},
   "source": [
    "This will be needed for Simulation on the syntethic population. Not currently working because persons-nodes merge tables changes the shape of the persons table. "
   ]
  },
  {
   "cell_type": "code",
   "execution_count": null,
   "metadata": {},
   "outputs": [],
   "source": [
    "# #Orca modifications\n",
    "# persons = orca.get_table('persons').to_frame()\n",
    "# persons.rename(columns = {'zone_id_home':'zone_id'}, inplace = True)\n",
    "# orca.add_table('persons', persons)\n",
    "\n",
    "# nodessmall.index.rename('node_id_small', inplace= True)\n",
    "# orca.add_table('nodessmall', nodessmall)"
   ]
  },
  {
   "cell_type": "markdown",
   "metadata": {},
   "source": [
    "## TOD Model"
   ]
  },
  {
   "cell_type": "code",
   "execution_count": null,
   "metadata": {},
   "outputs": [],
   "source": [
    "# This is a first approach to run my a 2-d estimation and random sample # \n",
    "# This is to estimate TOD for school arrival and departure time\n",
    "from scipy import stats\n",
    "m1 = np.random.normal(size=10000)\n",
    "m2 = np.random.normal(scale=0.5, size=10000) + 56\n",
    "values = np.vstack([m1, m2])\n",
    "kernel = stats.gaussian_kde(values)\n",
    "kernel.resample(size = 2)"
   ]
  },
  {
   "cell_type": "code",
   "execution_count": null,
   "metadata": {},
   "outputs": [],
   "source": [
    "schools.District.nunique()"
   ]
  },
  {
   "cell_type": "code",
   "execution_count": null,
   "metadata": {},
   "outputs": [],
   "source": [
    "schools.columns"
   ]
  },
  {
   "cell_type": "code",
   "execution_count": null,
   "metadata": {},
   "outputs": [],
   "source": []
  },
  {
   "cell_type": "code",
   "execution_count": null,
   "metadata": {},
   "outputs": [],
   "source": []
  }
 ],
 "metadata": {
  "kernelspec": {
   "display_name": "Python 3",
   "language": "python",
   "name": "python3"
  },
  "language_info": {
   "codemirror_mode": {
    "name": "ipython",
    "version": 3
   },
   "file_extension": ".py",
   "mimetype": "text/x-python",
   "name": "python",
   "nbconvert_exporter": "python",
   "pygments_lexer": "ipython3",
   "version": "3.6.10"
  }
 },
 "nbformat": 4,
 "nbformat_minor": 2
}
