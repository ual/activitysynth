{
 "cells": [
  {
   "cell_type": "markdown",
   "metadata": {},
   "source": [
    "## Importing libraries"
   ]
  },
  {
   "cell_type": "code",
   "execution_count": 4,
   "metadata": {},
   "outputs": [],
   "source": [
    "import numpy as np\n",
    "import pandas as pd\n",
    "import orca\n",
    "import os; os.chdir('../')\n",
    "import warnings; warnings.simplefilter('ignore')\n",
    "from urbansim.utils import misc\n",
    "import pandana as pdna\n",
    "from collections import OrderedDict\n",
    "    \n",
    "from urbansim_templates import modelmanager as mm\n",
    "from urbansim_templates.models import LargeMultinomialLogitStep\n",
    "import pandas as pd\n",
    "import orca\n",
    "# import os; os.chdir('/home/juan/activitysynth/')\n",
    "import warnings; warnings.simplefilter('ignore')\n",
    "from matplotlib import pyplot as plt\n",
    "import matplotlib.animation as animation\n",
    "import seaborn as sns\n",
    "from sklearn.neighbors import BallTree\n",
    "\n",
    "import pylogit as pl                   # For choice model estimation\n",
    "from pylogit import nested_logit as nl # For nested logit convenience funcs\n",
    "import math \n",
    "from collections import OrderedDict \n",
    "\n",
    "import pickle\n",
    "import dill\n",
    "import time\n",
    "\n",
    "import urbansim_templates\n",
    "\n",
    "from scripts import datasources, models, variables, utils"
   ]
  },
  {
   "cell_type": "markdown",
   "metadata": {},
   "source": [
    "## Preparing data for simulation"
   ]
  },
  {
   "cell_type": "code",
   "execution_count": 5,
   "metadata": {},
   "outputs": [],
   "source": [
    "input_file_format = 'csv'\n",
    "input_data_dir = '/home/data/spring_2019/base/'\n",
    "\n",
    "formattable_fname_dict = {\n",
    "    'parcels': 'parcels.{0}',\n",
    "    'buildings': 'buildings.{0}',\n",
    "    'jobs': 'jobs.{0}',\n",
    "    'establishments': 'establishments.{0}',\n",
    "    'households': 'households.{0}',\n",
    "    'persons': 'persons.{0}',\n",
    "    'rentals': 'craigslist.{0}',\n",
    "    'units': 'units.{0}',\n",
    "    'mtc_skims': 'mtc_skims.{0}',\n",
    "    'beam_skims_raw': '30.skims-smart-23April2019-baseline.csv.gz',\n",
    "    'beam_skims_imputed': 'beam_skims_imputed.{0}',\n",
    "    # the following nodes and edges .csv's will be phased out and\n",
    "    # replaced by travel model skims entirely\n",
    "    'drive_nodes': 'drive_nodes.{0}',\n",
    "    'drive_edges': 'drive_edges.{0}',\n",
    "    'drive_access_vars': 'drive_net_vars.{0}',\n",
    "    'walk_nodes': 'walk_nodes.{0}',\n",
    "    'walk_edges': 'walk_edges.{0}',\n",
    "    'walk_access_vars': 'walk_net_vars.{0}',\n",
    "    'zones': 'zones.{0}',\n",
    "    'zone_access_vars': 'zones_w_access_vars.{0}',\n",
    "}\n",
    "\n",
    "def format_fname_dict(formattable_fname_dict, format='csv'):\n",
    "    formatted_dict = {\n",
    "        k: v.format('csv')\n",
    "        for k, v in formattable_fname_dict.items()}\n",
    "    return formatted_dict\n",
    "\n",
    "input_fnames = format_fname_dict(\n",
    "            formattable_fname_dict, input_file_format)"
   ]
  },
  {
   "cell_type": "code",
   "execution_count": 6,
   "metadata": {},
   "outputs": [],
   "source": [
    "orca.add_injectable('input_file_format', input_file_format)\n",
    "orca.add_injectable('input_data_dir', input_data_dir)\n",
    "orca.add_injectable('input_fnames', input_fnames)\n",
    "orca.add_injectable('store', None)"
   ]
  },
  {
   "cell_type": "code",
   "execution_count": 7,
   "metadata": {
    "scrolled": true
   },
   "outputs": [
    {
     "name": "stdout",
     "output_type": "stream",
     "text": [
      "Running step 'initialize_network_small'\n",
      "Time to execute step 'initialize_network_small': 0.00 s\n",
      "Total time to execute iteration 1 with iteration value None: 0.00 s\n",
      "Running step 'initialize_network_walk'\n",
      "Time to execute step 'initialize_network_walk': 0.00 s\n",
      "Total time to execute iteration 1 with iteration value None: 0.00 s\n",
      "Running step 'initialize_imputed_skims'\n",
      "No imputed skims found. Creating them now.\n",
      "Time to execute step 'initialize_imputed_skims': 89.81 s\n",
      "Total time to execute iteration 1 with iteration value None: 89.81 s\n"
     ]
    }
   ],
   "source": [
    "orca.run(['initialize_network_small']) \n",
    "orca.run([ 'initialize_network_walk']) \n",
    "orca.run(['initialize_imputed_skims']) "
   ]
  },
  {
   "cell_type": "markdown",
   "metadata": {},
   "source": [
    "## Simulation "
   ]
  },
  {
   "cell_type": "code",
   "execution_count": 8,
   "metadata": {},
   "outputs": [
    {
     "name": "stdout",
     "output_type": "stream",
     "text": [
      "Time: 14.10 min\n"
     ]
    }
   ],
   "source": [
    "t_start = time.time()\n",
    "\n",
    "df = orca.get_table('long_format').to_frame()\n",
    "file_Name = \"/home/juan/activitysynth/activitysynth/configs/SLCM_gen_tt.pkl\"\n",
    "fileObject = open(file_Name,'rb')  \n",
    "SLCM = pickle.load(fileObject)  \n",
    "\n",
    "df['probabilities'] = SLCM.predict(df)\n",
    "df.sort_values(\"probabilities\", ascending=False).groupby('obs_id').agg({'school_choice_set': 'first'})\n",
    "\n",
    "t_end = time.time()\n",
    "t1 = t_end - t_start\n",
    "print(\"Time: {:.2f} min\".format(t1/60))"
   ]
  },
  {
   "cell_type": "code",
   "execution_count": 11,
   "metadata": {},
   "outputs": [],
   "source": [
    "@orca.step()\n",
    "def SLCM_simulate(long_format):\n",
    "    \"\"\"\n",
    "    Generate school location choices for the synthetic pop households.\n",
    "    \n",
    "    \"\"\"\n",
    "    file_Name = \"/home/juan/activitysynth/activitysynth/configs/SLCM_gen_tt.pkl\"\n",
    "    fileObject = open(file_Name,'rb')  \n",
    "    SLCM = pickle.load(fileObject)\n",
    "    \n",
    "    orca.add_column('long_format', 'probabilities', SLCM.predict(orca.get_table('long_format').to_frame()))\n",
    "#     df['probabilities'] = SLCM.predict(orca.get_table('long_format'))\n",
    "    df = orca.get_table('long_format').to_frame()\n",
    "    SL = df.sort_values(\"probabilities\", ascending=False).groupby('obs_id').agg({'school_choice_set': 'first'})"
   ]
  },
  {
   "cell_type": "code",
   "execution_count": 12,
   "metadata": {},
   "outputs": [
    {
     "name": "stdout",
     "output_type": "stream",
     "text": [
      "Running step 'SLCM_simulate'\n",
      "Time to execute step 'SLCM_simulate': 519.88 s\n",
      "Total time to execute iteration 1 with iteration value None: 519.88 s\n"
     ]
    }
   ],
   "source": [
    "orca.run(['SLCM_simulate']) "
   ]
  },
  {
   "cell_type": "code",
   "execution_count": 13,
   "metadata": {},
   "outputs": [
    {
     "ename": "NameError",
     "evalue": "name 'SL' is not defined",
     "output_type": "error",
     "traceback": [
      "\u001b[0;31m---------------------------------------------------------------------------\u001b[0m",
      "\u001b[0;31mNameError\u001b[0m                                 Traceback (most recent call last)",
      "\u001b[0;32m<ipython-input-13-f2f596eddbe1>\u001b[0m in \u001b[0;36m<module>\u001b[0;34m\u001b[0m\n\u001b[0;32m----> 1\u001b[0;31m \u001b[0mSL\u001b[0m\u001b[0;34m\u001b[0m\u001b[0;34m\u001b[0m\u001b[0m\n\u001b[0m",
      "\u001b[0;31mNameError\u001b[0m: name 'SL' is not defined"
     ]
    }
   ],
   "source": [
    "orca.eval_step()"
   ]
  },
  {
   "cell_type": "code",
   "execution_count": null,
   "metadata": {},
   "outputs": [],
   "source": []
  }
 ],
 "metadata": {
  "kernelspec": {
   "display_name": "Python 3",
   "language": "python",
   "name": "python3"
  }
 },
 "nbformat": 4,
 "nbformat_minor": 2
}
