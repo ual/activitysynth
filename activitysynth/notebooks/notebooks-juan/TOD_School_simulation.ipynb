{
 "cells": [
  {
   "cell_type": "markdown",
   "metadata": {},
   "source": [
    "# TOD Simulation for schools "
   ]
  },
  {
   "cell_type": "markdown",
   "metadata": {},
   "source": [
    "Note: All @orca elements are in the scrpits folder. They should be the same as the ones prentented here. "
   ]
  },
  {
   "cell_type": "markdown",
   "metadata": {},
   "source": [
    "## Importing Libraries"
   ]
  },
  {
   "cell_type": "code",
   "execution_count": 4,
   "metadata": {},
   "outputs": [],
   "source": [
    "import numpy as np\n",
    "import pandas as pd\n",
    "import orca\n",
    "import os; os.chdir('../')\n",
    "import warnings; warnings.simplefilter('ignore')\n",
    "from urbansim.utils import misc\n",
    "import pandana as pdna\n",
    "from collections import OrderedDict\n",
    "    \n",
    "from urbansim_templates import modelmanager as mm\n",
    "from urbansim_templates.models import LargeMultinomialLogitStep\n",
    "import pandas as pd\n",
    "import orca\n",
    "# import os; os.chdir('/home/juan/activitysynth/')\n",
    "import warnings; warnings.simplefilter('ignore')\n",
    "from matplotlib import pyplot as plt\n",
    "import matplotlib.animation as animation\n",
    "import seaborn as sns\n",
    "from sklearn.neighbors import BallTree\n",
    "\n",
    "import pylogit as pl                   # For choice model estimation\n",
    "from pylogit import nested_logit as nl # For nested logit convenience funcs\n",
    "import math \n",
    "from collections import OrderedDict \n",
    "\n",
    "import pickle\n",
    "import dill\n",
    "import time\n",
    "import random\n",
    "\n",
    "import urbansim_templates\n",
    "\n",
    "from scripts import datasources, models, variables, utils"
   ]
  },
  {
   "cell_type": "markdown",
   "metadata": {},
   "source": [
    "## Preparing data for simulation"
   ]
  },
  {
   "cell_type": "code",
   "execution_count": 5,
   "metadata": {},
   "outputs": [],
   "source": [
    "input_file_format = 'csv'\n",
    "input_data_dir = '/home/data/spring_2019/base/'\n",
    "\n",
    "formattable_fname_dict = {\n",
    "    'parcels': 'parcels.{0}',\n",
    "    'buildings': 'buildings.{0}',\n",
    "    'jobs': 'jobs.{0}',\n",
    "    'establishments': 'establishments.{0}',\n",
    "    'households': 'households.{0}',\n",
    "    'persons': 'persons.{0}',\n",
    "    'rentals': 'craigslist.{0}',\n",
    "    'units': 'units.{0}',\n",
    "    'mtc_skims': 'mtc_skims.{0}',\n",
    "    'beam_skims_raw': '30.skims-smart-23April2019-baseline.csv.gz',\n",
    "    'beam_skims_imputed': 'beam_skims_imputed.{0}',\n",
    "    # the following nodes and edges .csv's will be phased out and\n",
    "    # replaced by travel model skims entirely\n",
    "    'drive_nodes': 'drive_nodes.{0}',\n",
    "    'drive_edges': 'drive_edges.{0}',\n",
    "    'drive_access_vars': 'drive_net_vars.{0}',\n",
    "    'walk_nodes': 'walk_nodes.{0}',\n",
    "    'walk_edges': 'walk_edges.{0}',\n",
    "    'walk_access_vars': 'walk_net_vars.{0}',\n",
    "    'zones': 'zones.{0}',\n",
    "    'zone_access_vars': 'zones_w_access_vars.{0}',\n",
    "}\n",
    "\n",
    "def format_fname_dict(formattable_fname_dict, format='csv'):\n",
    "    formatted_dict = {\n",
    "        k: v.format('csv')\n",
    "        for k, v in formattable_fname_dict.items()}\n",
    "    return formatted_dict\n",
    "\n",
    "input_fnames = format_fname_dict(\n",
    "            formattable_fname_dict, input_file_format)"
   ]
  },
  {
   "cell_type": "code",
   "execution_count": 6,
   "metadata": {},
   "outputs": [],
   "source": [
    "orca.add_injectable('input_file_format', input_file_format)\n",
    "orca.add_injectable('input_data_dir', input_data_dir)\n",
    "orca.add_injectable('input_fnames', input_fnames)\n",
    "orca.add_injectable('store', None)"
   ]
  },
  {
   "cell_type": "code",
   "execution_count": 7,
   "metadata": {},
   "outputs": [
    {
     "name": "stdout",
     "output_type": "stream",
     "text": [
      "Running step 'initialize_network_small'\n",
      "Time to execute step 'initialize_network_small': 0.00 s\n",
      "Total time to execute iteration 1 with iteration value None: 0.00 s\n",
      "Running step 'initialize_network_walk'\n",
      "Time to execute step 'initialize_network_walk': 0.00 s\n",
      "Total time to execute iteration 1 with iteration value None: 0.00 s\n"
     ]
    }
   ],
   "source": [
    "orca.run(['initialize_network_small']) \n",
    "orca.run([ 'initialize_network_walk']) "
   ]
  },
  {
   "cell_type": "markdown",
   "metadata": {},
   "source": [
    "## Preparing data for simulation \n",
    "This should be removed when SmallStep templates works"
   ]
  },
  {
   "cell_type": "code",
   "execution_count": 32,
   "metadata": {},
   "outputs": [],
   "source": [
    "@orca.table(cache= True)\n",
    "def TOD_school_data_preparation(students):\n",
    "    \"\"\"\n",
    "    Transforms students data from wide to long format for pylogit prediction\n",
    "    \"\"\"\n",
    "    students = orca.get_table('students').to_frame()\n",
    "    \n",
    "    #Creating a fake alternative specific varible and its corresponding availability variable. \n",
    "    for x in [1,2,3,4,5]:\n",
    "        name = 'tt_'+str(x)\n",
    "        av_name = 'av_'+str(x)\n",
    "        students[name] = [random.randint(1,20) for x in range(len(students))]\n",
    "        students[av_name] = 1\n",
    "        students['choice'] = [random.randint(1,5) for x in range(len(students))]\n",
    "    students.reset_index(inplace = True)\n",
    "    \n",
    "    #Preparing for wide to long format transformation\n",
    "    ind_variables = ['age_0_5', 'age_5_12','age_12_15','age_15_18', \n",
    "                     'minority', 'asian', 'black','hh_inc_under_25k',\n",
    "                     'hh_inc_25_to_75k', 'hh_inc_75_to_200k', \n",
    "                     'female', 'hh_size_over_4']\n",
    "\n",
    "    alt_varying_variables = {u'travel_time': dict([(1, 'tt_1'),\n",
    "                                               (2, 'tt_2'),\n",
    "                                               (3, 'tt_3'),\n",
    "                                               (4, 'tt_4'),\n",
    "                                               (5, 'tt_5')])}\n",
    "\n",
    "    availability_variables = dict(zip(range(1, 6), ['av_1','av_2','av_3','av_4','av_5']))\n",
    "    \n",
    "    # Perform the desired conversion\n",
    "    df = pl.convert_wide_to_long(wide_data= students,\n",
    "                                       ind_vars = ind_variables,\n",
    "                                       alt_specific_vars = alt_varying_variables,\n",
    "                                       availability_vars = availability_variables, \n",
    "                                       obs_id_col = 'person_id',\n",
    "                                       choice_col= 'choice')  \n",
    "    return df"
   ]
  },
  {
   "cell_type": "code",
   "execution_count": 38,
   "metadata": {},
   "outputs": [],
   "source": [
    "@orca.step()\n",
    "def TOD_school_arrival_simulate(persons):\n",
    "    \"\"\"\n",
    "    Generate school arrival time of the day category.\n",
    "    Category 1: \n",
    "    Category 2:\n",
    "    Category 3:\n",
    "    Category 4:\n",
    "    Category 5:\n",
    "    \n",
    "    Note: Prediction is done using pylogit library directly. Data preparation is intended to transform from \n",
    "    wide format to long format. \n",
    "    \"\"\"\n",
    "    #Running the simulation\n",
    "    file_Name = \"/home/juan/activitysynth/activitysynth/configs/TOD_school_arrival.pkl\"\n",
    "    fileObject = open(file_Name,'rb')  \n",
    "    TOD_arrival = pickle.load(fileObject)\n",
    "    data = orca.get_table('TOD_school_data_preparation').to_frame()\n",
    "    data['probabilities']= TOD_arrival.predict(data)\n",
    "    TOD_choice = data.sort_values(\"probabilities\", ascending=False).groupby('person_id').agg({'alt_id': 'first'})\n",
    "\n",
    "    #Adding column to persons table\n",
    "    persons.update_col('TOD_school_arrival', TOD_choice)"
   ]
  },
  {
   "cell_type": "code",
   "execution_count": 39,
   "metadata": {},
   "outputs": [],
   "source": [
    "@orca.step()\n",
    "def TOD_school_departure_simulate(persons):\n",
    "    \"\"\"\n",
    "    Generate school departure time of the day category.\n",
    "    Category 1: \n",
    "    Category 2:\n",
    "    Category 3:\n",
    "    Category 4:\n",
    "    Category 5:\n",
    "    \n",
    "    Note: Prediction is done using pylogit library directly. Data preparation is intended to transform from \n",
    "    wide format to long format. \n",
    "    \"\"\"\n",
    "    #Running the simulation\n",
    "    file_Name = \"/home/juan/activitysynth/activitysynth/configs/TOD_school_departure.pkl\"\n",
    "    fileObject = open(file_Name,'rb')  \n",
    "    TOD_departure = pickle.load(fileObject)\n",
    "    data = orca.get_table('TOD_school_data_preparation').to_frame()\n",
    "    data['probabilities']= TOD_departure.predict(data)\n",
    "    TOD_choice = data.sort_values(\"probabilities\", ascending=False).groupby('person_id').agg({'alt_id': 'first'})\n",
    "\n",
    "    #Adding column to persons table\n",
    "    persons.update_col('TOD_school_departure', TOD_choice)"
   ]
  },
  {
   "cell_type": "code",
   "execution_count": 40,
   "metadata": {
    "scrolled": true
   },
   "outputs": [
    {
     "name": "stdout",
     "output_type": "stream",
     "text": [
      "Running step 'TOD_school_arrival_simulate'\n",
      "Time to execute step 'TOD_school_arrival_simulate': 13.63 s\n",
      "Running step 'TOD_school_departure_simulate'\n",
      "Time to execute step 'TOD_school_departure_simulate': 13.82 s\n",
      "Total time to execute iteration 1 with iteration value None: 27.45 s\n"
     ]
    }
   ],
   "source": [
    "orca.run([ 'TOD_school_arrival_simulate','TOD_school_departure_simulate' ]) "
   ]
  }
 ],
 "metadata": {
  "kernelspec": {
   "display_name": "Python 3",
   "language": "python",
   "name": "python3"
  },
  "language_info": {
   "codemirror_mode": {
    "name": "ipython",
    "version": 3
   },
   "file_extension": ".py",
   "mimetype": "text/x-python",
   "name": "python",
   "nbconvert_exporter": "python",
   "pygments_lexer": "ipython3",
   "version": "3.6.7"
  }
 },
 "nbformat": 4,
 "nbformat_minor": 2
}
