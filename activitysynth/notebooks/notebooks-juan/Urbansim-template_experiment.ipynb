{
 "cells": [
  {
   "cell_type": "markdown",
   "metadata": {},
   "source": [
    "# Urbansim template - experiemnt"
   ]
  },
  {
   "cell_type": "markdown",
   "metadata": {},
   "source": [
    "The objective of this experiment is to pinpoint possible issues with the urbansim template. Especially the Small Multinomial Logit. \n",
    "https://urbansim-templates.readthedocs.io/en/latest/model-steps.html#small-multinomial-logit\n",
    "\n",
    "### Summary\n",
    "\n",
    "I have created a table with 1000 observations, for each observation, I randomly assign some variables (age and income) and a choicen alternative out of a set of four alternatives. I run a logistic regression with the same specification in three different python libraries: 1) Urbansim templates, 2)Statsmodels MNLogit, and 3)Pylogit. Statsmodels and pylogit have the same results. Results for urbansim template differ significantly. "
   ]
  },
  {
   "cell_type": "code",
   "execution_count": 29,
   "metadata": {},
   "outputs": [],
   "source": [
    "#Importing libraries\n",
    "import pandas as pd\n",
    "import numpy as np \n",
    "import orca\n",
    "import os; os.chdir('../')\n",
    "import random\n",
    "import random \n",
    "from collections import OrderedDict\n",
    "\n",
    "from urbansim_templates import modelmanager as mm\n",
    "from urbansim_templates.models import SmallMultinomialLogitStep\n",
    "\n",
    "from statsmodels.discrete.discrete_model import MNLogit\n",
    "\n",
    "\n",
    "import pylogit as pl"
   ]
  },
  {
   "cell_type": "markdown",
   "metadata": {},
   "source": [
    "## Create table \n",
    "\n",
    "This is a random generated table of data that will be the same for all estimation process. "
   ]
  },
  {
   "cell_type": "code",
   "execution_count": 30,
   "metadata": {
    "scrolled": true
   },
   "outputs": [
    {
     "data": {
      "text/html": [
       "<div>\n",
       "<style scoped>\n",
       "    .dataframe tbody tr th:only-of-type {\n",
       "        vertical-align: middle;\n",
       "    }\n",
       "\n",
       "    .dataframe tbody tr th {\n",
       "        vertical-align: top;\n",
       "    }\n",
       "\n",
       "    .dataframe thead th {\n",
       "        text-align: right;\n",
       "    }\n",
       "</style>\n",
       "<table border=\"1\" class=\"dataframe\">\n",
       "  <thead>\n",
       "    <tr style=\"text-align: right;\">\n",
       "      <th></th>\n",
       "      <th>intercept</th>\n",
       "      <th>age</th>\n",
       "      <th>income_1</th>\n",
       "      <th>income_2</th>\n",
       "      <th>income_3</th>\n",
       "      <th>income_4</th>\n",
       "      <th>income_5</th>\n",
       "      <th>y</th>\n",
       "    </tr>\n",
       "  </thead>\n",
       "  <tbody>\n",
       "    <tr>\n",
       "      <th>0</th>\n",
       "      <td>1</td>\n",
       "      <td>9</td>\n",
       "      <td>0</td>\n",
       "      <td>1</td>\n",
       "      <td>0</td>\n",
       "      <td>0</td>\n",
       "      <td>0</td>\n",
       "      <td>3</td>\n",
       "    </tr>\n",
       "    <tr>\n",
       "      <th>1</th>\n",
       "      <td>1</td>\n",
       "      <td>12</td>\n",
       "      <td>0</td>\n",
       "      <td>1</td>\n",
       "      <td>0</td>\n",
       "      <td>0</td>\n",
       "      <td>0</td>\n",
       "      <td>4</td>\n",
       "    </tr>\n",
       "    <tr>\n",
       "      <th>2</th>\n",
       "      <td>1</td>\n",
       "      <td>10</td>\n",
       "      <td>1</td>\n",
       "      <td>0</td>\n",
       "      <td>0</td>\n",
       "      <td>0</td>\n",
       "      <td>0</td>\n",
       "      <td>2</td>\n",
       "    </tr>\n",
       "    <tr>\n",
       "      <th>3</th>\n",
       "      <td>1</td>\n",
       "      <td>11</td>\n",
       "      <td>0</td>\n",
       "      <td>0</td>\n",
       "      <td>1</td>\n",
       "      <td>0</td>\n",
       "      <td>0</td>\n",
       "      <td>3</td>\n",
       "    </tr>\n",
       "    <tr>\n",
       "      <th>4</th>\n",
       "      <td>1</td>\n",
       "      <td>1</td>\n",
       "      <td>0</td>\n",
       "      <td>1</td>\n",
       "      <td>0</td>\n",
       "      <td>0</td>\n",
       "      <td>0</td>\n",
       "      <td>2</td>\n",
       "    </tr>\n",
       "  </tbody>\n",
       "</table>\n",
       "</div>"
      ],
      "text/plain": [
       "   intercept  age  income_1  income_2  income_3  income_4  income_5  y\n",
       "0          1    9         0         1         0         0         0  3\n",
       "1          1   12         0         1         0         0         0  4\n",
       "2          1   10         1         0         0         0         0  2\n",
       "3          1   11         0         0         1         0         0  3\n",
       "4          1    1         0         1         0         0         0  2"
      ]
     },
     "execution_count": 30,
     "metadata": {},
     "output_type": "execute_result"
    }
   ],
   "source": [
    "X = pd.DataFrame({'intercept': 1,\n",
    "                  'age': [random.randint(1,20) for x in range(1000)] })\n",
    "\n",
    "x_1 = pd.concat([X, pd.get_dummies([random.randint(1,5) for x in range(1000)], prefix='income', prefix_sep='_')], axis=1)\n",
    "# x_1.drop('income_5', axis = 1, inplace = True)\n",
    "x_1['y'] = [random.randint(1,4) for x in range(1000)]\n",
    "\n",
    "x_1.head()"
   ]
  },
  {
   "cell_type": "code",
   "execution_count": 31,
   "metadata": {},
   "outputs": [
    {
     "data": {
      "text/plain": [
       "array([3, 4, 2, 1])"
      ]
     },
     "execution_count": 31,
     "metadata": {},
     "output_type": "execute_result"
    }
   ],
   "source": [
    "#Checking alternatives\n",
    "x_1.y.unique()"
   ]
  },
  {
   "cell_type": "markdown",
   "metadata": {},
   "source": [
    "## Urbansim Template"
   ]
  },
  {
   "cell_type": "code",
   "execution_count": 14,
   "metadata": {},
   "outputs": [
    {
     "data": {
      "text/plain": [
       "<orca.orca.DataFrameWrapper at 0x7ff2480bceb8>"
      ]
     },
     "execution_count": 14,
     "metadata": {},
     "output_type": "execute_result"
    }
   ],
   "source": [
    "# #Adding the table to orca\n",
    "orca.add_table('school_trip', x_1)"
   ]
  },
  {
   "cell_type": "code",
   "execution_count": 15,
   "metadata": {},
   "outputs": [],
   "source": [
    "#Creating model speficication. \n",
    "example_specification = OrderedDict()\n",
    "example_names = OrderedDict()\n",
    "\n",
    "example_specification[\"intercept\"] = [2, 3, 4]\n",
    "example_names[\"intercept\"] = ['ASC 2', 'ASC 3', 'ASC 4' ]\n",
    "\n",
    "example_specification[\"age\"] = [2, 3, 4]\n",
    "example_names[\"age\"] = ['age 2', 'age 3', 'age 4' ]\n",
    "\n",
    "example_specification[\"income_1\"] = [2, 3, 4]\n",
    "example_names[\"income_1\"] = ['income_1_2', 'income_1_3', 'income_1_4' ]\n",
    "\n",
    "example_specification[\"income_2\"] = [2, 3, 4]\n",
    "example_names[\"income_2\"] = ['income_2_2', 'income_2_3', 'income_2_4' ]\n",
    "\n",
    "example_specification[\"income_3\"] = [2, 3, 4]\n",
    "example_names[\"income_3\"] = ['income_3_2', 'income_3_3', 'income_3_4' ]\n",
    "\n",
    "example_specification[\"income_4\"] = [2, 3, 4]\n",
    "example_names[\"income_4\"] = ['income_4_2', 'income_4_3', 'income_4_4' ]"
   ]
  },
  {
   "cell_type": "code",
   "execution_count": 21,
   "metadata": {},
   "outputs": [
    {
     "name": "stdout",
     "output_type": "stream",
     "text": [
      "Log-likelihood at zero: -837.1426\n",
      "Initial Log-likelihood: -837.1426\n",
      "Estimation Time for Point Estimation: 0.04 seconds.\n",
      "Final log-likelihood: -837.1426\n"
     ]
    },
    {
     "name": "stderr",
     "output_type": "stream",
     "text": [
      "/home/juan/anaconda3/envs/template-env/lib/python3.6/site-packages/scipy/optimize/_minimize.py:507: RuntimeWarning: Method BFGS does not use Hessian information (hess).\n",
      "  RuntimeWarning)\n"
     ]
    },
    {
     "name": "stdout",
     "output_type": "stream",
     "text": [
      "                     Multinomial Logit Model Regression Results                    \n",
      "===================================================================================\n",
      "Dep. Variable:                     _chosen   No. Observations:                1,000\n",
      "Model:             Multinomial Logit Model   Df Residuals:                      982\n",
      "Method:                                MLE   Df Model:                           18\n",
      "Date:                     Tue, 27 Aug 2019   Pseudo R-squ.:                   0.000\n",
      "Time:                             19:16:18   Pseudo R-bar-squ.:              -0.022\n",
      "AIC:                             1,710.285   Log-Likelihood:               -837.143\n",
      "BIC:                             1,798.625   LL-Null:                      -837.143\n",
      "===============================================================================\n",
      "                  coef    std err          z      P>|z|      [0.025      0.975]\n",
      "-------------------------------------------------------------------------------\n",
      "intercept_2          0   5.93e+06          0      1.000   -1.16e+07    1.16e+07\n",
      "intercept_3          0   5.93e+06          0      1.000   -1.16e+07    1.16e+07\n",
      "intercept_4          0   5.93e+06          0      1.000   -1.16e+07    1.16e+07\n",
      "age_2                0      9e+05          0      1.000   -1.76e+06    1.76e+06\n",
      "age_3                0   8.25e+05          0      1.000   -1.62e+06    1.62e+06\n",
      "age_4                0   1.01e+06          0      1.000   -1.99e+06    1.99e+06\n",
      "income_1_2           0        nan        nan        nan         nan         nan\n",
      "income_1_3           0        nan        nan        nan         nan         nan\n",
      "income_1_4           0        nan        nan        nan         nan         nan\n",
      "income_2_2           0        nan        nan        nan         nan         nan\n",
      "income_2_3           0        nan        nan        nan         nan         nan\n",
      "income_2_4           0   1.94e+07          0      1.000    -3.8e+07     3.8e+07\n",
      "income_3_2           0        nan        nan        nan         nan         nan\n",
      "income_3_3           0        nan        nan        nan         nan         nan\n",
      "income_3_4           0        nan        nan        nan         nan         nan\n",
      "income_4_2           0        nan        nan        nan         nan         nan\n",
      "income_4_3           0        nan        nan        nan         nan         nan\n",
      "income_4_4           0        nan        nan        nan         nan         nan\n",
      "===============================================================================\n"
     ]
    },
    {
     "name": "stderr",
     "output_type": "stream",
     "text": [
      "/home/juan/anaconda3/envs/template-env/lib/python3.6/site-packages/pylogit/base_multinomial_cm_v2.py:1228: RuntimeWarning: invalid value encountered in sqrt\n",
      "  self._store_inferential_results(np.sqrt(np.diag(self.cov)),\n",
      "/home/juan/anaconda3/envs/template-env/lib/python3.6/site-packages/scipy/stats/_distn_infrastructure.py:879: RuntimeWarning: invalid value encountered in greater\n",
      "  return (self.a < x) & (x < self.b)\n",
      "/home/juan/anaconda3/envs/template-env/lib/python3.6/site-packages/scipy/stats/_distn_infrastructure.py:879: RuntimeWarning: invalid value encountered in less\n",
      "  return (self.a < x) & (x < self.b)\n",
      "/home/juan/anaconda3/envs/template-env/lib/python3.6/site-packages/scipy/stats/_distn_infrastructure.py:1821: RuntimeWarning: invalid value encountered in less_equal\n",
      "  cond2 = cond0 & (x <= self.a)\n",
      "/home/juan/anaconda3/envs/template-env/lib/python3.6/site-packages/pylogit/base_multinomial_cm_v2.py:1259: RuntimeWarning: invalid value encountered in sqrt\n",
      "  self._store_inferential_results(np.sqrt(np.diag(self.robust_cov)),\n"
     ]
    }
   ],
   "source": [
    "#Model template\n",
    "m = SmallMultinomialLogitStep()\n",
    "m.name = 'STOD_choice'\n",
    "m.tables = ['school_trip']\n",
    "m.choice_column = 'y'\n",
    "m.model_expression = example_specification\n",
    "m.fit()"
   ]
  },
  {
   "cell_type": "markdown",
   "metadata": {},
   "source": [
    "## Statmodels MNLogit"
   ]
  },
  {
   "cell_type": "code",
   "execution_count": 23,
   "metadata": {},
   "outputs": [
    {
     "name": "stdout",
     "output_type": "stream",
     "text": [
      "Optimization terminated successfully.\n",
      "         Current function value: 1.377704\n",
      "         Iterations 4\n"
     ]
    },
    {
     "data": {
      "text/plain": [
       "<bound method Summary.add_table_params of <class 'statsmodels.iolib.summary.Summary'>\n",
       "\"\"\"\n",
       "                          MNLogit Regression Results                          \n",
       "==============================================================================\n",
       "Dep. Variable:                      y   No. Observations:                 1000\n",
       "Model:                        MNLogit   Df Residuals:                      982\n",
       "Method:                           MLE   Df Model:                           15\n",
       "Date:                Tue, 27 Aug 2019   Pseudo R-squ.:                0.004099\n",
       "Time:                        19:17:24   Log-Likelihood:                -1377.7\n",
       "converged:                       True   LL-Null:                       -1383.4\n",
       "                                        LLR p-value:                    0.7281\n",
       "==============================================================================\n",
       "       y=2       coef    std err          z      P>|z|      [0.025      0.975]\n",
       "------------------------------------------------------------------------------\n",
       "intercept     -0.4860      0.276     -1.763      0.078      -1.026       0.054\n",
       "age            0.0289      0.017      1.731      0.083      -0.004       0.062\n",
       "income_1       0.1902      0.289      0.659      0.510      -0.376       0.756\n",
       "income_2       0.0023      0.289      0.008      0.994      -0.563       0.568\n",
       "income_3       0.4103      0.296      1.385      0.166      -0.170       0.991\n",
       "income_4       0.1194      0.293      0.408      0.684      -0.455       0.694\n",
       "------------------------------------------------------------------------------\n",
       "       y=3       coef    std err          z      P>|z|      [0.025      0.975]\n",
       "------------------------------------------------------------------------------\n",
       "intercept     -0.1256      0.261     -0.481      0.630      -0.637       0.386\n",
       "age            0.0162      0.016      1.004      0.315      -0.015       0.048\n",
       "income_1       0.0245      0.279      0.088      0.930      -0.522       0.571\n",
       "income_2       0.0195      0.272      0.072      0.943      -0.513       0.552\n",
       "income_3       0.1243      0.291      0.427      0.669      -0.446       0.695\n",
       "income_4       0.0547      0.279      0.196      0.844      -0.492       0.601\n",
       "------------------------------------------------------------------------------\n",
       "       y=4       coef    std err          z      P>|z|      [0.025      0.975]\n",
       "------------------------------------------------------------------------------\n",
       "intercept     -0.1910      0.263     -0.726      0.468      -0.706       0.324\n",
       "age            0.0104      0.016      0.652      0.515      -0.021       0.042\n",
       "income_1       0.2264      0.280      0.807      0.419      -0.323       0.776\n",
       "income_2       0.2639      0.272      0.969      0.333      -0.270       0.798\n",
       "income_3       0.6197      0.283      2.186      0.029       0.064       1.175\n",
       "income_4       0.0729      0.287      0.254      0.799      -0.489       0.635\n",
       "==============================================================================\n",
       "\"\"\">"
      ]
     },
     "execution_count": 23,
     "metadata": {},
     "output_type": "execute_result"
    }
   ],
   "source": [
    "MNLogit(x_1.y, x_1.drop(['y','income_5'],axis = 1)).fit().summary().add_table_params"
   ]
  },
  {
   "cell_type": "markdown",
   "metadata": {},
   "source": [
    "## Pylogit"
   ]
  },
  {
   "cell_type": "markdown",
   "metadata": {},
   "source": [
    "Pylogit estimation requires that the data is in the long format - each row is a observation-alternative pair. "
   ]
  },
  {
   "cell_type": "code",
   "execution_count": 32,
   "metadata": {},
   "outputs": [
    {
     "data": {
      "text/html": [
       "<div>\n",
       "<style scoped>\n",
       "    .dataframe tbody tr th:only-of-type {\n",
       "        vertical-align: middle;\n",
       "    }\n",
       "\n",
       "    .dataframe tbody tr th {\n",
       "        vertical-align: top;\n",
       "    }\n",
       "\n",
       "    .dataframe thead th {\n",
       "        text-align: right;\n",
       "    }\n",
       "</style>\n",
       "<table border=\"1\" class=\"dataframe\">\n",
       "  <thead>\n",
       "    <tr style=\"text-align: right;\">\n",
       "      <th></th>\n",
       "      <th>obs_id</th>\n",
       "      <th>alt_id</th>\n",
       "      <th>age</th>\n",
       "      <th>income_1</th>\n",
       "      <th>income_2</th>\n",
       "      <th>income_3</th>\n",
       "      <th>income_4</th>\n",
       "      <th>y</th>\n",
       "      <th>chosen</th>\n",
       "    </tr>\n",
       "  </thead>\n",
       "  <tbody>\n",
       "    <tr>\n",
       "      <th>0</th>\n",
       "      <td>1</td>\n",
       "      <td>1</td>\n",
       "      <td>9</td>\n",
       "      <td>0</td>\n",
       "      <td>1</td>\n",
       "      <td>0</td>\n",
       "      <td>0</td>\n",
       "      <td>3</td>\n",
       "      <td>0</td>\n",
       "    </tr>\n",
       "    <tr>\n",
       "      <th>1</th>\n",
       "      <td>1</td>\n",
       "      <td>2</td>\n",
       "      <td>9</td>\n",
       "      <td>0</td>\n",
       "      <td>1</td>\n",
       "      <td>0</td>\n",
       "      <td>0</td>\n",
       "      <td>3</td>\n",
       "      <td>0</td>\n",
       "    </tr>\n",
       "    <tr>\n",
       "      <th>2</th>\n",
       "      <td>1</td>\n",
       "      <td>3</td>\n",
       "      <td>9</td>\n",
       "      <td>0</td>\n",
       "      <td>1</td>\n",
       "      <td>0</td>\n",
       "      <td>0</td>\n",
       "      <td>3</td>\n",
       "      <td>1</td>\n",
       "    </tr>\n",
       "    <tr>\n",
       "      <th>3</th>\n",
       "      <td>1</td>\n",
       "      <td>4</td>\n",
       "      <td>9</td>\n",
       "      <td>0</td>\n",
       "      <td>1</td>\n",
       "      <td>0</td>\n",
       "      <td>0</td>\n",
       "      <td>3</td>\n",
       "      <td>0</td>\n",
       "    </tr>\n",
       "    <tr>\n",
       "      <th>0</th>\n",
       "      <td>2</td>\n",
       "      <td>1</td>\n",
       "      <td>12</td>\n",
       "      <td>0</td>\n",
       "      <td>1</td>\n",
       "      <td>0</td>\n",
       "      <td>0</td>\n",
       "      <td>4</td>\n",
       "      <td>0</td>\n",
       "    </tr>\n",
       "  </tbody>\n",
       "</table>\n",
       "</div>"
      ],
      "text/plain": [
       "   obs_id  alt_id  age  income_1  income_2  income_3  income_4  y  chosen\n",
       "0       1       1    9         0         1         0         0  3       0\n",
       "1       1       2    9         0         1         0         0  3       0\n",
       "2       1       3    9         0         1         0         0  3       1\n",
       "3       1       4    9         0         1         0         0  3       0\n",
       "0       2       1   12         0         1         0         0  4       0"
      ]
     },
     "execution_count": 32,
     "metadata": {},
     "output_type": "execute_result"
    }
   ],
   "source": [
    "# Getting table in long format\n",
    "dfs = []\n",
    "for x in range(len(x_1)):\n",
    "#     print (x_2.loc[x,:])\n",
    "    df = pd.DataFrame({'obs_id': x + 1,\n",
    "                       'alt_id':[1, 2, 3, 4],\n",
    "                       'age': x_1.loc[x,'age'],\n",
    "                       'income_1':x_1.loc[x,'income_1'],\n",
    "                       'income_2':x_1.loc[x,'income_2'],\n",
    "                       'income_3':x_1.loc[x,'income_3'],\n",
    "                       'income_4':x_1.loc[x,'income_4'],\n",
    "                       'y':x_1.loc[x,'y'],})\n",
    "    dfs.append(df)\n",
    "\n",
    "x_3 = pd.concat(dfs)\n",
    "x_3['chosen'] = (x_3.alt_id == x_3.y).astype(int)\n",
    "x_3.head()"
   ]
  },
  {
   "cell_type": "code",
   "execution_count": 33,
   "metadata": {},
   "outputs": [
    {
     "name": "stdout",
     "output_type": "stream",
     "text": [
      "Log-likelihood at zero: -1,386.2944\n",
      "Initial Log-likelihood: -1,386.2944\n",
      "Estimation Time for Point Estimation: 0.05 seconds.\n",
      "Final log-likelihood: -1,381.6223\n"
     ]
    },
    {
     "name": "stderr",
     "output_type": "stream",
     "text": [
      "/home/juan/anaconda3/envs/template-env/lib/python3.6/site-packages/scipy/optimize/_minimize.py:507: RuntimeWarning: Method BFGS does not use Hessian information (hess).\n",
      "  RuntimeWarning)\n"
     ]
    },
    {
     "data": {
      "text/html": [
       "<table class=\"simpletable\">\n",
       "<caption>Multinomial Logit Model Regression Results</caption>\n",
       "<tr>\n",
       "  <th>Dep. Variable:</th>         <td>chosen</td>          <th>  No. Observations:  </th>    <td>1,000</td>  \n",
       "</tr>\n",
       "<tr>\n",
       "  <th>Model:</th>         <td>Multinomial Logit Model</td> <th>  Df Residuals:      </th>     <td>982</td>   \n",
       "</tr>\n",
       "<tr>\n",
       "  <th>Method:</th>                  <td>MLE</td>           <th>  Df Model:          </th>     <td>18</td>    \n",
       "</tr>\n",
       "<tr>\n",
       "  <th>Date:</th>             <td>Tue, 27 Aug 2019</td>     <th>  Pseudo R-squ.:     </th>    <td>0.003</td>  \n",
       "</tr>\n",
       "<tr>\n",
       "  <th>Time:</th>                 <td>19:39:13</td>         <th>  Pseudo R-bar-squ.: </th>   <td>-0.010</td>  \n",
       "</tr>\n",
       "<tr>\n",
       "  <th>AIC:</th>                  <td>2,799.245</td>        <th>  Log-Likelihood:    </th> <td>-1,381.622</td>\n",
       "</tr>\n",
       "<tr>\n",
       "  <th>BIC:</th>                  <td>2,887.584</td>        <th>  LL-Null:           </th> <td>-1,386.294</td>\n",
       "</tr>\n",
       "</table>\n",
       "<table class=\"simpletable\">\n",
       "<tr>\n",
       "       <td></td>         <th>coef</th>     <th>std err</th>      <th>z</th>      <th>P>|z|</th>  <th>[0.025</th>    <th>0.975]</th>  \n",
       "</tr>\n",
       "<tr>\n",
       "  <th>ASC 2</th>      <td>    0.1629</td> <td>    0.276</td> <td>    0.589</td> <td> 0.556</td> <td>   -0.379</td> <td>    0.705</td>\n",
       "</tr>\n",
       "<tr>\n",
       "  <th>ASC 3</th>      <td>    0.3574</td> <td>    0.272</td> <td>    1.312</td> <td> 0.190</td> <td>   -0.177</td> <td>    0.891</td>\n",
       "</tr>\n",
       "<tr>\n",
       "  <th>ASC 4</th>      <td>    0.0364</td> <td>    0.280</td> <td>    0.130</td> <td> 0.897</td> <td>   -0.513</td> <td>    0.585</td>\n",
       "</tr>\n",
       "<tr>\n",
       "  <th>age 2</th>      <td>   -0.0005</td> <td>    0.016</td> <td>   -0.030</td> <td> 0.976</td> <td>   -0.032</td> <td>    0.031</td>\n",
       "</tr>\n",
       "<tr>\n",
       "  <th>age 3</th>      <td>   -0.0109</td> <td>    0.016</td> <td>   -0.685</td> <td> 0.493</td> <td>   -0.042</td> <td>    0.020</td>\n",
       "</tr>\n",
       "<tr>\n",
       "  <th>age 4</th>      <td>   -0.0011</td> <td>    0.016</td> <td>   -0.071</td> <td> 0.944</td> <td>   -0.032</td> <td>    0.029</td>\n",
       "</tr>\n",
       "<tr>\n",
       "  <th>income_1_2</th> <td>   -0.2160</td> <td>    0.290</td> <td>   -0.745</td> <td> 0.456</td> <td>   -0.784</td> <td>    0.352</td>\n",
       "</tr>\n",
       "<tr>\n",
       "  <th>income_1_3</th> <td>   -0.2591</td> <td>    0.286</td> <td>   -0.906</td> <td> 0.365</td> <td>   -0.820</td> <td>    0.301</td>\n",
       "</tr>\n",
       "<tr>\n",
       "  <th>income_1_4</th> <td>    0.1325</td> <td>    0.288</td> <td>    0.459</td> <td> 0.646</td> <td>   -0.433</td> <td>    0.698</td>\n",
       "</tr>\n",
       "<tr>\n",
       "  <th>income_2_2</th> <td>   -0.2958</td> <td>    0.283</td> <td>   -1.047</td> <td> 0.295</td> <td>   -0.850</td> <td>    0.258</td>\n",
       "</tr>\n",
       "<tr>\n",
       "  <th>income_2_3</th> <td>   -0.5367</td> <td>    0.286</td> <td>   -1.880</td> <td> 0.060</td> <td>   -1.096</td> <td>    0.023</td>\n",
       "</tr>\n",
       "<tr>\n",
       "  <th>income_2_4</th> <td>   -0.0909</td> <td>    0.286</td> <td>   -0.318</td> <td> 0.750</td> <td>   -0.651</td> <td>    0.469</td>\n",
       "</tr>\n",
       "<tr>\n",
       "  <th>income_3_2</th> <td>    0.0499</td> <td>    0.303</td> <td>    0.165</td> <td> 0.869</td> <td>   -0.544</td> <td>    0.643</td>\n",
       "</tr>\n",
       "<tr>\n",
       "  <th>income_3_3</th> <td>   -0.0747</td> <td>    0.302</td> <td>   -0.248</td> <td> 0.804</td> <td>   -0.666</td> <td>    0.517</td>\n",
       "</tr>\n",
       "<tr>\n",
       "  <th>income_3_4</th> <td>    0.3195</td> <td>    0.303</td> <td>    1.053</td> <td> 0.292</td> <td>   -0.275</td> <td>    0.914</td>\n",
       "</tr>\n",
       "<tr>\n",
       "  <th>income_4_2</th> <td>   -0.1373</td> <td>    0.294</td> <td>   -0.467</td> <td> 0.641</td> <td>   -0.714</td> <td>    0.439</td>\n",
       "</tr>\n",
       "<tr>\n",
       "  <th>income_4_3</th> <td>   -0.2452</td> <td>    0.292</td> <td>   -0.839</td> <td> 0.402</td> <td>   -0.818</td> <td>    0.328</td>\n",
       "</tr>\n",
       "<tr>\n",
       "  <th>income_4_4</th> <td>   -0.0459</td> <td>    0.301</td> <td>   -0.153</td> <td> 0.879</td> <td>   -0.635</td> <td>    0.543</td>\n",
       "</tr>\n",
       "</table>"
      ],
      "text/plain": [
       "<class 'statsmodels.iolib.summary.Summary'>\n",
       "\"\"\"\n",
       "                     Multinomial Logit Model Regression Results                    \n",
       "===================================================================================\n",
       "Dep. Variable:                      chosen   No. Observations:                1,000\n",
       "Model:             Multinomial Logit Model   Df Residuals:                      982\n",
       "Method:                                MLE   Df Model:                           18\n",
       "Date:                     Tue, 27 Aug 2019   Pseudo R-squ.:                   0.003\n",
       "Time:                             19:39:13   Pseudo R-bar-squ.:              -0.010\n",
       "AIC:                             2,799.245   Log-Likelihood:             -1,381.622\n",
       "BIC:                             2,887.584   LL-Null:                    -1,386.294\n",
       "==============================================================================\n",
       "                 coef    std err          z      P>|z|      [0.025      0.975]\n",
       "------------------------------------------------------------------------------\n",
       "ASC 2          0.1629      0.276      0.589      0.556      -0.379       0.705\n",
       "ASC 3          0.3574      0.272      1.312      0.190      -0.177       0.891\n",
       "ASC 4          0.0364      0.280      0.130      0.897      -0.513       0.585\n",
       "age 2         -0.0005      0.016     -0.030      0.976      -0.032       0.031\n",
       "age 3         -0.0109      0.016     -0.685      0.493      -0.042       0.020\n",
       "age 4         -0.0011      0.016     -0.071      0.944      -0.032       0.029\n",
       "income_1_2    -0.2160      0.290     -0.745      0.456      -0.784       0.352\n",
       "income_1_3    -0.2591      0.286     -0.906      0.365      -0.820       0.301\n",
       "income_1_4     0.1325      0.288      0.459      0.646      -0.433       0.698\n",
       "income_2_2    -0.2958      0.283     -1.047      0.295      -0.850       0.258\n",
       "income_2_3    -0.5367      0.286     -1.880      0.060      -1.096       0.023\n",
       "income_2_4    -0.0909      0.286     -0.318      0.750      -0.651       0.469\n",
       "income_3_2     0.0499      0.303      0.165      0.869      -0.544       0.643\n",
       "income_3_3    -0.0747      0.302     -0.248      0.804      -0.666       0.517\n",
       "income_3_4     0.3195      0.303      1.053      0.292      -0.275       0.914\n",
       "income_4_2    -0.1373      0.294     -0.467      0.641      -0.714       0.439\n",
       "income_4_3    -0.2452      0.292     -0.839      0.402      -0.818       0.328\n",
       "income_4_4    -0.0459      0.301     -0.153      0.879      -0.635       0.543\n",
       "==============================================================================\n",
       "\"\"\""
      ]
     },
     "execution_count": 33,
     "metadata": {},
     "output_type": "execute_result"
    }
   ],
   "source": [
    "example_mnl = pl.create_choice_model(data=x_3,\n",
    "                                     alt_id_col='alt_id',\n",
    "                                     obs_id_col='obs_id',\n",
    "                                     choice_col='chosen',\n",
    "                                     specification=example_specification,\n",
    "                                     model_type=\"MNL\",\n",
    "                                     names=example_names)\n",
    "\n",
    "example_mnl.fit_mle(np.zeros(18))\n",
    "example_mnl.get_statsmodels_summary()"
   ]
  }
 ],
 "metadata": {
  "kernelspec": {
   "display_name": "Python 3",
   "language": "python",
   "name": "python3"
  },
  "language_info": {
   "codemirror_mode": {
    "name": "ipython",
    "version": 3
   },
   "file_extension": ".py",
   "mimetype": "text/x-python",
   "name": "python",
   "nbconvert_exporter": "python",
   "pygments_lexer": "ipython3",
   "version": "3.6.7"
  }
 },
 "nbformat": 4,
 "nbformat_minor": 2
}
