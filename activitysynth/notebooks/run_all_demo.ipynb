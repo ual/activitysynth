{
 "cells": [
  {
   "cell_type": "code",
   "execution_count": 1,
   "metadata": {},
   "outputs": [
    {
     "name": "stdout",
     "output_type": "stream",
     "text": [
      "Registering model step 'auto_ownership'\n",
      "Registering model step 'dwell_work'\n",
      "Registering model step 'TOD_choice'\n",
      "Registering model step 'work_TOD_choice'\n",
      "Registering model step 'primary_mode_choice'\n",
      "Registering model step 'WLCM'\n"
     ]
    }
   ],
   "source": [
    "import pandas as pd\n",
    "import numpy as np\n",
    "import os; os.chdir('../')\n",
    "import warnings\n",
    "from urbansim_templates import modelmanager as mm\n",
    "\n",
    "import orca\n",
    "import urbansim_templates\n",
    "\n",
    "from activitysynth.scripts import models, datasources, variables\n",
    "\n",
    "warnings.simplefilter('ignore')"
   ]
  },
  {
   "cell_type": "code",
   "execution_count": 2,
   "metadata": {},
   "outputs": [
    {
     "data": {
      "text/plain": [
       "'0.2.1'"
      ]
     },
     "execution_count": 2,
     "metadata": {},
     "output_type": "execute_result"
    }
   ],
   "source": [
    "import choicemodels; choicemodels.__version__"
   ]
  },
  {
   "cell_type": "code",
   "execution_count": 3,
   "metadata": {},
   "outputs": [
    {
     "data": {
      "text/plain": [
       "'0.2.dev0'"
      ]
     },
     "execution_count": 3,
     "metadata": {},
     "output_type": "execute_result"
    }
   ],
   "source": [
    "import urbansim_templates; urbansim_templates.__version__"
   ]
  },
  {
   "cell_type": "markdown",
   "metadata": {},
   "source": [
    "### Generate accessibility variables (or load them if they already exist)"
   ]
  },
  {
   "cell_type": "markdown",
   "metadata": {},
   "source": [
    "Initialize networks"
   ]
  },
  {
   "cell_type": "code",
   "execution_count": 4,
   "metadata": {},
   "outputs": [
    {
     "name": "stdout",
     "output_type": "stream",
     "text": [
      "Running step 'initialize_network_small'\n",
      "Time to execute step 'initialize_network_small': 0.00 s\n",
      "Running step 'initialize_network_walk'\n",
      "Time to execute step 'initialize_network_walk': 0.00 s\n",
      "Total time to execute iteration 1 with iteration value None: 0.00 s\n"
     ]
    }
   ],
   "source": [
    "orca.run(['initialize_network_small', 'initialize_network_walk'])"
   ]
  },
  {
   "cell_type": "markdown",
   "metadata": {},
   "source": [
    "If they exist already:"
   ]
  },
  {
   "cell_type": "code",
   "execution_count": 6,
   "metadata": {},
   "outputs": [
    {
     "data": {
      "text/plain": [
       "<orca.orca.DataFrameWrapper at 0x7f50aa430828>"
      ]
     },
     "execution_count": 6,
     "metadata": {},
     "output_type": "execute_result"
    }
   ],
   "source": [
    "walk_net_vars = pd.read_csv('./data/walk_net_vars.csv', index_col='osmid')\n",
    "drive_net_vars = pd.read_csv('./data/drive_net_vars.csv', index_col='osmid')\n",
    "orca.add_table('nodeswalk', walk_net_vars)\n",
    "orca.add_table('nodessmall', drive_net_vars)"
   ]
  },
  {
   "cell_type": "markdown",
   "metadata": {},
   "source": [
    "If generating on-the-fly:"
   ]
  },
  {
   "cell_type": "code",
   "execution_count": 10,
   "metadata": {},
   "outputs": [],
   "source": [
    "# orca.run(['network_aggregations_small', 'network_aggregations_walk'])"
   ]
  },
  {
   "cell_type": "markdown",
   "metadata": {},
   "source": [
    "### Simulate workplace location choices"
   ]
  },
  {
   "cell_type": "markdown",
   "metadata": {},
   "source": [
    "Run the model step"
   ]
  },
  {
   "cell_type": "code",
   "execution_count": 8,
   "metadata": {},
   "outputs": [],
   "source": [
    "warnings.simplefilter('ignore')\n",
    "accessibilities_mode = 'compute'\n",
    "year = 2010\n",
    "data_mode = 'csv'\n",
    "output_tables = [\n",
    "    'parcels', 'buildings', 'jobs', 'persons', 'households',\n",
    "    'establishments', 'rentals', 'units']\n",
    "output_bucket = 'urbansim-outputs'\n",
    "beam_bucket = 'urbansim-beam'\n",
    "local_data_dir = '/home/data/fall_2018/'\n",
    "fname_walk = 'walk_net_vars.csv'\n",
    "fname_drive = 'drive_net_vars.csv'"
   ]
  },
  {
   "cell_type": "code",
   "execution_count": 9,
   "metadata": {},
   "outputs": [],
   "source": [
    "orca.add_injectable('data_mode', data_mode)\n",
    "\n",
    "if data_mode == 'h5':\n",
    "        @orca.injectable('store', cache=True)\n",
    "        def hdfstore():\n",
    "            return pd.HDFStore(\n",
    "                (local_data_dir + \"model_data.h5\"), mode='r')\n",
    "        orca.add_injectable('s3_input_data_url', None)\n",
    "        orca.add_injectable('local_data_dir', None)\n",
    "\n",
    "elif data_mode == 's3':\n",
    "        orca.add_injectable('store', None)\n",
    "        orca.add_injectable(\n",
    "            's3_input_data_url',\n",
    "            's3://urbansim-baseyear-inputs/{0}.parquet.gz')\n",
    "        orca.add_injectable('local_data_dir', None)\n",
    "\n",
    "elif data_mode == 'csv':\n",
    "        orca.add_injectable('store', None)\n",
    "        orca.add_injectable('s3_input_data_url', None)\n",
    "        orca.add_injectable('local_data_dir', local_data_dir)"
   ]
  },
  {
   "cell_type": "code",
   "execution_count": 10,
   "metadata": {},
   "outputs": [
    {
     "name": "stdout",
     "output_type": "stream",
     "text": [
      "Running step 'wlcm_simulate'\n",
      "Iteration 1: 191268 of 3060996 valid choices\n",
      "Iteration 2: 381754 of 3060996 valid choices\n",
      "Iteration 3: 571228 of 3060996 valid choices\n",
      "Iteration 4: 759874 of 3060996 valid choices\n",
      "Iteration 5: 947307 of 3060996 valid choices\n",
      "Iteration 6: 1133502 of 3060996 valid choices\n",
      "Iteration 7: 1317704 of 3060996 valid choices\n",
      "Iteration 8: 1500236 of 3060996 valid choices\n",
      "Iteration 9: 1679523 of 3060996 valid choices\n",
      "Iteration 10: 1854961 of 3060996 valid choices\n",
      "Iteration 11: 2024888 of 3060996 valid choices\n",
      "Iteration 12: 2186543 of 3060996 valid choices\n",
      "Iteration 13: 2334773 of 3060996 valid choices\n",
      "Iteration 14: 2459129 of 3060996 valid choices\n",
      "Iteration 15: 2540249 of 3060996 valid choices\n",
      "Iteration 16: 2573729 of 3060996 valid choices\n",
      "Iteration 17: 2578044 of 3060996 valid choices\n",
      "Iteration 18: 2578046 of 3060996 valid choices\n",
      "No valid alternatives for the remaining choosers\n",
      "Time to execute step 'wlcm_simulate': 300.98 s\n",
      "Total time to execute iteration 1 with iteration value None: 300.98 s\n"
     ]
    }
   ],
   "source": [
    "orca.run(['wlcm_simulate'])"
   ]
  },
  {
   "cell_type": "markdown",
   "metadata": {},
   "source": [
    "Query the updated persons table to assess job placement"
   ]
  },
  {
   "cell_type": "code",
   "execution_count": 22,
   "metadata": {},
   "outputs": [],
   "source": [
    "persons_w_jobs = orca.get_table('persons').to_frame(['job_id', 'worker','work_at_home'])\n",
    "num_persons_w_jobs = len(persons_w_jobs[~pd.isnull(persons_w_jobs['job_id'])])\n",
    "wlcm = urbansim_templates.modelmanager.get_step('WLCM')\n",
    "num_workers = len(persons_w_jobs.query(' and '.join(wlcm.out_chooser_filters)))"
   ]
  },
  {
   "cell_type": "code",
   "execution_count": 7,
   "metadata": {
    "scrolled": true
   },
   "outputs": [
    {
     "name": "stdout",
     "output_type": "stream",
     "text": [
      "WLCM placed 2578046 of 3060996 workers (84.2%) during simulation.\n"
     ]
    }
   ],
   "source": [
    "print(\"WLCM placed {0} of {1} workers ({2}%) during simulation.\".format(\n",
    "    num_persons_w_jobs, num_workers, np.round(num_persons_w_jobs/num_workers * 100, 1)))"
   ]
  },
  {
   "cell_type": "markdown",
   "metadata": {},
   "source": [
    "### Simulate auto-ownership choices"
   ]
  },
  {
   "cell_type": "code",
   "execution_count": 11,
   "metadata": {},
   "outputs": [
    {
     "name": "stdout",
     "output_type": "stream",
     "text": [
      "Running step 'auto_ownership_simulate'\n",
      "Time to execute step 'auto_ownership_simulate': 74.51 s\n",
      "Total time to execute iteration 1 with iteration value None: 74.51 s\n"
     ]
    }
   ],
   "source": [
    "orca.run(['auto_ownership_simulate'])"
   ]
  },
  {
   "cell_type": "code",
   "execution_count": 14,
   "metadata": {},
   "outputs": [],
   "source": [
    "households_w_auto_ownership = orca.get_table('households').to_frame()\n",
    "num_households_w_auto = len(households_w_auto_ownership[~pd.isnull(households_w_auto_ownership['cars'])])"
   ]
  },
  {
   "cell_type": "code",
   "execution_count": 15,
   "metadata": {},
   "outputs": [
    {
     "name": "stdout",
     "output_type": "stream",
     "text": [
      "Auto ownership assigned to 2677468 of 2677468 households (100.0%) during simulation.\n"
     ]
    }
   ],
   "source": [
    "print(\"Auto ownership assigned to {0} of {1} households ({2}%) during simulation.\".format(\n",
    "    num_households_w_auto, len(households_w_auto_ownership),\n",
    "    np.round(num_households_w_auto/len(households_w_auto_ownership) * 100, 1)))"
   ]
  },
  {
   "cell_type": "markdown",
   "metadata": {},
   "source": [
    "### Simulate time-of-day choices for mandatory trip (commute) departure times"
   ]
  },
  {
   "cell_type": "markdown",
   "metadata": {},
   "source": [
    "#### a) Assign commuters to depature time chunks"
   ]
  },
  {
   "cell_type": "code",
   "execution_count": 12,
   "metadata": {
    "scrolled": false
   },
   "outputs": [
    {
     "name": "stdout",
     "output_type": "stream",
     "text": [
      "Running step 'TOD_category_simulate'\n",
      "Time to execute step 'TOD_category_simulate': 43.88 s\n",
      "Total time to execute iteration 1 with iteration value None: 43.88 s\n"
     ]
    }
   ],
   "source": [
    "orca.run(['TOD_category_simulate'])"
   ]
  },
  {
   "cell_type": "code",
   "execution_count": 13,
   "metadata": {},
   "outputs": [
    {
     "name": "stdout",
     "output_type": "stream",
     "text": [
      "Running step 'TOD_dwell_simulate'\n",
      "Time to execute step 'TOD_dwell_simulate': 44.39 s\n",
      "Total time to execute iteration 1 with iteration value None: 44.39 s\n"
     ]
    }
   ],
   "source": [
    "orca.run(['TOD_dwell_simulate'])"
   ]
  },
  {
   "cell_type": "markdown",
   "metadata": {},
   "source": [
    "#### b) Assign actual departure times based on known distributions"
   ]
  },
  {
   "cell_type": "code",
   "execution_count": 14,
   "metadata": {},
   "outputs": [
    {
     "name": "stdout",
     "output_type": "stream",
     "text": [
      "Running step 'TOD_distribution_simulate'\n",
      "Time to execute step 'TOD_distribution_simulate': 1514.15 s\n",
      "Total time to execute iteration 1 with iteration value None: 1514.15 s\n"
     ]
    }
   ],
   "source": [
    "orca.run(['TOD_distribution_simulate'])"
   ]
  },
  {
   "cell_type": "markdown",
   "metadata": {},
   "source": [
    "Query the updated persons table to assess TOD chunk assignment"
   ]
  },
  {
   "cell_type": "code",
   "execution_count": 21,
   "metadata": {},
   "outputs": [],
   "source": [
    "persons_w_TOD2 = orca.get_table('persons').to_frame('HW_ST')\n",
    "num_persons_w_TOD = len(persons_w_TOD2[~pd.isnull(persons_w_TOD2['HW_ST'])])"
   ]
  },
  {
   "cell_type": "code",
   "execution_count": 34,
   "metadata": {},
   "outputs": [
    {
     "name": "stdout",
     "output_type": "stream",
     "text": [
      "Departure time assigned to 2502445 of 2578046 workers with jobs (97.1%) during simulation.\n"
     ]
    }
   ],
   "source": [
    "print(\"Departure time assigned to {0} of {1} workers with jobs ({2}%) during simulation.\".format(\n",
    "    num_persons_w_TOD, num_persons_w_jobs, np.round(num_persons_w_TOD/num_persons_w_jobs * 100, 1)))"
   ]
  },
  {
   "cell_type": "markdown",
   "metadata": {},
   "source": [
    "### Simulate primary commute mode choice"
   ]
  },
  {
   "cell_type": "code",
   "execution_count": 23,
   "metadata": {
    "scrolled": false
   },
   "outputs": [],
   "source": [
    "orca.run(['primary_mode_choice_simulate'])"
   ]
  },
  {
   "cell_type": "code",
   "execution_count": 17,
   "metadata": {},
   "outputs": [],
   "source": [
    "persons_w_mode = orca.get_table('persons_CHTS_format').to_frame()"
   ]
  },
  {
   "cell_type": "code",
   "execution_count": 18,
   "metadata": {},
   "outputs": [],
   "source": [
    "num_persons_w_mode = len(persons_w_mode[~pd.isnull(persons_w_mode['primary_commute_mode'])])"
   ]
  },
  {
   "cell_type": "code",
   "execution_count": 19,
   "metadata": {},
   "outputs": [
    {
     "name": "stdout",
     "output_type": "stream",
     "text": [
      "Primary commute mode assigned to 2578046 of 2578046 workers with jobs (100.0%) during simulation.\n"
     ]
    }
   ],
   "source": [
    "print(\"Primary commute mode assigned to {0} of {1} workers with jobs ({2}%) during simulation.\".format(\n",
    "    num_persons_w_mode, num_persons_w_jobs,\n",
    "    np.round(num_persons_w_mode/num_persons_w_jobs * 100, 1)))"
   ]
  },
  {
   "cell_type": "markdown",
   "metadata": {},
   "source": [
    "### Generate activity plans"
   ]
  },
  {
   "cell_type": "markdown",
   "metadata": {},
   "source": [
    "Activity plans currently written according to [BEAM](http://beam.lbl.gov/) specification"
   ]
  },
  {
   "cell_type": "code",
   "execution_count": 21,
   "metadata": {},
   "outputs": [
    {
     "name": "stdout",
     "output_type": "stream",
     "text": [
      "Running step 'generate_activity_plans'\n",
      "Time to execute step 'generate_activity_plans': 150.72 s\n",
      "Total time to execute iteration 1 with iteration value None: 150.72 s\n"
     ]
    }
   ],
   "source": [
    "orca.run(['generate_activity_plans'])"
   ]
  },
  {
   "cell_type": "markdown",
   "metadata": {},
   "source": [
    "Load activity plan data and investigate it"
   ]
  },
  {
   "cell_type": "code",
   "execution_count": 22,
   "metadata": {},
   "outputs": [],
   "source": [
    "plans = orca.get_table('plans').to_frame()"
   ]
  },
  {
   "cell_type": "code",
   "execution_count": 23,
   "metadata": {},
   "outputs": [
    {
     "data": {
      "text/html": [
       "<div>\n",
       "<style scoped>\n",
       "    .dataframe tbody tr th:only-of-type {\n",
       "        vertical-align: middle;\n",
       "    }\n",
       "\n",
       "    .dataframe tbody tr th {\n",
       "        vertical-align: top;\n",
       "    }\n",
       "\n",
       "    .dataframe thead th {\n",
       "        text-align: right;\n",
       "    }\n",
       "</style>\n",
       "<table border=\"1\" class=\"dataframe\">\n",
       "  <thead>\n",
       "    <tr style=\"text-align: right;\">\n",
       "      <th></th>\n",
       "      <th>personId</th>\n",
       "      <th>planElement</th>\n",
       "      <th>planElementIndex</th>\n",
       "      <th>activityType</th>\n",
       "      <th>x</th>\n",
       "      <th>y</th>\n",
       "      <th>endTime</th>\n",
       "    </tr>\n",
       "  </thead>\n",
       "  <tbody>\n",
       "    <tr>\n",
       "      <th>0</th>\n",
       "      <td>0</td>\n",
       "      <td>activity</td>\n",
       "      <td>1</td>\n",
       "      <td>Home</td>\n",
       "      <td>-121.882</td>\n",
       "      <td>37.3391</td>\n",
       "      <td>6.87786</td>\n",
       "    </tr>\n",
       "    <tr>\n",
       "      <th>1</th>\n",
       "      <td>0</td>\n",
       "      <td>leg</td>\n",
       "      <td>2</td>\n",
       "      <td></td>\n",
       "      <td></td>\n",
       "      <td></td>\n",
       "      <td></td>\n",
       "    </tr>\n",
       "    <tr>\n",
       "      <th>2</th>\n",
       "      <td>0</td>\n",
       "      <td>activity</td>\n",
       "      <td>3</td>\n",
       "      <td>Work</td>\n",
       "      <td>-121.886</td>\n",
       "      <td>37.3445</td>\n",
       "      <td>17.9252</td>\n",
       "    </tr>\n",
       "    <tr>\n",
       "      <th>3</th>\n",
       "      <td>0</td>\n",
       "      <td>leg</td>\n",
       "      <td>4</td>\n",
       "      <td></td>\n",
       "      <td></td>\n",
       "      <td></td>\n",
       "      <td></td>\n",
       "    </tr>\n",
       "    <tr>\n",
       "      <th>4</th>\n",
       "      <td>0</td>\n",
       "      <td>activity</td>\n",
       "      <td>5</td>\n",
       "      <td>Home</td>\n",
       "      <td>-121.882</td>\n",
       "      <td>37.3391</td>\n",
       "      <td></td>\n",
       "    </tr>\n",
       "  </tbody>\n",
       "</table>\n",
       "</div>"
      ],
      "text/plain": [
       "   personId planElement  planElementIndex activityType        x        y  \\\n",
       "0         0    activity                 1         Home -121.882  37.3391   \n",
       "1         0         leg                 2                                  \n",
       "2         0    activity                 3         Work -121.886  37.3445   \n",
       "3         0         leg                 4                                  \n",
       "4         0    activity                 5         Home -121.882  37.3391   \n",
       "\n",
       "   endTime  \n",
       "0  6.87786  \n",
       "1           \n",
       "2  17.9252  \n",
       "3           \n",
       "4           "
      ]
     },
     "execution_count": 23,
     "metadata": {},
     "output_type": "execute_result"
    }
   ],
   "source": [
    "plans.head()"
   ]
  },
  {
   "cell_type": "code",
   "execution_count": 26,
   "metadata": {},
   "outputs": [],
   "source": [
    "activities = plans[plans['planElement'] == 'activity']"
   ]
  },
  {
   "cell_type": "code",
   "execution_count": 29,
   "metadata": {},
   "outputs": [
    {
     "data": {
      "text/html": [
       "<div>\n",
       "<style scoped>\n",
       "    .dataframe tbody tr th:only-of-type {\n",
       "        vertical-align: middle;\n",
       "    }\n",
       "\n",
       "    .dataframe tbody tr th {\n",
       "        vertical-align: top;\n",
       "    }\n",
       "\n",
       "    .dataframe thead th {\n",
       "        text-align: right;\n",
       "    }\n",
       "</style>\n",
       "<table border=\"1\" class=\"dataframe\">\n",
       "  <thead>\n",
       "    <tr style=\"text-align: right;\">\n",
       "      <th></th>\n",
       "      <th>personId</th>\n",
       "      <th>planElement</th>\n",
       "      <th>planElementIndex</th>\n",
       "      <th>activityType</th>\n",
       "      <th>x</th>\n",
       "      <th>y</th>\n",
       "      <th>endTime</th>\n",
       "    </tr>\n",
       "  </thead>\n",
       "  <tbody>\n",
       "    <tr>\n",
       "      <th>4430145</th>\n",
       "      <td>2502445</td>\n",
       "      <td>activity</td>\n",
       "      <td>1</td>\n",
       "      <td>Home</td>\n",
       "      <td>-122.199</td>\n",
       "      <td>37.7618</td>\n",
       "      <td>NaN</td>\n",
       "    </tr>\n",
       "    <tr>\n",
       "      <th>4430147</th>\n",
       "      <td>2502445</td>\n",
       "      <td>activity</td>\n",
       "      <td>3</td>\n",
       "      <td>Work</td>\n",
       "      <td>-121.966</td>\n",
       "      <td>37.7632</td>\n",
       "      <td>NaN</td>\n",
       "    </tr>\n",
       "    <tr>\n",
       "      <th>4430150</th>\n",
       "      <td>2502446</td>\n",
       "      <td>activity</td>\n",
       "      <td>1</td>\n",
       "      <td>Home</td>\n",
       "      <td>-122.199</td>\n",
       "      <td>37.7618</td>\n",
       "      <td>NaN</td>\n",
       "    </tr>\n",
       "    <tr>\n",
       "      <th>4430152</th>\n",
       "      <td>2502446</td>\n",
       "      <td>activity</td>\n",
       "      <td>3</td>\n",
       "      <td>Work</td>\n",
       "      <td>-122.257</td>\n",
       "      <td>37.8249</td>\n",
       "      <td>NaN</td>\n",
       "    </tr>\n",
       "    <tr>\n",
       "      <th>4430155</th>\n",
       "      <td>2502451</td>\n",
       "      <td>activity</td>\n",
       "      <td>1</td>\n",
       "      <td>Home</td>\n",
       "      <td>-122.199</td>\n",
       "      <td>37.7618</td>\n",
       "      <td>NaN</td>\n",
       "    </tr>\n",
       "  </tbody>\n",
       "</table>\n",
       "</div>"
      ],
      "text/plain": [
       "         personId planElement  planElementIndex activityType        x  \\\n",
       "4430145   2502445    activity                 1         Home -122.199   \n",
       "4430147   2502445    activity                 3         Work -121.966   \n",
       "4430150   2502446    activity                 1         Home -122.199   \n",
       "4430152   2502446    activity                 3         Work -122.257   \n",
       "4430155   2502451    activity                 1         Home -122.199   \n",
       "\n",
       "               y endTime  \n",
       "4430145  37.7618     NaN  \n",
       "4430147  37.7632     NaN  \n",
       "4430150  37.7618     NaN  \n",
       "4430152  37.8249     NaN  \n",
       "4430155  37.7618     NaN  "
      ]
     },
     "execution_count": 29,
     "metadata": {},
     "output_type": "execute_result"
    }
   ],
   "source": [
    "activities[pd.isnull(activities['endTime'])].head()"
   ]
  },
  {
   "cell_type": "code",
   "execution_count": 30,
   "metadata": {},
   "outputs": [],
   "source": [
    "persons = orca.get_table('persons').to_frame()"
   ]
  },
  {
   "cell_type": "code",
   "execution_count": 35,
   "metadata": {},
   "outputs": [
    {
     "data": {
      "text/html": [
       "<div>\n",
       "<style scoped>\n",
       "    .dataframe tbody tr th:only-of-type {\n",
       "        vertical-align: middle;\n",
       "    }\n",
       "\n",
       "    .dataframe tbody tr th {\n",
       "        vertical-align: top;\n",
       "    }\n",
       "\n",
       "    .dataframe thead th {\n",
       "        text-align: right;\n",
       "    }\n",
       "</style>\n",
       "<table border=\"1\" class=\"dataframe\">\n",
       "  <thead>\n",
       "    <tr style=\"text-align: right;\">\n",
       "      <th></th>\n",
       "      <th>job_id</th>\n",
       "      <th>TOD</th>\n",
       "      <th>HW_ST</th>\n",
       "    </tr>\n",
       "    <tr>\n",
       "      <th>person_id</th>\n",
       "      <th></th>\n",
       "      <th></th>\n",
       "      <th></th>\n",
       "    </tr>\n",
       "  </thead>\n",
       "  <tbody>\n",
       "    <tr>\n",
       "      <th>2502445</th>\n",
       "      <td>780221.0</td>\n",
       "      <td>NaN</td>\n",
       "      <td>NaN</td>\n",
       "    </tr>\n",
       "  </tbody>\n",
       "</table>\n",
       "</div>"
      ],
      "text/plain": [
       "             job_id  TOD  HW_ST\n",
       "person_id                      \n",
       "2502445    780221.0  NaN    NaN"
      ]
     },
     "execution_count": 35,
     "metadata": {},
     "output_type": "execute_result"
    }
   ],
   "source": [
    "persons[persons.index.values == 2502445][['job_id', 'TOD', 'HW_ST']]"
   ]
  },
  {
   "cell_type": "code",
   "execution_count": 24,
   "metadata": {},
   "outputs": [],
   "source": [
    "num_persons_w_plans = len(plans['personId'].unique())"
   ]
  },
  {
   "cell_type": "code",
   "execution_count": 25,
   "metadata": {},
   "outputs": [
    {
     "name": "stdout",
     "output_type": "stream",
     "text": [
      "Mandatory trips assigned to 2578046 of 2578046 workers with jobs (100.0%) during simulation.\n"
     ]
    }
   ],
   "source": [
    "print(\"Mandatory trips assigned to {0} of {1} workers with jobs ({2}%) during simulation.\".format(\n",
    "    num_persons_w_plans, num_persons_w_jobs,\n",
    "    np.round(num_persons_w_mode/num_persons_w_jobs * 100, 1)))"
   ]
  },
  {
   "cell_type": "markdown",
   "metadata": {},
   "source": [
    "### Archive input data"
   ]
  },
  {
   "cell_type": "code",
   "execution_count": 35,
   "metadata": {},
   "outputs": [],
   "source": [
    "orca.write_tables('./data/urbansim_beam_input_data.h5', [\n",
    "    'persons', 'households', 'jobs', 'parcels', 'buildings', 'units'\n",
    "])"
   ]
  }
 ],
 "metadata": {
  "kernelspec": {
   "display_name": "Python 3",
   "language": "python",
   "name": "python3"
  },
  "language_info": {
   "codemirror_mode": {
    "name": "ipython",
    "version": 3
   },
   "file_extension": ".py",
   "mimetype": "text/x-python",
   "name": "python",
   "nbconvert_exporter": "python",
   "pygments_lexer": "ipython3",
   "version": "3.6.8"
  }
 },
 "nbformat": 4,
 "nbformat_minor": 2
}
