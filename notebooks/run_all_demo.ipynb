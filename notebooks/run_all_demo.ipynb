{
 "cells": [
  {
   "cell_type": "code",
   "execution_count": 3,
   "metadata": {},
   "outputs": [
    {
     "name": "stdout",
     "output_type": "stream",
     "text": [
      "Registering model step 'auto_ownership'\n",
      "Registering model step 'TOD_choice'\n",
      "Registering model step 'primary_mode_choice'\n",
      "Registering model step 'WLCM'\n"
     ]
    }
   ],
   "source": [
    "import orca\n",
    "import warnings\n",
    "\n",
    "import urbansim_templates\n",
    "import os; os.chdir('../')\n",
    "\n",
    "from scripts import models, datasources, variables\n",
    "\n",
    "warnings.simplefilter('ignore')"
   ]
  },
  {
   "cell_type": "code",
   "execution_count": 4,
   "metadata": {},
   "outputs": [],
   "source": [
    "import pandas as pd\n",
    "import numpy as np"
   ]
  },
  {
   "cell_type": "markdown",
   "metadata": {},
   "source": [
    "### Generate accessibility variables (or load them if they already exist)"
   ]
  },
  {
   "cell_type": "markdown",
   "metadata": {},
   "source": [
    "Initialize networks"
   ]
  },
  {
   "cell_type": "code",
   "execution_count": 5,
   "metadata": {},
   "outputs": [
    {
     "name": "stdout",
     "output_type": "stream",
     "text": [
      "Running step 'initialize_network_small'\n",
      "Time to execute step 'initialize_network_small': 0.00 s\n",
      "Running step 'initialize_network_walk'\n",
      "Time to execute step 'initialize_network_walk': 0.00 s\n",
      "Total time to execute iteration 1 with iteration value None: 0.00 s\n"
     ]
    }
   ],
   "source": [
    "orca.run(['initialize_network_small', 'initialize_network_walk'])"
   ]
  },
  {
   "cell_type": "markdown",
   "metadata": {},
   "source": [
    "If they exist already:"
   ]
  },
  {
   "cell_type": "code",
   "execution_count": 6,
   "metadata": {},
   "outputs": [
    {
     "data": {
      "text/plain": [
       "<orca.orca.DataFrameWrapper at 0x7fcc6d836588>"
      ]
     },
     "execution_count": 6,
     "metadata": {},
     "output_type": "execute_result"
    }
   ],
   "source": [
    "walk_net_vars = pd.read_csv('../ual_model_workspace/fall-2018-models/data/walk_net_vars.csv', index_col='osmid')\n",
    "drive_net_vars = pd.read_csv('../ual_model_workspace/fall-2018-models/data/drive_net_vars.csv', index_col='osmid')\n",
    "orca.add_table('nodeswalk', walk_net_vars)\n",
    "orca.add_table('nodessmall', drive_net_vars)"
   ]
  },
  {
   "cell_type": "markdown",
   "metadata": {},
   "source": [
    "If generating on-the-fly:"
   ]
  },
  {
   "cell_type": "code",
   "execution_count": 7,
   "metadata": {},
   "outputs": [],
   "source": [
    "# orca.run(['network_aggregations_small', 'network_aggregations_walk'])"
   ]
  },
  {
   "cell_type": "markdown",
   "metadata": {},
   "source": [
    "### Simulate workplace location choices"
   ]
  },
  {
   "cell_type": "markdown",
   "metadata": {},
   "source": [
    "Run the model step"
   ]
  },
  {
   "cell_type": "code",
   "execution_count": 8,
   "metadata": {},
   "outputs": [
    {
     "name": "stdout",
     "output_type": "stream",
     "text": [
      "Running step 'wlcm_simulate'\n",
      "Iteration 1: 191230 of 3060996 valid choices\n",
      "Iteration 2: 381658 of 3060996 valid choices\n",
      "Iteration 3: 571355 of 3060996 valid choices\n",
      "Iteration 4: 760038 of 3060996 valid choices\n",
      "Iteration 5: 947604 of 3060996 valid choices\n",
      "Iteration 6: 1133729 of 3060996 valid choices\n",
      "Iteration 7: 1317886 of 3060996 valid choices\n",
      "Iteration 8: 1499993 of 3060996 valid choices\n",
      "Iteration 9: 1679269 of 3060996 valid choices\n",
      "Iteration 10: 1854852 of 3060996 valid choices\n",
      "Iteration 11: 2024944 of 3060996 valid choices\n",
      "Iteration 12: 2186665 of 3060996 valid choices\n",
      "Iteration 13: 2334854 of 3060996 valid choices\n",
      "Iteration 14: 2459038 of 3060996 valid choices\n",
      "Iteration 15: 2540488 of 3060996 valid choices\n",
      "Iteration 16: 2573911 of 3060996 valid choices\n",
      "Iteration 17: 2578046 of 3060996 valid choices\n",
      "No valid alternatives for the remaining choosers\n",
      "Time to execute step 'wlcm_simulate': 236.07 s\n",
      "Total time to execute iteration 1 with iteration value None: 236.07 s\n"
     ]
    }
   ],
   "source": [
    "orca.run(['wlcm_simulate'])"
   ]
  },
  {
   "cell_type": "markdown",
   "metadata": {},
   "source": [
    "Query the updated persons table to assess job placement"
   ]
  },
  {
   "cell_type": "code",
   "execution_count": 9,
   "metadata": {},
   "outputs": [],
   "source": [
    "persons_w_jobs = orca.get_table('persons').to_frame()\n",
    "num_persons_w_jobs = len(persons_w_jobs[~pd.isnull(persons_w_jobs['job_id'])])\n",
    "wlcm = urbansim_templates.modelmanager.get_step('WLCM')\n",
    "num_workers = len(persons_w_jobs.query(' and '.join(wlcm.out_chooser_filters)))"
   ]
  },
  {
   "cell_type": "code",
   "execution_count": 10,
   "metadata": {},
   "outputs": [
    {
     "name": "stdout",
     "output_type": "stream",
     "text": [
      "WLCM placed 2578046 of 3060996 workers (84.2%) during simulation.\n"
     ]
    }
   ],
   "source": [
    "print(\"WLCM placed {0} of {1} workers ({2}%) during simulation.\".format(\n",
    "    num_persons_w_jobs, num_workers, np.round(num_persons_w_jobs/num_workers * 100, 1)))"
   ]
  },
  {
   "cell_type": "markdown",
   "metadata": {},
   "source": [
    "### Simulate time-of-day choices for mandatory trip (commute) departure times"
   ]
  },
  {
   "cell_type": "markdown",
   "metadata": {},
   "source": [
    "#### a) Assign commuters to depature time chunks"
   ]
  },
  {
   "cell_type": "code",
   "execution_count": 11,
   "metadata": {},
   "outputs": [
    {
     "name": "stdout",
     "output_type": "stream",
     "text": [
      "Running step 'TOD_choice_simulate'\n",
      "Time to execute step 'TOD_choice_simulate': 227.02 s\n",
      "Total time to execute iteration 1 with iteration value None: 227.02 s\n"
     ]
    }
   ],
   "source": [
    "orca.run(['TOD_choice_simulate'])"
   ]
  },
  {
   "cell_type": "markdown",
   "metadata": {},
   "source": [
    "#### b) Assign actual departure times based on known distributions"
   ]
  },
  {
   "cell_type": "code",
   "execution_count": 12,
   "metadata": {},
   "outputs": [
    {
     "name": "stdout",
     "output_type": "stream",
     "text": [
      "Running step 'TOD_distribution_simulate'\n",
      "Time to execute step 'TOD_distribution_simulate': 611.60 s\n",
      "Total time to execute iteration 1 with iteration value None: 611.60 s\n"
     ]
    }
   ],
   "source": [
    "orca.run(['TOD_distribution_simulate'])"
   ]
  },
  {
   "cell_type": "markdown",
   "metadata": {},
   "source": [
    "Query the updated persons table to assess TOD chunk assignment"
   ]
  },
  {
   "cell_type": "code",
   "execution_count": 13,
   "metadata": {},
   "outputs": [],
   "source": [
    "persons_w_TOD = orca.get_table('persons').to_frame()\n",
    "num_persons_w_TOD = len(persons_w_TOD[~pd.isnull(persons_w_TOD['HW_ST'])])"
   ]
  },
  {
   "cell_type": "code",
   "execution_count": 14,
   "metadata": {},
   "outputs": [
    {
     "name": "stdout",
     "output_type": "stream",
     "text": [
      "Departure time assigned to 2502430 of 3060996 workers with jobs (97.1%) during simulation.\n"
     ]
    }
   ],
   "source": [
    "print(\"Departure time assigned to {0} of {1} workers with jobs ({2}%) during simulation.\".format(\n",
    "    num_persons_w_TOD, num_workers, np.round(num_persons_w_TOD/num_persons_w_jobs * 100, 1)))"
   ]
  },
  {
   "cell_type": "markdown",
   "metadata": {},
   "source": [
    "### Simulate auto-ownership choices"
   ]
  },
  {
   "cell_type": "code",
   "execution_count": 15,
   "metadata": {},
   "outputs": [],
   "source": [
    "m = urbansim_templates.modelmanager.get_step('auto_ownership')"
   ]
  },
  {
   "cell_type": "code",
   "execution_count": 16,
   "metadata": {},
   "outputs": [],
   "source": [
    "m.filters = None\n",
    "m.out_table = 'households'\n",
    "m.out_column = 'cars_alt'"
   ]
  },
  {
   "cell_type": "code",
   "execution_count": 17,
   "metadata": {},
   "outputs": [
    {
     "ename": "KeyError",
     "evalue": "'table not found: hh_merged'",
     "output_type": "error",
     "traceback": [
      "\u001b[0;31m---------------------------------------------------------------------------\u001b[0m",
      "\u001b[0;31mKeyError\u001b[0m                                  Traceback (most recent call last)",
      "\u001b[0;32m<ipython-input-17-bc3db8938433>\u001b[0m in \u001b[0;36m<module>\u001b[0;34m()\u001b[0m\n\u001b[0;32m----> 1\u001b[0;31m \u001b[0mdf\u001b[0m \u001b[0;34m=\u001b[0m \u001b[0mm\u001b[0m\u001b[0;34m.\u001b[0m\u001b[0m_get_data\u001b[0m\u001b[0;34m(\u001b[0m\u001b[0;34m'predict'\u001b[0m\u001b[0;34m)\u001b[0m\u001b[0;34m\u001b[0m\u001b[0m\n\u001b[0m",
      "\u001b[0;32m~/projects/urbansim_templates/urbansim_templates/models/shared.py\u001b[0m in \u001b[0;36m_get_data\u001b[0;34m(self, task)\u001b[0m\n\u001b[1;32m    199\u001b[0m             \u001b[0mdf\u001b[0m \u001b[0;34m=\u001b[0m \u001b[0morca\u001b[0m\u001b[0;34m.\u001b[0m\u001b[0mmerge_tables\u001b[0m\u001b[0;34m(\u001b[0m\u001b[0mtarget\u001b[0m\u001b[0;34m=\u001b[0m\u001b[0mtables\u001b[0m\u001b[0;34m[\u001b[0m\u001b[0;36m0\u001b[0m\u001b[0;34m]\u001b[0m\u001b[0;34m,\u001b[0m \u001b[0mtables\u001b[0m\u001b[0;34m=\u001b[0m\u001b[0mtables\u001b[0m\u001b[0;34m,\u001b[0m \u001b[0mcolumns\u001b[0m\u001b[0;34m=\u001b[0m\u001b[0mcolumns\u001b[0m\u001b[0;34m)\u001b[0m\u001b[0;34m\u001b[0m\u001b[0m\n\u001b[1;32m    200\u001b[0m         \u001b[0;32melse\u001b[0m\u001b[0;34m:\u001b[0m\u001b[0;34m\u001b[0m\u001b[0m\n\u001b[0;32m--> 201\u001b[0;31m             \u001b[0mdf\u001b[0m \u001b[0;34m=\u001b[0m \u001b[0morca\u001b[0m\u001b[0;34m.\u001b[0m\u001b[0mget_table\u001b[0m\u001b[0;34m(\u001b[0m\u001b[0mtables\u001b[0m\u001b[0;34m)\u001b[0m\u001b[0;34m.\u001b[0m\u001b[0mto_frame\u001b[0m\u001b[0;34m(\u001b[0m\u001b[0mcolumns\u001b[0m\u001b[0;34m)\u001b[0m\u001b[0;34m\u001b[0m\u001b[0m\n\u001b[0m\u001b[1;32m    202\u001b[0m \u001b[0;34m\u001b[0m\u001b[0m\n\u001b[1;32m    203\u001b[0m         \u001b[0mdf\u001b[0m \u001b[0;34m=\u001b[0m \u001b[0mutil\u001b[0m\u001b[0;34m.\u001b[0m\u001b[0mapply_filter_query\u001b[0m\u001b[0;34m(\u001b[0m\u001b[0mdf\u001b[0m\u001b[0;34m,\u001b[0m \u001b[0mfilters\u001b[0m\u001b[0;34m)\u001b[0m\u001b[0;34m\u001b[0m\u001b[0m\n",
      "\u001b[0;32m~/anaconda3/envs/ual-model/lib/python3.6/site-packages/orca/orca.py\u001b[0m in \u001b[0;36mget_table\u001b[0;34m(table_name)\u001b[0m\n\u001b[1;32m   1065\u001b[0m \u001b[0;34m\u001b[0m\u001b[0m\n\u001b[1;32m   1066\u001b[0m     \"\"\"\n\u001b[0;32m-> 1067\u001b[0;31m     \u001b[0mtable\u001b[0m \u001b[0;34m=\u001b[0m \u001b[0mget_raw_table\u001b[0m\u001b[0;34m(\u001b[0m\u001b[0mtable_name\u001b[0m\u001b[0;34m)\u001b[0m\u001b[0;34m\u001b[0m\u001b[0m\n\u001b[0m\u001b[1;32m   1068\u001b[0m     \u001b[0;32mif\u001b[0m \u001b[0misinstance\u001b[0m\u001b[0;34m(\u001b[0m\u001b[0mtable\u001b[0m\u001b[0;34m,\u001b[0m \u001b[0mTableFuncWrapper\u001b[0m\u001b[0;34m)\u001b[0m\u001b[0;34m:\u001b[0m\u001b[0;34m\u001b[0m\u001b[0m\n\u001b[1;32m   1069\u001b[0m         \u001b[0mtable\u001b[0m \u001b[0;34m=\u001b[0m \u001b[0mtable\u001b[0m\u001b[0;34m(\u001b[0m\u001b[0;34m)\u001b[0m\u001b[0;34m\u001b[0m\u001b[0m\n",
      "\u001b[0;32m~/anaconda3/envs/ual-model/lib/python3.6/site-packages/orca/orca.py\u001b[0m in \u001b[0;36mget_raw_table\u001b[0;34m(table_name)\u001b[0m\n\u001b[1;32m   1047\u001b[0m         \u001b[0;32mreturn\u001b[0m \u001b[0m_TABLES\u001b[0m\u001b[0;34m[\u001b[0m\u001b[0mtable_name\u001b[0m\u001b[0;34m]\u001b[0m\u001b[0;34m\u001b[0m\u001b[0m\n\u001b[1;32m   1048\u001b[0m     \u001b[0;32melse\u001b[0m\u001b[0;34m:\u001b[0m\u001b[0;34m\u001b[0m\u001b[0m\n\u001b[0;32m-> 1049\u001b[0;31m         \u001b[0;32mraise\u001b[0m \u001b[0mKeyError\u001b[0m\u001b[0;34m(\u001b[0m\u001b[0;34m'table not found: {}'\u001b[0m\u001b[0;34m.\u001b[0m\u001b[0mformat\u001b[0m\u001b[0;34m(\u001b[0m\u001b[0mtable_name\u001b[0m\u001b[0;34m)\u001b[0m\u001b[0;34m)\u001b[0m\u001b[0;34m\u001b[0m\u001b[0m\n\u001b[0m\u001b[1;32m   1050\u001b[0m \u001b[0;34m\u001b[0m\u001b[0m\n\u001b[1;32m   1051\u001b[0m \u001b[0;34m\u001b[0m\u001b[0m\n",
      "\u001b[0;31mKeyError\u001b[0m: 'table not found: hh_merged'"
     ]
    }
   ],
   "source": [
    "df = m._get_data('predict')"
   ]
  },
  {
   "cell_type": "code",
   "execution_count": null,
   "metadata": {},
   "outputs": [],
   "source": [
    "df.head()"
   ]
  },
  {
   "cell_type": "code",
   "execution_count": null,
   "metadata": {},
   "outputs": [],
   "source": [
    "long_df = m._to_long(df, 'predict')"
   ]
  },
  {
   "cell_type": "code",
   "execution_count": null,
   "metadata": {},
   "outputs": [],
   "source": [
    "long_df.head()"
   ]
  },
  {
   "cell_type": "code",
   "execution_count": null,
   "metadata": {},
   "outputs": [],
   "source": [
    "num_obs = len(df)"
   ]
  },
  {
   "cell_type": "code",
   "execution_count": null,
   "metadata": {},
   "outputs": [],
   "source": [
    "num_alts = len(m._get_alts())"
   ]
  },
  {
   "cell_type": "code",
   "execution_count": null,
   "metadata": {},
   "outputs": [],
   "source": [
    "m.model"
   ]
  },
  {
   "cell_type": "code",
   "execution_count": null,
   "metadata": {},
   "outputs": [],
   "source": [
    "probs = m.model.predict(long_df)"
   ]
  },
  {
   "cell_type": "code",
   "execution_count": null,
   "metadata": {},
   "outputs": [],
   "source": [
    "orca.run(['auto_ownership_simulate'])"
   ]
  },
  {
   "cell_type": "markdown",
   "metadata": {},
   "source": [
    "### Simulate primary commute mode choice"
   ]
  },
  {
   "cell_type": "code",
   "execution_count": null,
   "metadata": {},
   "outputs": [],
   "source": [
    "# orca.run(['primary_mode_choice'])"
   ]
  },
  {
   "cell_type": "markdown",
   "metadata": {},
   "source": [
    "### Generate activity plans"
   ]
  },
  {
   "cell_type": "markdown",
   "metadata": {},
   "source": [
    "Activity plans currently written according to [BEAM](http://beam.lbl.gov/) specification"
   ]
  },
  {
   "cell_type": "code",
   "execution_count": null,
   "metadata": {},
   "outputs": [],
   "source": [
    "orca.run(['generate_activity_plans'])"
   ]
  },
  {
   "cell_type": "markdown",
   "metadata": {},
   "source": [
    "Load activity plan data and investigate it"
   ]
  },
  {
   "cell_type": "code",
   "execution_count": null,
   "metadata": {},
   "outputs": [],
   "source": [
    "activities = pd.read_csv('./data/urbansim_beam_plans.csv')"
   ]
  },
  {
   "cell_type": "code",
   "execution_count": null,
   "metadata": {},
   "outputs": [],
   "source": [
    "activities.head()"
   ]
  },
  {
   "cell_type": "code",
   "execution_count": null,
   "metadata": {},
   "outputs": [],
   "source": []
  }
 ],
 "metadata": {
  "kernelspec": {
   "display_name": "Python 3",
   "language": "python",
   "name": "python3"
  },
  "language_info": {
   "codemirror_mode": {
    "name": "ipython",
    "version": 3
   },
   "file_extension": ".py",
   "mimetype": "text/x-python",
   "name": "python",
   "nbconvert_exporter": "python",
   "pygments_lexer": "ipython3",
   "version": "3.6.6"
  }
 },
 "nbformat": 4,
 "nbformat_minor": 2
}
