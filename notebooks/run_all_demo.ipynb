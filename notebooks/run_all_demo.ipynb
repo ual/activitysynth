{
 "cells": [
  {
   "cell_type": "code",
   "execution_count": 1,
   "metadata": {},
   "outputs": [
    {
     "name": "stdout",
     "output_type": "stream",
     "text": [
      "Registering model step 'TOD_choice'\n",
      "Registering model step 'WLCM'\n"
     ]
    }
   ],
   "source": [
    "import orca\n",
    "import warnings\n",
    "\n",
    "import urbansim_templates\n",
    "import os; os.chdir('../')\n",
    "\n",
    "from scripts import models, datasources, variables\n",
    "\n",
    "warnings.simplefilter('ignore')"
   ]
  },
  {
   "cell_type": "code",
   "execution_count": 2,
   "metadata": {},
   "outputs": [],
   "source": [
    "import pandas as pd\n",
    "import numpy as np"
   ]
  },
  {
   "cell_type": "markdown",
   "metadata": {},
   "source": [
    "### Generate accessibility variables (or load them if they already exist)"
   ]
  },
  {
   "cell_type": "markdown",
   "metadata": {},
   "source": [
    "Initialize networks"
   ]
  },
  {
   "cell_type": "code",
   "execution_count": 3,
   "metadata": {},
   "outputs": [
    {
     "name": "stdout",
     "output_type": "stream",
     "text": [
      "Running step 'initialize_network_small'\n",
      "Time to execute step 'initialize_network_small': 0.00 s\n",
      "Running step 'initialize_network_walk'\n",
      "Time to execute step 'initialize_network_walk': 0.00 s\n",
      "Total time to execute iteration 1 with iteration value None: 0.00 s\n"
     ]
    }
   ],
   "source": [
    "orca.run(['initialize_network_small', 'initialize_network_walk'])"
   ]
  },
  {
   "cell_type": "markdown",
   "metadata": {},
   "source": [
    "If they exist already:"
   ]
  },
  {
   "cell_type": "code",
   "execution_count": 4,
   "metadata": {},
   "outputs": [
    {
     "data": {
      "text/plain": [
       "<orca.orca.DataFrameWrapper at 0x7fe581311e80>"
      ]
     },
     "execution_count": 4,
     "metadata": {},
     "output_type": "execute_result"
    }
   ],
   "source": [
    "# walk_net_vars = pd.read_csv('../ual_model_workspace/fall-2018-models/data/walk_net_vars.csv', index_col='osmid')\n",
    "# drive_net_vars = pd.read_csv('../ual_model_workspace/fall-2018-models/data/drive_net_vars.csv', index_col='osmid')\n",
    "# orca.add_table('nodeswalk', walk_net_vars)\n",
    "# orca.add_table('nodessmall', drive_net_vars)"
   ]
  },
  {
   "cell_type": "markdown",
   "metadata": {},
   "source": [
    "If generating on-the-fly:"
   ]
  },
  {
   "cell_type": "code",
   "execution_count": 5,
   "metadata": {},
   "outputs": [],
   "source": [
    "orca.run(['network_aggregations_small', 'network_aggregations_walk'])"
   ]
  },
  {
   "cell_type": "markdown",
   "metadata": {},
   "source": [
    "### Simulate workplace location choices"
   ]
  },
  {
   "cell_type": "markdown",
   "metadata": {},
   "source": [
    "Run the model step"
   ]
  },
  {
   "cell_type": "code",
   "execution_count": 6,
   "metadata": {},
   "outputs": [
    {
     "name": "stdout",
     "output_type": "stream",
     "text": [
      "Running step 'wlcm_simulate'\n",
      "Iteration 1: 191308 of 3060996 valid choices\n",
      "Iteration 2: 381885 of 3060996 valid choices\n",
      "Iteration 3: 571544 of 3060996 valid choices\n",
      "Iteration 4: 760216 of 3060996 valid choices\n",
      "Iteration 5: 947624 of 3060996 valid choices\n",
      "Iteration 6: 1133740 of 3060996 valid choices\n",
      "Iteration 7: 1318175 of 3060996 valid choices\n",
      "Iteration 8: 1500174 of 3060996 valid choices\n",
      "Iteration 9: 1679647 of 3060996 valid choices\n",
      "Iteration 10: 1855438 of 3060996 valid choices\n",
      "Iteration 11: 2025064 of 3060996 valid choices\n",
      "Iteration 12: 2186620 of 3060996 valid choices\n",
      "Iteration 13: 2335048 of 3060996 valid choices\n",
      "Iteration 14: 2459339 of 3060996 valid choices\n",
      "Iteration 15: 2540512 of 3060996 valid choices\n",
      "Iteration 16: 2573848 of 3060996 valid choices\n",
      "Iteration 17: 2578045 of 3060996 valid choices\n",
      "Iteration 18: 2578046 of 3060996 valid choices\n",
      "No valid alternatives for the remaining choosers\n",
      "Time to execute step 'wlcm_simulate': 242.11 s\n",
      "Total time to execute iteration 1 with iteration value None: 242.11 s\n"
     ]
    }
   ],
   "source": [
    "orca.run(['wlcm_simulate'])"
   ]
  },
  {
   "cell_type": "markdown",
   "metadata": {},
   "source": [
    "Query the updated persons table to assess job placement"
   ]
  },
  {
   "cell_type": "code",
   "execution_count": 7,
   "metadata": {},
   "outputs": [],
   "source": [
    "persons_w_jobs = orca.get_table('persons').to_frame()\n",
    "num_persons_w_jobs = len(persons_w_jobs[~pd.isnull(persons_w_jobs['job_id'])])\n",
    "wlcm = urbansim_templates.modelmanager.get_step('WLCM')\n",
    "num_workers = len(persons_w_jobs.query(' and '.join(wlcm.out_chooser_filters)))"
   ]
  },
  {
   "cell_type": "code",
   "execution_count": 8,
   "metadata": {},
   "outputs": [
    {
     "name": "stdout",
     "output_type": "stream",
     "text": [
      "WLCM placed 2578046 of 3060996 workers (84.2%) during simulation.\n"
     ]
    }
   ],
   "source": [
    "print(\"WLCM placed {0} of {1} workers ({2}%) during simulation.\".format(\n",
    "    num_persons_w_jobs, num_workers, np.round(num_persons_w_jobs/num_workers * 100, 1)))"
   ]
  },
  {
   "cell_type": "markdown",
   "metadata": {},
   "source": [
    "### Simulate time-of-day choices for mandatory trip (commute) departure times"
   ]
  },
  {
   "cell_type": "markdown",
   "metadata": {},
   "source": [
    "#### a) Assign commuters to depature time chunks"
   ]
  },
  {
   "cell_type": "code",
   "execution_count": 9,
   "metadata": {},
   "outputs": [
    {
     "name": "stdout",
     "output_type": "stream",
     "text": [
      "Running step 'TOD_choice_simulate'\n",
      "Time to execute step 'TOD_choice_simulate': 226.53 s\n",
      "Total time to execute iteration 1 with iteration value None: 226.53 s\n"
     ]
    }
   ],
   "source": [
    "orca.run(['TOD_choice_simulate'])"
   ]
  },
  {
   "cell_type": "markdown",
   "metadata": {},
   "source": [
    "#### b) Assign actual departure times based on known distributions"
   ]
  },
  {
   "cell_type": "code",
   "execution_count": 10,
   "metadata": {},
   "outputs": [
    {
     "name": "stdout",
     "output_type": "stream",
     "text": [
      "Running step 'TOD_distribution_simulate'\n",
      "Time to execute step 'TOD_distribution_simulate': 615.06 s\n",
      "Total time to execute iteration 1 with iteration value None: 615.06 s\n"
     ]
    }
   ],
   "source": [
    "orca.run(['TOD_distribution_simulate'])"
   ]
  },
  {
   "cell_type": "markdown",
   "metadata": {},
   "source": [
    "Query the updated persons table to assess TOD chunk assignment"
   ]
  },
  {
   "cell_type": "code",
   "execution_count": 11,
   "metadata": {},
   "outputs": [],
   "source": [
    "persons_w_TOD = orca.get_table('persons').to_frame()\n",
    "num_persons_w_TOD = len(persons_w_TOD[~pd.isnull(persons_w_TOD['HW_ST'])])"
   ]
  },
  {
   "cell_type": "code",
   "execution_count": 12,
   "metadata": {},
   "outputs": [
    {
     "name": "stdout",
     "output_type": "stream",
     "text": [
      "Departure time assigned to 2502338 of 3060996 workers with jobs (97.1%) during simulation.\n"
     ]
    }
   ],
   "source": [
    "print(\"Departure time assigned to {0} of {1} workers with jobs ({2}%) during simulation.\".format(\n",
    "    num_persons_w_TOD, num_workers, np.round(num_persons_w_TOD/num_persons_w_jobs * 100, 1)))"
   ]
  },
  {
   "cell_type": "markdown",
   "metadata": {},
   "source": [
    "### Generate activity plans"
   ]
  },
  {
   "cell_type": "markdown",
   "metadata": {},
   "source": [
    "Activity plans currently written according to [BEAM](http://beam.lbl.gov/) specification"
   ]
  },
  {
   "cell_type": "code",
   "execution_count": 13,
   "metadata": {},
   "outputs": [
    {
     "name": "stdout",
     "output_type": "stream",
     "text": [
      "Running step 'generate_activity_plans'\n",
      "Time to execute step 'generate_activity_plans': 132.94 s\n",
      "Total time to execute iteration 1 with iteration value None: 132.94 s\n"
     ]
    }
   ],
   "source": [
    "orca.run(['generate_activity_plans'])"
   ]
  },
  {
   "cell_type": "markdown",
   "metadata": {},
   "source": [
    "Load activity plan data and investigate it"
   ]
  },
  {
   "cell_type": "code",
   "execution_count": 14,
   "metadata": {},
   "outputs": [],
   "source": [
    "activities = pd.read_csv('./data/urbansim_beam_plans.csv')"
   ]
  },
  {
   "cell_type": "code",
   "execution_count": 15,
   "metadata": {},
   "outputs": [
    {
     "data": {
      "text/html": [
       "<div>\n",
       "<style scoped>\n",
       "    .dataframe tbody tr th:only-of-type {\n",
       "        vertical-align: middle;\n",
       "    }\n",
       "\n",
       "    .dataframe tbody tr th {\n",
       "        vertical-align: top;\n",
       "    }\n",
       "\n",
       "    .dataframe thead th {\n",
       "        text-align: right;\n",
       "    }\n",
       "</style>\n",
       "<table border=\"1\" class=\"dataframe\">\n",
       "  <thead>\n",
       "    <tr style=\"text-align: right;\">\n",
       "      <th></th>\n",
       "      <th>personId</th>\n",
       "      <th>planElement</th>\n",
       "      <th>planElementIndex</th>\n",
       "      <th>activityType</th>\n",
       "      <th>x</th>\n",
       "      <th>y</th>\n",
       "      <th>endTime</th>\n",
       "    </tr>\n",
       "  </thead>\n",
       "  <tbody>\n",
       "    <tr>\n",
       "      <th>0</th>\n",
       "      <td>0</td>\n",
       "      <td>activity</td>\n",
       "      <td>1</td>\n",
       "      <td>Home</td>\n",
       "      <td>-121.882277</td>\n",
       "      <td>37.339126</td>\n",
       "      <td>8.609233</td>\n",
       "    </tr>\n",
       "    <tr>\n",
       "      <th>1</th>\n",
       "      <td>0</td>\n",
       "      <td>leg</td>\n",
       "      <td>2</td>\n",
       "      <td>NaN</td>\n",
       "      <td>NaN</td>\n",
       "      <td>NaN</td>\n",
       "      <td>NaN</td>\n",
       "    </tr>\n",
       "    <tr>\n",
       "      <th>2</th>\n",
       "      <td>0</td>\n",
       "      <td>activity</td>\n",
       "      <td>3</td>\n",
       "      <td>Work</td>\n",
       "      <td>-122.054273</td>\n",
       "      <td>37.398092</td>\n",
       "      <td>15.724806</td>\n",
       "    </tr>\n",
       "    <tr>\n",
       "      <th>3</th>\n",
       "      <td>0</td>\n",
       "      <td>leg</td>\n",
       "      <td>4</td>\n",
       "      <td>NaN</td>\n",
       "      <td>NaN</td>\n",
       "      <td>NaN</td>\n",
       "      <td>NaN</td>\n",
       "    </tr>\n",
       "    <tr>\n",
       "      <th>4</th>\n",
       "      <td>0</td>\n",
       "      <td>activity</td>\n",
       "      <td>5</td>\n",
       "      <td>Home</td>\n",
       "      <td>-121.882277</td>\n",
       "      <td>37.339126</td>\n",
       "      <td>NaN</td>\n",
       "    </tr>\n",
       "  </tbody>\n",
       "</table>\n",
       "</div>"
      ],
      "text/plain": [
       "   personId planElement  planElementIndex activityType           x          y  \\\n",
       "0         0    activity                 1         Home -121.882277  37.339126   \n",
       "1         0         leg                 2          NaN         NaN        NaN   \n",
       "2         0    activity                 3         Work -122.054273  37.398092   \n",
       "3         0         leg                 4          NaN         NaN        NaN   \n",
       "4         0    activity                 5         Home -121.882277  37.339126   \n",
       "\n",
       "     endTime  \n",
       "0   8.609233  \n",
       "1        NaN  \n",
       "2  15.724806  \n",
       "3        NaN  \n",
       "4        NaN  "
      ]
     },
     "execution_count": 15,
     "metadata": {},
     "output_type": "execute_result"
    }
   ],
   "source": [
    "activities.head()"
   ]
  }
 ],
 "metadata": {
  "kernelspec": {
   "display_name": "Python 3",
   "language": "python",
   "name": "python3"
  },
  "language_info": {
   "codemirror_mode": {
    "name": "ipython",
    "version": 3
   },
   "file_extension": ".py",
   "mimetype": "text/x-python",
   "name": "python",
   "nbconvert_exporter": "python",
   "pygments_lexer": "ipython3",
   "version": "3.6.6"
  }
 },
 "nbformat": 4,
 "nbformat_minor": 2
}
